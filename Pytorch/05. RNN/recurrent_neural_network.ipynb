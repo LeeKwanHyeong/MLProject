{
 "cells": [
  {
   "cell_type": "code",
   "id": "initial_id",
   "metadata": {
    "collapsed": true,
    "ExecuteTime": {
     "end_time": "2025-04-03T01:18:07.785468Z",
     "start_time": "2025-04-03T01:18:07.704527Z"
    }
   },
   "source": [
    "import numpy as np\n",
    "\n",
    "timesteps = 10 # 시점의 수, NLP 에서는 보통 문장의 길이\n",
    "input_size = 4 # 입력의 차원, NLP에서는 보통 단어 벡터의 차원이 된다\n",
    "hidden_size = 8 # 은닉 상태의 크기, 메모리 셀의 용량.\n",
    "\n",
    "inputs = np.random.random((timesteps, input_size)) # 입력에 해당되는 2D 텐서\n",
    "\n",
    "hidden_state_t = np.zeros((hidden_size, )) # 초기 은닉 상태는 0(벡터)로 초기화\n",
    "# 은닉 상태의 크기 hidden_size로 은닉 상태를 만듬."
   ],
   "outputs": [],
   "execution_count": 1
  },
  {
   "metadata": {
    "ExecuteTime": {
     "end_time": "2025-04-03T01:18:29.959270Z",
     "start_time": "2025-04-03T01:18:29.956944Z"
    }
   },
   "cell_type": "code",
   "source": "print(hidden_state_t) # 8의 크기를 가지는 은닉 상태, 현재는 초기 은닉 상태로 모든 차원이 0의 값을 가짐",
   "id": "4f439d8dc5b0cfb1",
   "outputs": [
    {
     "name": "stdout",
     "output_type": "stream",
     "text": [
      "[0. 0. 0. 0. 0. 0. 0. 0.]\n"
     ]
    }
   ],
   "execution_count": 2
  },
  {
   "metadata": {
    "ExecuteTime": {
     "end_time": "2025-04-03T01:22:57.728169Z",
     "start_time": "2025-04-03T01:22:57.721757Z"
    }
   },
   "cell_type": "code",
   "source": [
    "Wx = np.random.random((hidden_size, input_size)) # (8, 4) 크기의 2D Tensor 생성, 입력에 대한 가중치.\n",
    "Wh = np.random.random((hidden_size, hidden_size)) # (8, 8) 크기의 2D Tensor 생성, 은닉 상태에 대한 가중치.\n",
    "b = np.random.random((hidden_size, )) # (8,) 크기의 1D Tensor 생성. 이 값은 bias.\n",
    "\n",
    "print(np.shape(Wx))\n",
    "print(np.shape(Wh))\n",
    "print(np.shape(b))"
   ],
   "id": "9b335fbfc5ced040",
   "outputs": [
    {
     "name": "stdout",
     "output_type": "stream",
     "text": [
      "(8, 4)\n",
      "(8, 8)\n",
      "(8,)\n"
     ]
    }
   ],
   "execution_count": 3
  },
  {
   "metadata": {
    "ExecuteTime": {
     "end_time": "2025-04-03T01:25:14.112819Z",
     "start_time": "2025-04-03T01:25:14.106043Z"
    }
   },
   "cell_type": "code",
   "source": [
    "total_hidden_state = []\n",
    "for input_t in inputs:\n",
    "    output_t = np.tanh(np.dot(Wx, input_t) + np.dot(Wh, hidden_state_t) + b) # Wx * Xt + Wh * (Ht - 1) + bias\n",
    "    total_hidden_state.append(list(output_t))\n",
    "    print(np.shape(total_hidden_state))\n",
    "    hidden_state_t = output_t\n",
    "\n",
    "total_hidden_states = np.stack(total_hidden_state, axis = 0)\n",
    "print(total_hidden_states)"
   ],
   "id": "2533cafb81a950bf",
   "outputs": [
    {
     "name": "stdout",
     "output_type": "stream",
     "text": [
      "(1, 8)\n",
      "(2, 8)\n",
      "(3, 8)\n",
      "(4, 8)\n",
      "(5, 8)\n",
      "(6, 8)\n",
      "(7, 8)\n",
      "(8, 8)\n",
      "(9, 8)\n",
      "(10, 8)\n",
      "[[0.84882672 0.92811173 0.82663652 0.9307578  0.76312808 0.91274438\n",
      "  0.68576    0.90699672]\n",
      " [0.99941997 0.99992045 0.9995847  0.99995864 0.99997391 0.99994128\n",
      "  0.9967729  0.99990719]\n",
      " [0.99981198 0.99998521 0.9998993  0.99998537 0.9999964  0.9999873\n",
      "  0.99874143 0.99996901]\n",
      " [0.99957719 0.99997929 0.99979672 0.99996481 0.99999248 0.99998562\n",
      "  0.99816591 0.99993352]\n",
      " [0.99971616 0.99994028 0.99985253 0.9999815  0.99998838 0.99997122\n",
      "  0.99834465 0.99992252]\n",
      " [0.99979937 0.99997474 0.99990407 0.99999006 0.99999551 0.9999895\n",
      "  0.99855636 0.99995348]\n",
      " [0.99982683 0.99996842 0.99989888 0.99999105 0.99999289 0.99997431\n",
      "  0.99868749 0.99996402]\n",
      " [0.99967291 0.99993669 0.99982015 0.99998358 0.99998255 0.99996084\n",
      "  0.99818563 0.99992284]\n",
      " [0.99977466 0.99998447 0.99988246 0.99998554 0.99999554 0.99998747\n",
      "  0.99859112 0.99996441]\n",
      " [0.99979269 0.99998851 0.9998657  0.99998295 0.99999446 0.99997403\n",
      "  0.99875594 0.99997789]]\n"
     ]
    }
   ],
   "execution_count": 4
  },
  {
   "metadata": {
    "ExecuteTime": {
     "end_time": "2025-04-03T01:27:13.050420Z",
     "start_time": "2025-04-03T01:27:12.341307Z"
    }
   },
   "cell_type": "code",
   "source": [
    "import torch\n",
    "import torch.nn as nn"
   ],
   "id": "86c4c54705938d9c",
   "outputs": [],
   "execution_count": 5
  },
  {
   "metadata": {
    "ExecuteTime": {
     "end_time": "2025-04-03T01:28:39.240249Z",
     "start_time": "2025-04-03T01:28:39.228720Z"
    }
   },
   "cell_type": "code",
   "source": [
    "input_size = 5 # Input size\n",
    "hidden_size = 8 # Hidden state size\n",
    "\n",
    "# (batch_size, time_steps, input_size)\n",
    "inputs = torch.Tensor(1, 10, 5)\n",
    "\n",
    "cell = nn.RNN(input_size, hidden_size, batch_first=True)\n",
    "outputs, _status = cell(inputs)\n",
    "\n",
    "print(outputs.shape)\n",
    "print(_status.shape)"
   ],
   "id": "48855f1c5e746eff",
   "outputs": [
    {
     "name": "stdout",
     "output_type": "stream",
     "text": [
      "torch.Size([1, 10, 8])\n",
      "torch.Size([1, 1, 8])\n"
     ]
    }
   ],
   "execution_count": 6
  },
  {
   "metadata": {
    "ExecuteTime": {
     "end_time": "2025-04-03T01:31:51.374248Z",
     "start_time": "2025-04-03T01:31:51.369585Z"
    }
   },
   "cell_type": "code",
   "source": [
    "# (batch_size, time_steps, input_size)\n",
    "inputs = torch.Tensor(1, 10, 5)\n",
    "\n",
    "cell = nn.RNN(input_size = 5, hidden_size = 8, num_layers = 3, batch_first = True)\n",
    "print(outputs.shape)\n",
    "print(_status.shape)"
   ],
   "id": "16ec97feca22ee7d",
   "outputs": [
    {
     "name": "stdout",
     "output_type": "stream",
     "text": [
      "torch.Size([1, 10, 8])\n",
      "torch.Size([1, 1, 8])\n"
     ]
    }
   ],
   "execution_count": 8
  },
  {
   "metadata": {
    "ExecuteTime": {
     "end_time": "2025-04-03T01:35:21.376435Z",
     "start_time": "2025-04-03T01:35:21.368673Z"
    }
   },
   "cell_type": "code",
   "source": [
    "inputs = torch.Tensor(1, 10, 5)\n",
    "cell = nn.RNN(input_size = 5, hidden_size = 8, num_layers = 2, batch_first = True, bidirectional = True)\n",
    "outputs, _status = cell(inputs)\n",
    "print(outputs.shape)\n",
    "print(_status.shape)"
   ],
   "id": "18e44469b080162e",
   "outputs": [
    {
     "name": "stdout",
     "output_type": "stream",
     "text": [
      "torch.Size([1, 10, 16])\n",
      "torch.Size([4, 1, 8])\n"
     ]
    }
   ],
   "execution_count": 11
  },
  {
   "metadata": {},
   "cell_type": "code",
   "outputs": [],
   "execution_count": null,
   "source": "",
   "id": "a9f9b6b20e115901"
  }
 ],
 "metadata": {
  "kernelspec": {
   "display_name": "Python 3",
   "language": "python",
   "name": "python3"
  },
  "language_info": {
   "codemirror_mode": {
    "name": "ipython",
    "version": 2
   },
   "file_extension": ".py",
   "mimetype": "text/x-python",
   "name": "python",
   "nbconvert_exporter": "python",
   "pygments_lexer": "ipython2",
   "version": "2.7.6"
  }
 },
 "nbformat": 4,
 "nbformat_minor": 5
}
