{
 "cells": [
  {
   "cell_type": "code",
   "id": "initial_id",
   "metadata": {
    "collapsed": true,
    "ExecuteTime": {
     "end_time": "2025-04-03T01:50:19.800525Z",
     "start_time": "2025-04-03T01:50:19.139078Z"
    }
   },
   "source": [
    "import torch\n",
    "import torch.nn as nn"
   ],
   "outputs": [],
   "execution_count": 1
  },
  {
   "metadata": {
    "ExecuteTime": {
     "end_time": "2025-04-03T01:50:36.851772Z",
     "start_time": "2025-04-03T01:50:36.849501Z"
    }
   },
   "cell_type": "code",
   "source": [
    "input_dim = 5 # input_size\n",
    "hidden_dim = 8 # hidden_state"
   ],
   "id": "ccf1fd52e8e1696c",
   "outputs": [],
   "execution_count": 2
  },
  {
   "metadata": {
    "ExecuteTime": {
     "end_time": "2025-04-03T01:50:48.404777Z",
     "start_time": "2025-04-03T01:50:48.397429Z"
    }
   },
   "cell_type": "code",
   "source": "nn.RNN(input_dim, hidden_dim, batch_first=True)",
   "id": "c948588f9c347837",
   "outputs": [
    {
     "data": {
      "text/plain": [
       "RNN(5, 8, batch_first=True)"
      ]
     },
     "execution_count": 3,
     "metadata": {},
     "output_type": "execute_result"
    }
   ],
   "execution_count": 3
  },
  {
   "metadata": {
    "ExecuteTime": {
     "end_time": "2025-04-03T01:50:53.736832Z",
     "start_time": "2025-04-03T01:50:53.732473Z"
    }
   },
   "cell_type": "code",
   "source": "nn.LSTM(input_dim, hidden_dim, batch_first=True)",
   "id": "109c11be97ecbfb3",
   "outputs": [
    {
     "data": {
      "text/plain": [
       "LSTM(5, 8, batch_first=True)"
      ]
     },
     "execution_count": 4,
     "metadata": {},
     "output_type": "execute_result"
    }
   ],
   "execution_count": 4
  },
  {
   "metadata": {
    "ExecuteTime": {
     "end_time": "2025-04-03T01:51:02.487636Z",
     "start_time": "2025-04-03T01:51:02.482415Z"
    }
   },
   "cell_type": "code",
   "source": "nn.RNN(input_dim, hidden_dim, batch_first=True)",
   "id": "9ce05e277f77c438",
   "outputs": [
    {
     "data": {
      "text/plain": [
       "RNN(5, 8, batch_first=True)"
      ]
     },
     "execution_count": 5,
     "metadata": {},
     "output_type": "execute_result"
    }
   ],
   "execution_count": 5
  },
  {
   "metadata": {
    "ExecuteTime": {
     "end_time": "2025-04-03T01:51:05.593776Z",
     "start_time": "2025-04-03T01:51:05.589023Z"
    }
   },
   "cell_type": "code",
   "source": "nn.GRU(input_dim, hidden_dim, batch_first=True)",
   "id": "832642fb7b3b0831",
   "outputs": [
    {
     "data": {
      "text/plain": [
       "GRU(5, 8, batch_first=True)"
      ]
     },
     "execution_count": 6,
     "metadata": {},
     "output_type": "execute_result"
    }
   ],
   "execution_count": 6
  },
  {
   "metadata": {},
   "cell_type": "code",
   "outputs": [],
   "execution_count": null,
   "source": "",
   "id": "27c1c8b2128f4fd6"
  }
 ],
 "metadata": {
  "kernelspec": {
   "display_name": "Python 3",
   "language": "python",
   "name": "python3"
  },
  "language_info": {
   "codemirror_mode": {
    "name": "ipython",
    "version": 2
   },
   "file_extension": ".py",
   "mimetype": "text/x-python",
   "name": "python",
   "nbconvert_exporter": "python",
   "pygments_lexer": "ipython2",
   "version": "2.7.6"
  }
 },
 "nbformat": 4,
 "nbformat_minor": 5
}
