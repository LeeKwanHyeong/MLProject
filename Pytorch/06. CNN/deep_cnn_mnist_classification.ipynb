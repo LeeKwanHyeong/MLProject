{
 "cells": [
  {
   "cell_type": "code",
   "id": "initial_id",
   "metadata": {
    "collapsed": true,
    "ExecuteTime": {
     "end_time": "2025-04-03T07:00:54.968558Z",
     "start_time": "2025-04-03T07:00:54.959795Z"
    }
   },
   "source": [
    "import torchvision.datasets as dsets\n",
    "import torchvision.transforms as transforms\n",
    "import torch.nn.init\n",
    "\n",
    "device = 'mps' if torch.backends.mps.is_available() else 'cpu'\n",
    "\n",
    "torch.manual_seed(123)\n",
    "\n",
    "if device == 'mps':\n",
    "    print('Yes mps')\n",
    "    torch.cuda.manual_seed_all(123)"
   ],
   "outputs": [
    {
     "name": "stdout",
     "output_type": "stream",
     "text": [
      "Yes mps\n"
     ]
    }
   ],
   "execution_count": 20
  },
  {
   "metadata": {
    "ExecuteTime": {
     "end_time": "2025-04-03T07:00:55.006356Z",
     "start_time": "2025-04-03T07:00:54.974938Z"
    }
   },
   "cell_type": "code",
   "source": [
    "learning_rate = 0.001\n",
    "training_epochs = 15\n",
    "batch_size = 100\n",
    "\n",
    "mnist_train = dsets.MNIST(root='./data', train=True, download=True, transform=transforms.ToTensor())\n",
    "mnist_test = dsets.MNIST(root='./data', train=False, download=True, transform=transforms.ToTensor())"
   ],
   "id": "34f0ec0f16cb58be",
   "outputs": [],
   "execution_count": 21
  },
  {
   "metadata": {
    "ExecuteTime": {
     "end_time": "2025-04-03T07:00:55.260642Z",
     "start_time": "2025-04-03T07:00:55.257043Z"
    }
   },
   "cell_type": "code",
   "source": "data_loader = torch.utils.data.DataLoader(dataset = mnist_train, batch_size = batch_size, shuffle = True, drop_last = True)",
   "id": "94f51a0411a5c964",
   "outputs": [],
   "execution_count": 22
  },
  {
   "metadata": {
    "ExecuteTime": {
     "end_time": "2025-04-03T07:00:55.452346Z",
     "start_time": "2025-04-03T07:00:55.447599Z"
    }
   },
   "cell_type": "code",
   "source": [
    "class CNN(torch.nn.Module):\n",
    "\n",
    "    def __init__(self):\n",
    "        super(CNN, self).__init__()\n",
    "        self.keep_prob = 0.5  # 드롭아웃 확률\n",
    "\n",
    "        # L1: 첫 번째 합성곱층 (Conv Layer)\n",
    "        # 입력 이미지 형태: (?, 28, 28, 1)\n",
    "        # Conv2d: 출력 채널 32개, 커널 크기 3x3, 스트라이드 1, 패딩 1\n",
    "        # ReLU: 활성화 함수\n",
    "        # MaxPool2d: 커널 크기 2x2, 스트라이드 2로 다운샘플링 -> 출력 형태: (?, 14, 14, 32)\n",
    "        self.layer1 = torch.nn.Sequential(\n",
    "            torch.nn.Conv2d(1, 32, kernel_size=3, stride=1, padding=1),\n",
    "            torch.nn.ReLU(),\n",
    "            torch.nn.MaxPool2d(kernel_size=2, stride=2))\n",
    "\n",
    "        # L2: 두 번째 합성곱층 (Conv Layer)\n",
    "        # 입력 이미지 형태: (?, 14, 14, 32)\n",
    "        # Conv2d: 출력 채널 64개, 커널 크기 3x3, 스트라이드 1, 패딩 1\n",
    "        # ReLU: 활성화 함수\n",
    "        # MaxPool2d: 커널 크기 2x2, 스트라이드 2로 다운샘플링 -> 출력 형태: (?, 7, 7, 64)\n",
    "        self.layer2 = torch.nn.Sequential(\n",
    "            torch.nn.Conv2d(32, 64, kernel_size=3, stride=1, padding=1),\n",
    "            torch.nn.ReLU(),\n",
    "            torch.nn.MaxPool2d(kernel_size=2, stride=2))\n",
    "\n",
    "        # L3: 세 번째 합성곱층 (Conv Layer)\n",
    "        # 입력 이미지 형태: (?, 7, 7, 64)\n",
    "        # Conv2d: 출력 채널 128개, 커널 크기 3x3, 스트라이드 1, 패딩 1\n",
    "        # ReLU: 활성화 함수\n",
    "        # MaxPool2d: 커널 크기 2x2, 스트라이드 2, 패딩 1로 다운샘플링 -> 출력 형태: (?, 4, 4, 128)\n",
    "        self.layer3 = torch.nn.Sequential(\n",
    "            torch.nn.Conv2d(64, 128, kernel_size=3, stride=1, padding=1),\n",
    "            torch.nn.ReLU(),\n",
    "            torch.nn.MaxPool2d(kernel_size=2, stride=2, padding=1))\n",
    "\n",
    "        # L4: 첫 번째 선형층 (Fully Connected Layer)\n",
    "        # 입력 노드 수: 4x4x128, 출력 노드 수: 625\n",
    "        # ReLU: 활성화 함수\n",
    "        # Dropout: 드롭아웃으로 과적합 방지, p=0.5\n",
    "        self.fc1 = torch.nn.Linear(4 * 4 * 128, 625, bias=True)\n",
    "        torch.nn.init.xavier_uniform_(self.fc1.weight)  # 가중치 초기화\n",
    "        self.layer4 = torch.nn.Sequential(\n",
    "            self.fc1,\n",
    "            torch.nn.ReLU(),\n",
    "            torch.nn.Dropout(p=1 - self.keep_prob))\n",
    "\n",
    "        # L5: 최종 선형층 (Fully Connected Layer)\n",
    "        # 입력 노드 수: 625, 출력 노드 수: 10 (클래스 개수)\n",
    "        self.fc2 = torch.nn.Linear(625, 10, bias=True)\n",
    "        torch.nn.init.xavier_uniform_(self.fc2.weight)  # 가중치 초기화\n",
    "\n",
    "    def forward(self, x):\n",
    "        out = self.layer1(x)  # 첫 번째 합성곱층 통과\n",
    "        out = self.layer2(out)  # 두 번째 합성곱층 통과\n",
    "        out = self.layer3(out)  # 세 번째 합성곱층 통과\n",
    "        out = out.view(out.size(0), -1)  # 선형층에 입력하기 위해 텐서를 Flatten\n",
    "        out = self.layer4(out)  # 첫 번째 선형층 통과\n",
    "        out = self.fc2(out)  # 최종 선형층 통과\n",
    "        return out  # 최종 출력 반환"
   ],
   "id": "49aba5480758a5cd",
   "outputs": [],
   "execution_count": 23
  },
  {
   "metadata": {
    "ExecuteTime": {
     "end_time": "2025-04-03T07:01:45.959522Z",
     "start_time": "2025-04-03T07:00:55.632251Z"
    }
   },
   "cell_type": "code",
   "source": [
    "model = CNN().to(device)\n",
    "criterion = torch.nn.CrossEntropyLoss().to(device)\n",
    "optimizer = torch.optim.Adam(model.parameters(), lr = learning_rate)\n",
    "\n",
    "total_batch = len(data_loader)\n",
    "\n",
    "for epoch in range(training_epochs):\n",
    "    avg_cost = 0\n",
    "\n",
    "    for X, Y in data_loader: # 미니 배치 단위로 꺼내온다. X는 미니 배치, Y느 ㄴ레이블.\n",
    "        # image is already size of (28x28), no reshape\n",
    "        # label is not one-hot encoded\n",
    "        X = X.to(device)\n",
    "        Y = Y.to(device)\n",
    "\n",
    "        optimizer.zero_grad()\n",
    "        hypothesis = model(X)\n",
    "        cost = criterion(hypothesis, Y)\n",
    "        cost.backward()\n",
    "        optimizer.step()\n",
    "\n",
    "        avg_cost += cost / total_batch\n",
    "\n",
    "    print('[Epoch: {:>4}] cost = {:>.9}'.format(epoch + 1, avg_cost))\n"
   ],
   "id": "26a28bc2405c8630",
   "outputs": [
    {
     "name": "stdout",
     "output_type": "stream",
     "text": [
      "[Epoch:    1] cost = 0.176834941\n",
      "[Epoch:    2] cost = 0.0528365038\n",
      "[Epoch:    3] cost = 0.0357631482\n",
      "[Epoch:    4] cost = 0.0289637446\n",
      "[Epoch:    5] cost = 0.0235249065\n",
      "[Epoch:    6] cost = 0.0198518634\n",
      "[Epoch:    7] cost = 0.0167580247\n",
      "[Epoch:    8] cost = 0.0166439898\n",
      "[Epoch:    9] cost = 0.0128075518\n",
      "[Epoch:   10] cost = 0.0110721225\n",
      "[Epoch:   11] cost = 0.0106057553\n",
      "[Epoch:   12] cost = 0.0093754679\n",
      "[Epoch:   13] cost = 0.00935722329\n",
      "[Epoch:   14] cost = 0.00778266741\n",
      "[Epoch:   15] cost = 0.00644927006\n"
     ]
    }
   ],
   "execution_count": 24
  },
  {
   "metadata": {
    "ExecuteTime": {
     "end_time": "2025-04-03T07:01:46.712443Z",
     "start_time": "2025-04-03T07:01:46.322312Z"
    }
   },
   "cell_type": "code",
   "source": [
    "with torch.no_grad():\n",
    "    X_test = mnist_test.test_data.view(len(mnist_test), 1, 28, 28).float().to(device)\n",
    "    Y_test = mnist_test.test_labels.to(device)\n",
    "\n",
    "    prediction = model(X_test)\n",
    "    correct_prediction = torch.argmax(prediction, dim=1).eq(Y_test)\n",
    "    accuracy = correct_prediction.float().mean()\n",
    "\n",
    "    print('Accuracy: ', accuracy.item())"
   ],
   "id": "12f9609aef883af6",
   "outputs": [
    {
     "name": "stdout",
     "output_type": "stream",
     "text": [
      "Accuracy:  0.972100019454956\n"
     ]
    }
   ],
   "execution_count": 25
  }
 ],
 "metadata": {
  "kernelspec": {
   "display_name": "Python 3",
   "language": "python",
   "name": "python3"
  },
  "language_info": {
   "codemirror_mode": {
    "name": "ipython",
    "version": 2
   },
   "file_extension": ".py",
   "mimetype": "text/x-python",
   "name": "python",
   "nbconvert_exporter": "python",
   "pygments_lexer": "ipython2",
   "version": "2.7.6"
  }
 },
 "nbformat": 4,
 "nbformat_minor": 5
}
