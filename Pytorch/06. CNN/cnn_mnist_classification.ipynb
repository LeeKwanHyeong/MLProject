{
 "cells": [
  {
   "cell_type": "code",
   "id": "initial_id",
   "metadata": {
    "collapsed": true,
    "ExecuteTime": {
     "end_time": "2025-04-03T03:52:56.258688Z",
     "start_time": "2025-04-03T03:52:56.255515Z"
    }
   },
   "source": [
    "import torch\n",
    "import torch.nn as nn"
   ],
   "outputs": [],
   "execution_count": 33
  },
  {
   "metadata": {
    "ExecuteTime": {
     "end_time": "2025-04-03T03:52:56.270186Z",
     "start_time": "2025-04-03T03:52:56.267555Z"
    }
   },
   "cell_type": "code",
   "source": [
    "# Batch size x Height x Width 크기의 텐서 선언\n",
    "inputs = torch.Tensor(1, 1, 28, 28)\n",
    "print('Tensor size: {}'.format(inputs.size()))"
   ],
   "id": "732cccde2a1ef524",
   "outputs": [
    {
     "name": "stdout",
     "output_type": "stream",
     "text": [
      "Tensor size: torch.Size([1, 1, 28, 28])\n"
     ]
    }
   ],
   "execution_count": 34
  },
  {
   "metadata": {
    "ExecuteTime": {
     "end_time": "2025-04-03T03:52:56.283492Z",
     "start_time": "2025-04-03T03:52:56.280908Z"
    }
   },
   "cell_type": "code",
   "source": [
    "conv1 = nn.Conv2d(1, 32, 3, padding = 1)\n",
    "print(conv1)"
   ],
   "id": "cb1964f99ab916de",
   "outputs": [
    {
     "name": "stdout",
     "output_type": "stream",
     "text": [
      "Conv2d(1, 32, kernel_size=(3, 3), stride=(1, 1), padding=(1, 1))\n"
     ]
    }
   ],
   "execution_count": 35
  },
  {
   "metadata": {
    "ExecuteTime": {
     "end_time": "2025-04-03T03:52:56.294409Z",
     "start_time": "2025-04-03T03:52:56.291998Z"
    }
   },
   "cell_type": "code",
   "source": [
    "conv2 = nn.Conv2d(32, 64, kernel_size= 3, padding = 1)\n",
    "print(conv2)"
   ],
   "id": "443ab929f796c008",
   "outputs": [
    {
     "name": "stdout",
     "output_type": "stream",
     "text": [
      "Conv2d(32, 64, kernel_size=(3, 3), stride=(1, 1), padding=(1, 1))\n"
     ]
    }
   ],
   "execution_count": 36
  },
  {
   "metadata": {
    "ExecuteTime": {
     "end_time": "2025-04-03T03:52:56.304390Z",
     "start_time": "2025-04-03T03:52:56.302333Z"
    }
   },
   "cell_type": "code",
   "source": [
    "pool = nn.MaxPool2d(2, 2)\n",
    "print(pool)"
   ],
   "id": "27e62ecec1e8f868",
   "outputs": [
    {
     "name": "stdout",
     "output_type": "stream",
     "text": [
      "MaxPool2d(kernel_size=2, stride=2, padding=0, dilation=1, ceil_mode=False)\n"
     ]
    }
   ],
   "execution_count": 37
  },
  {
   "metadata": {
    "ExecuteTime": {
     "end_time": "2025-04-03T03:52:56.313608Z",
     "start_time": "2025-04-03T03:52:56.311595Z"
    }
   },
   "cell_type": "code",
   "source": [
    "out = conv1(inputs)\n",
    "print(out.shape)"
   ],
   "id": "f296022b52d4b689",
   "outputs": [
    {
     "name": "stdout",
     "output_type": "stream",
     "text": [
      "torch.Size([1, 32, 28, 28])\n"
     ]
    }
   ],
   "execution_count": 38
  },
  {
   "metadata": {
    "ExecuteTime": {
     "end_time": "2025-04-03T03:52:56.381279Z",
     "start_time": "2025-04-03T03:52:56.379292Z"
    }
   },
   "cell_type": "code",
   "source": [
    "out = pool(out)\n",
    "print(out.shape)"
   ],
   "id": "5d0800bf47819570",
   "outputs": [
    {
     "name": "stdout",
     "output_type": "stream",
     "text": [
      "torch.Size([1, 32, 14, 14])\n"
     ]
    }
   ],
   "execution_count": 39
  },
  {
   "metadata": {
    "ExecuteTime": {
     "end_time": "2025-04-03T03:52:56.450401Z",
     "start_time": "2025-04-03T03:52:56.448275Z"
    }
   },
   "cell_type": "code",
   "source": [
    "out = conv2(out)\n",
    "print(out.shape)"
   ],
   "id": "91cc952a3654d600",
   "outputs": [
    {
     "name": "stdout",
     "output_type": "stream",
     "text": [
      "torch.Size([1, 64, 14, 14])\n"
     ]
    }
   ],
   "execution_count": 40
  },
  {
   "metadata": {
    "ExecuteTime": {
     "end_time": "2025-04-03T03:53:07.239624Z",
     "start_time": "2025-04-03T03:53:07.235794Z"
    }
   },
   "cell_type": "code",
   "source": [
    "out = pool(out)\n",
    "print(out.shape)"
   ],
   "id": "1ceb8a0fc729ace8",
   "outputs": [
    {
     "name": "stdout",
     "output_type": "stream",
     "text": [
      "torch.Size([1, 64, 7, 7])\n"
     ]
    }
   ],
   "execution_count": 41
  },
  {
   "metadata": {
    "ExecuteTime": {
     "end_time": "2025-04-03T03:53:47.398351Z",
     "start_time": "2025-04-03T03:53:47.394886Z"
    }
   },
   "cell_type": "code",
   "source": [
    "print(out.size(0))\n",
    "print(out.size(1))\n",
    "print(out.size(2))\n",
    "print(out.size(3))"
   ],
   "id": "403a69eb8efdc244",
   "outputs": [
    {
     "name": "stdout",
     "output_type": "stream",
     "text": [
      "1\n",
      "64\n",
      "7\n",
      "7\n"
     ]
    }
   ],
   "execution_count": 42
  },
  {
   "metadata": {
    "ExecuteTime": {
     "end_time": "2025-04-03T03:54:01.541189Z",
     "start_time": "2025-04-03T03:54:01.537581Z"
    }
   },
   "cell_type": "code",
   "source": [
    "# 첫번째 차원인 배치 차원은 그대로 두고 나머지는 펼쳐라\n",
    "out = out.view(out.size(0), -1) # => 1, 64*7*7\n",
    "print(out.shape)"
   ],
   "id": "17eb64aaadc16f7a",
   "outputs": [
    {
     "name": "stdout",
     "output_type": "stream",
     "text": [
      "torch.Size([1, 3136])\n"
     ]
    }
   ],
   "execution_count": 43
  },
  {
   "metadata": {
    "ExecuteTime": {
     "end_time": "2025-04-03T03:55:13.466106Z",
     "start_time": "2025-04-03T03:55:13.460540Z"
    }
   },
   "cell_type": "code",
   "source": [
    "fc = nn.Linear(3136, 10) # input_dim = 3136, output_dim = 10\n",
    "out = fc(out)\n",
    "print(out.shape)"
   ],
   "id": "c7b5cd50560a9c00",
   "outputs": [
    {
     "name": "stdout",
     "output_type": "stream",
     "text": [
      "torch.Size([1, 10])\n"
     ]
    }
   ],
   "execution_count": 44
  },
  {
   "metadata": {
    "ExecuteTime": {
     "end_time": "2025-04-03T03:56:35.955055Z",
     "start_time": "2025-04-03T03:56:35.205543Z"
    }
   },
   "cell_type": "code",
   "source": [
    "import torchvision.datasets as dsets\n",
    "import torchvision.transforms as transforms\n",
    "import torch.nn.init\n",
    "\n",
    "device = 'mps' if torch.backends.mps.is_available() else 'cpu'\n",
    "\n",
    "torch.manual_seed(123)\n",
    "\n",
    "if device == 'mps':\n",
    "    print('Yes mps')\n",
    "    torch.cuda.manual_seed_all(123)"
   ],
   "id": "e1a6a0f234543861",
   "outputs": [
    {
     "name": "stdout",
     "output_type": "stream",
     "text": [
      "Yes mps\n"
     ]
    }
   ],
   "execution_count": 45
  },
  {
   "metadata": {
    "ExecuteTime": {
     "end_time": "2025-04-03T04:07:48.387908Z",
     "start_time": "2025-04-03T04:07:36.864884Z"
    }
   },
   "cell_type": "code",
   "source": [
    "learning_rate = 0.001\n",
    "training_epochs = 15\n",
    "batch_size = 100\n",
    "\n",
    "mnist_train = dsets.MNIST(root = './data', train = True, transform = transforms.ToTensor(), download = True )\n",
    "mnist_test = dsets.MNIST(root = './data', train = False, transform = transforms.ToTensor(), download = True)"
   ],
   "id": "d3fb09160bed9ff1",
   "outputs": [
    {
     "name": "stdout",
     "output_type": "stream",
     "text": [
      "Downloading http://yann.lecun.com/exdb/mnist/train-images-idx3-ubyte.gz\n",
      "Failed to download (trying next):\n",
      "HTTP Error 404: Not Found\n",
      "\n",
      "Downloading https://ossci-datasets.s3.amazonaws.com/mnist/train-images-idx3-ubyte.gz\n",
      "Downloading https://ossci-datasets.s3.amazonaws.com/mnist/train-images-idx3-ubyte.gz to ./data/MNIST/raw/train-images-idx3-ubyte.gz\n"
     ]
    },
    {
     "name": "stderr",
     "output_type": "stream",
     "text": [
      "100.0%\n"
     ]
    },
    {
     "name": "stdout",
     "output_type": "stream",
     "text": [
      "Extracting ./data/MNIST/raw/train-images-idx3-ubyte.gz to ./data/MNIST/raw\n",
      "\n",
      "Downloading http://yann.lecun.com/exdb/mnist/train-labels-idx1-ubyte.gz\n",
      "Failed to download (trying next):\n",
      "HTTP Error 404: Not Found\n",
      "\n",
      "Downloading https://ossci-datasets.s3.amazonaws.com/mnist/train-labels-idx1-ubyte.gz\n",
      "Downloading https://ossci-datasets.s3.amazonaws.com/mnist/train-labels-idx1-ubyte.gz to ./data/MNIST/raw/train-labels-idx1-ubyte.gz\n"
     ]
    },
    {
     "name": "stderr",
     "output_type": "stream",
     "text": [
      "100.0%\n"
     ]
    },
    {
     "name": "stdout",
     "output_type": "stream",
     "text": [
      "Extracting ./data/MNIST/raw/train-labels-idx1-ubyte.gz to ./data/MNIST/raw\n",
      "\n",
      "Downloading http://yann.lecun.com/exdb/mnist/t10k-images-idx3-ubyte.gz\n",
      "Failed to download (trying next):\n",
      "HTTP Error 404: Not Found\n",
      "\n",
      "Downloading https://ossci-datasets.s3.amazonaws.com/mnist/t10k-images-idx3-ubyte.gz\n",
      "Downloading https://ossci-datasets.s3.amazonaws.com/mnist/t10k-images-idx3-ubyte.gz to ./data/MNIST/raw/t10k-images-idx3-ubyte.gz\n"
     ]
    },
    {
     "name": "stderr",
     "output_type": "stream",
     "text": [
      "100.0%\n"
     ]
    },
    {
     "name": "stdout",
     "output_type": "stream",
     "text": [
      "Extracting ./data/MNIST/raw/t10k-images-idx3-ubyte.gz to ./data/MNIST/raw\n",
      "\n",
      "Downloading http://yann.lecun.com/exdb/mnist/t10k-labels-idx1-ubyte.gz\n",
      "Failed to download (trying next):\n",
      "HTTP Error 404: Not Found\n",
      "\n",
      "Downloading https://ossci-datasets.s3.amazonaws.com/mnist/t10k-labels-idx1-ubyte.gz\n",
      "Downloading https://ossci-datasets.s3.amazonaws.com/mnist/t10k-labels-idx1-ubyte.gz to ./data/MNIST/raw/t10k-labels-idx1-ubyte.gz\n"
     ]
    },
    {
     "name": "stderr",
     "output_type": "stream",
     "text": [
      "100.0%"
     ]
    },
    {
     "name": "stdout",
     "output_type": "stream",
     "text": [
      "Extracting ./data/MNIST/raw/t10k-labels-idx1-ubyte.gz to ./data/MNIST/raw\n",
      "\n"
     ]
    },
    {
     "name": "stderr",
     "output_type": "stream",
     "text": [
      "\n"
     ]
    }
   ],
   "execution_count": 46
  },
  {
   "metadata": {
    "ExecuteTime": {
     "end_time": "2025-04-03T04:08:19.592952Z",
     "start_time": "2025-04-03T04:08:19.585141Z"
    }
   },
   "cell_type": "code",
   "source": "data_loader = torch.utils.data.DataLoader(mnist_train, batch_size = batch_size, shuffle = True, drop_last = True)",
   "id": "5e80fd95a010d5be",
   "outputs": [],
   "execution_count": 47
  },
  {
   "metadata": {
    "ExecuteTime": {
     "end_time": "2025-04-03T04:13:16.357592Z",
     "start_time": "2025-04-03T04:13:16.349530Z"
    }
   },
   "cell_type": "code",
   "source": [
    "class CNN(torch.nn.Module):\n",
    "    def __init__(self):\n",
    "        super(CNN, self).__init__()\n",
    "        # 첫번째층\n",
    "        # ImgIn shape=(?, 28, 28, 1)\n",
    "        #    Conv     -> (?, 28, 28, 32)\n",
    "        #    Pool     -> (?, 14, 14, 32)\n",
    "        self.layer1 = torch.nn.Sequential(\n",
    "            torch.nn.Conv2d(1, 32, kernel_size = 3, padding = 1, stride = 1),\n",
    "            torch.nn.ReLU(),\n",
    "            torch.nn.MaxPool2d(kernel_size = 2, stride = 2)\n",
    "        )\n",
    "\n",
    "        # 두번째층\n",
    "        # ImgIn shape=(?, 14, 14, 32)\n",
    "        #    Conv      ->(?, 14, 14, 64)\n",
    "        #    Pool      ->(?, 7, 7, 64)\n",
    "        self.layer2 = torch.nn.Sequential(\n",
    "            torch.nn.Conv2d(32, 64, kernel_size = 3, padding = 1, stride = 1),\n",
    "            torch.nn.ReLU(),\n",
    "            torch.nn.MaxPool2d(kernel_size = 2, stride = 2)\n",
    "        )\n",
    "\n",
    "        # Fully Connection 7x7x64 inputs -> 10 outputs\n",
    "        self.fc = torch.nn.Linear(7 * 7 * 64, 10, bias = True)\n",
    "\n",
    "        # Fully connection 한정으로 가중치 초기화\n",
    "        torch.nn.init.xavier_uniform_(self.fc.weight)\n",
    "\n",
    "    def forward(self, x):\n",
    "        out = self.layer1(x)\n",
    "        out = self.layer2(out)\n",
    "        out = out.view(out.size(0), -1) # Fully connection을 위해 Flatten\n",
    "        out = self.fc(out)\n",
    "        return out"
   ],
   "id": "36656b254f8f2e4",
   "outputs": [],
   "execution_count": 48
  },
  {
   "metadata": {
    "ExecuteTime": {
     "end_time": "2025-04-03T04:13:48.192852Z",
     "start_time": "2025-04-03T04:13:48.107060Z"
    }
   },
   "cell_type": "code",
   "source": [
    "model = CNN().to(device)\n",
    "criterion = torch.nn.CrossEntropyLoss().to(device)\n",
    "optimizer = torch.optim.Adam(model.parameters(), lr = learning_rate)\n",
    "\n",
    "total_batch = len(data_loader)\n",
    "print('총 배치의 수: {}'.format(total_batch))"
   ],
   "id": "13eaab2382be50ad",
   "outputs": [
    {
     "name": "stdout",
     "output_type": "stream",
     "text": [
      "총 배치의 수: 600\n"
     ]
    }
   ],
   "execution_count": 49
  },
  {
   "metadata": {
    "ExecuteTime": {
     "end_time": "2025-04-03T04:16:23.223832Z",
     "start_time": "2025-04-03T04:15:44.680274Z"
    }
   },
   "cell_type": "code",
   "source": [
    "for epoch in range(training_epochs):\n",
    "    avg_cost = 0\n",
    "    for X, Y in data_loader: # 미니 배치 단위로 꺼내온다. X는 미니 배치, Y는 레이블\n",
    "        X = X.to(device)\n",
    "        Y = Y.to(device)\n",
    "\n",
    "        optimizer.zero_grad()\n",
    "        hypothesis = model(X)\n",
    "        cost = criterion(hypothesis, Y)\n",
    "        cost.backward()\n",
    "        optimizer.step()\n",
    "\n",
    "        avg_cost += cost / total_batch # 현재 배치의 비용을 전체 배치 수로 나누어 누적\n",
    "    print('[Epoch: {:>4}] cost = {:>.9}'.format(epoch + 1, avg_cost))"
   ],
   "id": "36104799e6f5c4b9",
   "outputs": [
    {
     "name": "stdout",
     "output_type": "stream",
     "text": [
      "[Epoch:    1] cost = 0.21943076\n",
      "[Epoch:    2] cost = 0.0645758212\n",
      "[Epoch:    3] cost = 0.0470495895\n",
      "[Epoch:    4] cost = 0.0386406295\n",
      "[Epoch:    5] cost = 0.031620983\n",
      "[Epoch:    6] cost = 0.026266763\n",
      "[Epoch:    7] cost = 0.0233989675\n",
      "[Epoch:    8] cost = 0.0187653694\n",
      "[Epoch:    9] cost = 0.0159850102\n",
      "[Epoch:   10] cost = 0.013141457\n",
      "[Epoch:   11] cost = 0.0112494892\n",
      "[Epoch:   12] cost = 0.0105829509\n",
      "[Epoch:   13] cost = 0.00775105087\n",
      "[Epoch:   14] cost = 0.00897533726\n",
      "[Epoch:   15] cost = 0.00666138064\n"
     ]
    }
   ],
   "execution_count": 50
  },
  {
   "metadata": {
    "ExecuteTime": {
     "end_time": "2025-04-03T04:18:38.102804Z",
     "start_time": "2025-04-03T04:18:37.850232Z"
    }
   },
   "cell_type": "code",
   "source": [
    "with torch.no_grad():\n",
    "    # 테스트 데이터를 모델에 입력하기 위한 준비\n",
    "    # 테스트 데이터셋의 크기를 맞추고, 연산을 위한 장치로 이동\n",
    "    X_test = mnist_test.data.view(len(mnist_test), 1, 28, 28).float().to(device)\n",
    "    # 테스트 데이터셋의 레이블을 연산을 위한 장치로 이동\n",
    "    Y_test = mnist_test.targets.to(device)\n",
    "    print(X_test.shape)\n",
    "    print(Y_test.shape)\n",
    "\n",
    "    prediction = model(X_test)\n",
    "    correct_pred = torch.argmax(prediction, 1) == Y_test\n",
    "    accuracy = correct_pred.float().mean()\n",
    "    print('Accuracy: ', accuracy.item())"
   ],
   "id": "58ad3db91149acee",
   "outputs": [
    {
     "name": "stdout",
     "output_type": "stream",
     "text": [
      "torch.Size([10000, 1, 28, 28])\n",
      "torch.Size([10000])\n",
      "Accuracy:  0.9868999719619751\n"
     ]
    }
   ],
   "execution_count": 52
  },
  {
   "metadata": {},
   "cell_type": "code",
   "outputs": [],
   "execution_count": null,
   "source": "",
   "id": "d6258466bf7eb1a2"
  }
 ],
 "metadata": {
  "kernelspec": {
   "display_name": "Python 3",
   "language": "python",
   "name": "python3"
  },
  "language_info": {
   "codemirror_mode": {
    "name": "ipython",
    "version": 2
   },
   "file_extension": ".py",
   "mimetype": "text/x-python",
   "name": "python",
   "nbconvert_exporter": "python",
   "pygments_lexer": "ipython2",
   "version": "2.7.6"
  }
 },
 "nbformat": 4,
 "nbformat_minor": 5
}
