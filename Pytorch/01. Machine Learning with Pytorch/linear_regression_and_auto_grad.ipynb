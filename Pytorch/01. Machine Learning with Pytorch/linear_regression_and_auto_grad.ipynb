{
 "cells": [
  {
   "cell_type": "code",
   "id": "initial_id",
   "metadata": {
    "collapsed": true,
    "ExecuteTime": {
     "end_time": "2025-04-01T03:23:43.306763Z",
     "start_time": "2025-04-01T03:23:42.497339Z"
    }
   },
   "source": [
    "import torch\n",
    "import torch.nn as nn\n",
    "import torch.optim as optim\n",
    "import torch.nn.functional as F"
   ],
   "outputs": [],
   "execution_count": 1
  },
  {
   "metadata": {
    "ExecuteTime": {
     "end_time": "2025-04-01T03:23:58.260464Z",
     "start_time": "2025-04-01T03:23:58.252593Z"
    }
   },
   "cell_type": "code",
   "source": "torch.manual_seed(1)",
   "id": "32f737ffe4822df7",
   "outputs": [
    {
     "data": {
      "text/plain": [
       "<torch._C.Generator at 0x10782f6f0>"
      ]
     },
     "execution_count": 2,
     "metadata": {},
     "output_type": "execute_result"
    }
   ],
   "execution_count": 2
  },
  {
   "metadata": {
    "ExecuteTime": {
     "end_time": "2025-04-01T03:24:44.125599Z",
     "start_time": "2025-04-01T03:24:44.100964Z"
    }
   },
   "cell_type": "code",
   "source": [
    "x_train = torch.FloatTensor([[1], [2], [3]])\n",
    "y_train = torch.FloatTensor([[2], [4], [6]])\n",
    "print(x_train)\n",
    "print(x_train.shape)\n",
    "print(y_train)\n",
    "print(y_train.shape)"
   ],
   "id": "1ccdd1c309ae6186",
   "outputs": [
    {
     "name": "stdout",
     "output_type": "stream",
     "text": [
      "tensor([[1.],\n",
      "        [2.],\n",
      "        [3.]])\n",
      "torch.Size([3, 1])\n",
      "tensor([[2.],\n",
      "        [4.],\n",
      "        [6.]])\n",
      "torch.Size([3, 1])\n"
     ]
    }
   ],
   "execution_count": 3
  },
  {
   "metadata": {
    "ExecuteTime": {
     "end_time": "2025-04-01T04:23:09.177606Z",
     "start_time": "2025-04-01T04:23:09.168865Z"
    }
   },
   "cell_type": "code",
   "source": [
    "# 가중치 W를 0으로 초기화하고 학습을 통해 값이 변경되는 변수임을 명시\n",
    "W = torch.zeros(1, requires_grad=True)\n",
    "print(W)"
   ],
   "id": "5a9dfac8109cc3ec",
   "outputs": [
    {
     "name": "stdout",
     "output_type": "stream",
     "text": [
      "tensor([0.], requires_grad=True)\n"
     ]
    }
   ],
   "execution_count": 4
  },
  {
   "metadata": {
    "ExecuteTime": {
     "end_time": "2025-04-01T04:23:45.183656Z",
     "start_time": "2025-04-01T04:23:45.179617Z"
    }
   },
   "cell_type": "code",
   "source": [
    "# 편향 b도 0으로 초기화하고, 학습을 통해 값이 변경되는 변수임을 명시\n",
    "b = torch.zeros(1, requires_grad=True)\n",
    "print(b)"
   ],
   "id": "376ae759208ac981",
   "outputs": [
    {
     "name": "stdout",
     "output_type": "stream",
     "text": [
      "tensor([0.], requires_grad=True)\n"
     ]
    }
   ],
   "execution_count": 5
  },
  {
   "metadata": {
    "ExecuteTime": {
     "end_time": "2025-04-01T04:37:26.379895Z",
     "start_time": "2025-04-01T04:37:25.770327Z"
    }
   },
   "cell_type": "code",
   "source": "optimizer = optim.SGD([W, b], lr=0.01)",
   "id": "4b1c6539fadaf340",
   "outputs": [],
   "execution_count": 8
  },
  {
   "metadata": {
    "ExecuteTime": {
     "end_time": "2025-04-01T04:37:38.278549Z",
     "start_time": "2025-04-01T04:37:38.275816Z"
    }
   },
   "cell_type": "code",
   "source": "nb_epochs = 1999",
   "id": "c30548c16e65ae6b",
   "outputs": [],
   "execution_count": 9
  },
  {
   "metadata": {
    "ExecuteTime": {
     "end_time": "2025-04-01T04:40:21.202184Z",
     "start_time": "2025-04-01T04:40:21.059894Z"
    }
   },
   "cell_type": "code",
   "source": [
    "for epoch in range(nb_epochs + 1):\n",
    "    hypothesis = W * x_train + b # H(x) 계산\n",
    "    cost = torch.mean((hypothesis - y_train) ** 2) # cost 계산\n",
    "    optimizer.zero_grad() # gradient를 0으로 초기화\n",
    "    cost.backward() # 비용 함수를 미분하여 gradient 계산\n",
    "    optimizer.step() # W와 b를 업데이트\n",
    "\n",
    "    if epoch % 100 == 0:\n",
    "        print('Epoch {:4d}/{} W: {:.3f}, b: {:.3f} Cost: {:.6f}'.format(epoch + 1, nb_epochs, W.item(), b.item(), cost.item()))"
   ],
   "id": "e5e9219a627e2f33",
   "outputs": [
    {
     "name": "stdout",
     "output_type": "stream",
     "text": [
      "Epoch    1/1999 W: 0.187, b: 0.080 Cost: 18.666666\n",
      "Epoch  101/1999 W: 1.746, b: 0.578 Cost: 0.048171\n",
      "Epoch  201/1999 W: 1.800, b: 0.454 Cost: 0.029767\n",
      "Epoch  301/1999 W: 1.843, b: 0.357 Cost: 0.018394\n",
      "Epoch  401/1999 W: 1.876, b: 0.281 Cost: 0.011366\n",
      "Epoch  501/1999 W: 1.903, b: 0.221 Cost: 0.007024\n",
      "Epoch  601/1999 W: 1.924, b: 0.174 Cost: 0.004340\n",
      "Epoch  701/1999 W: 1.940, b: 0.136 Cost: 0.002682\n",
      "Epoch  801/1999 W: 1.953, b: 0.107 Cost: 0.001657\n",
      "Epoch  901/1999 W: 1.963, b: 0.084 Cost: 0.001024\n",
      "Epoch 1001/1999 W: 1.971, b: 0.066 Cost: 0.000633\n",
      "Epoch 1101/1999 W: 1.977, b: 0.052 Cost: 0.000391\n",
      "Epoch 1201/1999 W: 1.982, b: 0.041 Cost: 0.000242\n",
      "Epoch 1301/1999 W: 1.986, b: 0.032 Cost: 0.000149\n",
      "Epoch 1401/1999 W: 1.989, b: 0.025 Cost: 0.000092\n",
      "Epoch 1501/1999 W: 1.991, b: 0.020 Cost: 0.000057\n",
      "Epoch 1601/1999 W: 1.993, b: 0.016 Cost: 0.000035\n",
      "Epoch 1701/1999 W: 1.995, b: 0.012 Cost: 0.000022\n",
      "Epoch 1801/1999 W: 1.996, b: 0.010 Cost: 0.000013\n",
      "Epoch 1901/1999 W: 1.997, b: 0.008 Cost: 0.000008\n"
     ]
    }
   ],
   "execution_count": 10
  },
  {
   "metadata": {},
   "cell_type": "code",
   "outputs": [],
   "execution_count": null,
   "source": "",
   "id": "5a72bf539f9468a1"
  }
 ],
 "metadata": {
  "kernelspec": {
   "display_name": "Python 3",
   "language": "python",
   "name": "python3"
  },
  "language_info": {
   "codemirror_mode": {
    "name": "ipython",
    "version": 2
   },
   "file_extension": ".py",
   "mimetype": "text/x-python",
   "name": "python",
   "nbconvert_exporter": "python",
   "pygments_lexer": "ipython2",
   "version": "2.7.6"
  }
 },
 "nbformat": 4,
 "nbformat_minor": 5
}
