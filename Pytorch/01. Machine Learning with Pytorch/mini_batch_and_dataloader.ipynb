{
 "cells": [
  {
   "cell_type": "code",
   "id": "initial_id",
   "metadata": {
    "collapsed": true,
    "ExecuteTime": {
     "end_time": "2025-04-01T05:26:28.577146Z",
     "start_time": "2025-04-01T05:26:27.859179Z"
    }
   },
   "source": [
    "import torch\n",
    "import torch.nn as nn\n",
    "import torch.nn.functional as F\n",
    "\n",
    "from torch.utils.data import TensorDataset, DataLoader"
   ],
   "outputs": [],
   "execution_count": 1
  },
  {
   "metadata": {
    "ExecuteTime": {
     "end_time": "2025-04-01T05:26:32.661839Z",
     "start_time": "2025-04-01T05:26:32.656828Z"
    }
   },
   "cell_type": "code",
   "source": [
    "\n",
    "x_train  =  torch.FloatTensor([[73,  80,  75],\n",
    "                               [93,  88,  93],\n",
    "                               [89,  91,  90],\n",
    "                               [96,  98,  100],\n",
    "                               [73,  66,  70]])\n",
    "y_train  =  torch.FloatTensor([[152],  [185],  [180],  [196],  [142]])"
   ],
   "id": "7a686cbfab376855",
   "outputs": [],
   "execution_count": 2
  },
  {
   "metadata": {
    "ExecuteTime": {
     "end_time": "2025-04-01T05:27:17.061013Z",
     "start_time": "2025-04-01T05:27:16.530342Z"
    }
   },
   "cell_type": "code",
   "source": [
    "dataset = TensorDataset(x_train, y_train)\n",
    "dataloader = DataLoader(dataset, batch_size = 2, shuffle = True)\n",
    "model = nn.Linear(3, 1)\n",
    "optimizer = torch.optim.SGD(model.parameters(), lr = 1e-5)"
   ],
   "id": "4541f57a0d13d9e2",
   "outputs": [],
   "execution_count": 3
  },
  {
   "metadata": {
    "ExecuteTime": {
     "end_time": "2025-04-01T05:28:28.469005Z",
     "start_time": "2025-04-01T05:28:28.432162Z"
    }
   },
   "cell_type": "code",
   "source": [
    "nb_epochs = 20\n",
    "for epoch in range(nb_epochs + 1):\n",
    "    for batch_idx, samples in enumerate(dataloader):\n",
    "        x_train, y_train = samples\n",
    "        prediction = model(x_train)\n",
    "\n",
    "        cost = F.mse_loss(prediction, y_train)\n",
    "        optimizer.zero_grad()\n",
    "        cost.backward()\n",
    "        optimizer.step()\n",
    "\n",
    "        print('Epoch {:4d}/{} Batch {}/{} Cost: {:.6f}'.format(\n",
    "            epoch, nb_epochs, batch_idx+1, len(dataloader),\n",
    "            cost.item()\n",
    "            ))"
   ],
   "id": "447edd494397b9de",
   "outputs": [
    {
     "name": "stdout",
     "output_type": "stream",
     "text": [
      "Epoch    0/20 Batch 1/3 Cost: 61353.789062\n",
      "Epoch    0/20 Batch 2/3 Cost: 9471.769531\n",
      "Epoch    0/20 Batch 3/3 Cost: 3259.239014\n",
      "Epoch    1/20 Batch 1/3 Cost: 1486.582886\n",
      "Epoch    1/20 Batch 2/3 Cost: 659.131958\n",
      "Epoch    1/20 Batch 3/3 Cost: 215.690384\n",
      "Epoch    2/20 Batch 1/3 Cost: 40.720451\n",
      "Epoch    2/20 Batch 2/3 Cost: 19.374048\n",
      "Epoch    2/20 Batch 3/3 Cost: 3.203038\n",
      "Epoch    3/20 Batch 1/3 Cost: 1.755986\n",
      "Epoch    3/20 Batch 2/3 Cost: 1.252576\n",
      "Epoch    3/20 Batch 3/3 Cost: 0.531536\n",
      "Epoch    4/20 Batch 1/3 Cost: 0.642379\n",
      "Epoch    4/20 Batch 2/3 Cost: 0.134733\n",
      "Epoch    4/20 Batch 3/3 Cost: 0.437419\n",
      "Epoch    5/20 Batch 1/3 Cost: 0.114049\n",
      "Epoch    5/20 Batch 2/3 Cost: 0.724973\n",
      "Epoch    5/20 Batch 3/3 Cost: 0.365466\n",
      "Epoch    6/20 Batch 1/3 Cost: 0.409191\n",
      "Epoch    6/20 Batch 2/3 Cost: 0.138026\n",
      "Epoch    6/20 Batch 3/3 Cost: 0.966502\n",
      "Epoch    7/20 Batch 1/3 Cost: 0.514485\n",
      "Epoch    7/20 Batch 2/3 Cost: 0.487844\n",
      "Epoch    7/20 Batch 3/3 Cost: 0.300008\n",
      "Epoch    8/20 Batch 1/3 Cost: 0.477835\n",
      "Epoch    8/20 Batch 2/3 Cost: 0.464158\n",
      "Epoch    8/20 Batch 3/3 Cost: 0.378344\n",
      "Epoch    9/20 Batch 1/3 Cost: 0.096176\n",
      "Epoch    9/20 Batch 2/3 Cost: 0.739861\n",
      "Epoch    9/20 Batch 3/3 Cost: 0.382146\n",
      "Epoch   10/20 Batch 1/3 Cost: 0.205800\n",
      "Epoch   10/20 Batch 2/3 Cost: 1.096236\n",
      "Epoch   10/20 Batch 3/3 Cost: 0.050786\n",
      "Epoch   11/20 Batch 1/3 Cost: 0.665692\n",
      "Epoch   11/20 Batch 2/3 Cost: 0.291166\n",
      "Epoch   11/20 Batch 3/3 Cost: 0.049000\n",
      "Epoch   12/20 Batch 1/3 Cost: 0.121852\n",
      "Epoch   12/20 Batch 2/3 Cost: 0.718656\n",
      "Epoch   12/20 Batch 3/3 Cost: 0.358727\n",
      "Epoch   13/20 Batch 1/3 Cost: 0.238913\n",
      "Epoch   13/20 Batch 2/3 Cost: 0.575545\n",
      "Epoch   13/20 Batch 3/3 Cost: 0.404770\n",
      "Epoch   14/20 Batch 1/3 Cost: 0.429908\n",
      "Epoch   14/20 Batch 2/3 Cost: 0.287741\n",
      "Epoch   14/20 Batch 3/3 Cost: 0.795988\n",
      "Epoch   15/20 Batch 1/3 Cost: 0.173196\n",
      "Epoch   15/20 Batch 2/3 Cost: 1.129382\n",
      "Epoch   15/20 Batch 3/3 Cost: 0.451765\n",
      "Epoch   16/20 Batch 1/3 Cost: 0.400062\n",
      "Epoch   16/20 Batch 2/3 Cost: 0.288699\n",
      "Epoch   16/20 Batch 3/3 Cost: 0.810181\n",
      "Epoch   17/20 Batch 1/3 Cost: 0.378325\n",
      "Epoch   17/20 Batch 2/3 Cost: 0.686882\n",
      "Epoch   17/20 Batch 3/3 Cost: 0.026443\n",
      "Epoch   18/20 Batch 1/3 Cost: 0.625041\n",
      "Epoch   18/20 Batch 2/3 Cost: 0.852218\n",
      "Epoch   18/20 Batch 3/3 Cost: 0.014184\n",
      "Epoch   19/20 Batch 1/3 Cost: 0.468559\n",
      "Epoch   19/20 Batch 2/3 Cost: 0.524326\n",
      "Epoch   19/20 Batch 3/3 Cost: 0.056104\n",
      "Epoch   20/20 Batch 1/3 Cost: 0.663460\n",
      "Epoch   20/20 Batch 2/3 Cost: 0.290412\n",
      "Epoch   20/20 Batch 3/3 Cost: 0.049787\n"
     ]
    }
   ],
   "execution_count": 4
  },
  {
   "metadata": {
    "ExecuteTime": {
     "end_time": "2025-04-01T05:29:14.038391Z",
     "start_time": "2025-04-01T05:29:14.032784Z"
    }
   },
   "cell_type": "code",
   "source": [
    "new_var = torch.FloatTensor([[73, 80, 75]])\n",
    "pred_y = model(new_var)\n",
    "print('훈련 후 입력이 73, 80, 75일 때의 예측값 : ', pred_y)"
   ],
   "id": "b45ef8d433defb4a",
   "outputs": [
    {
     "name": "stdout",
     "output_type": "stream",
     "text": [
      "훈련 후 입력이 73, 80, 75일 때의 예측값 :  tensor([[151.2543]], grad_fn=<AddmmBackward0>)\n"
     ]
    }
   ],
   "execution_count": 5
  },
  {
   "metadata": {
    "ExecuteTime": {
     "end_time": "2025-04-01T05:35:49.589664Z",
     "start_time": "2025-04-01T05:35:49.578200Z"
    }
   },
   "cell_type": "code",
   "source": [
    "from torch.utils.data import Dataset\n",
    "torch.manual_seed(1)\n",
    "class CustomLoader(Dataset):\n",
    "    def __init__(self):\n",
    "        self.x_data = [[73, 80, 75],\n",
    "                       [93, 88, 93],\n",
    "                       [89, 91, 90],\n",
    "                       [96, 98, 100],\n",
    "                       [73, 66, 70]]\n",
    "        self.y_data = [[152], [185], [180], [196], [142]]\n",
    "\n",
    "    def __len__(self):\n",
    "        return len(self.x_data)\n",
    "\n",
    "    def __getitem__(self, idx):\n",
    "        x = torch.FloatTensor(self.x_data[idx])\n",
    "        y = torch.FloatTensor(self.y_data[idx])\n",
    "        return x, y\n",
    "\n"
   ],
   "id": "13aa6d8da394c0a",
   "outputs": [],
   "execution_count": 9
  },
  {
   "metadata": {
    "ExecuteTime": {
     "end_time": "2025-04-01T05:35:50.185580Z",
     "start_time": "2025-04-01T05:35:50.181828Z"
    }
   },
   "cell_type": "code",
   "source": [
    "dataset = CustomLoader()\n",
    "dataloader = DataLoader(dataset, batch_size = 2, shuffle = True)\n",
    "model = nn.Linear(3, 1)\n",
    "optimizer = torch.optim.SGD(model.parameters(), lr = 1e-5)"
   ],
   "id": "f959a6477f034d37",
   "outputs": [],
   "execution_count": 10
  },
  {
   "metadata": {
    "ExecuteTime": {
     "end_time": "2025-04-01T05:35:50.716273Z",
     "start_time": "2025-04-01T05:35:50.699650Z"
    }
   },
   "cell_type": "code",
   "source": [
    "nb_epochs = 20\n",
    "for epoch in range(nb_epochs + 1):\n",
    "    for batch_idx, samples in enumerate(dataloader):\n",
    "        x_train, y_train = samples\n",
    "        prediction = model(x_train)\n",
    "        cost = F.mse_loss(prediction, y_train)\n",
    "\n",
    "        optimizer.zero_grad()\n",
    "        cost.backward()\n",
    "        optimizer.step()\n",
    "\n",
    "        print('Epoch {:4d}/{} Batch {}/{} Cost: {:.6f}'.format(\n",
    "        epoch, nb_epochs, batch_idx+1, len(dataloader),\n",
    "        cost.item()\n",
    "        ))"
   ],
   "id": "59f9641e24ec9baf",
   "outputs": [
    {
     "name": "stdout",
     "output_type": "stream",
     "text": [
      "Epoch    0/20 Batch 1/3 Cost: 23071.781250\n",
      "Epoch    0/20 Batch 2/3 Cost: 17581.359375\n",
      "Epoch    0/20 Batch 3/3 Cost: 3703.553467\n",
      "Epoch    1/20 Batch 1/3 Cost: 857.131836\n",
      "Epoch    1/20 Batch 2/3 Cost: 194.912628\n",
      "Epoch    1/20 Batch 3/3 Cost: 103.150658\n",
      "Epoch    2/20 Batch 1/3 Cost: 16.460945\n",
      "Epoch    2/20 Batch 2/3 Cost: 10.970690\n",
      "Epoch    2/20 Batch 3/3 Cost: 2.953053\n",
      "Epoch    3/20 Batch 1/3 Cost: 1.246350\n",
      "Epoch    3/20 Batch 2/3 Cost: 0.095024\n",
      "Epoch    3/20 Batch 3/3 Cost: 0.104377\n",
      "Epoch    4/20 Batch 1/3 Cost: 0.678422\n",
      "Epoch    4/20 Batch 2/3 Cost: 0.123370\n",
      "Epoch    4/20 Batch 3/3 Cost: 0.118080\n",
      "Epoch    5/20 Batch 1/3 Cost: 0.094797\n",
      "Epoch    5/20 Batch 2/3 Cost: 0.531496\n",
      "Epoch    5/20 Batch 3/3 Cost: 0.011198\n",
      "Epoch    6/20 Batch 1/3 Cost: 0.219984\n",
      "Epoch    6/20 Batch 2/3 Cost: 0.042412\n",
      "Epoch    6/20 Batch 3/3 Cost: 0.917457\n",
      "Epoch    7/20 Batch 1/3 Cost: 0.213805\n",
      "Epoch    7/20 Batch 2/3 Cost: 0.640249\n",
      "Epoch    7/20 Batch 3/3 Cost: 0.005267\n",
      "Epoch    8/20 Batch 1/3 Cost: 0.454904\n",
      "Epoch    8/20 Batch 2/3 Cost: 0.011374\n",
      "Epoch    8/20 Batch 3/3 Cost: 0.298689\n",
      "Epoch    9/20 Batch 1/3 Cost: 0.560365\n",
      "Epoch    9/20 Batch 2/3 Cost: 0.011228\n",
      "Epoch    9/20 Batch 3/3 Cost: 0.244160\n",
      "Epoch   10/20 Batch 1/3 Cost: 0.613739\n",
      "Epoch   10/20 Batch 2/3 Cost: 0.024911\n",
      "Epoch   10/20 Batch 3/3 Cost: 0.066365\n",
      "Epoch   11/20 Batch 1/3 Cost: 0.116626\n",
      "Epoch   11/20 Batch 2/3 Cost: 0.045004\n",
      "Epoch   11/20 Batch 3/3 Cost: 0.958777\n",
      "Epoch   12/20 Batch 1/3 Cost: 0.234996\n",
      "Epoch   12/20 Batch 2/3 Cost: 0.154496\n",
      "Epoch   12/20 Batch 3/3 Cost: 0.861088\n",
      "Epoch   13/20 Batch 1/3 Cost: 0.398488\n",
      "Epoch   13/20 Batch 2/3 Cost: 0.304441\n",
      "Epoch   13/20 Batch 3/3 Cost: 0.015352\n",
      "Epoch   14/20 Batch 1/3 Cost: 0.050674\n",
      "Epoch   14/20 Batch 2/3 Cost: 0.482778\n",
      "Epoch   14/20 Batch 3/3 Cost: 0.414241\n",
      "Epoch   15/20 Batch 1/3 Cost: 0.513222\n",
      "Epoch   15/20 Batch 2/3 Cost: 0.068332\n",
      "Epoch   15/20 Batch 3/3 Cost: 0.215187\n",
      "Epoch   16/20 Batch 1/3 Cost: 0.069614\n",
      "Epoch   16/20 Batch 2/3 Cost: 0.052825\n",
      "Epoch   16/20 Batch 3/3 Cost: 1.164131\n",
      "Epoch   17/20 Batch 1/3 Cost: 0.034010\n",
      "Epoch   17/20 Batch 2/3 Cost: 0.486735\n",
      "Epoch   17/20 Batch 3/3 Cost: 0.209226\n",
      "Epoch   18/20 Batch 1/3 Cost: 0.024246\n",
      "Epoch   18/20 Batch 2/3 Cost: 0.129105\n",
      "Epoch   18/20 Batch 3/3 Cost: 1.134490\n",
      "Epoch   19/20 Batch 1/3 Cost: 0.490361\n",
      "Epoch   19/20 Batch 2/3 Cost: 0.154791\n",
      "Epoch   19/20 Batch 3/3 Cost: 0.011797\n",
      "Epoch   20/20 Batch 1/3 Cost: 0.408733\n",
      "Epoch   20/20 Batch 2/3 Cost: 0.194442\n",
      "Epoch   20/20 Batch 3/3 Cost: 0.004536\n"
     ]
    }
   ],
   "execution_count": 11
  },
  {
   "metadata": {
    "ExecuteTime": {
     "end_time": "2025-04-01T05:35:58.456178Z",
     "start_time": "2025-04-01T05:35:58.452089Z"
    }
   },
   "cell_type": "code",
   "source": [
    "\n",
    "# 임의의 입력 [73, 80, 75]를 선언\n",
    "new_var =  torch.FloatTensor([[73, 80, 75]])\n",
    "# 입력한 값 [73, 80, 75]에 대해서 예측값 y를 리턴받아서 pred_y에 저장\n",
    "pred_y = model(new_var)\n",
    "print(\"훈련 후 입력이 73, 80, 75일 때의 예측값 :\", pred_y)"
   ],
   "id": "da3c520cd3885d42",
   "outputs": [
    {
     "name": "stdout",
     "output_type": "stream",
     "text": [
      "훈련 후 입력이 73, 80, 75일 때의 예측값 : tensor([[151.0829]], grad_fn=<AddmmBackward0>)\n"
     ]
    }
   ],
   "execution_count": 12
  },
  {
   "metadata": {},
   "cell_type": "code",
   "outputs": [],
   "execution_count": null,
   "source": "",
   "id": "d99ef4dfe50cec3"
  }
 ],
 "metadata": {
  "kernelspec": {
   "display_name": "Python 3",
   "language": "python",
   "name": "python3"
  },
  "language_info": {
   "codemirror_mode": {
    "name": "ipython",
    "version": 2
   },
   "file_extension": ".py",
   "mimetype": "text/x-python",
   "name": "python",
   "nbconvert_exporter": "python",
   "pygments_lexer": "ipython2",
   "version": "2.7.6"
  }
 },
 "nbformat": 4,
 "nbformat_minor": 5
}
