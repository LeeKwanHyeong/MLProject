{
 "cells": [
  {
   "cell_type": "code",
   "id": "initial_id",
   "metadata": {
    "collapsed": true,
    "ExecuteTime": {
     "end_time": "2025-04-08T05:08:59.125182Z",
     "start_time": "2025-04-08T05:08:59.121487Z"
    }
   },
   "source": [
    "import pickle\n",
    "import pandas as pd\n",
    "import numpy as np\n",
    "import matplotlib.pyplot as plt\n",
    "import re\n",
    "import urllib.request\n",
    "from konlpy.tag import Mecab\n",
    "from tqdm import tqdm\n",
    "from sklearn.model_selection import train_test_split\n",
    "from collections import Counter"
   ],
   "outputs": [],
   "execution_count": 229
  },
  {
   "metadata": {
    "ExecuteTime": {
     "end_time": "2025-04-08T05:08:59.811997Z",
     "start_time": "2025-04-08T05:08:59.329355Z"
    }
   },
   "cell_type": "code",
   "source": [
    "urllib.request.urlretrieve(\"https://raw.githubusercontent.com/e9t/nsmc/master/ratings_train.txt\", filename=\"ratings_train.txt\")\n",
    "urllib.request.urlretrieve(\"https://raw.githubusercontent.com/e9t/nsmc/master/ratings_test.txt\", filename=\"ratings_test.txt\")"
   ],
   "id": "c4985043ec8502fa",
   "outputs": [
    {
     "data": {
      "text/plain": [
       "('ratings_test.txt', <http.client.HTTPMessage at 0x32ea70a90>)"
      ]
     },
     "execution_count": 230,
     "metadata": {},
     "output_type": "execute_result"
    }
   ],
   "execution_count": 230
  },
  {
   "metadata": {
    "ExecuteTime": {
     "end_time": "2025-04-08T05:09:00.043616Z",
     "start_time": "2025-04-08T05:08:59.819007Z"
    }
   },
   "cell_type": "code",
   "source": [
    "train_data = pd.read_table('ratings_train.txt')\n",
    "test_data = pd.read_table('ratings_test.txt')\n",
    "print('훈련용 개수: ', len(train_data))"
   ],
   "id": "9d8ae5d282347d6e",
   "outputs": [
    {
     "name": "stdout",
     "output_type": "stream",
     "text": [
      "훈련용 개수:  150000\n"
     ]
    }
   ],
   "execution_count": 231
  },
  {
   "metadata": {
    "ExecuteTime": {
     "end_time": "2025-04-08T05:09:00.228299Z",
     "start_time": "2025-04-08T05:09:00.224993Z"
    }
   },
   "cell_type": "code",
   "source": "train_data[:5]",
   "id": "24c5da8464d65e1",
   "outputs": [
    {
     "data": {
      "text/plain": [
       "         id                                           document  label\n",
       "0   9976970                                아 더빙.. 진짜 짜증나네요 목소리      0\n",
       "1   3819312                  흠...포스터보고 초딩영화줄....오버연기조차 가볍지 않구나      1\n",
       "2  10265843                                  너무재밓었다그래서보는것을추천한다      0\n",
       "3   9045019                      교도소 이야기구먼 ..솔직히 재미는 없다..평점 조정      0\n",
       "4   6483659  사이몬페그의 익살스런 연기가 돋보였던 영화!스파이더맨에서 늙어보이기만 했던 커스틴 ...      1"
      ],
      "text/html": [
       "<div>\n",
       "<style scoped>\n",
       "    .dataframe tbody tr th:only-of-type {\n",
       "        vertical-align: middle;\n",
       "    }\n",
       "\n",
       "    .dataframe tbody tr th {\n",
       "        vertical-align: top;\n",
       "    }\n",
       "\n",
       "    .dataframe thead th {\n",
       "        text-align: right;\n",
       "    }\n",
       "</style>\n",
       "<table border=\"1\" class=\"dataframe\">\n",
       "  <thead>\n",
       "    <tr style=\"text-align: right;\">\n",
       "      <th></th>\n",
       "      <th>id</th>\n",
       "      <th>document</th>\n",
       "      <th>label</th>\n",
       "    </tr>\n",
       "  </thead>\n",
       "  <tbody>\n",
       "    <tr>\n",
       "      <th>0</th>\n",
       "      <td>9976970</td>\n",
       "      <td>아 더빙.. 진짜 짜증나네요 목소리</td>\n",
       "      <td>0</td>\n",
       "    </tr>\n",
       "    <tr>\n",
       "      <th>1</th>\n",
       "      <td>3819312</td>\n",
       "      <td>흠...포스터보고 초딩영화줄....오버연기조차 가볍지 않구나</td>\n",
       "      <td>1</td>\n",
       "    </tr>\n",
       "    <tr>\n",
       "      <th>2</th>\n",
       "      <td>10265843</td>\n",
       "      <td>너무재밓었다그래서보는것을추천한다</td>\n",
       "      <td>0</td>\n",
       "    </tr>\n",
       "    <tr>\n",
       "      <th>3</th>\n",
       "      <td>9045019</td>\n",
       "      <td>교도소 이야기구먼 ..솔직히 재미는 없다..평점 조정</td>\n",
       "      <td>0</td>\n",
       "    </tr>\n",
       "    <tr>\n",
       "      <th>4</th>\n",
       "      <td>6483659</td>\n",
       "      <td>사이몬페그의 익살스런 연기가 돋보였던 영화!스파이더맨에서 늙어보이기만 했던 커스틴 ...</td>\n",
       "      <td>1</td>\n",
       "    </tr>\n",
       "  </tbody>\n",
       "</table>\n",
       "</div>"
      ]
     },
     "execution_count": 232,
     "metadata": {},
     "output_type": "execute_result"
    }
   ],
   "execution_count": 232
  },
  {
   "metadata": {
    "ExecuteTime": {
     "end_time": "2025-04-08T05:09:00.407667Z",
     "start_time": "2025-04-08T05:09:00.405960Z"
    }
   },
   "cell_type": "code",
   "source": "print('테스트용 리뷰 개수 : ', len(test_data))",
   "id": "86ea11405536839a",
   "outputs": [
    {
     "name": "stdout",
     "output_type": "stream",
     "text": [
      "테스트용 리뷰 개수 :  50000\n"
     ]
    }
   ],
   "execution_count": 233
  },
  {
   "metadata": {
    "ExecuteTime": {
     "end_time": "2025-04-08T05:09:00.435672Z",
     "start_time": "2025-04-08T05:09:00.432297Z"
    }
   },
   "cell_type": "code",
   "source": "test_data[:5]",
   "id": "fbe0b277692e7989",
   "outputs": [
    {
     "data": {
      "text/plain": [
       "        id                                           document  label\n",
       "0  6270596                                                굳 ㅋ      1\n",
       "1  9274899                               GDNTOPCLASSINTHECLUB      0\n",
       "2  8544678             뭐야 이 평점들은.... 나쁘진 않지만 10점 짜리는 더더욱 아니잖아      0\n",
       "3  6825595                   지루하지는 않은데 완전 막장임... 돈주고 보기에는....      0\n",
       "4  6723715  3D만 아니었어도 별 다섯 개 줬을텐데.. 왜 3D로 나와서 제 심기를 불편하게 하죠??      0"
      ],
      "text/html": [
       "<div>\n",
       "<style scoped>\n",
       "    .dataframe tbody tr th:only-of-type {\n",
       "        vertical-align: middle;\n",
       "    }\n",
       "\n",
       "    .dataframe tbody tr th {\n",
       "        vertical-align: top;\n",
       "    }\n",
       "\n",
       "    .dataframe thead th {\n",
       "        text-align: right;\n",
       "    }\n",
       "</style>\n",
       "<table border=\"1\" class=\"dataframe\">\n",
       "  <thead>\n",
       "    <tr style=\"text-align: right;\">\n",
       "      <th></th>\n",
       "      <th>id</th>\n",
       "      <th>document</th>\n",
       "      <th>label</th>\n",
       "    </tr>\n",
       "  </thead>\n",
       "  <tbody>\n",
       "    <tr>\n",
       "      <th>0</th>\n",
       "      <td>6270596</td>\n",
       "      <td>굳 ㅋ</td>\n",
       "      <td>1</td>\n",
       "    </tr>\n",
       "    <tr>\n",
       "      <th>1</th>\n",
       "      <td>9274899</td>\n",
       "      <td>GDNTOPCLASSINTHECLUB</td>\n",
       "      <td>0</td>\n",
       "    </tr>\n",
       "    <tr>\n",
       "      <th>2</th>\n",
       "      <td>8544678</td>\n",
       "      <td>뭐야 이 평점들은.... 나쁘진 않지만 10점 짜리는 더더욱 아니잖아</td>\n",
       "      <td>0</td>\n",
       "    </tr>\n",
       "    <tr>\n",
       "      <th>3</th>\n",
       "      <td>6825595</td>\n",
       "      <td>지루하지는 않은데 완전 막장임... 돈주고 보기에는....</td>\n",
       "      <td>0</td>\n",
       "    </tr>\n",
       "    <tr>\n",
       "      <th>4</th>\n",
       "      <td>6723715</td>\n",
       "      <td>3D만 아니었어도 별 다섯 개 줬을텐데.. 왜 3D로 나와서 제 심기를 불편하게 하죠??</td>\n",
       "      <td>0</td>\n",
       "    </tr>\n",
       "  </tbody>\n",
       "</table>\n",
       "</div>"
      ]
     },
     "execution_count": 234,
     "metadata": {},
     "output_type": "execute_result"
    }
   ],
   "execution_count": 234
  },
  {
   "metadata": {
    "ExecuteTime": {
     "end_time": "2025-04-08T05:09:00.488853Z",
     "start_time": "2025-04-08T05:09:00.460520Z"
    }
   },
   "cell_type": "code",
   "source": "train_data['document'].nunique(), train_data['label'].nunique()",
   "id": "11692a9a452beeec",
   "outputs": [
    {
     "data": {
      "text/plain": [
       "(146182, 2)"
      ]
     },
     "execution_count": 235,
     "metadata": {},
     "output_type": "execute_result"
    }
   ],
   "execution_count": 235
  },
  {
   "metadata": {
    "ExecuteTime": {
     "end_time": "2025-04-08T05:09:00.518607Z",
     "start_time": "2025-04-08T05:09:00.508365Z"
    }
   },
   "cell_type": "code",
   "source": "train_data.drop_duplicates(subset=['document'], inplace=True)",
   "id": "ae50ec76a348d742",
   "outputs": [],
   "execution_count": 236
  },
  {
   "metadata": {
    "ExecuteTime": {
     "end_time": "2025-04-08T05:09:00.575786Z",
     "start_time": "2025-04-08T05:09:00.529433Z"
    }
   },
   "cell_type": "code",
   "source": "train_data['label'].value_counts().plot(kind='bar')",
   "id": "79720f34839830ff",
   "outputs": [
    {
     "data": {
      "text/plain": [
       "<Axes: xlabel='label'>"
      ]
     },
     "execution_count": 237,
     "metadata": {},
     "output_type": "execute_result"
    },
    {
     "data": {
      "text/plain": [
       "<Figure size 640x480 with 1 Axes>"
      ],
      "image/png": "[encoded data removed]"
     },
     "metadata": {},
     "output_type": "display_data"
    }
   ],
   "execution_count": 237
  },
  {
   "metadata": {
    "ExecuteTime": {
     "end_time": "2025-04-08T05:09:00.882718Z",
     "start_time": "2025-04-08T05:09:00.878938Z"
    }
   },
   "cell_type": "code",
   "source": "print(train_data.groupby('label').size().reset_index(name='count'))",
   "id": "97386689dc2ea644",
   "outputs": [
    {
     "name": "stdout",
     "output_type": "stream",
     "text": [
      "   label  count\n",
      "0      0  73342\n",
      "1      1  72841\n"
     ]
    }
   ],
   "execution_count": 238
  },
  {
   "metadata": {
    "ExecuteTime": {
     "end_time": "2025-04-08T05:09:00.893513Z",
     "start_time": "2025-04-08T05:09:00.887667Z"
    }
   },
   "cell_type": "code",
   "source": "print(train_data.isnull().values.any())",
   "id": "f01fa8a11d2644d7",
   "outputs": [
    {
     "name": "stdout",
     "output_type": "stream",
     "text": [
      "True\n"
     ]
    }
   ],
   "execution_count": 239
  },
  {
   "metadata": {
    "ExecuteTime": {
     "end_time": "2025-04-08T05:09:01.053223Z",
     "start_time": "2025-04-08T05:09:01.047566Z"
    }
   },
   "cell_type": "code",
   "source": "print(train_data.isnull().sum())",
   "id": "250e57ddf7f566f",
   "outputs": [
    {
     "name": "stdout",
     "output_type": "stream",
     "text": [
      "id          0\n",
      "document    1\n",
      "label       0\n",
      "dtype: int64\n"
     ]
    }
   ],
   "execution_count": 240
  },
  {
   "metadata": {
    "ExecuteTime": {
     "end_time": "2025-04-08T05:09:01.216338Z",
     "start_time": "2025-04-08T05:09:01.209402Z"
    }
   },
   "cell_type": "code",
   "source": "train_data[train_data.document.isnull()]",
   "id": "381fc1551593d540",
   "outputs": [
    {
     "data": {
      "text/plain": [
       "            id document  label\n",
       "25857  2172111      NaN      1"
      ],
      "text/html": [
       "<div>\n",
       "<style scoped>\n",
       "    .dataframe tbody tr th:only-of-type {\n",
       "        vertical-align: middle;\n",
       "    }\n",
       "\n",
       "    .dataframe tbody tr th {\n",
       "        vertical-align: top;\n",
       "    }\n",
       "\n",
       "    .dataframe thead th {\n",
       "        text-align: right;\n",
       "    }\n",
       "</style>\n",
       "<table border=\"1\" class=\"dataframe\">\n",
       "  <thead>\n",
       "    <tr style=\"text-align: right;\">\n",
       "      <th></th>\n",
       "      <th>id</th>\n",
       "      <th>document</th>\n",
       "      <th>label</th>\n",
       "    </tr>\n",
       "  </thead>\n",
       "  <tbody>\n",
       "    <tr>\n",
       "      <th>25857</th>\n",
       "      <td>2172111</td>\n",
       "      <td>NaN</td>\n",
       "      <td>1</td>\n",
       "    </tr>\n",
       "  </tbody>\n",
       "</table>\n",
       "</div>"
      ]
     },
     "execution_count": 241,
     "metadata": {},
     "output_type": "execute_result"
    }
   ],
   "execution_count": 241
  },
  {
   "metadata": {
    "ExecuteTime": {
     "end_time": "2025-04-08T05:09:01.395888Z",
     "start_time": "2025-04-08T05:09:01.383909Z"
    }
   },
   "cell_type": "code",
   "source": [
    "train_data = train_data.dropna(how = 'any')\n",
    "print(train_data.isnull().values.any())"
   ],
   "id": "bb32d7ab044fc200",
   "outputs": [
    {
     "name": "stdout",
     "output_type": "stream",
     "text": [
      "False\n"
     ]
    }
   ],
   "execution_count": 242
  },
  {
   "metadata": {
    "ExecuteTime": {
     "end_time": "2025-04-08T05:09:01.416940Z",
     "start_time": "2025-04-08T05:09:01.415117Z"
    }
   },
   "cell_type": "code",
   "source": "print(len(train_data))",
   "id": "98a270e29ad5c22",
   "outputs": [
    {
     "name": "stdout",
     "output_type": "stream",
     "text": [
      "146182\n"
     ]
    }
   ],
   "execution_count": 243
  },
  {
   "metadata": {
    "ExecuteTime": {
     "end_time": "2025-04-08T05:09:01.512477Z",
     "start_time": "2025-04-08T05:09:01.423750Z"
    }
   },
   "cell_type": "code",
   "source": [
    "# 한글과 공백을 제외하고 모두 제거\n",
    "train_data['document'] = train_data['document'].str.replace(\"[^ㄱ-ㅎㅏ-ㅣ가-힣 ]\",\"\", regex=True)\n",
    "train_data[:5]"
   ],
   "id": "12a37d4348f2b466",
   "outputs": [
    {
     "data": {
      "text/plain": [
       "         id                                           document  label\n",
       "0   9976970                                  아 더빙 진짜 짜증나네요 목소리      0\n",
       "1   3819312                         흠포스터보고 초딩영화줄오버연기조차 가볍지 않구나      1\n",
       "2  10265843                                  너무재밓었다그래서보는것을추천한다      0\n",
       "3   9045019                          교도소 이야기구먼 솔직히 재미는 없다평점 조정      0\n",
       "4   6483659  사이몬페그의 익살스런 연기가 돋보였던 영화스파이더맨에서 늙어보이기만 했던 커스틴 던...      1"
      ],
      "text/html": [
       "<div>\n",
       "<style scoped>\n",
       "    .dataframe tbody tr th:only-of-type {\n",
       "        vertical-align: middle;\n",
       "    }\n",
       "\n",
       "    .dataframe tbody tr th {\n",
       "        vertical-align: top;\n",
       "    }\n",
       "\n",
       "    .dataframe thead th {\n",
       "        text-align: right;\n",
       "    }\n",
       "</style>\n",
       "<table border=\"1\" class=\"dataframe\">\n",
       "  <thead>\n",
       "    <tr style=\"text-align: right;\">\n",
       "      <th></th>\n",
       "      <th>id</th>\n",
       "      <th>document</th>\n",
       "      <th>label</th>\n",
       "    </tr>\n",
       "  </thead>\n",
       "  <tbody>\n",
       "    <tr>\n",
       "      <th>0</th>\n",
       "      <td>9976970</td>\n",
       "      <td>아 더빙 진짜 짜증나네요 목소리</td>\n",
       "      <td>0</td>\n",
       "    </tr>\n",
       "    <tr>\n",
       "      <th>1</th>\n",
       "      <td>3819312</td>\n",
       "      <td>흠포스터보고 초딩영화줄오버연기조차 가볍지 않구나</td>\n",
       "      <td>1</td>\n",
       "    </tr>\n",
       "    <tr>\n",
       "      <th>2</th>\n",
       "      <td>10265843</td>\n",
       "      <td>너무재밓었다그래서보는것을추천한다</td>\n",
       "      <td>0</td>\n",
       "    </tr>\n",
       "    <tr>\n",
       "      <th>3</th>\n",
       "      <td>9045019</td>\n",
       "      <td>교도소 이야기구먼 솔직히 재미는 없다평점 조정</td>\n",
       "      <td>0</td>\n",
       "    </tr>\n",
       "    <tr>\n",
       "      <th>4</th>\n",
       "      <td>6483659</td>\n",
       "      <td>사이몬페그의 익살스런 연기가 돋보였던 영화스파이더맨에서 늙어보이기만 했던 커스틴 던...</td>\n",
       "      <td>1</td>\n",
       "    </tr>\n",
       "  </tbody>\n",
       "</table>\n",
       "</div>"
      ]
     },
     "execution_count": 244,
     "metadata": {},
     "output_type": "execute_result"
    }
   ],
   "execution_count": 244
  },
  {
   "metadata": {
    "ExecuteTime": {
     "end_time": "2025-04-08T05:09:01.747676Z",
     "start_time": "2025-04-08T05:09:01.682583Z"
    }
   },
   "cell_type": "code",
   "source": [
    "train_data['document'] = train_data['document'].str.replace('^ +', '', regex = True)\n",
    "train_data['document'].replace('', np.nan, inplace = True)\n",
    "print(train_data.isnull().sum())"
   ],
   "id": "7baf5b9d5ebd8170",
   "outputs": [
    {
     "name": "stdout",
     "output_type": "stream",
     "text": [
      "id            0\n",
      "document    789\n",
      "label         0\n",
      "dtype: int64\n"
     ]
    },
    {
     "name": "stderr",
     "output_type": "stream",
     "text": [
      "/var/folders/py/xgf_87rd5nz9rsbc143wp9qc0000gn/T/ipykernel_6315/2928209278.py:2: FutureWarning: A value is trying to be set on a copy of a DataFrame or Series through chained assignment using an inplace method.\n",
      "The behavior will change in pandas 3.0. This inplace method will never work because the intermediate object on which we are setting values always behaves as a copy.\n",
      "\n",
      "For example, when doing 'df[col].method(value, inplace=True)', try using 'df.method({col: value}, inplace=True)' or df[col] = df[col].method(value) instead, to perform the operation inplace on the original object.\n",
      "\n",
      "\n",
      "  train_data['document'].replace('', np.nan, inplace = True)\n"
     ]
    }
   ],
   "execution_count": 245
  },
  {
   "metadata": {
    "ExecuteTime": {
     "end_time": "2025-04-08T05:09:01.776027Z",
     "start_time": "2025-04-08T05:09:01.767888Z"
    }
   },
   "cell_type": "code",
   "source": "train_data.loc[train_data.document.isnull()][:5]",
   "id": "f7688999e1cd2fd4",
   "outputs": [
    {
     "data": {
      "text/plain": [
       "           id document  label\n",
       "404   4221289      NaN      0\n",
       "412   9509970      NaN      1\n",
       "470  10147571      NaN      1\n",
       "584   7117896      NaN      0\n",
       "593   6478189      NaN      0"
      ],
      "text/html": [
       "<div>\n",
       "<style scoped>\n",
       "    .dataframe tbody tr th:only-of-type {\n",
       "        vertical-align: middle;\n",
       "    }\n",
       "\n",
       "    .dataframe tbody tr th {\n",
       "        vertical-align: top;\n",
       "    }\n",
       "\n",
       "    .dataframe thead th {\n",
       "        text-align: right;\n",
       "    }\n",
       "</style>\n",
       "<table border=\"1\" class=\"dataframe\">\n",
       "  <thead>\n",
       "    <tr style=\"text-align: right;\">\n",
       "      <th></th>\n",
       "      <th>id</th>\n",
       "      <th>document</th>\n",
       "      <th>label</th>\n",
       "    </tr>\n",
       "  </thead>\n",
       "  <tbody>\n",
       "    <tr>\n",
       "      <th>404</th>\n",
       "      <td>4221289</td>\n",
       "      <td>NaN</td>\n",
       "      <td>0</td>\n",
       "    </tr>\n",
       "    <tr>\n",
       "      <th>412</th>\n",
       "      <td>9509970</td>\n",
       "      <td>NaN</td>\n",
       "      <td>1</td>\n",
       "    </tr>\n",
       "    <tr>\n",
       "      <th>470</th>\n",
       "      <td>10147571</td>\n",
       "      <td>NaN</td>\n",
       "      <td>1</td>\n",
       "    </tr>\n",
       "    <tr>\n",
       "      <th>584</th>\n",
       "      <td>7117896</td>\n",
       "      <td>NaN</td>\n",
       "      <td>0</td>\n",
       "    </tr>\n",
       "    <tr>\n",
       "      <th>593</th>\n",
       "      <td>6478189</td>\n",
       "      <td>NaN</td>\n",
       "      <td>0</td>\n",
       "    </tr>\n",
       "  </tbody>\n",
       "</table>\n",
       "</div>"
      ]
     },
     "execution_count": 246,
     "metadata": {},
     "output_type": "execute_result"
    }
   ],
   "execution_count": 246
  },
  {
   "metadata": {
    "ExecuteTime": {
     "end_time": "2025-04-08T05:09:01.819002Z",
     "start_time": "2025-04-08T05:09:01.808794Z"
    }
   },
   "cell_type": "code",
   "source": [
    "train_data = train_data.dropna(how = 'any')\n",
    "print(len(train_data))"
   ],
   "id": "235966997983ca44",
   "outputs": [
    {
     "name": "stdout",
     "output_type": "stream",
     "text": [
      "145393\n"
     ]
    }
   ],
   "execution_count": 247
  },
  {
   "metadata": {
    "ExecuteTime": {
     "end_time": "2025-04-08T05:09:01.895687Z",
     "start_time": "2025-04-08T05:09:01.838730Z"
    }
   },
   "cell_type": "code",
   "source": [
    "test_data.drop_duplicates(subset = ['document'], inplace = True)\n",
    "test_data['document'] = test_data['document'].str.replace(\"[^ㄱ-ㅎㅏ-ㅣ가-힣 ]\", \"\", regex=True)\n",
    "test_data['document'] = test_data['document'].str.replace('^ +', '', regex = True)\n",
    "test_data['document'].replace('', np.nan, inplace = True)\n",
    "test_data = test_data.dropna(how = 'any')\n",
    "print('전처리 후 테스트용 샘플의 개수: ', len(test_data))"
   ],
   "id": "a9f50eca069b5af5",
   "outputs": [
    {
     "name": "stdout",
     "output_type": "stream",
     "text": [
      "전처리 후 테스트용 샘플의 개수:  48852\n"
     ]
    },
    {
     "name": "stderr",
     "output_type": "stream",
     "text": [
      "/var/folders/py/xgf_87rd5nz9rsbc143wp9qc0000gn/T/ipykernel_6315/921078627.py:4: FutureWarning: A value is trying to be set on a copy of a DataFrame or Series through chained assignment using an inplace method.\n",
      "The behavior will change in pandas 3.0. This inplace method will never work because the intermediate object on which we are setting values always behaves as a copy.\n",
      "\n",
      "For example, when doing 'df[col].method(value, inplace=True)', try using 'df.method({col: value}, inplace=True)' or df[col] = df[col].method(value) instead, to perform the operation inplace on the original object.\n",
      "\n",
      "\n",
      "  test_data['document'].replace('', np.nan, inplace = True)\n"
     ]
    }
   ],
   "execution_count": 248
  },
  {
   "metadata": {
    "ExecuteTime": {
     "end_time": "2025-04-08T05:09:01.900601Z",
     "start_time": "2025-04-08T05:09:01.898740Z"
    }
   },
   "cell_type": "code",
   "source": "stopwords = ['도', '는', '다', '의', '가', '이', '은', '한', '에', '하', '고', '을', '를', '인', '듯', '과', '와', '네', '들', '듯', '지', '임', '게']",
   "id": "a191b67c057738c3",
   "outputs": [],
   "execution_count": 249
  },
  {
   "metadata": {
    "ExecuteTime": {
     "end_time": "2025-04-08T05:09:02.206987Z",
     "start_time": "2025-04-08T05:09:02.201894Z"
    }
   },
   "cell_type": "code",
   "source": [
    "mecab = Mecab()\n",
    "mecab.morphs('와 이런 것도 영화라고 차라리 뮤직비디오를 만드는 게 나을 뻔')"
   ],
   "id": "ac08dc72d3c584ec",
   "outputs": [
    {
     "data": {
      "text/plain": [
       "['와',\n",
       " '이런',\n",
       " '것',\n",
       " '도',\n",
       " '영화',\n",
       " '라고',\n",
       " '차라리',\n",
       " '뮤직',\n",
       " '비디오',\n",
       " '를',\n",
       " '만드',\n",
       " '는',\n",
       " '게',\n",
       " '나을',\n",
       " '뻔']"
      ]
     },
     "execution_count": 250,
     "metadata": {},
     "output_type": "execute_result"
    }
   ],
   "execution_count": 250
  },
  {
   "metadata": {
    "ExecuteTime": {
     "end_time": "2025-04-08T05:09:05.173574Z",
     "start_time": "2025-04-08T05:09:02.210791Z"
    }
   },
   "cell_type": "code",
   "source": [
    "X_train = []\n",
    "for sentence in tqdm(train_data['document']):\n",
    "    tokenized_sentence = mecab.morphs(sentence)\n",
    "    stopwords_removed_sentence = [word for word in tokenized_sentence if not word in stopwords]\n",
    "    X_train.append(stopwords_removed_sentence)\n",
    "print(X_train[:3])"
   ],
   "id": "e90fdc8406d98f91",
   "outputs": [
    {
     "name": "stderr",
     "output_type": "stream",
     "text": [
      "100%|██████████| 145393/145393 [00:02<00:00, 49449.40it/s]"
     ]
    },
    {
     "name": "stdout",
     "output_type": "stream",
     "text": [
      "[['아', '더', '빙', '진짜', '짜증', '나', '네요', '목소리'], ['흠', '포스터', '보고', '초딩', '영화', '줄', '오버', '연기', '조차', '가볍', '않', '구나'], ['너무', '재', '밓었다그래서보는것을추천한다']]\n"
     ]
    },
    {
     "name": "stderr",
     "output_type": "stream",
     "text": [
      "\n"
     ]
    }
   ],
   "execution_count": 251
  },
  {
   "metadata": {
    "ExecuteTime": {
     "end_time": "2025-04-08T05:09:05.351876Z",
     "start_time": "2025-04-08T05:09:05.350160Z"
    }
   },
   "cell_type": "code",
   "source": "print(X_train[:5])",
   "id": "4ff7b24e3686bb1f",
   "outputs": [
    {
     "name": "stdout",
     "output_type": "stream",
     "text": [
      "[['아', '더', '빙', '진짜', '짜증', '나', '네요', '목소리'], ['흠', '포스터', '보고', '초딩', '영화', '줄', '오버', '연기', '조차', '가볍', '않', '구나'], ['너무', '재', '밓었다그래서보는것을추천한다'], ['교도소', '이야기', '구먼', '솔직히', '재미', '없', '평점', '조정'], ['사이몬페그', '익살', '스런', '연기', '돋보였', '던', '영화', '스파이더맨', '에서', '늙', '어', '보이', '기', '만', '했', '던', '커스틴', '던스트', '너무나', '이뻐', '보였']]\n"
     ]
    }
   ],
   "execution_count": 252
  },
  {
   "metadata": {
    "ExecuteTime": {
     "end_time": "2025-04-08T05:09:06.716184Z",
     "start_time": "2025-04-08T05:09:05.500763Z"
    }
   },
   "cell_type": "code",
   "source": [
    "X_test = []\n",
    "for sentence in tqdm(test_data['document']):\n",
    "    tokenized_sentence = mecab.morphs(sentence)\n",
    "    stopwords_removed_sentence = [word for word in tokenized_sentence if not word in stopwords]\n",
    "    X_test.append(stopwords_removed_sentence)"
   ],
   "id": "b13b837db922098b",
   "outputs": [
    {
     "name": "stderr",
     "output_type": "stream",
     "text": [
      "100%|██████████| 48852/48852 [00:01<00:00, 40483.70it/s]\n"
     ]
    }
   ],
   "execution_count": 253
  },
  {
   "metadata": {
    "ExecuteTime": {
     "end_time": "2025-04-08T05:09:06.915433Z",
     "start_time": "2025-04-08T05:09:06.870877Z"
    }
   },
   "cell_type": "code",
   "source": [
    "y_train = np.array(train_data['label'])\n",
    "y_test = np.array(test_data['label'])\n",
    "\n",
    "X_train, X_valid, y_train, y_valid = train_test_split(X_train, y_train, test_size=0.2, random_state=0, stratify=y_train)"
   ],
   "id": "2982fe44877b5693",
   "outputs": [],
   "execution_count": 254
  },
  {
   "metadata": {
    "ExecuteTime": {
     "end_time": "2025-04-08T05:09:07.074798Z",
     "start_time": "2025-04-08T05:09:07.071802Z"
    }
   },
   "cell_type": "code",
   "source": [
    "print('--------훈련 데이터의 비율-----------')\n",
    "print(f'부정 리뷰 = {round(np.sum(y_train==0)/len(y_train) * 100,3)}%')\n",
    "print(f'긍정 리뷰 = {round(np.count_nonzero(y_train)/len(y_train) * 100,3)}%')\n",
    "print('--------검증 데이터의 비율-----------')\n",
    "print(f'부정 리뷰 = {round(np.sum(y_valid==0)/len(y_valid) * 100,3)}%')\n",
    "print(f'긍정 리뷰 = {round(np.count_nonzero(y_valid)/len(y_valid) * 100,3)}%')\n",
    "print('--------테스트 데이터의 비율-----------')\n",
    "print(f'부정 리뷰 = {round(np.sum(y_test==0)/len(y_test) * 100,3)}%')\n",
    "print(f'긍정 리뷰 = {round(np.count_nonzero(y_test)/len(y_test) * 100,3)}%')"
   ],
   "id": "8ec4e9f3a7b042f",
   "outputs": [
    {
     "name": "stdout",
     "output_type": "stream",
     "text": [
      "--------훈련 데이터의 비율-----------\n",
      "부정 리뷰 = 50.238%\n",
      "긍정 리뷰 = 49.762%\n",
      "--------검증 데이터의 비율-----------\n",
      "부정 리뷰 = 50.239%\n",
      "긍정 리뷰 = 49.761%\n",
      "--------테스트 데이터의 비율-----------\n",
      "부정 리뷰 = 49.808%\n",
      "긍정 리뷰 = 50.192%\n"
     ]
    }
   ],
   "execution_count": 255
  },
  {
   "metadata": {
    "ExecuteTime": {
     "end_time": "2025-04-08T05:09:07.473591Z",
     "start_time": "2025-04-08T05:09:07.230667Z"
    }
   },
   "cell_type": "code",
   "source": [
    "word_list = []\n",
    "for sent in X_train:\n",
    "    for word in sent:\n",
    "        word_list.append(word)\n",
    "word_counts = Counter(word_list)\n",
    "print('총 단어의 개수: ', len(word_counts))"
   ],
   "id": "2aa44e4faa848292",
   "outputs": [
    {
     "name": "stdout",
     "output_type": "stream",
     "text": [
      "총 단어의 개수:  45296\n"
     ]
    }
   ],
   "execution_count": 256
  },
  {
   "metadata": {
    "ExecuteTime": {
     "end_time": "2025-04-08T05:09:07.684178Z",
     "start_time": "2025-04-08T05:09:07.682146Z"
    }
   },
   "cell_type": "code",
   "source": [
    "print('훈련 데이터에서의 단어 영화의 등장 횟수 :', word_counts['영화'])\n",
    "print('훈련 데이터에서의 단어 공감의 등장 횟수 :', word_counts['공감'])"
   ],
   "id": "37bfa09594d9d474",
   "outputs": [
    {
     "name": "stdout",
     "output_type": "stream",
     "text": [
      "훈련 데이터에서의 단어 영화의 등장 횟수 : 45791\n",
      "훈련 데이터에서의 단어 공감의 등장 횟수 : 756\n"
     ]
    }
   ],
   "execution_count": 257
  },
  {
   "metadata": {
    "ExecuteTime": {
     "end_time": "2025-04-08T05:09:07.856706Z",
     "start_time": "2025-04-08T05:09:07.850629Z"
    }
   },
   "cell_type": "code",
   "source": [
    "vocab = sorted(word_counts, key=word_counts.get, reverse=True)\n",
    "print('등장 빈도수 상위 10개 단어')\n",
    "print(vocab[:10])"
   ],
   "id": "5a3aa367dc813ed5",
   "outputs": [
    {
     "name": "stdout",
     "output_type": "stream",
     "text": [
      "등장 빈도수 상위 10개 단어\n",
      "['영화', '보', '있', '없', '좋', '나', '었', '만', '는데', '너무']\n"
     ]
    }
   ],
   "execution_count": 258
  },
  {
   "metadata": {
    "ExecuteTime": {
     "end_time": "2025-04-08T05:09:08.032589Z",
     "start_time": "2025-04-08T05:09:08.021847Z"
    }
   },
   "cell_type": "code",
   "source": [
    "threshold = 3\n",
    "total_cnt = len(word_counts) # 단어의 수\n",
    "rare_cnt = 0 # 등장 빈도수가 threshold보다 작은 단어의 개수를 카운트\n",
    "total_freq = 0 # 훈련 데이터의 전체 단어 빈도수 총 합\n",
    "rare_freq = 0 # 등장 빈도수가 threshold보다 작은 단어의 등장 빈도수의 총 합\n",
    "\n",
    "# 단어와 빈도수의 쌍(pair)을 key와 value로 받는다.\n",
    "for key, value in word_counts.items():\n",
    "    total_freq = total_freq + value\n",
    "\n",
    "    # 단어의 등장 빈도수가 threshold보다 작으면\n",
    "    if(value < threshold):\n",
    "        rare_cnt = rare_cnt + 1\n",
    "        rare_freq = rare_freq + value\n",
    "\n",
    "print('단어 집합(vocabulary)의 크기 :',total_cnt)\n",
    "print('등장 빈도가 %s번 이하인 희귀 단어의 수: %s'%(threshold - 1, rare_cnt))\n",
    "print(\"단어 집합에서 희귀 단어의 비율:\", (rare_cnt / total_cnt)*100)\n",
    "print(\"전체 등장 빈도에서 희귀 단어 등장 빈도 비율:\", (rare_freq / total_freq)*100)"
   ],
   "id": "15b4bf464962e796",
   "outputs": [
    {
     "name": "stdout",
     "output_type": "stream",
     "text": [
      "단어 집합(vocabulary)의 크기 : 45296\n",
      "등장 빈도가 2번 이하인 희귀 단어의 수: 26104\n",
      "단어 집합에서 희귀 단어의 비율: 57.62981278700106\n",
      "전체 등장 빈도에서 희귀 단어 등장 빈도 비율: 2.2768269150096483\n"
     ]
    }
   ],
   "execution_count": 259
  },
  {
   "metadata": {
    "ExecuteTime": {
     "end_time": "2025-04-08T05:09:08.182950Z",
     "start_time": "2025-04-08T05:09:08.180834Z"
    }
   },
   "cell_type": "code",
   "source": [
    "vocab_size = total_cnt - rare_cnt\n",
    "vocab = vocab[:vocab_size]\n",
    "print('단어 집합의 크기: ', len(vocab))"
   ],
   "id": "2c01d194e7e9ec5b",
   "outputs": [
    {
     "name": "stdout",
     "output_type": "stream",
     "text": [
      "단어 집합의 크기:  19192\n"
     ]
    }
   ],
   "execution_count": 260
  },
  {
   "metadata": {
    "ExecuteTime": {
     "end_time": "2025-04-08T05:09:08.343359Z",
     "start_time": "2025-04-08T05:09:08.341502Z"
    }
   },
   "cell_type": "code",
   "source": [
    "word_to_index = {}\n",
    "word_to_index['<PAD>'] = 0\n",
    "word_to_index['<UNK>'] = 1"
   ],
   "id": "f944de09292637b",
   "outputs": [],
   "execution_count": 261
  },
  {
   "metadata": {
    "ExecuteTime": {
     "end_time": "2025-04-08T05:09:08.509599Z",
     "start_time": "2025-04-08T05:09:08.504802Z"
    }
   },
   "cell_type": "code",
   "source": [
    "for index, word in enumerate(vocab):\n",
    "    word_to_index[word] = index + 2\n",
    "\n",
    "vocab_size = len(word_to_index)\n",
    "print('패딩 토큰과 UNK 토큰을 고려한 단어 집합의 크기: ', vocab_size)"
   ],
   "id": "192a3c28de43e2fa",
   "outputs": [
    {
     "name": "stdout",
     "output_type": "stream",
     "text": [
      "패딩 토큰과 UNK 토큰을 고려한 단어 집합의 크기:  19194\n"
     ]
    }
   ],
   "execution_count": 262
  },
  {
   "metadata": {
    "ExecuteTime": {
     "end_time": "2025-04-08T05:09:08.666513Z",
     "start_time": "2025-04-08T05:09:08.664532Z"
    }
   },
   "cell_type": "code",
   "source": [
    "print('단어 와 맵핑되는 정수 :', word_to_index['<PAD>'])\n",
    "print('단어 와 맵핑되는 정수 :', word_to_index['<UNK>'])\n",
    "print('단어 영화와 맵핑되는 정수 :', word_to_index['영화'])"
   ],
   "id": "f9b44d357adf36c5",
   "outputs": [
    {
     "name": "stdout",
     "output_type": "stream",
     "text": [
      "단어 와 맵핑되는 정수 : 0\n",
      "단어 와 맵핑되는 정수 : 1\n",
      "단어 영화와 맵핑되는 정수 : 2\n"
     ]
    }
   ],
   "execution_count": 263
  },
  {
   "metadata": {
    "ExecuteTime": {
     "end_time": "2025-04-08T05:09:08.828856Z",
     "start_time": "2025-04-08T05:09:08.826876Z"
    }
   },
   "cell_type": "code",
   "source": [
    "def text_to_sequences(tokenized_X_data, word_to_index):\n",
    "    encoded_X_data = []\n",
    "    for sent in tokenized_X_data:\n",
    "        index_sequences = []\n",
    "        for word in sent:\n",
    "            try:\n",
    "                index_sequences.append(word_to_index[word])\n",
    "            except KeyError:\n",
    "                index_sequences.append(word_to_index['<UNK>'])\n",
    "        encoded_X_data.append(index_sequences)\n",
    "    return encoded_X_data"
   ],
   "id": "f061f2411df4b800",
   "outputs": [],
   "execution_count": 264
  },
  {
   "metadata": {
    "ExecuteTime": {
     "end_time": "2025-04-08T05:09:09.430308Z",
     "start_time": "2025-04-08T05:09:09.151737Z"
    }
   },
   "cell_type": "code",
   "source": [
    "encoded_X_train = text_to_sequences(X_train, word_to_index)\n",
    "encoded_X_valid = text_to_sequences(X_valid, word_to_index)\n",
    "encoded_X_test = text_to_sequences(X_test, word_to_index)"
   ],
   "id": "a1cfc739625198dc",
   "outputs": [],
   "execution_count": 265
  },
  {
   "metadata": {
    "ExecuteTime": {
     "end_time": "2025-04-08T05:09:09.436231Z",
     "start_time": "2025-04-08T05:09:09.434446Z"
    }
   },
   "cell_type": "code",
   "source": [
    "for sent in encoded_X_train[:2]:\n",
    "    print(sent)"
   ],
   "id": "373b6d939f3123ad",
   "outputs": [
    {
     "name": "stdout",
     "output_type": "stream",
     "text": [
      "[924, 1866, 128, 7, 80, 48, 34]\n",
      "[2415, 3138, 4, 2095, 422, 87, 5768, 19, 307]\n"
     ]
    }
   ],
   "execution_count": 266
  },
  {
   "metadata": {
    "ExecuteTime": {
     "end_time": "2025-04-08T05:09:09.610389Z",
     "start_time": "2025-04-08T05:09:09.605093Z"
    }
   },
   "cell_type": "code",
   "source": [
    "index_to_word = {}\n",
    "for key, value in word_to_index.items():\n",
    "    index_to_word[value] = key"
   ],
   "id": "efbed654171fd84",
   "outputs": [],
   "execution_count": 267
  },
  {
   "metadata": {
    "ExecuteTime": {
     "end_time": "2025-04-08T05:09:09.773524Z",
     "start_time": "2025-04-08T05:09:09.771231Z"
    }
   },
   "cell_type": "code",
   "source": [
    "decoded_sample = [index_to_word[word] for word in encoded_X_train[0]]\n",
    "print('기존의 첫번째 샘플 : ', X_train[0])\n",
    "print('복원된 첫번째 샘플 : ', decoded_sample)"
   ],
   "id": "fd1bdec7f516c8b3",
   "outputs": [
    {
     "name": "stdout",
     "output_type": "stream",
     "text": [
      "기존의 첫번째 샘플 :  ['이야', '어쩜', '이렇게', '나', '지루', '할', '수']\n",
      "복원된 첫번째 샘플 :  ['이야', '어쩜', '이렇게', '나', '지루', '할', '수']\n"
     ]
    }
   ],
   "execution_count": 268
  },
  {
   "metadata": {
    "ExecuteTime": {
     "end_time": "2025-04-08T05:09:10.329416Z",
     "start_time": "2025-04-08T05:09:09.936403Z"
    }
   },
   "cell_type": "code",
   "source": [
    "print('리뷰의 최대 길이: ', max(len(review) for review in encoded_X_train))\n",
    "print('리뷰의 평균 길이: ', sum(map(len, encoded_X_train)) / len(encoded_X_train))\n",
    "\n",
    "plt.hist([len(review) for review in encoded_X_train], bins = 50)\n",
    "plt.xlabel('length of samples')\n",
    "plt.ylabel('number of samples')\n",
    "plt.show()"
   ],
   "id": "11d3b5768dd4b306",
   "outputs": [
    {
     "name": "stdout",
     "output_type": "stream",
     "text": [
      "리뷰의 최대 길이:  74\n",
      "리뷰의 평균 길이:  12.296714067094245\n"
     ]
    },
    {
     "data": {
      "text/plain": [
       "<Figure size 640x480 with 1 Axes>"
      ],
      "image/png": "[encoded data removed]"
     },
     "metadata": {},
     "output_type": "display_data"
    }
   ],
   "execution_count": 269
  },
  {
   "metadata": {
    "ExecuteTime": {
     "end_time": "2025-04-08T05:09:10.500349Z",
     "start_time": "2025-04-08T05:09:10.497979Z"
    }
   },
   "cell_type": "code",
   "source": [
    "def below_threshold_len(max_len, nested_list):\n",
    "    count = 0\n",
    "    for sentence in nested_list:\n",
    "        if len(sentence) <= max_len:\n",
    "            count += 1\n",
    "    print('전체 샘플 주 길이가 %s 이하인 샘플의 비율: %s'%(max_len, (count / len(nested_list)) * 100))"
   ],
   "id": "4f9779ff54436faf",
   "outputs": [],
   "execution_count": 270
  },
  {
   "metadata": {
    "ExecuteTime": {
     "end_time": "2025-04-08T05:09:10.682550Z",
     "start_time": "2025-04-08T05:09:10.674145Z"
    }
   },
   "cell_type": "code",
   "source": [
    "max_len = 30\n",
    "below_threshold_len(max_len, encoded_X_train)"
   ],
   "id": "bd15ea2ccc28dacb",
   "outputs": [
    {
     "name": "stdout",
     "output_type": "stream",
     "text": [
      "전체 샘플 주 길이가 30 이하인 샘플의 비율: 92.49703389101914\n"
     ]
    }
   ],
   "execution_count": 271
  },
  {
   "metadata": {
    "ExecuteTime": {
     "end_time": "2025-04-08T05:09:10.851026Z",
     "start_time": "2025-04-08T05:09:10.848883Z"
    }
   },
   "cell_type": "code",
   "source": [
    "def pad_sequences(sentences, max_len):\n",
    "    features = np.zeros((len(sentences), max_len), dtype = int)\n",
    "    for index, sentence in enumerate(sentences):\n",
    "        if len(sentence) != 0:\n",
    "            features[index, :len(sentence)] = np.array(sentence)[:max_len]\n",
    "    return features"
   ],
   "id": "23fe8c8a76ca97",
   "outputs": [],
   "execution_count": 272
  },
  {
   "metadata": {
    "ExecuteTime": {
     "end_time": "2025-04-08T05:09:11.161888Z",
     "start_time": "2025-04-08T05:09:11.013610Z"
    }
   },
   "cell_type": "code",
   "source": [
    "padded_X_train = pad_sequences(encoded_X_train, max_len)\n",
    "padded_X_valid = pad_sequences(encoded_X_valid, max_len)\n",
    "padded_X_test = pad_sequences(encoded_X_test, max_len)\n",
    "\n",
    "print('훈련 데이터의 크기 :', padded_X_train.shape)\n",
    "print('검증 데이터의 크기 :', padded_X_valid.shape)\n",
    "print('테스트 데이터의 크기 :', padded_X_test.shape)"
   ],
   "id": "caae2a3b7245b878",
   "outputs": [
    {
     "name": "stdout",
     "output_type": "stream",
     "text": [
      "훈련 데이터의 크기 : (116314, 30)\n",
      "검증 데이터의 크기 : (29079, 30)\n",
      "테스트 데이터의 크기 : (48852, 30)\n"
     ]
    }
   ],
   "execution_count": 273
  },
  {
   "metadata": {
    "ExecuteTime": {
     "end_time": "2025-04-08T05:09:11.327688Z",
     "start_time": "2025-04-08T05:09:11.325843Z"
    }
   },
   "cell_type": "code",
   "source": [
    "print('첫번째 샘플의 길이 : ', len(padded_X_train[0]))\n",
    "print('첫번째 샘플 : ', padded_X_train[0])"
   ],
   "id": "bb4b6d29bc1ced2a",
   "outputs": [
    {
     "name": "stdout",
     "output_type": "stream",
     "text": [
      "첫번째 샘플의 길이 :  30\n",
      "첫번째 샘플 :  [ 924 1866  128    7   80   48   34    0    0    0    0    0    0    0\n",
      "    0    0    0    0    0    0    0    0    0    0    0    0    0    0\n",
      "    0    0]\n"
     ]
    }
   ],
   "execution_count": 274
  },
  {
   "metadata": {
    "ExecuteTime": {
     "end_time": "2025-04-08T05:09:11.487598Z",
     "start_time": "2025-04-08T05:09:11.485542Z"
    }
   },
   "cell_type": "code",
   "source": [
    "import torch\n",
    "import torch.nn as nn\n",
    "import torch.nn.functional as F\n",
    "\n",
    "USE_MPS = torch.backends.mps.is_available()\n",
    "device = torch.device('mps' if USE_MPS else 'cpu')\n",
    "print('cpu와 mps중 다음 기기로 학습함: ', device)"
   ],
   "id": "80406181a03e2d80",
   "outputs": [
    {
     "name": "stdout",
     "output_type": "stream",
     "text": [
      "cpu와 mps중 다음 기기로 학습함:  mps\n"
     ]
    }
   ],
   "execution_count": 275
  },
  {
   "metadata": {
    "ExecuteTime": {
     "end_time": "2025-04-08T05:09:11.650642Z",
     "start_time": "2025-04-08T05:09:11.648176Z"
    }
   },
   "cell_type": "code",
   "source": [
    "train_label_tensor = torch.tensor(np.array(y_train))\n",
    "valid_label_tensor = torch.tensor(np.array(y_valid))\n",
    "test_label_tensor = torch.tensor(np.array(y_test))\n",
    "print(train_label_tensor[:5])"
   ],
   "id": "b421d067c298dedf",
   "outputs": [
    {
     "name": "stdout",
     "output_type": "stream",
     "text": [
      "tensor([0, 1, 1, 1, 1])\n"
     ]
    }
   ],
   "execution_count": 276
  },
  {
   "metadata": {
    "ExecuteTime": {
     "end_time": "2025-04-08T05:09:11.811328Z",
     "start_time": "2025-04-08T05:09:11.808691Z"
    }
   },
   "cell_type": "code",
   "source": [
    "class TextClassifier(nn.Module):\n",
    "    def __init__(self, vocab_size, embedding_dim, hidden_dim, output_dim):\n",
    "        super(TextClassifier, self).__init__()\n",
    "        self.embedding = nn.Embedding(vocab_size, embedding_dim)\n",
    "        self.lstm = nn.LSTM(embedding_dim, hidden_dim, batch_first=True)\n",
    "        self.fc = nn.Linear(hidden_dim, output_dim)\n",
    "\n",
    "    def forward(self, x):\n",
    "        # x: (batch_size, seq_length)\n",
    "        embedded = self.embedding(x)  # (batch_size, seq_length, embedding_dim)\n",
    "\n",
    "        # LSTM은 (hidden state, cell state)의 튜플을 반환합니다\n",
    "        lstm_out, (hidden, cell) = self.lstm(embedded)  # lstm_out: (batch_size, seq_length, hidden_dim), hidden: (1, batch_size, hidden_dim)\n",
    "\n",
    "        last_hidden = hidden.squeeze(0)  # (batch_size, hidden_dim)\n",
    "        logits = self.fc(last_hidden)  # (batch_size, output_dim)\n",
    "        return logits"
   ],
   "id": "4333cd1f7f18fdd7",
   "outputs": [],
   "execution_count": 277
  },
  {
   "metadata": {
    "ExecuteTime": {
     "end_time": "2025-04-08T05:09:11.979728Z",
     "start_time": "2025-04-08T05:09:11.971558Z"
    }
   },
   "cell_type": "code",
   "source": [
    "\n",
    "encoded_train = torch.tensor(padded_X_train).to(torch.int64)\n",
    "train_dataset = torch.utils.data.TensorDataset(encoded_train, train_label_tensor)\n",
    "train_dataloader = torch.utils.data.DataLoader(train_dataset, shuffle=True, batch_size=32)\n",
    "\n",
    "encoded_test = torch.tensor(padded_X_test).to(torch.int64)\n",
    "test_dataset = torch.utils.data.TensorDataset(encoded_test, test_label_tensor)\n",
    "test_dataloader = torch.utils.data.DataLoader(test_dataset, shuffle=True, batch_size=1)\n",
    "\n",
    "encoded_valid = torch.tensor(padded_X_valid).to(torch.int64)\n",
    "valid_dataset = torch.utils.data.TensorDataset(encoded_valid, valid_label_tensor)\n",
    "valid_dataloader = torch.utils.data.DataLoader(valid_dataset, shuffle=True, batch_size=1)"
   ],
   "id": "58ad4cae2fe8ab70",
   "outputs": [],
   "execution_count": 278
  },
  {
   "metadata": {
    "ExecuteTime": {
     "end_time": "2025-04-08T05:09:12.304986Z",
     "start_time": "2025-04-08T05:09:12.303203Z"
    }
   },
   "cell_type": "code",
   "source": [
    "total_batch = len(train_dataloader)\n",
    "print(\"총 배치의 수 : {}\".format(total_batch))"
   ],
   "id": "8d9ccebe247ecf55",
   "outputs": [
    {
     "name": "stdout",
     "output_type": "stream",
     "text": [
      "총 배치의 수 : 3635\n"
     ]
    }
   ],
   "execution_count": 279
  },
  {
   "metadata": {
    "ExecuteTime": {
     "end_time": "2025-04-08T05:09:12.331154Z",
     "start_time": "2025-04-08T05:09:12.309779Z"
    }
   },
   "cell_type": "code",
   "source": [
    "embedding_dim = 100\n",
    "hidden_dim = 128\n",
    "output_dim = 2\n",
    "learning_rate = 0.01\n",
    "num_epochs = 10\n",
    "\n",
    "model = TextClassifier(vocab_size, embedding_dim, hidden_dim, output_dim)\n",
    "model.to(device)"
   ],
   "id": "abfa10c21801c29a",
   "outputs": [
    {
     "data": {
      "text/plain": [
       "TextClassifier(\n",
       "  (embedding): Embedding(19194, 100)\n",
       "  (lstm): LSTM(100, 128, batch_first=True)\n",
       "  (fc): Linear(in_features=128, out_features=2, bias=True)\n",
       ")"
      ]
     },
     "execution_count": 280,
     "metadata": {},
     "output_type": "execute_result"
    }
   ],
   "execution_count": 280
  },
  {
   "metadata": {
    "ExecuteTime": {
     "end_time": "2025-04-08T05:09:12.499398Z",
     "start_time": "2025-04-08T05:09:12.497316Z"
    }
   },
   "cell_type": "code",
   "source": [
    "criterion = nn.CrossEntropyLoss()\n",
    "optimizer = torch.optim.Adam(model.parameters(), lr = 0.001)"
   ],
   "id": "77eaf7b678b81637",
   "outputs": [],
   "execution_count": 281
  },
  {
   "metadata": {
    "ExecuteTime": {
     "end_time": "2025-04-08T05:09:12.663645Z",
     "start_time": "2025-04-08T05:09:12.661561Z"
    }
   },
   "cell_type": "code",
   "source": [
    "def calculate_accuracy(logits, labels):\n",
    "    predicted = torch.argmax(logits, dim=1)\n",
    "    correct = (predicted == labels).sum().item()\n",
    "    total = labels.size(0)\n",
    "    accuracy = correct / total\n",
    "    return accuracy"
   ],
   "id": "ed4a1569cda696aa",
   "outputs": [],
   "execution_count": 282
  },
  {
   "metadata": {
    "ExecuteTime": {
     "end_time": "2025-04-08T05:09:12.823344Z",
     "start_time": "2025-04-08T05:09:12.820656Z"
    }
   },
   "cell_type": "code",
   "source": [
    "def evaluate(model, valid_dataloader, criterion, device):\n",
    "    val_loss = 0\n",
    "    val_correct = 0\n",
    "    val_total = 0\n",
    "\n",
    "    model.eval()\n",
    "    with torch.no_grad():\n",
    "        # 데이터로더로부터 배치 크기만큼의 데이터를 연속으로 로드\n",
    "        for batch_X, batch_y in valid_dataloader:\n",
    "            batch_X, batch_y = batch_X.to(device), batch_y.to(device)\n",
    "\n",
    "            # 모델의 예측값\n",
    "            logits = model(batch_X)\n",
    "\n",
    "            # 손실을 계산\n",
    "            loss = criterion(logits, batch_y)\n",
    "\n",
    "            # 정확도와 손실을 계산함\n",
    "            val_loss += loss.item()\n",
    "            val_correct += calculate_accuracy(logits, batch_y) * batch_y.size(0)\n",
    "            val_total += batch_y.size(0)\n",
    "\n",
    "    val_accuracy = val_correct / val_total\n",
    "    val_loss /= len(valid_dataloader)\n",
    "\n",
    "    return val_loss, val_accuracy"
   ],
   "id": "20a091248b92d61f",
   "outputs": [],
   "execution_count": 283
  },
  {
   "metadata": {
    "ExecuteTime": {
     "end_time": "2025-04-08T05:18:54.627928Z",
     "start_time": "2025-04-08T05:09:12.985685Z"
    }
   },
   "cell_type": "code",
   "source": [
    "# Training loop\n",
    "best_val_loss = float('inf')\n",
    "\n",
    "# Training loop\n",
    "for epoch in range(num_epochs):\n",
    "    # Training\n",
    "    train_loss = 0\n",
    "    train_correct = 0\n",
    "    train_total = 0\n",
    "    model.train()\n",
    "    for batch_X, batch_y in train_dataloader:\n",
    "\n",
    "        # batch_X.shape == (batch_size, max_len)\n",
    "        batch_X, batch_y = batch_X.to(device), batch_y.to(device)\n",
    "\n",
    "        logits = model(batch_X)\n",
    "\n",
    "        # Compute loss\n",
    "        loss = criterion(logits, batch_y)\n",
    "\n",
    "        # Backward pass and optimization\n",
    "        optimizer.zero_grad()\n",
    "        loss.backward()\n",
    "        optimizer.step()\n",
    "\n",
    "        # Calculate training accuracy and loss\n",
    "        train_loss += loss.item()\n",
    "        train_correct += calculate_accuracy(logits, batch_y) * batch_y.size(0)\n",
    "        train_total += batch_y.size(0)\n",
    "\n",
    "    train_accuracy = train_correct / train_total\n",
    "    train_loss /= len(train_dataloader)\n",
    "\n",
    "    # Validation\n",
    "    val_loss, val_accuracy = evaluate(model, valid_dataloader, criterion, device)\n",
    "\n",
    "    print(f'Epoch {epoch+1}/{num_epochs}:')\n",
    "    print(f'Train Loss: {train_loss:.4f}, Train Accuracy: {train_accuracy:.4f}')\n",
    "    print(f'Validation Loss: {val_loss:.4f}, Validation Accuracy: {val_accuracy:.4f}')\n",
    "\n",
    "    # 검증 손실이 최소일 때 체크포인트 저장\n",
    "    if val_loss < best_val_loss:\n",
    "        print(f'Validation loss improved from {best_val_loss:.4f} to {val_loss:.4f}. 체크포인트를 저장합니다.')\n",
    "        best_val_loss = val_loss\n",
    "        torch.save(model.state_dict(), 'best_model_checkpoint.pth')"
   ],
   "id": "fe611f0722184c55",
   "outputs": [
    {
     "name": "stdout",
     "output_type": "stream",
     "text": [
      "Epoch 1/10:\n",
      "Train Loss: 0.4742, Train Accuracy: 0.7458\n",
      "Validation Loss: 0.3629, Validation Accuracy: 0.8387\n",
      "Validation loss improved from inf to 0.3629. 체크포인트를 저장합니다.\n",
      "Epoch 2/10:\n",
      "Train Loss: 0.3185, Train Accuracy: 0.8615\n",
      "Validation Loss: 0.3451, Validation Accuracy: 0.8501\n",
      "Validation loss improved from 0.3629 to 0.3451. 체크포인트를 저장합니다.\n",
      "Epoch 3/10:\n",
      "Train Loss: 0.2572, Train Accuracy: 0.8930\n",
      "Validation Loss: 0.3449, Validation Accuracy: 0.8530\n",
      "Validation loss improved from 0.3451 to 0.3449. 체크포인트를 저장합니다.\n",
      "Epoch 4/10:\n",
      "Train Loss: 0.2006, Train Accuracy: 0.9196\n",
      "Validation Loss: 0.3705, Validation Accuracy: 0.8508\n",
      "Epoch 5/10:\n",
      "Train Loss: 0.1500, Train Accuracy: 0.9431\n",
      "Validation Loss: 0.4228, Validation Accuracy: 0.8486\n",
      "Epoch 6/10:\n",
      "Train Loss: 0.1112, Train Accuracy: 0.9598\n",
      "Validation Loss: 0.4799, Validation Accuracy: 0.8411\n",
      "Epoch 7/10:\n",
      "Train Loss: 0.0846, Train Accuracy: 0.9705\n",
      "Validation Loss: 0.5467, Validation Accuracy: 0.8427\n",
      "Epoch 8/10:\n",
      "Train Loss: 0.0677, Train Accuracy: 0.9773\n",
      "Validation Loss: 0.6264, Validation Accuracy: 0.8406\n",
      "Epoch 9/10:\n",
      "Train Loss: 0.0563, Train Accuracy: 0.9813\n",
      "Validation Loss: 0.6430, Validation Accuracy: 0.8368\n",
      "Epoch 10/10:\n",
      "Train Loss: 0.0479, Train Accuracy: 0.9838\n",
      "Validation Loss: 0.6773, Validation Accuracy: 0.8379\n"
     ]
    }
   ],
   "execution_count": 284
  },
  {
   "metadata": {
    "ExecuteTime": {
     "end_time": "2025-04-08T05:19:42.973323Z",
     "start_time": "2025-04-08T05:19:03.867769Z"
    }
   },
   "cell_type": "code",
   "source": [
    "model.load_state_dict(torch.load('best_model_checkpoint.pth'))\n",
    "\n",
    "model.to(device)\n",
    "\n",
    "val_loss, val_accuracy = evaluate(model, valid_dataloader, criterion, device)\n",
    "\n",
    "print(f'Best model validation loss: {val_loss: .4f}')\n",
    "print(f'Best model validation accuracy: {val_accuracy:.4f}')"
   ],
   "id": "d3da27208dfc5cb2",
   "outputs": [
    {
     "name": "stderr",
     "output_type": "stream",
     "text": [
      "/var/folders/py/xgf_87rd5nz9rsbc143wp9qc0000gn/T/ipykernel_6315/538150772.py:1: FutureWarning: You are using `torch.load` with `weights_only=False` (the current default value), which uses the default pickle module implicitly. It is possible to construct malicious pickle data which will execute arbitrary code during unpickling (See https://github.com/pytorch/pytorch/blob/main/SECURITY.md#untrusted-models for more details). In a future release, the default value for `weights_only` will be flipped to `True`. This limits the functions that could be executed during unpickling. Arbitrary objects will no longer be allowed to be loaded via this mode unless they are explicitly allowlisted by the user via `torch.serialization.add_safe_globals`. We recommend you start setting `weights_only=True` for any use case where you don't have full control of the loaded file. Please open an issue on GitHub for any issues related to this experimental feature.\n",
      "  model.load_state_dict(torch.load('best_model_checkpoint.pth'))\n"
     ]
    },
    {
     "name": "stdout",
     "output_type": "stream",
     "text": [
      "Best model validation loss:  0.3449\n",
      "Best model validation accuracy: 0.8530\n"
     ]
    }
   ],
   "execution_count": 285
  },
  {
   "metadata": {
    "ExecuteTime": {
     "end_time": "2025-04-08T05:20:52.772767Z",
     "start_time": "2025-04-08T05:19:47.100887Z"
    }
   },
   "cell_type": "code",
   "source": [
    "tests_loss, test_accracy = evaluate(model, test_dataloader, criterion, device)\n",
    "\n",
    "print(f'Best model test loss: {tests_loss: .4f}')\n",
    "print(f'Best model test accuracy: {test_accracy:.4f}')"
   ],
   "id": "fd63c3c3c0ff6bd2",
   "outputs": [
    {
     "name": "stdout",
     "output_type": "stream",
     "text": [
      "Best model test loss:  0.3476\n",
      "Best model test accuracy: 0.8522\n"
     ]
    }
   ],
   "execution_count": 286
  },
  {
   "metadata": {
    "ExecuteTime": {
     "end_time": "2025-04-08T05:20:56.318591Z",
     "start_time": "2025-04-08T05:20:56.316264Z"
    }
   },
   "cell_type": "code",
   "source": "index_to_tag = {0 : '부정', 1: '긍정'}",
   "id": "5fd2e834146fee3d",
   "outputs": [],
   "execution_count": 287
  },
  {
   "metadata": {
    "ExecuteTime": {
     "end_time": "2025-04-08T05:20:57.784028Z",
     "start_time": "2025-04-08T05:20:57.779947Z"
    }
   },
   "cell_type": "code",
   "source": [
    "def predict(text, model, word_to_index, index_to_tag):\n",
    "    model.eval()\n",
    "\n",
    "    tokens = mecab.morphs(text)\n",
    "    tokens = [word for word in tokens if not word in stopwords]\n",
    "    token_indices = [word_to_index.get(token, 1) for token in tokens]\n",
    "\n",
    "    input_tensor = torch.tensor([token_indices], dtype = torch.long).to(device)\n",
    "\n",
    "    with torch.no_grad():\n",
    "        logits = model(input_tensor)\n",
    "\n",
    "    predicted_index = torch.argmax(logits, dim=1)\n",
    "\n",
    "    predicted_tag = index_to_tag[predicted_index.item()]\n",
    "    return predicted_tag"
   ],
   "id": "c2835b1dbd944e8c",
   "outputs": [],
   "execution_count": 288
  },
  {
   "metadata": {
    "ExecuteTime": {
     "end_time": "2025-04-08T05:21:29.159309Z",
     "start_time": "2025-04-08T05:21:29.036845Z"
    }
   },
   "cell_type": "code",
   "source": [
    "test_input = '이 영화 개꿀잼 ㅋㅋㅋ'\n",
    "predict(test_input, model, word_to_index, index_to_tag)"
   ],
   "id": "9a80c16df0dd6483",
   "outputs": [
    {
     "data": {
      "text/plain": [
       "'긍정'"
      ]
     },
     "execution_count": 291,
     "metadata": {},
     "output_type": "execute_result"
    }
   ],
   "execution_count": 291
  },
  {
   "metadata": {
    "ExecuteTime": {
     "end_time": "2025-04-08T05:21:06.135638Z",
     "start_time": "2025-04-08T05:21:06.133679Z"
    }
   },
   "cell_type": "code",
   "source": "",
   "id": "3089d9e9e36ebf56",
   "outputs": [
    {
     "name": "stdout",
     "output_type": "stream",
     "text": [
      "이 영화 개꿀잼 ㅋㅋㅋ\n"
     ]
    }
   ],
   "execution_count": 290
  },
  {
   "metadata": {},
   "cell_type": "code",
   "outputs": [],
   "execution_count": null,
   "source": "",
   "id": "81db49dc187e8aaf"
  }
 ],
 "metadata": {
  "kernelspec": {
   "display_name": "Python 3",
   "language": "python",
   "name": "python3"
  },
  "language_info": {
   "codemirror_mode": {
    "name": "ipython",
    "version": 2
   },
   "file_extension": ".py",
   "mimetype": "text/x-python",
   "name": "python",
   "nbconvert_exporter": "python",
   "pygments_lexer": "ipython2",
   "version": "2.7.6"
  }
 },
 "nbformat": 4,
 "nbformat_minor": 5
}
