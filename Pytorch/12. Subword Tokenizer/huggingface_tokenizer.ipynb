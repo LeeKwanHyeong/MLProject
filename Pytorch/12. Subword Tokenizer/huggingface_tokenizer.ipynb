{
 "cells": [
  {
   "cell_type": "code",
   "id": "initial_id",
   "metadata": {
    "collapsed": true,
    "ExecuteTime": {
     "end_time": "2025-04-10T08:58:19.384722Z",
     "start_time": "2025-04-10T08:58:19.133883Z"
    }
   },
   "source": [
    "import pandas as pd\n",
    "import urllib.request\n",
    "from tokenizers import BertWordPieceTokenizer\n",
    "from tokenizers.implementations import SentencePieceBPETokenizer"
   ],
   "outputs": [],
   "execution_count": 1
  },
  {
   "metadata": {
    "ExecuteTime": {
     "end_time": "2025-04-10T08:59:09.927242Z",
     "start_time": "2025-04-10T08:59:09.273869Z"
    }
   },
   "cell_type": "code",
   "source": "urllib.request.urlretrieve(\"https://raw.githubusercontent.com/e9t/nsmc/master/ratings.txt\", filename=\"ratings.txt\")",
   "id": "7e9953a4fa0b0dfd",
   "outputs": [
    {
     "data": {
      "text/plain": [
       "('ratings.txt', <http.client.HTTPMessage at 0x12255c280>)"
      ]
     },
     "execution_count": 2,
     "metadata": {},
     "output_type": "execute_result"
    }
   ],
   "execution_count": 2
  },
  {
   "metadata": {
    "ExecuteTime": {
     "end_time": "2025-04-10T09:01:01.245213Z",
     "start_time": "2025-04-10T09:01:00.952384Z"
    }
   },
   "cell_type": "code",
   "source": [
    "naver_df = pd.read_table('ratings.txt')\n",
    "naver_df = naver_df.dropna(how = 'any')\n",
    "with open('naver_review.txt', 'w', encoding = 'utf-8') as f:\n",
    "    f.write('\\n'.join(naver_df['document']))"
   ],
   "id": "d0d4c092298465ea",
   "outputs": [],
   "execution_count": 3
  },
  {
   "metadata": {
    "ExecuteTime": {
     "end_time": "2025-04-10T09:01:45.788565Z",
     "start_time": "2025-04-10T09:01:45.784126Z"
    }
   },
   "cell_type": "code",
   "source": "tokenizer = BertWordPieceTokenizer(lowercase=False, strip_accents=False)",
   "id": "29f599a8ac7ff38c",
   "outputs": [],
   "execution_count": 5
  },
  {
   "metadata": {
    "ExecuteTime": {
     "end_time": "2025-04-10T09:15:02.790371Z",
     "start_time": "2025-04-10T09:15:00.001036Z"
    }
   },
   "cell_type": "code",
   "source": [
    "data_file = 'naver_review.txt'\n",
    "vocab_size = 30000\n",
    "limit_alphabet = 6000\n",
    "min_frequency = 5\n",
    "\n",
    "tokenizer.train(files = data_file, vocab_size = vocab_size, limit_alphabet = limit_alphabet, min_frequency = min_frequency)"
   ],
   "id": "efd01badc18e0f3c",
   "outputs": [
    {
     "name": "stdout",
     "output_type": "stream",
     "text": [
      "\n",
      "\n",
      "\n"
     ]
    }
   ],
   "execution_count": 6
  },
  {
   "metadata": {
    "ExecuteTime": {
     "end_time": "2025-04-10T09:15:09.732698Z",
     "start_time": "2025-04-10T09:15:09.721342Z"
    }
   },
   "cell_type": "code",
   "source": "tokenizer.save_model('./')",
   "id": "b2192bbc13be6d1d",
   "outputs": [
    {
     "data": {
      "text/plain": [
       "['./vocab.txt']"
      ]
     },
     "execution_count": 7,
     "metadata": {},
     "output_type": "execute_result"
    }
   ],
   "execution_count": 7
  },
  {
   "metadata": {
    "ExecuteTime": {
     "end_time": "2025-04-10T09:15:21.724321Z",
     "start_time": "2025-04-10T09:15:21.680734Z"
    }
   },
   "cell_type": "code",
   "source": [
    "df = pd.read_fwf('vocab.txt', header = None)\n",
    "df"
   ],
   "id": "e86f272bd0f5dfa1",
   "outputs": [
    {
     "data": {
      "text/plain": [
       "            0\n",
       "0       [PAD]\n",
       "1       [UNK]\n",
       "2       [CLS]\n",
       "3       [SEP]\n",
       "4      [MASK]\n",
       "...       ...\n",
       "29995      말과\n",
       "29996      말세\n",
       "29997     말들이\n",
       "29998     말라는\n",
       "29999    말밖에는\n",
       "\n",
       "[30000 rows x 1 columns]"
      ],
      "text/html": [
       "<div>\n",
       "<style scoped>\n",
       "    .dataframe tbody tr th:only-of-type {\n",
       "        vertical-align: middle;\n",
       "    }\n",
       "\n",
       "    .dataframe tbody tr th {\n",
       "        vertical-align: top;\n",
       "    }\n",
       "\n",
       "    .dataframe thead th {\n",
       "        text-align: right;\n",
       "    }\n",
       "</style>\n",
       "<table border=\"1\" class=\"dataframe\">\n",
       "  <thead>\n",
       "    <tr style=\"text-align: right;\">\n",
       "      <th></th>\n",
       "      <th>0</th>\n",
       "    </tr>\n",
       "  </thead>\n",
       "  <tbody>\n",
       "    <tr>\n",
       "      <th>0</th>\n",
       "      <td>[PAD]</td>\n",
       "    </tr>\n",
       "    <tr>\n",
       "      <th>1</th>\n",
       "      <td>[UNK]</td>\n",
       "    </tr>\n",
       "    <tr>\n",
       "      <th>2</th>\n",
       "      <td>[CLS]</td>\n",
       "    </tr>\n",
       "    <tr>\n",
       "      <th>3</th>\n",
       "      <td>[SEP]</td>\n",
       "    </tr>\n",
       "    <tr>\n",
       "      <th>4</th>\n",
       "      <td>[MASK]</td>\n",
       "    </tr>\n",
       "    <tr>\n",
       "      <th>...</th>\n",
       "      <td>...</td>\n",
       "    </tr>\n",
       "    <tr>\n",
       "      <th>29995</th>\n",
       "      <td>말과</td>\n",
       "    </tr>\n",
       "    <tr>\n",
       "      <th>29996</th>\n",
       "      <td>말세</td>\n",
       "    </tr>\n",
       "    <tr>\n",
       "      <th>29997</th>\n",
       "      <td>말들이</td>\n",
       "    </tr>\n",
       "    <tr>\n",
       "      <th>29998</th>\n",
       "      <td>말라는</td>\n",
       "    </tr>\n",
       "    <tr>\n",
       "      <th>29999</th>\n",
       "      <td>말밖에는</td>\n",
       "    </tr>\n",
       "  </tbody>\n",
       "</table>\n",
       "<p>30000 rows × 1 columns</p>\n",
       "</div>"
      ]
     },
     "execution_count": 8,
     "metadata": {},
     "output_type": "execute_result"
    }
   ],
   "execution_count": 8
  },
  {
   "metadata": {
    "ExecuteTime": {
     "end_time": "2025-04-10T09:17:34.644399Z",
     "start_time": "2025-04-10T09:17:34.641251Z"
    }
   },
   "cell_type": "code",
   "source": [
    "encoded = tokenizer.encode('아 배고픈데 짜장면 먹고싶다')\n",
    "print('토큰화 결과 :', encoded.tokens)\n",
    "print('정수 인코딩 :', encoded.ids)\n",
    "print('디코딩 :', tokenizer.decode(encoded.ids))"
   ],
   "id": "3f4d1844ce98debc",
   "outputs": [
    {
     "name": "stdout",
     "output_type": "stream",
     "text": [
      "토큰화 결과 : ['아', '배고', '##픈', '##데', '짜장면', '먹고', '##싶다']\n",
      "정수 인코딩 : [2111, 20629, 3522, 3251, 24680, 8688, 7378]\n",
      "디코딩 : 아 배고픈데 짜장면 먹고싶다\n"
     ]
    }
   ],
   "execution_count": 9
  },
  {
   "metadata": {
    "ExecuteTime": {
     "end_time": "2025-04-10T09:18:44.132513Z",
     "start_time": "2025-04-10T09:18:44.128559Z"
    }
   },
   "cell_type": "code",
   "source": [
    "encoded = tokenizer.encode('커피 한잔의 여유를 즐기다.')\n",
    "print('토큰화 결과 :', encoded.tokens)\n",
    "print('정수 인코딩 :', encoded.ids)\n",
    "print('디코딩 :', tokenizer.decode(encoded.ids))"
   ],
   "id": "a6c642dc1761d874",
   "outputs": [
    {
     "name": "stdout",
     "output_type": "stream",
     "text": [
      "토큰화 결과 : ['커피', '한잔', '##의', '여유', '##를', '즐기', '##다', '.']\n",
      "정수 인코딩 : [12825, 25645, 3237, 12696, 3468, 10784, 3253, 18]\n",
      "디코딩 : 커피 한잔의 여유를 즐기다.\n"
     ]
    }
   ],
   "execution_count": 10
  },
  {
   "metadata": {
    "ExecuteTime": {
     "end_time": "2025-04-10T09:22:14.282687Z",
     "start_time": "2025-04-10T09:22:11.655948Z"
    }
   },
   "cell_type": "code",
   "source": [
    "from tokenizers import ByteLevelBPETokenizer, CharBPETokenizer,SentencePieceBPETokenizer\n",
    "\n",
    "tokenizer = SentencePieceBPETokenizer()\n",
    "tokenizer.train('naver_review.txt', vocab_size = 10000, min_frequency = 5)\n",
    "encoded = tokenizer.encode(\"이 영화는 정말 재미있습니다.\")\n",
    "print(encoded.tokens)"
   ],
   "id": "f027de79d292e974",
   "outputs": [
    {
     "name": "stdout",
     "output_type": "stream",
     "text": [
      "\n",
      "\n",
      "\n",
      "['▁이', '▁영화는', '▁정말', '▁재미있', '습니다.']\n"
     ]
    }
   ],
   "execution_count": 13
  },
  {
   "metadata": {},
   "cell_type": "code",
   "outputs": [],
   "execution_count": null,
   "source": "",
   "id": "5bdf3a3f889afbef"
  }
 ],
 "metadata": {
  "kernelspec": {
   "display_name": "Python 3",
   "language": "python",
   "name": "python3"
  },
  "language_info": {
   "codemirror_mode": {
    "name": "ipython",
    "version": 2
   },
   "file_extension": ".py",
   "mimetype": "text/x-python",
   "name": "python",
   "nbconvert_exporter": "python",
   "pygments_lexer": "ipython2",
   "version": "2.7.6"
  }
 },
 "nbformat": 4,
 "nbformat_minor": 5
}
