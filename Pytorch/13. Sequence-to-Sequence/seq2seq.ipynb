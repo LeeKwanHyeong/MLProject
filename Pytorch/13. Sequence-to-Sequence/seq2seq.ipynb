{
 "nbformat": 4,
 "nbformat_minor": 0,
 "metadata": {
  "colab": {
   "provenance": [],
   "gpuType": "T4"
  },
  "kernelspec": {
   "name": "python3",
   "display_name": "Python 3 (ipykernel)",
   "language": "python"
  },
  "language_info": {
   "name": "python"
  },
  "accelerator": "GPU"
 },
 "cells": [
  {
   "cell_type": "code",
   "metadata": {
    "id": "1JwrqkTioAa-",
    "ExecuteTime": {
     "end_time": "2025-04-10T11:56:20.958165Z",
     "start_time": "2025-04-10T11:56:20.954389Z"
    }
   },
   "source": [
    "import re\n",
    "import os\n",
    "import unicodedata\n",
    "import urllib3\n",
    "import zipfile\n",
    "import shutil\n",
    "import numpy as np\n",
    "import pandas as pd\n",
    "import torch\n",
    "from collections import Counter\n",
    "from tqdm import tqdm\n",
    "from torch.utils.data import DataLoader, TensorDataset"
   ],
   "outputs": [],
   "execution_count": 30
  },
  {
   "cell_type": "code",
   "source": [
    "num_samples = 33000"
   ],
   "metadata": {
    "id": "koA-BsP5oLa6",
    "ExecuteTime": {
     "end_time": "2025-04-10T11:56:20.967896Z",
     "start_time": "2025-04-10T11:56:20.965702Z"
    }
   },
   "outputs": [],
   "execution_count": 31
  },
  {
   "cell_type": "code",
   "source": [
    "!wget -c http://www.manythings.org/anki/fra-eng.zip && unzip -o fra-eng.zip"
   ],
   "metadata": {
    "colab": {
     "base_uri": "https://localhost:8080/"
    },
    "id": "ZuLxJm8aoMYR",
    "outputId": "c2156b06-92ef-47c0-bf5c-75ea5046e46a",
    "ExecuteTime": {
     "end_time": "2025-04-10T11:56:21.633098Z",
     "start_time": "2025-04-10T11:56:20.986234Z"
    }
   },
   "outputs": [
    {
     "name": "stdout",
     "output_type": "stream",
     "text": [
      "--2025-04-10 20:56:21--  http://www.manythings.org/anki/fra-eng.zip\r\n",
      "Resolving www.manythings.org (www.manythings.org)... 173.254.30.110\r\n",
      "Connecting to www.manythings.org (www.manythings.org)|173.254.30.110|:80... connected.\r\n",
      "HTTP request sent, awaiting response... 416 Requested Range Not Satisfiable\r\n",
      "\r\n",
      "    The file is already fully retrieved; nothing to do.\r\n",
      "\r\n",
      "Archive:  fra-eng.zip\r\n",
      "  inflating: _about.txt              \r\n",
      "  inflating: fra.txt                 \r\n"
     ]
    }
   ],
   "execution_count": 32
  },
  {
   "cell_type": "code",
   "source": [
    "def unicode_to_ascii(s):\n",
    "  # 프랑스어 악센트(accent) 삭제\n",
    "  # 예시 : 'déjà diné' -> deja dine\n",
    "  return ''.join(c for c in unicodedata.normalize('NFD', s) if unicodedata.category(c) != 'Mn')"
   ],
   "metadata": {
    "id": "Q7Abk5lqoNVp",
    "ExecuteTime": {
     "end_time": "2025-04-10T11:56:21.655983Z",
     "start_time": "2025-04-10T11:56:21.653817Z"
    }
   },
   "outputs": [],
   "execution_count": 33
  },
  {
   "cell_type": "code",
   "source": [
    "def preprocess_sentence(sent):\n",
    "  # 악센트 삭제 함수 호출\n",
    "  sent = unicode_to_ascii(sent.lower())\n",
    "\n",
    "  # 단어와 구두점 사이에 공백을 만듭니다.\n",
    "  # Ex) \"he is a boy.\" => \"he is a boy .\"\n",
    "  sent = re.sub(r\"([?.!,¿])\", r\" \\1\", sent)\n",
    "\n",
    "  # (a-z, A-Z, \".\", \"?\", \"!\", \",\") 이들을 제외하고는 전부 공백으로 변환합니다.\n",
    "  sent = re.sub(r\"[^a-zA-Z!.?]+\", r\" \", sent)\n",
    "\n",
    "  # 다수 개의 공백을 하나의 공백으로 치환\n",
    "  sent = re.sub(r\"\\s+\", \" \", sent)\n",
    "  return sent"
   ],
   "metadata": {
    "id": "Pk_BGZhioPA5",
    "ExecuteTime": {
     "end_time": "2025-04-10T11:56:21.672099Z",
     "start_time": "2025-04-10T11:56:21.670117Z"
    }
   },
   "outputs": [],
   "execution_count": 34
  },
  {
   "cell_type": "code",
   "source": [
    "def load_preprocessed_data():\n",
    "  encoder_input, decoder_input, decoder_target = [], [], []\n",
    "\n",
    "  with open(\"fra.txt\", \"r\") as lines:\n",
    "    for i, line in enumerate(lines):\n",
    "      # source 데이터와 target 데이터 분리\n",
    "      src_line, tar_line, _ = line.strip().split('\\t')\n",
    "\n",
    "      # source 데이터 전처리\n",
    "      src_line = [w for w in preprocess_sentence(src_line).split()]\n",
    "\n",
    "      # target 데이터 전처리\n",
    "      tar_line = preprocess_sentence(tar_line)\n",
    "      tar_line_in = [w for w in (\"<sos> \" + tar_line).split()]\n",
    "      tar_line_out = [w for w in (tar_line + \" <eos>\").split()]\n",
    "\n",
    "      encoder_input.append(src_line)\n",
    "      decoder_input.append(tar_line_in)\n",
    "      decoder_target.append(tar_line_out)\n",
    "\n",
    "      if i == num_samples - 1:\n",
    "        break\n",
    "\n",
    "  return encoder_input, decoder_input, decoder_target"
   ],
   "metadata": {
    "id": "0vHFfP1ioP8x",
    "ExecuteTime": {
     "end_time": "2025-04-10T11:56:21.687375Z",
     "start_time": "2025-04-10T11:56:21.684596Z"
    }
   },
   "outputs": [],
   "execution_count": 35
  },
  {
   "cell_type": "code",
   "source": [
    "# 전처리 테스트\n",
    "en_sent = u\"Have you had dinner?\"\n",
    "fr_sent = u\"Avez-vous déjà diné?\"\n",
    "\n",
    "print('전처리 전 영어 문장 :', en_sent)\n",
    "print('전처리 후 영어 문장 :',preprocess_sentence(en_sent))\n",
    "print('전처리 전 프랑스어 문장 :', fr_sent)\n",
    "print('전처리 후 프랑스어 문장 :', preprocess_sentence(fr_sent))"
   ],
   "metadata": {
    "colab": {
     "base_uri": "https://localhost:8080/"
    },
    "id": "0sP_CEgfoRB5",
    "outputId": "c890f36f-2a60-4dbd-81a3-f880ac036d2a",
    "ExecuteTime": {
     "end_time": "2025-04-10T11:56:21.701935Z",
     "start_time": "2025-04-10T11:56:21.699837Z"
    }
   },
   "outputs": [
    {
     "name": "stdout",
     "output_type": "stream",
     "text": [
      "전처리 전 영어 문장 : Have you had dinner?\n",
      "전처리 후 영어 문장 : have you had dinner ?\n",
      "전처리 전 프랑스어 문장 : Avez-vous déjà diné?\n",
      "전처리 후 프랑스어 문장 : avez vous deja dine ?\n"
     ]
    }
   ],
   "execution_count": 36
  },
  {
   "cell_type": "code",
   "source": [
    "sents_en_in, sents_fra_in, sents_fra_out = load_preprocessed_data()"
   ],
   "metadata": {
    "id": "E6zJEsM3oSTB",
    "ExecuteTime": {
     "end_time": "2025-04-10T11:56:22.194208Z",
     "start_time": "2025-04-10T11:56:21.714806Z"
    }
   },
   "outputs": [],
   "execution_count": 37
  },
  {
   "cell_type": "code",
   "source": [
    "sents_en_in, sents_fra_in, sents_fra_out = load_preprocessed_data()\n",
    "print('인코더의 입력 :',sents_en_in[:5])\n",
    "print('디코더의 입력 :',sents_fra_in[:5])\n",
    "print('디코더의 레이블 :',sents_fra_out[:5])"
   ],
   "metadata": {
    "colab": {
     "base_uri": "https://localhost:8080/"
    },
    "id": "MkdTA07ToTtZ",
    "outputId": "e72b27da-9bad-4a7f-a032-28d90564a769",
    "ExecuteTime": {
     "end_time": "2025-04-10T11:56:22.595342Z",
     "start_time": "2025-04-10T11:56:22.209192Z"
    }
   },
   "outputs": [
    {
     "name": "stdout",
     "output_type": "stream",
     "text": [
      "인코더의 입력 : [['go', '.'], ['go', '.'], ['go', '.'], ['go', '.'], ['hi', '.']]\n",
      "디코더의 입력 : [['<sos>', 'va', '!'], ['<sos>', 'marche', '.'], ['<sos>', 'en', 'route', '!'], ['<sos>', 'bouge', '!'], ['<sos>', 'salut', '!']]\n",
      "디코더의 레이블 : [['va', '!', '<eos>'], ['marche', '.', '<eos>'], ['en', 'route', '!', '<eos>'], ['bouge', '!', '<eos>'], ['salut', '!', '<eos>']]\n"
     ]
    }
   ],
   "execution_count": 38
  },
  {
   "cell_type": "code",
   "source": [
    "def build_vocab(sents):\n",
    "  word_list = []\n",
    "\n",
    "  for sent in sents:\n",
    "      for word in sent:\n",
    "        word_list.append(word)\n",
    "\n",
    "  # 각 단어별 등장 빈도를 계산하여 등장 빈도가 높은 순서로 정렬\n",
    "  word_counts = Counter(word_list)\n",
    "  vocab = sorted(word_counts, key=word_counts.get, reverse=True)\n",
    "\n",
    "  word_to_index = {}\n",
    "  word_to_index['<PAD>'] = 0\n",
    "  word_to_index['<UNK>'] = 1\n",
    "\n",
    "  # 등장 빈도가 높은 단어일수록 낮은 정수를 부여\n",
    "  for index, word in enumerate(vocab) :\n",
    "    word_to_index[word] = index + 2\n",
    "\n",
    "  return word_to_index"
   ],
   "metadata": {
    "id": "ePt7ytsZoUoR",
    "ExecuteTime": {
     "end_time": "2025-04-10T11:56:22.611780Z",
     "start_time": "2025-04-10T11:56:22.609323Z"
    }
   },
   "outputs": [],
   "execution_count": 39
  },
  {
   "cell_type": "code",
   "source": [
    "src_vocab = build_vocab(sents_en_in)\n",
    "tar_vocab = build_vocab(sents_fra_in + sents_fra_out)\n",
    "\n",
    "src_vocab_size = len(src_vocab)\n",
    "tar_vocab_size = len(tar_vocab)\n",
    "print(\"영어 단어 집합의 크기 : {:d}, 프랑스어 단어 집합의 크기 : {:d}\".format(src_vocab_size, tar_vocab_size))"
   ],
   "metadata": {
    "colab": {
     "base_uri": "https://localhost:8080/"
    },
    "id": "U_YX35UWokop",
    "outputId": "318b9809-38c5-4d6b-db70-e2f8677fe145",
    "ExecuteTime": {
     "end_time": "2025-04-10T11:56:22.680156Z",
     "start_time": "2025-04-10T11:56:22.624963Z"
    }
   },
   "outputs": [
    {
     "name": "stdout",
     "output_type": "stream",
     "text": [
      "영어 단어 집합의 크기 : 4486, 프랑스어 단어 집합의 크기 : 7879\n"
     ]
    }
   ],
   "execution_count": 40
  },
  {
   "cell_type": "code",
   "source": [
    "index_to_src = {v: k for k, v in src_vocab.items()}\n",
    "index_to_tar = {v: k for k, v in tar_vocab.items()}\n",
    "\n",
    "def texts_to_sequences(sents, word_to_index):\n",
    "  encoded_X_data = []\n",
    "  for sent in tqdm(sents):\n",
    "    index_sequences = []\n",
    "    for word in sent:\n",
    "      try:\n",
    "          index_sequences.append(word_to_index[word])\n",
    "      except KeyError:\n",
    "          index_sequences.append(word_to_index['<UNK>'])\n",
    "    encoded_X_data.append(index_sequences)\n",
    "  return encoded_X_data"
   ],
   "metadata": {
    "id": "YQX3b7m3olqJ",
    "ExecuteTime": {
     "end_time": "2025-04-10T11:56:22.697940Z",
     "start_time": "2025-04-10T11:56:22.694693Z"
    }
   },
   "outputs": [],
   "execution_count": 41
  },
  {
   "cell_type": "code",
   "source": [
    "encoder_input = texts_to_sequences(sents_en_in, src_vocab)\n",
    "decoder_input = texts_to_sequences(sents_fra_in, tar_vocab)\n",
    "decoder_target = texts_to_sequences(sents_fra_out, tar_vocab)"
   ],
   "metadata": {
    "colab": {
     "base_uri": "https://localhost:8080/"
    },
    "id": "dmMrh1fsomoA",
    "outputId": "f1926a12-b193-4fea-a2d8-95129516485c",
    "ExecuteTime": {
     "end_time": "2025-04-10T11:56:22.846090Z",
     "start_time": "2025-04-10T11:56:22.711017Z"
    }
   },
   "outputs": [
    {
     "name": "stderr",
     "output_type": "stream",
     "text": [
      "100%|██████████| 33000/33000 [00:00<00:00, 2196632.84it/s]\n",
      "100%|██████████| 33000/33000 [00:00<00:00, 335093.47it/s]\n",
      "100%|██████████| 33000/33000 [00:00<00:00, 1939929.53it/s]\n"
     ]
    }
   ],
   "execution_count": 42
  },
  {
   "cell_type": "code",
   "source": [
    "# 상위 5개의 샘플에 대해서 정수 인코딩 전, 후 문장 출력\n",
    "# 인코더 입력이므로 <sos>나 <eos>가 없음\n",
    "for i, (item1, item2) in zip(range(5), zip(sents_en_in, encoder_input)):\n",
    "    print(f\"Index: {i}, 정수 인코딩 전: {item1}, 정수 인코딩 후: {item2}\")"
   ],
   "metadata": {
    "colab": {
     "base_uri": "https://localhost:8080/"
    },
    "id": "1yKs-nOVonjZ",
    "outputId": "59018784-f5cc-44a6-970c-93b78b90d351",
    "ExecuteTime": {
     "end_time": "2025-04-10T11:56:22.863756Z",
     "start_time": "2025-04-10T11:56:22.861750Z"
    }
   },
   "outputs": [
    {
     "name": "stdout",
     "output_type": "stream",
     "text": [
      "Index: 0, 정수 인코딩 전: ['go', '.'], 정수 인코딩 후: [27, 2]\n",
      "Index: 1, 정수 인코딩 전: ['go', '.'], 정수 인코딩 후: [27, 2]\n",
      "Index: 2, 정수 인코딩 전: ['go', '.'], 정수 인코딩 후: [27, 2]\n",
      "Index: 3, 정수 인코딩 전: ['go', '.'], 정수 인코딩 후: [27, 2]\n",
      "Index: 4, 정수 인코딩 전: ['hi', '.'], 정수 인코딩 후: [736, 2]\n"
     ]
    }
   ],
   "execution_count": 43
  },
  {
   "cell_type": "code",
   "source": [
    "def pad_sequences(sentences, max_len=None):\n",
    "    # 최대 길이 값이 주어지지 않을 경우 데이터 내 최대 길이로 패딩\n",
    "    if max_len is None:\n",
    "        max_len = max([len(sentence) for sentence in sentences])\n",
    "\n",
    "    features = np.zeros((len(sentences), max_len), dtype=int)\n",
    "    for index, sentence in enumerate(sentences):\n",
    "        if len(sentence) != 0:\n",
    "            features[index, :len(sentence)] = np.array(sentence)[:max_len]\n",
    "    return features"
   ],
   "metadata": {
    "id": "gROTzA-TooYB",
    "ExecuteTime": {
     "end_time": "2025-04-10T11:56:22.880204Z",
     "start_time": "2025-04-10T11:56:22.877872Z"
    }
   },
   "outputs": [],
   "execution_count": 44
  },
  {
   "cell_type": "code",
   "source": [
    "encoder_input = pad_sequences(encoder_input)\n",
    "decoder_input = pad_sequences(decoder_input)\n",
    "decoder_target = pad_sequences(decoder_target)"
   ],
   "metadata": {
    "id": "AEDYtzGvoq7J",
    "ExecuteTime": {
     "end_time": "2025-04-10T11:56:22.958153Z",
     "start_time": "2025-04-10T11:56:22.893356Z"
    }
   },
   "outputs": [],
   "execution_count": 45
  },
  {
   "cell_type": "code",
   "source": [
    "print('인코더의 입력의 크기(shape) :',encoder_input.shape)\n",
    "print('디코더의 입력의 크기(shape) :',decoder_input.shape)\n",
    "print('디코더의 레이블의 크기(shape) :',decoder_target.shape)"
   ],
   "metadata": {
    "colab": {
     "base_uri": "https://localhost:8080/"
    },
    "id": "xhoK6k7SosEh",
    "outputId": "3510284f-5137-4135-e308-d773bbb0dc9a",
    "ExecuteTime": {
     "end_time": "2025-04-10T11:56:22.973153Z",
     "start_time": "2025-04-10T11:56:22.971311Z"
    }
   },
   "outputs": [
    {
     "name": "stdout",
     "output_type": "stream",
     "text": [
      "인코더의 입력의 크기(shape) : (33000, 7)\n",
      "디코더의 입력의 크기(shape) : (33000, 16)\n",
      "디코더의 레이블의 크기(shape) : (33000, 16)\n"
     ]
    }
   ],
   "execution_count": 46
  },
  {
   "cell_type": "code",
   "source": [
    "indices = np.arange(encoder_input.shape[0])\n",
    "np.random.shuffle(indices)\n",
    "print('랜덤 시퀀스 :',indices)"
   ],
   "metadata": {
    "colab": {
     "base_uri": "https://localhost:8080/"
    },
    "id": "IjYNVtUtotWZ",
    "outputId": "4ece0b17-0176-4bda-f71f-ca2bbf6f810f",
    "ExecuteTime": {
     "end_time": "2025-04-10T11:56:22.989117Z",
     "start_time": "2025-04-10T11:56:22.986646Z"
    }
   },
   "outputs": [
    {
     "name": "stdout",
     "output_type": "stream",
     "text": [
      "랜덤 시퀀스 : [13605 12629  3988 ...   304   542  5856]\n"
     ]
    }
   ],
   "execution_count": 47
  },
  {
   "cell_type": "code",
   "source": [
    "encoder_input = encoder_input[indices]\n",
    "decoder_input = decoder_input[indices]\n",
    "decoder_target = decoder_target[indices]"
   ],
   "metadata": {
    "id": "aef-DcrBouZp",
    "ExecuteTime": {
     "end_time": "2025-04-10T11:56:23.008147Z",
     "start_time": "2025-04-10T11:56:23.002432Z"
    }
   },
   "outputs": [],
   "execution_count": 48
  },
  {
   "cell_type": "code",
   "source": [
    "print([index_to_src[word] for word in encoder_input[30997]])\n",
    "print([index_to_tar[word] for word in decoder_input[30997]])\n",
    "print([index_to_tar[word] for word in decoder_target[30997]])"
   ],
   "metadata": {
    "colab": {
     "base_uri": "https://localhost:8080/"
    },
    "id": "J7zlLA6HovPh",
    "outputId": "a11f2187-4385-4e16-e757-6d00eb4a5ea1",
    "ExecuteTime": {
     "end_time": "2025-04-10T11:56:23.023805Z",
     "start_time": "2025-04-10T11:56:23.021693Z"
    }
   },
   "outputs": [
    {
     "name": "stdout",
     "output_type": "stream",
     "text": [
      "['there', 's', 'a', 'table', '.', '<PAD>', '<PAD>']\n",
      "['<sos>', 'il', 'y', 'a', 'une', 'table', '.', '<PAD>', '<PAD>', '<PAD>', '<PAD>', '<PAD>', '<PAD>', '<PAD>', '<PAD>', '<PAD>']\n",
      "['il', 'y', 'a', 'une', 'table', '.', '<eos>', '<PAD>', '<PAD>', '<PAD>', '<PAD>', '<PAD>', '<PAD>', '<PAD>', '<PAD>', '<PAD>']\n"
     ]
    }
   ],
   "execution_count": 49
  },
  {
   "cell_type": "code",
   "source": [
    "n_of_val = int(33000*0.1)\n",
    "print('검증 데이터의 개수 :',n_of_val)"
   ],
   "metadata": {
    "colab": {
     "base_uri": "https://localhost:8080/"
    },
    "id": "IkleGE80owkZ",
    "outputId": "b8e49995-66fa-494e-8d03-7e79915c9699",
    "ExecuteTime": {
     "end_time": "2025-04-10T11:56:23.039168Z",
     "start_time": "2025-04-10T11:56:23.037300Z"
    }
   },
   "outputs": [
    {
     "name": "stdout",
     "output_type": "stream",
     "text": [
      "검증 데이터의 개수 : 3300\n"
     ]
    }
   ],
   "execution_count": 50
  },
  {
   "cell_type": "code",
   "source": [
    "encoder_input_train = encoder_input[:-n_of_val]\n",
    "decoder_input_train = decoder_input[:-n_of_val]\n",
    "decoder_target_train = decoder_target[:-n_of_val]\n",
    "\n",
    "encoder_input_test = encoder_input[-n_of_val:]\n",
    "decoder_input_test = decoder_input[-n_of_val:]\n",
    "decoder_target_test = decoder_target[-n_of_val:]"
   ],
   "metadata": {
    "id": "TGv2-Tmkoxhx",
    "ExecuteTime": {
     "end_time": "2025-04-10T11:56:23.055098Z",
     "start_time": "2025-04-10T11:56:23.052887Z"
    }
   },
   "outputs": [],
   "execution_count": 51
  },
  {
   "cell_type": "code",
   "source": [
    "print('훈련 source 데이터의 크기 :',encoder_input_train.shape)\n",
    "print('훈련 target 데이터의 크기 :',decoder_input_train.shape)\n",
    "print('훈련 target 레이블의 크기 :',decoder_target_train.shape)\n",
    "print('테스트 source 데이터의 크기 :',encoder_input_test.shape)\n",
    "print('테스트 target 데이터의 크기 :',decoder_input_test.shape)\n",
    "print('테스트 target 레이블의 크기 :',decoder_target_test.shape)"
   ],
   "metadata": {
    "colab": {
     "base_uri": "https://localhost:8080/"
    },
    "id": "St0ZxAuEoytB",
    "outputId": "4520a4c3-0e23-4fa0-ab54-88cd56456bea",
    "ExecuteTime": {
     "end_time": "2025-04-10T11:56:23.069794Z",
     "start_time": "2025-04-10T11:56:23.067825Z"
    }
   },
   "outputs": [
    {
     "name": "stdout",
     "output_type": "stream",
     "text": [
      "훈련 source 데이터의 크기 : (29700, 7)\n",
      "훈련 target 데이터의 크기 : (29700, 16)\n",
      "훈련 target 레이블의 크기 : (29700, 16)\n",
      "테스트 source 데이터의 크기 : (3300, 7)\n",
      "테스트 target 데이터의 크기 : (3300, 16)\n",
      "테스트 target 레이블의 크기 : (3300, 16)\n"
     ]
    }
   ],
   "execution_count": 52
  },
  {
   "cell_type": "code",
   "source": [
    "import torch\n",
    "import torch.nn as nn\n",
    "import torch.optim as optim\n",
    "\n",
    "embedding_dim = 256\n",
    "hidden_units = 256\n",
    "\n",
    "class Encoder(nn.Module):\n",
    "    def __init__(self, src_vocab_size, embedding_dim, hidden_units):\n",
    "        super(Encoder, self).__init__()\n",
    "        self.embedding = nn.Embedding(src_vocab_size, embedding_dim, padding_idx=0)\n",
    "        self.lstm = nn.LSTM(embedding_dim, hidden_units, batch_first=True)\n",
    "\n",
    "    def forward(self, x):\n",
    "        # x.shape == (batch_size, seq_len, embedding_dim)\n",
    "        x = self.embedding(x)\n",
    "        # hidden.shape == (1, batch_size, hidden_units), cell.shape == (1, batch_size, hidden_units)\n",
    "        _, (hidden, cell) = self.lstm(x)\n",
    "        # 인코더의 출력은 hidden state, cell state\n",
    "        return hidden, cell\n",
    "\n",
    "class Decoder(nn.Module):\n",
    "    def __init__(self, tar_vocab_size, embedding_dim, hidden_units):\n",
    "        super(Decoder, self).__init__()\n",
    "        self.embedding = nn.Embedding(tar_vocab_size, embedding_dim, padding_idx=0)\n",
    "        self.lstm = nn.LSTM(embedding_dim, hidden_units, batch_first=True)\n",
    "        self.fc = nn.Linear(hidden_units, tar_vocab_size)\n",
    "\n",
    "    def forward(self, x, hidden, cell):\n",
    "\n",
    "        # x.shape == (batch_size, seq_len, embedding_dim)\n",
    "        x = self.embedding(x)\n",
    "\n",
    "        # 디코더의 LSTM으로 인코더의 hidden state, cell state를 전달.\n",
    "        # output.shape == (batch_size, seq_len, hidden_units)\n",
    "        # hidden.shape == (1, batch_size, hidden_units)\n",
    "        # cell.shape == (1, batch_size, hidden_units)\n",
    "        output, (hidden, cell) = self.lstm(x, (hidden, cell))\n",
    "\n",
    "        # output.shape: (batch_size, seq_len, tar_vocab_size)\n",
    "        output = self.fc(output)\n",
    "\n",
    "        # 디코더의 출력은 예측값, hidden state, cell state\n",
    "        return output, hidden, cell\n",
    "\n",
    "class Seq2Seq(nn.Module):\n",
    "    def __init__(self, encoder, decoder):\n",
    "        super(Seq2Seq, self).__init__()\n",
    "        self.encoder = encoder\n",
    "        self.decoder = decoder\n",
    "\n",
    "    def forward(self, src, trg):\n",
    "        hidden, cell = self.encoder(src)\n",
    "\n",
    "        # 훈련 중에는 디코더의 출력 중 오직 output만 사용한다.\n",
    "        output, _, _ = self.decoder(trg, hidden, cell)\n",
    "        return output\n",
    "\n",
    "encoder = Encoder(src_vocab_size, embedding_dim, hidden_units)\n",
    "decoder = Decoder(tar_vocab_size, embedding_dim, hidden_units)\n",
    "model = Seq2Seq(encoder, decoder)\n",
    "\n",
    "loss_function = nn.CrossEntropyLoss(ignore_index=0)\n",
    "optimizer = optim.Adam(model.parameters())"
   ],
   "metadata": {
    "id": "EqQlpYdjoz1x",
    "ExecuteTime": {
     "end_time": "2025-04-10T11:56:23.121781Z",
     "start_time": "2025-04-10T11:56:23.082761Z"
    }
   },
   "outputs": [],
   "execution_count": 53
  },
  {
   "cell_type": "code",
   "source": [
    "print(model)"
   ],
   "metadata": {
    "colab": {
     "base_uri": "https://localhost:8080/"
    },
    "id": "pAYiT5T0o0_p",
    "outputId": "c50f104a-d504-41d8-c58e-decbabab52b2",
    "ExecuteTime": {
     "end_time": "2025-04-10T11:56:23.136546Z",
     "start_time": "2025-04-10T11:56:23.134712Z"
    }
   },
   "outputs": [
    {
     "name": "stdout",
     "output_type": "stream",
     "text": [
      "Seq2Seq(\n",
      "  (encoder): Encoder(\n",
      "    (embedding): Embedding(4486, 256, padding_idx=0)\n",
      "    (lstm): LSTM(256, 256, batch_first=True)\n",
      "  )\n",
      "  (decoder): Decoder(\n",
      "    (embedding): Embedding(7879, 256, padding_idx=0)\n",
      "    (lstm): LSTM(256, 256, batch_first=True)\n",
      "    (fc): Linear(in_features=256, out_features=7879, bias=True)\n",
      "  )\n",
      ")\n"
     ]
    }
   ],
   "execution_count": 54
  },
  {
   "cell_type": "code",
   "source": [
    "def evaluation(model, dataloader, loss_function, device):\n",
    "    model.eval()\n",
    "    total_loss = 0.0\n",
    "    total_correct = 0\n",
    "    total_count = 0\n",
    "\n",
    "    with torch.no_grad():\n",
    "        for encoder_inputs, decoder_inputs, decoder_targets in dataloader:\n",
    "            encoder_inputs = encoder_inputs.to(device)\n",
    "            decoder_inputs = decoder_inputs.to(device)\n",
    "            decoder_targets = decoder_targets.to(device)\n",
    "\n",
    "            # 순방향 전파\n",
    "            # outputs.shape == (batch_size, seq_len, tar_vocab_size)\n",
    "            outputs = model(encoder_inputs, decoder_inputs)\n",
    "\n",
    "            # 손실 계산\n",
    "            # outputs.view(-1, outputs.size(-1))의 shape는 (batch_size * seq_len, tar_vocab_size)\n",
    "            # decoder_targets.view(-1)의 shape는 (batch_size * seq_len)\n",
    "            loss = loss_function(outputs.view(-1, outputs.size(-1)), decoder_targets.view(-1))\n",
    "            total_loss += loss.item()\n",
    "\n",
    "            # 정확도 계산 (패딩 토큰 제외)\n",
    "            mask = decoder_targets != 0\n",
    "            total_correct += ((outputs.argmax(dim=-1) == decoder_targets) * mask).sum().item()\n",
    "            total_count += mask.sum().item()\n",
    "\n",
    "    return total_loss / len(dataloader), total_correct / total_count"
   ],
   "metadata": {
    "id": "0jiwJf_to2iA",
    "ExecuteTime": {
     "end_time": "2025-04-10T11:56:23.152887Z",
     "start_time": "2025-04-10T11:56:23.149893Z"
    }
   },
   "outputs": [],
   "execution_count": 55
  },
  {
   "cell_type": "code",
   "source": [
    "encoder_input_train_tensor = torch.tensor(encoder_input_train, dtype=torch.long)\n",
    "decoder_input_train_tensor = torch.tensor(decoder_input_train, dtype=torch.long)\n",
    "decoder_target_train_tensor = torch.tensor(decoder_target_train, dtype=torch.long)\n",
    "\n",
    "encoder_input_test_tensor = torch.tensor(encoder_input_test, dtype=torch.long)\n",
    "decoder_input_test_tensor = torch.tensor(decoder_input_test, dtype=torch.long)\n",
    "decoder_target_test_tensor = torch.tensor(decoder_target_test, dtype=torch.long)\n",
    "\n",
    "# 데이터셋 및 데이터로더 생성\n",
    "batch_size = 128\n",
    "\n",
    "train_dataset = TensorDataset(encoder_input_train_tensor, decoder_input_train_tensor, decoder_target_train_tensor)\n",
    "train_dataloader = DataLoader(train_dataset, batch_size=batch_size, shuffle=True)\n",
    "\n",
    "valid_dataset = TensorDataset(encoder_input_test_tensor, decoder_input_test_tensor, decoder_target_test_tensor)\n",
    "valid_dataloader = DataLoader(valid_dataset, batch_size=batch_size, shuffle=False)"
   ],
   "metadata": {
    "id": "V2MSnNslo31B",
    "ExecuteTime": {
     "end_time": "2025-04-10T11:56:23.170462Z",
     "start_time": "2025-04-10T11:56:23.166052Z"
    }
   },
   "outputs": [],
   "execution_count": 56
  },
  {
   "cell_type": "code",
   "source": [
    "# 학습 설정\n",
    "num_epochs = 30\n",
    "device = torch.device(\"mps\" if torch.backends.mps.is_available() else \"cpu\")\n",
    "model.to(device)"
   ],
   "metadata": {
    "colab": {
     "base_uri": "https://localhost:8080/"
    },
    "id": "de_T003Ho44o",
    "outputId": "d8ac1406-cf17-40ad-f0c7-1ed33ab5e6f7",
    "ExecuteTime": {
     "end_time": "2025-04-10T11:56:23.230463Z",
     "start_time": "2025-04-10T11:56:23.183436Z"
    }
   },
   "outputs": [
    {
     "data": {
      "text/plain": [
       "Seq2Seq(\n",
       "  (encoder): Encoder(\n",
       "    (embedding): Embedding(4486, 256, padding_idx=0)\n",
       "    (lstm): LSTM(256, 256, batch_first=True)\n",
       "  )\n",
       "  (decoder): Decoder(\n",
       "    (embedding): Embedding(7879, 256, padding_idx=0)\n",
       "    (lstm): LSTM(256, 256, batch_first=True)\n",
       "    (fc): Linear(in_features=256, out_features=7879, bias=True)\n",
       "  )\n",
       ")"
      ]
     },
     "execution_count": 57,
     "metadata": {},
     "output_type": "execute_result"
    }
   ],
   "execution_count": 57
  },
  {
   "cell_type": "code",
   "source": [
    "# Training loop\n",
    "best_val_loss = float('inf')\n",
    "\n",
    "for epoch in range(num_epochs):\n",
    "    # 훈련 모드\n",
    "    model.train()\n",
    "\n",
    "    for encoder_inputs, decoder_inputs, decoder_targets in train_dataloader:\n",
    "        encoder_inputs = encoder_inputs.to(device)\n",
    "        decoder_inputs = decoder_inputs.to(device)\n",
    "        decoder_targets = decoder_targets.to(device)\n",
    "\n",
    "        # 기울기 초기화\n",
    "        optimizer.zero_grad()\n",
    "\n",
    "        # 순방향 전파\n",
    "        # outputs.shape == (batch_size, seq_len, tar_vocab_size)\n",
    "        outputs = model(encoder_inputs, decoder_inputs)\n",
    "\n",
    "        # 손실 계산 및 역방향 전파\n",
    "        # outputs.view(-1, outputs.size(-1))의 shape는 (batch_size * seq_len, tar_vocab_size)\n",
    "        # decoder_targets.view(-1)의 shape는 (batch_size * seq_len)\n",
    "        loss = loss_function(outputs.view(-1, outputs.size(-1)), decoder_targets.view(-1))\n",
    "        loss.backward()\n",
    "\n",
    "        # 가중치 업데이트\n",
    "        optimizer.step()\n",
    "\n",
    "    train_loss, train_acc = evaluation(model, train_dataloader, loss_function, device)\n",
    "    valid_loss, valid_acc = evaluation(model, valid_dataloader, loss_function, device)\n",
    "\n",
    "    print(f'Epoch: {epoch+1}/{num_epochs} | Train Loss: {train_loss:.4f} | Train Acc: {train_acc:.4f} | Valid Loss: {valid_loss:.4f} | Valid Acc: {valid_acc:.4f}')\n",
    "\n",
    "    # 검증 손실이 최소일 때 체크포인트 저장\n",
    "    if valid_loss < best_val_loss:\n",
    "        print(f'Validation loss improved from {best_val_loss:.4f} to {valid_loss:.4f}. 체크포인트를 저장합니다.')\n",
    "        best_val_loss = valid_loss\n",
    "        torch.save(model.state_dict(), 'best_model_checkpoint.pth')"
   ],
   "metadata": {
    "colab": {
     "base_uri": "https://localhost:8080/"
    },
    "id": "oFNlEAVio5zw",
    "outputId": "aff04f8f-f129-4c72-a320-b8a792fd5f76",
    "ExecuteTime": {
     "end_time": "2025-04-10T12:00:03.870891Z",
     "start_time": "2025-04-10T11:56:23.244223Z"
    }
   },
   "outputs": [
    {
     "name": "stdout",
     "output_type": "stream",
     "text": [
      "Epoch: 1/30 | Train Loss: 2.9289 | Train Acc: 0.5313 | Valid Loss: 3.0496 | Valid Acc: 0.5233\n",
      "Validation loss improved from inf to 3.0496. 체크포인트를 저장합니다.\n",
      "Epoch: 2/30 | Train Loss: 2.2806 | Train Acc: 0.6035 | Valid Loss: 2.5116 | Valid Acc: 0.5877\n",
      "Validation loss improved from 3.0496 to 2.5116. 체크포인트를 저장합니다.\n",
      "Epoch: 3/30 | Train Loss: 1.8751 | Train Acc: 0.6440 | Valid Loss: 2.2177 | Valid Acc: 0.6204\n",
      "Validation loss improved from 2.5116 to 2.2177. 체크포인트를 저장합니다.\n",
      "Epoch: 4/30 | Train Loss: 1.5751 | Train Acc: 0.6801 | Valid Loss: 2.0246 | Valid Acc: 0.6441\n",
      "Validation loss improved from 2.2177 to 2.0246. 체크포인트를 저장합니다.\n",
      "Epoch: 5/30 | Train Loss: 1.3215 | Train Acc: 0.7175 | Valid Loss: 1.8858 | Valid Acc: 0.6574\n",
      "Validation loss improved from 2.0246 to 1.8858. 체크포인트를 저장합니다.\n",
      "Epoch: 6/30 | Train Loss: 1.1089 | Train Acc: 0.7532 | Valid Loss: 1.7787 | Valid Acc: 0.6755\n",
      "Validation loss improved from 1.8858 to 1.7787. 체크포인트를 저장합니다.\n",
      "Epoch: 7/30 | Train Loss: 0.9262 | Train Acc: 0.7861 | Valid Loss: 1.6931 | Valid Acc: 0.6879\n",
      "Validation loss improved from 1.7787 to 1.6931. 체크포인트를 저장합니다.\n",
      "Epoch: 8/30 | Train Loss: 0.7721 | Train Acc: 0.8200 | Valid Loss: 1.6262 | Valid Acc: 0.6990\n",
      "Validation loss improved from 1.6931 to 1.6262. 체크포인트를 저장합니다.\n",
      "Epoch: 9/30 | Train Loss: 0.6528 | Train Acc: 0.8433 | Valid Loss: 1.5859 | Valid Acc: 0.7045\n",
      "Validation loss improved from 1.6262 to 1.5859. 체크포인트를 저장합니다.\n",
      "Epoch: 10/30 | Train Loss: 0.5471 | Train Acc: 0.8688 | Valid Loss: 1.5441 | Valid Acc: 0.7136\n",
      "Validation loss improved from 1.5859 to 1.5441. 체크포인트를 저장합니다.\n",
      "Epoch: 11/30 | Train Loss: 0.4667 | Train Acc: 0.8866 | Valid Loss: 1.5214 | Valid Acc: 0.7160\n",
      "Validation loss improved from 1.5441 to 1.5214. 체크포인트를 저장합니다.\n",
      "Epoch: 12/30 | Train Loss: 0.4021 | Train Acc: 0.8964 | Valid Loss: 1.5098 | Valid Acc: 0.7196\n",
      "Validation loss improved from 1.5214 to 1.5098. 체크포인트를 저장합니다.\n",
      "Epoch: 13/30 | Train Loss: 0.3525 | Train Acc: 0.9056 | Valid Loss: 1.5149 | Valid Acc: 0.7201\n",
      "Epoch: 14/30 | Train Loss: 0.3130 | Train Acc: 0.9123 | Valid Loss: 1.5130 | Valid Acc: 0.7209\n",
      "Epoch: 15/30 | Train Loss: 0.2866 | Train Acc: 0.9153 | Valid Loss: 1.5241 | Valid Acc: 0.7188\n",
      "Epoch: 16/30 | Train Loss: 0.2572 | Train Acc: 0.9206 | Valid Loss: 1.5300 | Valid Acc: 0.7223\n",
      "Epoch: 17/30 | Train Loss: 0.2384 | Train Acc: 0.9232 | Valid Loss: 1.5430 | Valid Acc: 0.7194\n",
      "Epoch: 18/30 | Train Loss: 0.2219 | Train Acc: 0.9258 | Valid Loss: 1.5430 | Valid Acc: 0.7218\n",
      "Epoch: 19/30 | Train Loss: 0.2137 | Train Acc: 0.9267 | Valid Loss: 1.5660 | Valid Acc: 0.7203\n",
      "Epoch: 20/30 | Train Loss: 0.1996 | Train Acc: 0.9290 | Valid Loss: 1.5684 | Valid Acc: 0.7225\n",
      "Epoch: 21/30 | Train Loss: 0.1933 | Train Acc: 0.9295 | Valid Loss: 1.5829 | Valid Acc: 0.7205\n",
      "Epoch: 22/30 | Train Loss: 0.1863 | Train Acc: 0.9301 | Valid Loss: 1.5946 | Valid Acc: 0.7209\n",
      "Epoch: 23/30 | Train Loss: 0.1807 | Train Acc: 0.9307 | Valid Loss: 1.6013 | Valid Acc: 0.7236\n",
      "Epoch: 24/30 | Train Loss: 0.1747 | Train Acc: 0.9309 | Valid Loss: 1.6195 | Valid Acc: 0.7205\n",
      "Epoch: 25/30 | Train Loss: 0.1723 | Train Acc: 0.9314 | Valid Loss: 1.6259 | Valid Acc: 0.7220\n",
      "Epoch: 26/30 | Train Loss: 0.1677 | Train Acc: 0.9316 | Valid Loss: 1.6322 | Valid Acc: 0.7209\n",
      "Epoch: 27/30 | Train Loss: 0.1634 | Train Acc: 0.9319 | Valid Loss: 1.6326 | Valid Acc: 0.7195\n",
      "Epoch: 28/30 | Train Loss: 0.1619 | Train Acc: 0.9314 | Valid Loss: 1.6468 | Valid Acc: 0.7221\n",
      "Epoch: 29/30 | Train Loss: 0.1591 | Train Acc: 0.9321 | Valid Loss: 1.6705 | Valid Acc: 0.7217\n",
      "Epoch: 30/30 | Train Loss: 0.1574 | Train Acc: 0.9321 | Valid Loss: 1.6749 | Valid Acc: 0.7195\n"
     ]
    }
   ],
   "execution_count": 58
  },
  {
   "cell_type": "code",
   "source": [
    "# 모델 로드\n",
    "model.load_state_dict(torch.load('best_model_checkpoint.pth'))\n",
    "\n",
    "# 모델을 device에 올립니다.\n",
    "model.to(device)\n",
    "\n",
    "# 검증 데이터에 대한 정확도와 손실 계산\n",
    "val_loss, val_accuracy = evaluation(model, valid_dataloader, loss_function, device)\n",
    "\n",
    "print(f'Best model validation loss: {val_loss:.4f}')\n",
    "print(f'Best model validation accuracy: {val_accuracy:.4f}')"
   ],
   "metadata": {
    "colab": {
     "base_uri": "https://localhost:8080/"
    },
    "id": "q4g3RSXyo6zA",
    "outputId": "5c75cb73-4dc4-49d8-ae66-ec83ce79a4d5",
    "ExecuteTime": {
     "end_time": "2025-04-10T12:00:07.069464Z",
     "start_time": "2025-04-10T12:00:06.793247Z"
    }
   },
   "outputs": [
    {
     "name": "stderr",
     "output_type": "stream",
     "text": [
      "/var/folders/py/xgf_87rd5nz9rsbc143wp9qc0000gn/T/ipykernel_8731/2019789388.py:2: FutureWarning: You are using `torch.load` with `weights_only=False` (the current default value), which uses the default pickle module implicitly. It is possible to construct malicious pickle data which will execute arbitrary code during unpickling (See https://github.com/pytorch/pytorch/blob/main/SECURITY.md#untrusted-models for more details). In a future release, the default value for `weights_only` will be flipped to `True`. This limits the functions that could be executed during unpickling. Arbitrary objects will no longer be allowed to be loaded via this mode unless they are explicitly allowlisted by the user via `torch.serialization.add_safe_globals`. We recommend you start setting `weights_only=True` for any use case where you don't have full control of the loaded file. Please open an issue on GitHub for any issues related to this experimental feature.\n",
      "  model.load_state_dict(torch.load('best_model_checkpoint.pth'))\n"
     ]
    },
    {
     "name": "stdout",
     "output_type": "stream",
     "text": [
      "Best model validation loss: 1.5098\n",
      "Best model validation accuracy: 0.7196\n"
     ]
    }
   ],
   "execution_count": 59
  },
  {
   "cell_type": "code",
   "source": [
    "print(tar_vocab['<sos>'])\n",
    "print(tar_vocab['<eos>'])"
   ],
   "metadata": {
    "colab": {
     "base_uri": "https://localhost:8080/"
    },
    "id": "t0o0kOtlo8AY",
    "outputId": "ecdd00fe-d164-48d7-837d-7887b95dcd3b",
    "ExecuteTime": {
     "end_time": "2025-04-10T12:00:07.079483Z",
     "start_time": "2025-04-10T12:00:07.077768Z"
    }
   },
   "outputs": [
    {
     "name": "stdout",
     "output_type": "stream",
     "text": [
      "3\n",
      "4\n"
     ]
    }
   ],
   "execution_count": 60
  },
  {
   "cell_type": "code",
   "source": [
    "index_to_src = {v: k for k, v in src_vocab.items()}\n",
    "index_to_tar = {v: k for k, v in tar_vocab.items()}\n",
    "\n",
    "# 원문의 정수 시퀀스를 텍스트 시퀀스로 변환\n",
    "def seq_to_src(input_seq):\n",
    "  sentence = ''\n",
    "  for encoded_word in input_seq:\n",
    "    if(encoded_word != 0):\n",
    "      sentence = sentence + index_to_src[encoded_word] + ' '\n",
    "  return sentence\n",
    "\n",
    "# 번역문의 정수 시퀀스를 텍스트 시퀀스로 변환\n",
    "def seq_to_tar(input_seq):\n",
    "  sentence = ''\n",
    "  for encoded_word in input_seq:\n",
    "    if(encoded_word != 0 and encoded_word != tar_vocab['<sos>'] and encoded_word != tar_vocab['<eos>']):\n",
    "      sentence = sentence + index_to_tar[encoded_word] + ' '\n",
    "  return sentence"
   ],
   "metadata": {
    "id": "_YK2vbhro8-Y",
    "ExecuteTime": {
     "end_time": "2025-04-10T12:00:07.148266Z",
     "start_time": "2025-04-10T12:00:07.144845Z"
    }
   },
   "outputs": [],
   "execution_count": 61
  },
  {
   "cell_type": "code",
   "source": [
    "def decode_sequence(input_seq, model, src_vocab_size, tar_vocab_size, max_output_len, int_to_src_token, int_to_tar_token):\n",
    "    encoder_inputs = torch.tensor(input_seq, dtype=torch.long).unsqueeze(0).to(device)\n",
    "\n",
    "    # 인코더의 초기 상태 설정\n",
    "    hidden, cell = model.encoder(encoder_inputs)\n",
    "\n",
    "    # 시작 토큰 <sos>을 디코더의 첫 입력으로 설정\n",
    "    # unsqueeze(0)는 배치 차원을 추가하기 위함.\n",
    "    decoder_input = torch.tensor([3], dtype=torch.long).unsqueeze(0).to(device)\n",
    "\n",
    "    decoded_tokens = []\n",
    "\n",
    "    # for문을 도는 것 == 디코더의 각 시점\n",
    "    for _ in range(max_output_len):\n",
    "        output, hidden, cell = model.decoder(decoder_input, hidden, cell)\n",
    "\n",
    "        # 소프트맥스 회귀를 수행. 예측 단어의 인덱스\n",
    "        output_token = output.argmax(dim=-1).item()\n",
    "\n",
    "        # 종료 토큰 <eos>\n",
    "        if output_token == 4:\n",
    "            break\n",
    "\n",
    "        # 각 시점의 단어(정수)는 decoded_tokens에 누적하였다가 최종 번역 시퀀스로 리턴합니다.\n",
    "        decoded_tokens.append(output_token)\n",
    "\n",
    "        # 현재 시점의 예측. 다음 시점의 입력으로 사용된다.\n",
    "        decoder_input = torch.tensor([output_token], dtype=torch.long).unsqueeze(0).to(device)\n",
    "\n",
    "    return ' '.join(int_to_tar_token[token] for token in decoded_tokens)"
   ],
   "metadata": {
    "id": "IEldjD4So-Nw",
    "ExecuteTime": {
     "end_time": "2025-04-10T12:00:07.205957Z",
     "start_time": "2025-04-10T12:00:07.202704Z"
    }
   },
   "outputs": [],
   "execution_count": 62
  },
  {
   "cell_type": "code",
   "source": [
    "for seq_index in [3, 50, 100, 300, 1001]:\n",
    "  input_seq = encoder_input_train[seq_index]\n",
    "  translated_text = decode_sequence(input_seq, model, src_vocab_size, tar_vocab_size, 20, index_to_src, index_to_tar)\n",
    "\n",
    "  print(\"입력문장 :\",seq_to_src(encoder_input_train[seq_index]))\n",
    "  print(\"정답문장 :\",seq_to_tar(decoder_input_train[seq_index]))\n",
    "  print(\"번역문장 :\",translated_text)\n",
    "  print(\"-\"*50)"
   ],
   "metadata": {
    "colab": {
     "base_uri": "https://localhost:8080/"
    },
    "id": "9Oi9oEo9o_aA",
    "outputId": "d4de77f1-d5ed-4ee6-9477-78313cec7b8f",
    "ExecuteTime": {
     "end_time": "2025-04-10T12:00:07.967473Z",
     "start_time": "2025-04-10T12:00:07.258661Z"
    }
   },
   "outputs": [
    {
     "name": "stdout",
     "output_type": "stream",
     "text": [
      "입력문장 : you re nice . \n",
      "정답문장 : vous etes sympas . \n",
      "번역문장 : vous etes sympas .\n",
      "--------------------------------------------------\n",
      "입력문장 : do you need money ? \n",
      "정답문장 : as tu besoin d argent ? \n",
      "번역문장 : as tu besoin d argent ?\n",
      "--------------------------------------------------\n",
      "입력문장 : i like this room . \n",
      "정답문장 : j aime cette chambre . \n",
      "번역문장 : j aime cette piece .\n",
      "--------------------------------------------------\n",
      "입력문장 : i knew it . \n",
      "정답문장 : je le savais . \n",
      "번역문장 : je le savais .\n",
      "--------------------------------------------------\n",
      "입력문장 : tom has scurvy . \n",
      "정답문장 : tom a le scorbut . \n",
      "번역문장 : tom a le scorbut .\n",
      "--------------------------------------------------\n"
     ]
    }
   ],
   "execution_count": 63
  },
  {
   "cell_type": "code",
   "source": [
    "for seq_index in [3, 50, 100, 300, 1001]:\n",
    "  input_seq = encoder_input_test[seq_index]\n",
    "  translated_text = decode_sequence(input_seq, model, src_vocab_size, tar_vocab_size, 20, index_to_src, index_to_tar)\n",
    "\n",
    "  print(\"입력문장 :\",seq_to_src(encoder_input_test[seq_index]))\n",
    "  print(\"정답문장 :\",seq_to_tar(decoder_input_test[seq_index]))\n",
    "  print(\"번역문장 :\",translated_text)\n",
    "  print(\"-\"*50)"
   ],
   "metadata": {
    "colab": {
     "base_uri": "https://localhost:8080/"
    },
    "id": "9WDR-gVJpAXw",
    "outputId": "55834abd-c8ee-46e4-d17d-39b9a7d7b47f",
    "ExecuteTime": {
     "end_time": "2025-04-10T12:00:08.058801Z",
     "start_time": "2025-04-10T12:00:08.037871Z"
    }
   },
   "outputs": [
    {
     "name": "stdout",
     "output_type": "stream",
     "text": [
      "입력문장 : tom was shocked . \n",
      "정답문장 : tom etait choque . \n",
      "번역문장 : tom etait un piege .\n",
      "--------------------------------------------------\n",
      "입력문장 : don t hurt me . \n",
      "정답문장 : ne me fais pas de mal ! \n",
      "번역문장 : ne me faites pas de mal !\n",
      "--------------------------------------------------\n",
      "입력문장 : you will survive . \n",
      "정답문장 : vous survivrez . \n",
      "번역문장 : tu survivras .\n",
      "--------------------------------------------------\n",
      "입력문장 : hold fire . \n",
      "정답문장 : cessez le feu ! \n",
      "번역문장 : halte au feu !\n",
      "--------------------------------------------------\n",
      "입력문장 : that s blackmail . \n",
      "정답문장 : c est du chantage . \n",
      "번역문장 : c est du chantage .\n",
      "--------------------------------------------------\n"
     ]
    }
   ],
   "execution_count": 64
  }
 ]
}
