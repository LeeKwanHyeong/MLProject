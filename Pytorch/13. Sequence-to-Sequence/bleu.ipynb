{
 "cells": [
  {
   "cell_type": "code",
   "id": "initial_id",
   "metadata": {
    "collapsed": true,
    "ExecuteTime": {
     "end_time": "2025-04-11T07:15:29.088388Z",
     "start_time": "2025-04-11T07:15:27.282452Z"
    }
   },
   "source": [
    "import numpy as np\n",
    "from collections import Counter\n",
    "from nltk import ngrams"
   ],
   "outputs": [],
   "execution_count": 1
  },
  {
   "metadata": {
    "ExecuteTime": {
     "end_time": "2025-04-11T07:16:02.504616Z",
     "start_time": "2025-04-11T07:16:02.501821Z"
    }
   },
   "cell_type": "code",
   "source": [
    "# 토큰화 된 문장(tokens)에서 n-gram을 카운트\n",
    "def simple_count(tokens, n):\n",
    "    return Counter(ngrams(tokens, n))"
   ],
   "id": "2bb265879da57fd3",
   "outputs": [],
   "execution_count": 2
  },
  {
   "metadata": {
    "ExecuteTime": {
     "end_time": "2025-04-11T07:16:38.422364Z",
     "start_time": "2025-04-11T07:16:38.418980Z"
    }
   },
   "cell_type": "code",
   "source": [
    "candidate = \"It is a guide to action which ensures that the military always obeys the commands of the party.\"\n",
    "tokens = candidate.split() # Tokenize\n",
    "result = simple_count(tokens, 1) # n = 1은 유니그램\n",
    "print('Unigram Count: ', result)"
   ],
   "id": "56f8cf8d9c5c0f5b",
   "outputs": [
    {
     "name": "stdout",
     "output_type": "stream",
     "text": [
      "Unigram Count:  Counter({('the',): 3, ('It',): 1, ('is',): 1, ('a',): 1, ('guide',): 1, ('to',): 1, ('action',): 1, ('which',): 1, ('ensures',): 1, ('that',): 1, ('military',): 1, ('always',): 1, ('obeys',): 1, ('commands',): 1, ('of',): 1, ('party.',): 1})\n"
     ]
    }
   ],
   "execution_count": 3
  },
  {
   "metadata": {
    "ExecuteTime": {
     "end_time": "2025-04-11T07:17:07.984241Z",
     "start_time": "2025-04-11T07:17:07.981476Z"
    }
   },
   "cell_type": "code",
   "source": [
    "candidate = 'the the the the the the the'\n",
    "tokens = candidate.split() # Tokenize\n",
    "result = simple_count(tokens, 1)\n",
    "print('Unigram Count: ', result)"
   ],
   "id": "c8b99b6b7698ded8",
   "outputs": [
    {
     "name": "stdout",
     "output_type": "stream",
     "text": [
      "Unigram Count:  Counter({('the',): 7})\n"
     ]
    }
   ],
   "execution_count": 4
  },
  {
   "metadata": {
    "ExecuteTime": {
     "end_time": "2025-04-11T07:21:08.922956Z",
     "start_time": "2025-04-11T07:21:08.918920Z"
    }
   },
   "cell_type": "code",
   "source": [
    "def count_clip(candidate, reference_list, n):\n",
    "    # Ca 문장에서 n-gram Count\n",
    "    ca_cnt = simple_count(candidate, n)\n",
    "    max_ref_cnt_dict = dict()\n",
    "\n",
    "    for ref in reference_list:\n",
    "        # Ref 문장에서 n-gram Count\n",
    "        ref_cnt = simple_count(ref, n)\n",
    "\n",
    "        # 각 Ref 문장에 대해서 비교하여 n-gram의 최대 등장 횟수를 계산\n",
    "        for n_gram in ref_cnt:\n",
    "            if n_gram in max_ref_cnt_dict:\n",
    "                max_ref_cnt_dict[n_gram] = max(ref_cnt[n_gram], max_ref_cnt_dict[n_gram])\n",
    "            else:\n",
    "                max_ref_cnt_dict[n_gram] = ref_cnt[n_gram]\n",
    "    return {\n",
    "        # count_clip = min(count, max_ref_count)\n",
    "        n_gram: min(ca_cnt.get(n_gram, 0), max_ref_cnt_dict.get(n_gram, 0)) for n_gram in ca_cnt\n",
    "    }"
   ],
   "id": "87e5f990b64e3ba7",
   "outputs": [],
   "execution_count": 5
  },
  {
   "metadata": {
    "ExecuteTime": {
     "end_time": "2025-04-11T07:22:49.914248Z",
     "start_time": "2025-04-11T07:22:49.910865Z"
    }
   },
   "cell_type": "code",
   "source": [
    "candidate = 'the the the the the the the'\n",
    "references = [\n",
    "    'the cat is on the mat',\n",
    "    'there is a cat on the mat'\n",
    "]\n",
    "result = count_clip(candidate.split(),list(map(lambda ref: ref.split(), references)),1)\n",
    "print('보정된 유니그램 카운트 :',result)"
   ],
   "id": "3c8ebeebc89d5274",
   "outputs": [
    {
     "name": "stdout",
     "output_type": "stream",
     "text": [
      "보정된 유니그램 카운트 : {('the',): 2}\n"
     ]
    }
   ],
   "execution_count": 6
  },
  {
   "metadata": {
    "ExecuteTime": {
     "end_time": "2025-04-11T07:24:16.540217Z",
     "start_time": "2025-04-11T07:24:16.536817Z"
    }
   },
   "cell_type": "code",
   "source": [
    "def modified_precision(candidate, reference_list, n):\n",
    "    clip_cnt = count_clip(candidate, reference_list, n)\n",
    "    total_clip_cnt = sum(clip_cnt.values()) # 분자\n",
    "\n",
    "    cnt = simple_count(candidate, n)\n",
    "    total_cnt = sum(cnt.values()) # 분모\n",
    "\n",
    "    # 분모가 0이 되는 것을 방지\n",
    "    if total_cnt == 0:\n",
    "        total_cnt = 1\n",
    "\n",
    "    # 분자: count_clip의 합, 분모 : 단순 count의 합 ===> 보정된 정밀도\n",
    "    return (total_clip_cnt / total_cnt)"
   ],
   "id": "55b5a9a9df345d20",
   "outputs": [],
   "execution_count": 7
  },
  {
   "metadata": {
    "ExecuteTime": {
     "end_time": "2025-04-11T07:25:08.695467Z",
     "start_time": "2025-04-11T07:25:08.692205Z"
    }
   },
   "cell_type": "code",
   "source": [
    "result = modified_precision(candidate.split(), list(map(lambda ref: ref.split(), references)), n = 1)\n",
    "print('Modified Unigram Precision: ', result)"
   ],
   "id": "68d5992cfdd5bbbd",
   "outputs": [
    {
     "name": "stdout",
     "output_type": "stream",
     "text": [
      "Modified Unigram Precision:  0.2857142857142857\n"
     ]
    }
   ],
   "execution_count": 8
  },
  {
   "metadata": {
    "ExecuteTime": {
     "end_time": "2025-04-11T07:27:06.587674Z",
     "start_time": "2025-04-11T07:27:06.584244Z"
    }
   },
   "cell_type": "code",
   "source": [
    "# Ca 길이와 가장 근접한 Ref의 길이를 리턴하는 함수\n",
    "def closest_ref_length(candidate, reference_list):\n",
    "    ca_len = len(candidate) # ca length\n",
    "    ref_lens = (len(ref) for ref in reference_list) # Ref들의 길이\n",
    "\n",
    "    # 길이 차이를 최소화하는 Ref를 찾아서 Ref의 길이를 리턴\n",
    "    closest_ref_len = min(ref_lens, key = lambda ref_len: (abs(ref_len - ca_len), ref_len))\n",
    "    return closest_ref_len"
   ],
   "id": "d9e65cec01b9bb91",
   "outputs": [],
   "execution_count": 9
  },
  {
   "metadata": {
    "ExecuteTime": {
     "end_time": "2025-04-11T07:28:06.204527Z",
     "start_time": "2025-04-11T07:28:06.201202Z"
    }
   },
   "cell_type": "code",
   "source": [
    "def brevity_penalty(candidate, reference_list):\n",
    "    ca_len = len(candidate)\n",
    "    ref_len = closest_ref_length(candidate, reference_list)\n",
    "\n",
    "    if ca_len > ref_len:\n",
    "        return 1\n",
    "\n",
    "    # candidate가 비어있다면 BP = 0 -> BLEU = 0.0\n",
    "    elif ca_len == 0:\n",
    "        return 0\n",
    "    else:\n",
    "        return np.exp(1 - ref_len/ca_len)"
   ],
   "id": "bae2b6b99860077c",
   "outputs": [],
   "execution_count": 10
  },
  {
   "metadata": {
    "ExecuteTime": {
     "end_time": "2025-04-11T07:30:02.253077Z",
     "start_time": "2025-04-11T07:30:02.249477Z"
    }
   },
   "cell_type": "code",
   "source": [
    "def bleu_score(candidate, reference_list, weights=[0.25, 0.25, 0.25, 0.25, 0.25]):\n",
    "    bp = brevity_penalty(candidate, reference_list)\n",
    "\n",
    "    p_n = [modified_precision(candidate, reference_list, n=n) for n, _ in enumerate(weights, start = 1)]\n",
    "\n",
    "    # p1, p2, p3, ... , pn\n",
    "    score = np.sum([w_i * np.log(p_i) if p_i != 0 else 0 for w_i, p_i in zip(weights, p_n)])\n",
    "    return bp * np.exp(score)\n"
   ],
   "id": "9640fc99feea99dc",
   "outputs": [],
   "execution_count": 11
  },
  {
   "metadata": {
    "ExecuteTime": {
     "end_time": "2025-04-11T07:30:17.563665Z",
     "start_time": "2025-04-11T07:30:17.558491Z"
    }
   },
   "cell_type": "code",
   "source": [
    "import nltk.translate.bleu_score as bleu\n",
    "\n",
    "candidate = 'It is a guide to action which ensures that the military always obeys the commands of the party'\n",
    "references = [\n",
    "    'It is a guide to action that ensures that the military will forever heed Party commands',\n",
    "    'It is the guiding principle which guarantees the military forces always being under the command of the Party',\n",
    "    'It is the practical guide for the army always to heed the directions of the party'\n",
    "]\n",
    "\n",
    "print('실습 코드의 BLEU :',bleu_score(candidate.split(),list(map(lambda ref: ref.split(), references))))\n",
    "print('패키지 NLTK의 BLEU :',bleu.sentence_bleu(list(map(lambda ref: ref.split(), references)),candidate.split()))"
   ],
   "id": "ed5c7db01d063e32",
   "outputs": [
    {
     "name": "stdout",
     "output_type": "stream",
     "text": [
      "실습 코드의 BLEU : 0.31020161970069987\n",
      "패키지 NLTK의 BLEU : 0.5045666840058485\n"
     ]
    }
   ],
   "execution_count": 12
  },
  {
   "metadata": {},
   "cell_type": "code",
   "outputs": [],
   "execution_count": null,
   "source": "",
   "id": "3275f2d7a44934cc"
  }
 ],
 "metadata": {
  "kernelspec": {
   "display_name": "Python 3",
   "language": "python",
   "name": "python3"
  },
  "language_info": {
   "codemirror_mode": {
    "name": "ipython",
    "version": 2
   },
   "file_extension": ".py",
   "mimetype": "text/x-python",
   "name": "python",
   "nbconvert_exporter": "python",
   "pygments_lexer": "ipython2",
   "version": "2.7.6"
  }
 },
 "nbformat": 4,
 "nbformat_minor": 5
}
