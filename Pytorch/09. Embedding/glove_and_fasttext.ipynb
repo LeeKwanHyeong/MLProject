{
 "cells": [
  {
   "cell_type": "code",
   "id": "initial_id",
   "metadata": {
    "collapsed": true,
    "ExecuteTime": {
     "end_time": "2025-04-07T02:59:05.498657Z",
     "start_time": "2025-04-07T02:59:05.112119Z"
    }
   },
   "source": [
    "import gensim\n",
    "gensim.__version__"
   ],
   "outputs": [
    {
     "data": {
      "text/plain": [
       "'4.3.3'"
      ]
     },
     "execution_count": 1,
     "metadata": {},
     "output_type": "execute_result"
    }
   ],
   "execution_count": 1
  },
  {
   "metadata": {
    "ExecuteTime": {
     "end_time": "2025-04-07T02:59:05.986141Z",
     "start_time": "2025-04-07T02:59:05.503718Z"
    }
   },
   "cell_type": "code",
   "source": [
    "import nltk\n",
    "nltk.download('punkt')"
   ],
   "id": "a4d6beace19ae94d",
   "outputs": [
    {
     "name": "stderr",
     "output_type": "stream",
     "text": [
      "[nltk_data] Downloading package punkt to\n",
      "[nltk_data]     /Users/igwanhyeong/nltk_data...\n",
      "[nltk_data]   Package punkt is already up-to-date!\n"
     ]
    },
    {
     "data": {
      "text/plain": [
       "True"
      ]
     },
     "execution_count": 2,
     "metadata": {},
     "output_type": "execute_result"
    }
   ],
   "execution_count": 2
  },
  {
   "metadata": {
    "ExecuteTime": {
     "end_time": "2025-04-07T02:59:06.025138Z",
     "start_time": "2025-04-07T02:59:06.017553Z"
    }
   },
   "cell_type": "code",
   "source": [
    "import urllib.request\n",
    "import zipfile\n",
    "from lxml import etree\n",
    "import re\n",
    "from nltk.tokenize import word_tokenize, sent_tokenize"
   ],
   "id": "7150616726072aad",
   "outputs": [],
   "execution_count": 3
  },
  {
   "metadata": {
    "ExecuteTime": {
     "end_time": "2025-04-07T02:59:07.336289Z",
     "start_time": "2025-04-07T02:59:06.029449Z"
    }
   },
   "cell_type": "code",
   "source": "urllib.request.urlretrieve(\"https://raw.githubusercontent.com/ukairia777/tensorflow-nlp-tutorial/main/09.%20Word%20Embedding/dataset/ted_en-20160408.xml\", filename=\"ted_en-20160408.xml\")",
   "id": "9663b5a1cf1ede34",
   "outputs": [
    {
     "data": {
      "text/plain": [
       "('ted_en-20160408.xml', <http.client.HTTPMessage at 0x17eb40d60>)"
      ]
     },
     "execution_count": 4,
     "metadata": {},
     "output_type": "execute_result"
    }
   ],
   "execution_count": 4
  },
  {
   "metadata": {
    "ExecuteTime": {
     "end_time": "2025-04-07T02:59:23.057509Z",
     "start_time": "2025-04-07T02:59:07.340381Z"
    }
   },
   "cell_type": "code",
   "source": [
    "targetXML = open('ted_en-20160408.xml', 'r', encoding = 'UTF8')\n",
    "target_text = etree.parse(targetXML)\n",
    "\n",
    "parse_text = '\\n'.join(target_text.xpath('//content/text()'))\n",
    "\n",
    "content_text = re.sub(r'[)]*', '', parse_text)\n",
    "\n",
    "sent_text = sent_tokenize(content_text)\n",
    "\n",
    "normalized_text = []\n",
    "for string in sent_text:\n",
    "    tokens = re.sub(r\"[^a-z0-9]+\", \" \", string.lower())\n",
    "    normalized_text.append(tokens)\n",
    "\n",
    "result = [word_tokenize(sentence) for sentence in normalized_text]"
   ],
   "id": "b2ff449974c927d3",
   "outputs": [],
   "execution_count": 5
  },
  {
   "metadata": {
    "ExecuteTime": {
     "end_time": "2025-04-07T02:59:23.068126Z",
     "start_time": "2025-04-07T02:59:23.066362Z"
    }
   },
   "cell_type": "code",
   "source": "print('총 샘플의 개수: {}'.format(len(result)))",
   "id": "b3d613b15de87a83",
   "outputs": [
    {
     "name": "stdout",
     "output_type": "stream",
     "text": [
      "총 샘플의 개수: 273648\n"
     ]
    }
   ],
   "execution_count": 6
  },
  {
   "metadata": {
    "ExecuteTime": {
     "end_time": "2025-04-07T02:59:23.074286Z",
     "start_time": "2025-04-07T02:59:23.072658Z"
    }
   },
   "cell_type": "code",
   "source": [
    "for line in result[:3]:\n",
    "    print(line)"
   ],
   "id": "a83434ff8d3ce94a",
   "outputs": [
    {
     "name": "stdout",
     "output_type": "stream",
     "text": [
      "['here', 'are', 'two', 'reasons', 'companies', 'fail', 'they', 'only', 'do', 'more', 'of', 'the', 'same', 'or', 'they', 'only', 'do', 'what', 's', 'new']\n",
      "['to', 'me', 'the', 'real', 'real', 'solution', 'to', 'quality', 'growth', 'is', 'figuring', 'out', 'the', 'balance', 'between', 'two', 'activities', 'exploration', 'and', 'exploitation']\n",
      "['both', 'are', 'necessary', 'but', 'it', 'can', 'be', 'too', 'much', 'of', 'a', 'good', 'thing']\n"
     ]
    }
   ],
   "execution_count": 7
  },
  {
   "metadata": {
    "ExecuteTime": {
     "end_time": "2025-04-07T02:59:23.081646Z",
     "start_time": "2025-04-07T02:59:23.080037Z"
    }
   },
   "cell_type": "code",
   "source": [
    "from gensim.models import Word2Vec\n",
    "from gensim.models import KeyedVectors"
   ],
   "id": "d6fd6f8c64c11d31",
   "outputs": [],
   "execution_count": 8
  },
  {
   "metadata": {
    "ExecuteTime": {
     "end_time": "2025-04-07T02:59:28.495564Z",
     "start_time": "2025-04-07T02:59:23.087632Z"
    }
   },
   "cell_type": "code",
   "source": "model = Word2Vec(sentences = result, vector_size = 100, window = 5, min_count = 5, workers = 4, sg = 0)",
   "id": "39715d034952fe5",
   "outputs": [],
   "execution_count": 9
  },
  {
   "metadata": {
    "ExecuteTime": {
     "end_time": "2025-04-07T02:59:28.513972Z",
     "start_time": "2025-04-07T02:59:28.500705Z"
    }
   },
   "cell_type": "code",
   "source": [
    "model_result = model.wv.most_similar('man')\n",
    "print(model_result)"
   ],
   "id": "17191b02dff0fe60",
   "outputs": [
    {
     "name": "stdout",
     "output_type": "stream",
     "text": [
      "[('woman', 0.8558642864227295), ('guy', 0.8140443563461304), ('lady', 0.7819306254386902), ('gentleman', 0.7487784624099731), ('boy', 0.7431204915046692), ('girl', 0.7237046957015991), ('soldier', 0.7099740505218506), ('kid', 0.6762632727622986), ('poet', 0.6734153032302856), ('king', 0.6549827456474304)]\n"
     ]
    }
   ],
   "execution_count": 10
  },
  {
   "metadata": {
    "ExecuteTime": {
     "end_time": "2025-04-07T02:59:59.095101Z",
     "start_time": "2025-04-07T02:59:58.092667Z"
    }
   },
   "cell_type": "code",
   "source": [
    "model.wv.save_word2vec_format('eng_w2v') # Model Save\n",
    "loaded_model = KeyedVectors.load_word2vec_format('eng_w2v') # Model Load"
   ],
   "id": "33a230d99a20a89",
   "outputs": [],
   "execution_count": 11
  },
  {
   "metadata": {
    "ExecuteTime": {
     "end_time": "2025-04-07T03:00:13.342706Z",
     "start_time": "2025-04-07T03:00:13.325191Z"
    }
   },
   "cell_type": "code",
   "source": [
    "model_result = loaded_model.most_similar('man')\n",
    "print(model_result)"
   ],
   "id": "49bdbdfc683fd61d",
   "outputs": [
    {
     "name": "stdout",
     "output_type": "stream",
     "text": [
      "[('woman', 0.8558642864227295), ('guy', 0.8140443563461304), ('lady', 0.7819306254386902), ('gentleman', 0.7487784624099731), ('boy', 0.7431204915046692), ('girl', 0.7237046957015991), ('soldier', 0.7099740505218506), ('kid', 0.6762632727622986), ('poet', 0.6734153032302856), ('king', 0.6549827456474304)]\n"
     ]
    }
   ],
   "execution_count": 12
  },
  {
   "metadata": {
    "ExecuteTime": {
     "end_time": "2025-04-07T03:01:40.051283Z",
     "start_time": "2025-04-07T03:01:13.016446Z"
    }
   },
   "cell_type": "code",
   "source": [
    "from gensim.models import FastText\n",
    "model = FastText(result, vector_size = 100, window = 5, min_count = 5, workers = 4, sg = 1)\n",
    "model.wv.most_similar('electrofishing')"
   ],
   "id": "d7c67c84a1c33773",
   "outputs": [
    {
     "data": {
      "text/plain": [
       "[('electrolux', 0.8777033090591431),\n",
       " ('electrolyte', 0.8734944462776184),\n",
       " ('electro', 0.8629311919212341),\n",
       " ('electroshock', 0.8605909943580627),\n",
       " ('electroencephalogram', 0.8488917350769043),\n",
       " ('electrogram', 0.8412416577339172),\n",
       " ('electrochemical', 0.8358049392700195),\n",
       " ('electrons', 0.832940936088562),\n",
       " ('electron', 0.8303800821304321),\n",
       " ('electric', 0.8229766488075256)]"
      ]
     },
     "execution_count": 13,
     "metadata": {},
     "output_type": "execute_result"
    }
   ],
   "execution_count": 13
  },
  {
   "metadata": {},
   "cell_type": "code",
   "outputs": [],
   "execution_count": null,
   "source": "",
   "id": "e0ec241d0c9ad66d"
  }
 ],
 "metadata": {
  "kernelspec": {
   "display_name": "Python 3",
   "language": "python",
   "name": "python3"
  },
  "language_info": {
   "codemirror_mode": {
    "name": "ipython",
    "version": 2
   },
   "file_extension": ".py",
   "mimetype": "text/x-python",
   "name": "python",
   "nbconvert_exporter": "python",
   "pygments_lexer": "ipython2",
   "version": "2.7.6"
  }
 },
 "nbformat": 4,
 "nbformat_minor": 5
}
