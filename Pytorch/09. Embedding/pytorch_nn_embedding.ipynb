{
 "cells": [
  {
   "cell_type": "code",
   "id": "initial_id",
   "metadata": {
    "collapsed": true,
    "ExecuteTime": {
     "end_time": "2025-04-07T03:04:07.613702Z",
     "start_time": "2025-04-07T03:04:06.823590Z"
    }
   },
   "source": [
    "import torch\n",
    "import torch.nn as nn"
   ],
   "outputs": [],
   "execution_count": 1
  },
  {
   "metadata": {
    "ExecuteTime": {
     "end_time": "2025-04-07T03:09:08.415506Z",
     "start_time": "2025-04-07T03:09:08.412403Z"
    }
   },
   "cell_type": "code",
   "source": [
    "train_data = 'you need to know how to code'\n",
    "\n",
    "word_set = set(train_data.split())\n",
    "\n",
    "vocab = {word: i + 2 for i, word in enumerate(word_set)}\n",
    "vocab['<unk>'] = 0\n",
    "vocab['<pad>'] = 1\n",
    "print(vocab)"
   ],
   "id": "7e050f966f1d17c9",
   "outputs": [
    {
     "name": "stdout",
     "output_type": "stream",
     "text": [
      "{'to': 2, 'code': 3, 'you': 4, 'need': 5, 'how': 6, 'know': 7, '<unk>': 0, '<pad>': 1}\n"
     ]
    }
   ],
   "execution_count": 3
  },
  {
   "metadata": {
    "ExecuteTime": {
     "end_time": "2025-04-07T03:09:27.814701Z",
     "start_time": "2025-04-07T03:09:27.809344Z"
    }
   },
   "cell_type": "code",
   "source": [
    "# 단어 집합의 크기만큼의 행을 가지는 테이블 생성.\n",
    "embedding_table = torch.FloatTensor([\n",
    "                               [ 0.0,  0.0,  0.0],\n",
    "                               [ 0.0,  0.0,  0.0],\n",
    "                               [ 0.2,  0.9,  0.3],\n",
    "                               [ 0.1,  0.5,  0.7],\n",
    "                               [ 0.2,  0.1,  0.8],\n",
    "                               [ 0.4,  0.1,  0.1],\n",
    "                               [ 0.1,  0.8,  0.9],\n",
    "                               [ 0.6,  0.1,  0.1]])"
   ],
   "id": "2e3be78178b40eb2",
   "outputs": [],
   "execution_count": 4
  },
  {
   "metadata": {
    "ExecuteTime": {
     "end_time": "2025-04-07T03:10:54.978028Z",
     "start_time": "2025-04-07T03:10:54.972506Z"
    }
   },
   "cell_type": "code",
   "source": [
    "sample = 'you need to run'.split()\n",
    "idxes = []\n",
    "\n",
    "for word in sample:\n",
    "    try:\n",
    "        idxes.append(vocab[word])\n",
    "    except KeyError:\n",
    "        idxes.append(vocab['<unk>'])\n",
    "idxes = torch.LongTensor(idxes)\n",
    "\n",
    "lookup_result = embedding_table[idxes, :]\n",
    "print(lookup_result)"
   ],
   "id": "a65acadf9df38e6d",
   "outputs": [
    {
     "name": "stdout",
     "output_type": "stream",
     "text": [
      "tensor([[0.2000, 0.1000, 0.8000],\n",
      "        [0.4000, 0.1000, 0.1000],\n",
      "        [0.2000, 0.9000, 0.3000],\n",
      "        [0.0000, 0.0000, 0.0000]])\n"
     ]
    }
   ],
   "execution_count": 5
  },
  {
   "metadata": {
    "ExecuteTime": {
     "end_time": "2025-04-07T03:13:46.843468Z",
     "start_time": "2025-04-07T03:13:46.834710Z"
    }
   },
   "cell_type": "code",
   "source": [
    "train_data = 'you need to know how to code'\n",
    "word_set = set(train_data.split())\n",
    "\n",
    "vocab = {tkn: i + 2 for i, tkn in enumerate(word_set)}\n",
    "vocab['<unk>'] = 0\n",
    "vocab['<pad>'] = 1\n",
    "embedding_layer = nn.Embedding(num_embeddings = len(vocab), # 임베딩을 할 단어들의 개수, 다시 말해 단어 집합의 크기\n",
    "                               embedding_dim = 3, # 임베딩 할 벡터의 차원. 사용자가 정해주는 하이퍼파라미터\n",
    "                               padding_idx = 1) # 선택적으로 사용하는 인자, 패딩을 위한 토큰의 인덱스를 알려줌\n",
    "\n",
    "print(embedding_layer.weight)"
   ],
   "id": "1a9eb33a476885f",
   "outputs": [
    {
     "name": "stdout",
     "output_type": "stream",
     "text": [
      "Parameter containing:\n",
      "tensor([[-0.2879, -0.2818,  2.3504],\n",
      "        [ 0.0000,  0.0000,  0.0000],\n",
      "        [-0.4616, -0.9370,  0.7414],\n",
      "        [-2.3912,  1.2502,  0.6708],\n",
      "        [-0.2556, -0.1160, -1.2184],\n",
      "        [-0.5980, -0.3293,  1.3777],\n",
      "        [-1.7601, -0.5837,  0.3375],\n",
      "        [-0.1156, -0.2366, -0.6225]], requires_grad=True)\n"
     ]
    }
   ],
   "execution_count": 6
  },
  {
   "metadata": {},
   "cell_type": "code",
   "outputs": [],
   "execution_count": null,
   "source": "",
   "id": "3b2b9f2aff2e2dc7"
  }
 ],
 "metadata": {
  "kernelspec": {
   "display_name": "Python 3",
   "language": "python",
   "name": "python3"
  },
  "language_info": {
   "codemirror_mode": {
    "name": "ipython",
    "version": 2
   },
   "file_extension": ".py",
   "mimetype": "text/x-python",
   "name": "python",
   "nbconvert_exporter": "python",
   "pygments_lexer": "ipython2",
   "version": "2.7.6"
  }
 },
 "nbformat": 4,
 "nbformat_minor": 5
}
