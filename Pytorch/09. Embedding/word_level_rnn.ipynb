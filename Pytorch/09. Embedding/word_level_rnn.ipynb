{
 "cells": [
  {
   "cell_type": "code",
   "id": "initial_id",
   "metadata": {
    "collapsed": true,
    "ExecuteTime": {
     "end_time": "2025-04-07T06:46:27.811001Z",
     "start_time": "2025-04-07T06:46:27.107353Z"
    }
   },
   "source": [
    "import torch\n",
    "import torch.nn as nn\n",
    "import torch.optim as optim"
   ],
   "outputs": [],
   "execution_count": 1
  },
  {
   "metadata": {
    "ExecuteTime": {
     "end_time": "2025-04-07T06:46:48.895654Z",
     "start_time": "2025-04-07T06:46:48.892642Z"
    }
   },
   "cell_type": "code",
   "source": [
    "sentence = 'Repeat is the best medicine for memory'.split()\n",
    "vocab = list(set(sentence))\n",
    "print(vocab)"
   ],
   "id": "848552ec316a2a2",
   "outputs": [
    {
     "name": "stdout",
     "output_type": "stream",
     "text": [
      "['Repeat', 'best', 'is', 'the', 'medicine', 'memory', 'for']\n"
     ]
    }
   ],
   "execution_count": 2
  },
  {
   "metadata": {
    "ExecuteTime": {
     "end_time": "2025-04-07T06:47:18.905330Z",
     "start_time": "2025-04-07T06:47:18.902304Z"
    }
   },
   "cell_type": "code",
   "source": [
    "word2index = {tkn: i for i, tkn in enumerate(vocab, 1)}\n",
    "word2index[''] = 0"
   ],
   "id": "766649e33061db24",
   "outputs": [],
   "execution_count": 3
  },
  {
   "metadata": {
    "ExecuteTime": {
     "end_time": "2025-04-07T06:47:23.441247Z",
     "start_time": "2025-04-07T06:47:23.437862Z"
    }
   },
   "cell_type": "code",
   "source": "print(word2index['memory'])",
   "id": "a5aebca13ae86848",
   "outputs": [
    {
     "name": "stdout",
     "output_type": "stream",
     "text": [
      "6\n"
     ]
    }
   ],
   "execution_count": 4
  },
  {
   "metadata": {
    "ExecuteTime": {
     "end_time": "2025-04-07T06:47:36.963177Z",
     "start_time": "2025-04-07T06:47:36.960530Z"
    }
   },
   "cell_type": "code",
   "source": [
    "index2word = {v: k for k, v in word2index.items()}\n",
    "print(index2word)"
   ],
   "id": "3c6515fcef3dd25a",
   "outputs": [
    {
     "name": "stdout",
     "output_type": "stream",
     "text": [
      "{1: 'Repeat', 2: 'best', 3: 'is', 4: 'the', 5: 'medicine', 6: 'memory', 7: 'for', 0: ''}\n"
     ]
    }
   ],
   "execution_count": 5
  },
  {
   "metadata": {
    "ExecuteTime": {
     "end_time": "2025-04-07T06:48:57.414473Z",
     "start_time": "2025-04-07T06:48:57.411010Z"
    }
   },
   "cell_type": "code",
   "source": [
    "def build_data(sentence, word2index):\n",
    "    encoded = [word2index[token] for token in sentence] # 각 문자를 정수로 변환\n",
    "    input_seq, label_seq = encoded[:-1], encoded[1:] # 입력 시퀀스와 레이블 시퀀스를 분리\n",
    "    input_seq = torch.LongTensor(input_seq).unsqueeze(0) # 배치 차원 추가\n",
    "    label_seq = torch.LongTensor(label_seq).unsqueeze(0) # 배치 차원 추가\n",
    "    return input_seq, label_seq"
   ],
   "id": "fca2eca05fbb8f54",
   "outputs": [],
   "execution_count": 6
  },
  {
   "metadata": {
    "ExecuteTime": {
     "end_time": "2025-04-07T06:49:01.729613Z",
     "start_time": "2025-04-07T06:49:01.725925Z"
    }
   },
   "cell_type": "code",
   "source": "X, Y = build_data(sentence, word2index)",
   "id": "8415665359a702a5",
   "outputs": [],
   "execution_count": 7
  },
  {
   "metadata": {
    "ExecuteTime": {
     "end_time": "2025-04-07T06:53:31.379530Z",
     "start_time": "2025-04-07T06:53:31.374886Z"
    }
   },
   "cell_type": "code",
   "source": [
    "class Net(nn.Module):\n",
    "    def __init__(self, vocab_size, input_size, hidden_size, batch_first = True):\n",
    "        super(Net, self).__init__()\n",
    "        self.embedding_layer = nn.Embedding(num_embeddings = vocab_size, embedding_dim = input_size) # Word Embedding\n",
    "        self.rnn_layer = nn.RNN(input_size, hidden_size, batch_first = batch_first) # 입력 차원, 은닉 상태의 크기 정의\n",
    "        self.linear = nn.Linear(hidden_size, vocab_size) # 출력은 원-핫 벡터의 크기를 가져야함. 또는 단어 집합의 크기만큼 가져야 함\n",
    "\n",
    "    def forward(self, x):\n",
    "        # 1. Embedding Layer\n",
    "        # 크기 변화: (배치 크기, 시퀀스 길이) => (배치 크기, 시퀀스 길이, 임베딩 차원)\n",
    "        output = self.embedding_layer(x)\n",
    "\n",
    "        # 2. RNN 층\n",
    "        # 크기 변화: (배치 크기, 시퀀스 길이, 임베딩 차원)\n",
    "        # => output (배치 크기, 시퀀스 길이, 은닉층 크기), hidden (1, 배치 크기, 은닉층 크기)\n",
    "        output, hidden = self.rnn_layer(output)\n",
    "\n",
    "        # 3. 최종 출력 층\n",
    "        # 크기 변화: (배치 크기, 시퀀스 길이, 은닉층 크기) => (배치 크기, 시퀀스 길이, 단어장 크기)\n",
    "        output = self.linear(output)\n",
    "\n",
    "        # 4. view를 통해서 배치 차원 제거\n",
    "        # 크기 변화: (배치 크기, 시퀀스 길이, 단어장 크기) => (배치 크기*시퀀스 길이, 단어장 크기)\n",
    "        return output.view(-1, output.size(2))"
   ],
   "id": "a20a2d32971031c5",
   "outputs": [],
   "execution_count": 8
  },
  {
   "metadata": {
    "ExecuteTime": {
     "end_time": "2025-04-07T06:54:18.495425Z",
     "start_time": "2025-04-07T06:54:18.493341Z"
    }
   },
   "cell_type": "code",
   "source": [
    "vocab_size = len(word2index) # 단어장의 크기는 임베딩 층, 최종 출력층에 사용된다. 토큰을 크기에 포함한다\n",
    "input_size = 5 # 임베딩 된 차원의 크기 및 RNN 층 입력 차원의 크기\n",
    "hidden_size = 20 # RNN의 은닉층 크기"
   ],
   "id": "8231fbe5e7bce1e4",
   "outputs": [],
   "execution_count": 9
  },
  {
   "metadata": {
    "ExecuteTime": {
     "end_time": "2025-04-07T06:54:56.664913Z",
     "start_time": "2025-04-07T06:54:56.105238Z"
    }
   },
   "cell_type": "code",
   "source": [
    "model = Net(vocab_size, input_size, hidden_size, batch_first = True)\n",
    "loss_func = nn.CrossEntropyLoss()\n",
    "optimizer = optim.Adam(params = model.parameters())\n",
    "\n",
    "output = model(X)\n",
    "print(output)"
   ],
   "id": "5294e7a69ca4f15a",
   "outputs": [
    {
     "name": "stdout",
     "output_type": "stream",
     "text": [
      "tensor([[-0.1881,  0.2414, -0.2003,  0.1540,  0.5311, -0.1876,  0.1616, -0.4516],\n",
      "        [ 0.1173,  0.0650,  0.1111,  0.2593, -0.1003, -0.0709,  0.3022,  0.3288],\n",
      "        [-0.2729,  0.4813, -0.0122,  0.3854,  0.2483, -0.3025, -0.1151, -0.3288],\n",
      "        [-0.0434,  0.3140, -0.0732, -0.0345,  0.5671,  0.0079, -0.2296, -0.3975],\n",
      "        [ 0.3499,  0.2116,  0.3907, -0.1391, -0.0119,  0.2758,  0.0632,  0.4179],\n",
      "        [-0.2331,  0.2217,  0.0028,  0.4986,  0.2343, -0.5861,  0.2349,  0.2304]],\n",
      "       grad_fn=<ViewBackward0>)\n"
     ]
    }
   ],
   "execution_count": 10
  },
  {
   "metadata": {
    "ExecuteTime": {
     "end_time": "2025-04-07T06:55:05.452359Z",
     "start_time": "2025-04-07T06:55:05.449412Z"
    }
   },
   "cell_type": "code",
   "source": "print(output.shape)",
   "id": "21d279cb07595620",
   "outputs": [
    {
     "name": "stdout",
     "output_type": "stream",
     "text": [
      "torch.Size([6, 8])\n"
     ]
    }
   ],
   "execution_count": 11
  },
  {
   "metadata": {
    "ExecuteTime": {
     "end_time": "2025-04-07T06:55:20.284305Z",
     "start_time": "2025-04-07T06:55:20.281464Z"
    }
   },
   "cell_type": "code",
   "source": "decode = lambda y: [index2word.get(x) for x in y]",
   "id": "eaaeb578b6e61028",
   "outputs": [],
   "execution_count": 12
  },
  {
   "metadata": {
    "ExecuteTime": {
     "end_time": "2025-04-07T06:57:09.182769Z",
     "start_time": "2025-04-07T06:57:09.073252Z"
    }
   },
   "cell_type": "code",
   "source": [
    "for step in range(201):\n",
    "    # 경사 초기화\n",
    "    optimizer.zero_grad()\n",
    "    # 순방향 전파\n",
    "    output = model(X)\n",
    "    # 손실 값 계산\n",
    "    loss = loss_func(output, Y.view(-1))\n",
    "    # 역방향 전파\n",
    "    loss.backward()\n",
    "    # 매개변수 업데이트\n",
    "    optimizer.step()\n",
    "\n",
    "    if step % 40 == 0:\n",
    "        print(\"[{:02d}/201] {:.4f} \".format(step+1, loss))\n",
    "        pred = output.softmax(-1).argmax(-1).tolist()\n",
    "        print(' '.join(['Repeat'] + decode(pred)))\n",
    "        print()"
   ],
   "id": "b538e6c788d4f7e0",
   "outputs": [
    {
     "name": "stdout",
     "output_type": "stream",
     "text": [
      "[01/201] 2.0685 \n",
      "Repeat the for Repeat the for is\n",
      "\n",
      "[41/201] 1.4013 \n",
      "Repeat is the best medicine for memory\n",
      "\n",
      "[81/201] 0.7908 \n",
      "Repeat is the best medicine for memory\n",
      "\n",
      "[121/201] 0.4139 \n",
      "Repeat is the best medicine for memory\n",
      "\n",
      "[161/201] 0.2309 \n",
      "Repeat is the best medicine for memory\n",
      "\n",
      "[201/201] 0.1434 \n",
      "Repeat is the best medicine for memory\n",
      "\n"
     ]
    }
   ],
   "execution_count": 13
  },
  {
   "metadata": {},
   "cell_type": "code",
   "outputs": [],
   "execution_count": null,
   "source": "",
   "id": "864342c4e4a68b"
  }
 ],
 "metadata": {
  "kernelspec": {
   "display_name": "Python 3",
   "language": "python",
   "name": "python3"
  },
  "language_info": {
   "codemirror_mode": {
    "name": "ipython",
    "version": 2
   },
   "file_extension": ".py",
   "mimetype": "text/x-python",
   "name": "python",
   "nbconvert_exporter": "python",
   "pygments_lexer": "ipython2",
   "version": "2.7.6"
  }
 },
 "nbformat": 4,
 "nbformat_minor": 5
}
