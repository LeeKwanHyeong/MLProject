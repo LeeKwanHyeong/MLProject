{
 "cells": [
  {
   "cell_type": "code",
   "id": "initial_id",
   "metadata": {
    "collapsed": true,
    "ExecuteTime": {
     "end_time": "2025-04-03T07:49:08.694653Z",
     "start_time": "2025-04-03T07:49:08.691545Z"
    }
   },
   "source": "import re",
   "outputs": [],
   "execution_count": 1
  },
  {
   "metadata": {
    "ExecuteTime": {
     "end_time": "2025-04-03T07:49:29.837926Z",
     "start_time": "2025-04-03T07:49:29.834859Z"
    }
   },
   "cell_type": "code",
   "source": [
    "r = re.compile('a.c')\n",
    "r.search('kkk')"
   ],
   "id": "712070c74b5887a4",
   "outputs": [],
   "execution_count": 2
  },
  {
   "metadata": {
    "ExecuteTime": {
     "end_time": "2025-04-03T07:49:37.430269Z",
     "start_time": "2025-04-03T07:49:37.423811Z"
    }
   },
   "cell_type": "code",
   "source": "r.search('abc')",
   "id": "f17400e0c2d072ae",
   "outputs": [
    {
     "data": {
      "text/plain": [
       "<re.Match object; span=(0, 3), match='abc'>"
      ]
     },
     "execution_count": 3,
     "metadata": {},
     "output_type": "execute_result"
    }
   ],
   "execution_count": 3
  },
  {
   "metadata": {
    "ExecuteTime": {
     "end_time": "2025-04-03T07:50:02.374317Z",
     "start_time": "2025-04-03T07:50:02.371375Z"
    }
   },
   "cell_type": "code",
   "source": [
    "r = re.compile('ab?c')\n",
    "r.search('abbc')"
   ],
   "id": "41f75f211ec8ba58",
   "outputs": [],
   "execution_count": 4
  },
  {
   "metadata": {
    "ExecuteTime": {
     "end_time": "2025-04-03T07:50:07.023646Z",
     "start_time": "2025-04-03T07:50:07.019786Z"
    }
   },
   "cell_type": "code",
   "source": "r.search('abc')",
   "id": "5b69907adc233382",
   "outputs": [
    {
     "data": {
      "text/plain": [
       "<re.Match object; span=(0, 3), match='abc'>"
      ]
     },
     "execution_count": 5,
     "metadata": {},
     "output_type": "execute_result"
    }
   ],
   "execution_count": 5
  },
  {
   "metadata": {
    "ExecuteTime": {
     "end_time": "2025-04-03T07:50:17.297854Z",
     "start_time": "2025-04-03T07:50:17.294213Z"
    }
   },
   "cell_type": "code",
   "source": "r.search('ac')",
   "id": "4ea68816fe41a60f",
   "outputs": [
    {
     "data": {
      "text/plain": [
       "<re.Match object; span=(0, 2), match='ac'>"
      ]
     },
     "execution_count": 6,
     "metadata": {},
     "output_type": "execute_result"
    }
   ],
   "execution_count": 6
  },
  {
   "metadata": {
    "ExecuteTime": {
     "end_time": "2025-04-03T07:50:37.099410Z",
     "start_time": "2025-04-03T07:50:37.096837Z"
    }
   },
   "cell_type": "code",
   "source": [
    "r = re.compile('ab*c')\n",
    "r.search('a')"
   ],
   "id": "68703663743068fb",
   "outputs": [],
   "execution_count": 7
  },
  {
   "metadata": {
    "ExecuteTime": {
     "end_time": "2025-04-03T07:50:41.256388Z",
     "start_time": "2025-04-03T07:50:41.252750Z"
    }
   },
   "cell_type": "code",
   "source": "r.search('ac')",
   "id": "5911d36b1112e115",
   "outputs": [
    {
     "data": {
      "text/plain": [
       "<re.Match object; span=(0, 2), match='ac'>"
      ]
     },
     "execution_count": 8,
     "metadata": {},
     "output_type": "execute_result"
    }
   ],
   "execution_count": 8
  },
  {
   "metadata": {
    "ExecuteTime": {
     "end_time": "2025-04-03T07:50:47.703403Z",
     "start_time": "2025-04-03T07:50:47.699725Z"
    }
   },
   "cell_type": "code",
   "source": "r.search('abc')",
   "id": "27f99e7e727ef40b",
   "outputs": [
    {
     "data": {
      "text/plain": [
       "<re.Match object; span=(0, 3), match='abc'>"
      ]
     },
     "execution_count": 9,
     "metadata": {},
     "output_type": "execute_result"
    }
   ],
   "execution_count": 9
  },
  {
   "metadata": {
    "ExecuteTime": {
     "end_time": "2025-04-03T07:50:55.113469Z",
     "start_time": "2025-04-03T07:50:55.109858Z"
    }
   },
   "cell_type": "code",
   "source": "r.search('abbbbc')",
   "id": "b9a637816270ddc0",
   "outputs": [
    {
     "data": {
      "text/plain": [
       "<re.Match object; span=(0, 6), match='abbbbc'>"
      ]
     },
     "execution_count": 10,
     "metadata": {},
     "output_type": "execute_result"
    }
   ],
   "execution_count": 10
  },
  {
   "metadata": {
    "ExecuteTime": {
     "end_time": "2025-04-03T07:51:10.264586Z",
     "start_time": "2025-04-03T07:51:10.262423Z"
    }
   },
   "cell_type": "code",
   "source": [
    "r = re.compile('ab+c')\n",
    "r.search('ac')"
   ],
   "id": "dd71cce1987d668b",
   "outputs": [],
   "execution_count": 11
  },
  {
   "metadata": {
    "ExecuteTime": {
     "end_time": "2025-04-03T07:51:16.012160Z",
     "start_time": "2025-04-03T07:51:16.008729Z"
    }
   },
   "cell_type": "code",
   "source": "r.search('abc')",
   "id": "7ea749bf7addd1e7",
   "outputs": [
    {
     "data": {
      "text/plain": [
       "<re.Match object; span=(0, 3), match='abc'>"
      ]
     },
     "execution_count": 12,
     "metadata": {},
     "output_type": "execute_result"
    }
   ],
   "execution_count": 12
  },
  {
   "metadata": {
    "ExecuteTime": {
     "end_time": "2025-04-03T07:51:23.760428Z",
     "start_time": "2025-04-03T07:51:23.757129Z"
    }
   },
   "cell_type": "code",
   "source": "r.search('abbbbc')",
   "id": "f7dcbc70df8d06d7",
   "outputs": [
    {
     "data": {
      "text/plain": [
       "<re.Match object; span=(0, 6), match='abbbbc'>"
      ]
     },
     "execution_count": 13,
     "metadata": {},
     "output_type": "execute_result"
    }
   ],
   "execution_count": 13
  },
  {
   "metadata": {
    "ExecuteTime": {
     "end_time": "2025-04-03T07:51:41.961657Z",
     "start_time": "2025-04-03T07:51:41.958512Z"
    }
   },
   "cell_type": "code",
   "source": [
    "r = re.compile('^ab')\n",
    "r.search('bbc')\n",
    "r.search('zab')"
   ],
   "id": "e14b0d2663ad12d9",
   "outputs": [],
   "execution_count": 14
  },
  {
   "metadata": {
    "ExecuteTime": {
     "end_time": "2025-04-03T07:51:47.002564Z",
     "start_time": "2025-04-03T07:51:46.998717Z"
    }
   },
   "cell_type": "code",
   "source": "r.search('abz')",
   "id": "7d5853028ef23dc6",
   "outputs": [
    {
     "data": {
      "text/plain": [
       "<re.Match object; span=(0, 2), match='ab'>"
      ]
     },
     "execution_count": 15,
     "metadata": {},
     "output_type": "execute_result"
    }
   ],
   "execution_count": 15
  },
  {
   "metadata": {
    "ExecuteTime": {
     "end_time": "2025-04-03T07:52:18.501049Z",
     "start_time": "2025-04-03T07:52:18.498294Z"
    }
   },
   "cell_type": "code",
   "source": [
    "r = re.compile('ab{2}c')\n",
    "r.search('ac')\n",
    "r.search('abc')\n",
    "r.search('abbbbbc')"
   ],
   "id": "b1bbefc3e0432f9f",
   "outputs": [],
   "execution_count": 16
  },
  {
   "metadata": {
    "ExecuteTime": {
     "end_time": "2025-04-03T07:52:22.640187Z",
     "start_time": "2025-04-03T07:52:22.636657Z"
    }
   },
   "cell_type": "code",
   "source": "r.search('abbc')",
   "id": "576251daeae3067d",
   "outputs": [
    {
     "data": {
      "text/plain": [
       "<re.Match object; span=(0, 4), match='abbc'>"
      ]
     },
     "execution_count": 17,
     "metadata": {},
     "output_type": "execute_result"
    }
   ],
   "execution_count": 17
  },
  {
   "metadata": {
    "ExecuteTime": {
     "end_time": "2025-04-03T07:52:55.992830Z",
     "start_time": "2025-04-03T07:52:55.989908Z"
    }
   },
   "cell_type": "code",
   "source": [
    "r = re.compile('ab{2,8}c')\n",
    "r.search('ac')\n",
    "r.search('abc')\n",
    "r.search('abbbbbbbbbc')\n"
   ],
   "id": "f450192e2d906c9e",
   "outputs": [],
   "execution_count": 18
  },
  {
   "metadata": {
    "ExecuteTime": {
     "end_time": "2025-04-03T07:53:00.740099Z",
     "start_time": "2025-04-03T07:53:00.736795Z"
    }
   },
   "cell_type": "code",
   "source": "r.search('abbc')",
   "id": "c1f67c64298272ea",
   "outputs": [
    {
     "data": {
      "text/plain": [
       "<re.Match object; span=(0, 4), match='abbc'>"
      ]
     },
     "execution_count": 19,
     "metadata": {},
     "output_type": "execute_result"
    }
   ],
   "execution_count": 19
  },
  {
   "metadata": {
    "ExecuteTime": {
     "end_time": "2025-04-03T07:53:05.544931Z",
     "start_time": "2025-04-03T07:53:05.541376Z"
    }
   },
   "cell_type": "code",
   "source": "r.search('abbbbbbbbc')",
   "id": "7db730faeffe1e18",
   "outputs": [
    {
     "data": {
      "text/plain": [
       "<re.Match object; span=(0, 10), match='abbbbbbbbc'>"
      ]
     },
     "execution_count": 20,
     "metadata": {},
     "output_type": "execute_result"
    }
   ],
   "execution_count": 20
  },
  {
   "metadata": {
    "ExecuteTime": {
     "end_time": "2025-04-03T07:53:48.983690Z",
     "start_time": "2025-04-03T07:53:48.981662Z"
    }
   },
   "cell_type": "code",
   "source": [
    "r = re.compile('a{2,}bc')\n",
    "r.search('bc')\n",
    "r.search('aa')"
   ],
   "id": "b7bcf787b1b21e49",
   "outputs": [],
   "execution_count": 21
  },
  {
   "metadata": {
    "ExecuteTime": {
     "end_time": "2025-04-03T07:53:55.467475Z",
     "start_time": "2025-04-03T07:53:55.463887Z"
    }
   },
   "cell_type": "code",
   "source": "r.search('aabc')",
   "id": "c189bd56ddbc348b",
   "outputs": [
    {
     "data": {
      "text/plain": [
       "<re.Match object; span=(0, 4), match='aabc'>"
      ]
     },
     "execution_count": 22,
     "metadata": {},
     "output_type": "execute_result"
    }
   ],
   "execution_count": 22
  },
  {
   "metadata": {
    "ExecuteTime": {
     "end_time": "2025-04-03T07:54:05.082176Z",
     "start_time": "2025-04-03T07:54:05.078676Z"
    }
   },
   "cell_type": "code",
   "source": "r.search('aaaaaaaabc')",
   "id": "b88a28a22ebcc85c",
   "outputs": [
    {
     "data": {
      "text/plain": [
       "<re.Match object; span=(0, 10), match='aaaaaaaabc'>"
      ]
     },
     "execution_count": 23,
     "metadata": {},
     "output_type": "execute_result"
    }
   ],
   "execution_count": 23
  },
  {
   "metadata": {
    "ExecuteTime": {
     "end_time": "2025-04-03T07:54:22.676899Z",
     "start_time": "2025-04-03T07:54:22.674164Z"
    }
   },
   "cell_type": "code",
   "source": [
    "r = re.compile('[abc]')\n",
    "r.search('zzz')"
   ],
   "id": "b41247b8777c2bba",
   "outputs": [],
   "execution_count": 24
  },
  {
   "metadata": {
    "ExecuteTime": {
     "end_time": "2025-04-03T07:54:26.895038Z",
     "start_time": "2025-04-03T07:54:26.890725Z"
    }
   },
   "cell_type": "code",
   "source": "r.search('a')",
   "id": "aea4e329e4be53e8",
   "outputs": [
    {
     "data": {
      "text/plain": [
       "<re.Match object; span=(0, 1), match='a'>"
      ]
     },
     "execution_count": 25,
     "metadata": {},
     "output_type": "execute_result"
    }
   ],
   "execution_count": 25
  },
  {
   "metadata": {
    "ExecuteTime": {
     "end_time": "2025-04-03T07:54:33.478256Z",
     "start_time": "2025-04-03T07:54:33.474230Z"
    }
   },
   "cell_type": "code",
   "source": "r.search('aaaaaaa')",
   "id": "860c60b89fbaf7a3",
   "outputs": [
    {
     "data": {
      "text/plain": [
       "<re.Match object; span=(0, 1), match='a'>"
      ]
     },
     "execution_count": 26,
     "metadata": {},
     "output_type": "execute_result"
    }
   ],
   "execution_count": 26
  },
  {
   "metadata": {
    "ExecuteTime": {
     "end_time": "2025-04-03T07:54:39.099244Z",
     "start_time": "2025-04-03T07:54:39.096185Z"
    }
   },
   "cell_type": "code",
   "source": "r.search('baac')",
   "id": "a31c59c8c7690bcd",
   "outputs": [
    {
     "data": {
      "text/plain": [
       "<re.Match object; span=(0, 1), match='b'>"
      ]
     },
     "execution_count": 27,
     "metadata": {},
     "output_type": "execute_result"
    }
   ],
   "execution_count": 27
  },
  {
   "metadata": {
    "ExecuteTime": {
     "end_time": "2025-04-03T07:55:03.928081Z",
     "start_time": "2025-04-03T07:55:03.926044Z"
    }
   },
   "cell_type": "code",
   "source": [
    "r = re.compile('[a-z]')\n",
    "r.search('AAA')\n",
    "r.search('111')"
   ],
   "id": "124af9ea7ce98aab",
   "outputs": [],
   "execution_count": 28
  },
  {
   "metadata": {
    "ExecuteTime": {
     "end_time": "2025-04-03T07:55:10.307375Z",
     "start_time": "2025-04-03T07:55:10.304776Z"
    }
   },
   "cell_type": "code",
   "source": "r.search('aBC')",
   "id": "e3ba39a7db85e767",
   "outputs": [
    {
     "data": {
      "text/plain": [
       "<re.Match object; span=(0, 1), match='a'>"
      ]
     },
     "execution_count": 29,
     "metadata": {},
     "output_type": "execute_result"
    }
   ],
   "execution_count": 29
  },
  {
   "metadata": {
    "ExecuteTime": {
     "end_time": "2025-04-03T07:55:33.736471Z",
     "start_time": "2025-04-03T07:55:33.733528Z"
    }
   },
   "cell_type": "code",
   "source": [
    "r = re.compile('[^abc]')\n",
    "r.search('a')\n",
    "r.search('ab')\n",
    "r.search('b')"
   ],
   "id": "84621f0861f146c6",
   "outputs": [],
   "execution_count": 30
  },
  {
   "metadata": {
    "ExecuteTime": {
     "end_time": "2025-04-03T07:55:37.472561Z",
     "start_time": "2025-04-03T07:55:37.469038Z"
    }
   },
   "cell_type": "code",
   "source": "r.search('d')",
   "id": "4483b9f087e9cc98",
   "outputs": [
    {
     "data": {
      "text/plain": [
       "<re.Match object; span=(0, 1), match='d'>"
      ]
     },
     "execution_count": 31,
     "metadata": {},
     "output_type": "execute_result"
    }
   ],
   "execution_count": 31
  },
  {
   "metadata": {
    "ExecuteTime": {
     "end_time": "2025-04-03T07:55:41.118065Z",
     "start_time": "2025-04-03T07:55:41.114262Z"
    }
   },
   "cell_type": "code",
   "source": "r.search('1')",
   "id": "7286c1d79311ab5b",
   "outputs": [
    {
     "data": {
      "text/plain": [
       "<re.Match object; span=(0, 1), match='1'>"
      ]
     },
     "execution_count": 32,
     "metadata": {},
     "output_type": "execute_result"
    }
   ],
   "execution_count": 32
  },
  {
   "metadata": {
    "ExecuteTime": {
     "end_time": "2025-04-03T07:56:34.153981Z",
     "start_time": "2025-04-03T07:56:34.149346Z"
    }
   },
   "cell_type": "code",
   "source": [
    "r = re.compile('ab.')\n",
    "r.match('kkkabc')\n",
    "r.search('kkkabc')"
   ],
   "id": "1753ea87a66a3795",
   "outputs": [
    {
     "data": {
      "text/plain": [
       "<re.Match object; span=(3, 6), match='abc'>"
      ]
     },
     "execution_count": 34,
     "metadata": {},
     "output_type": "execute_result"
    }
   ],
   "execution_count": 34
  },
  {
   "metadata": {
    "ExecuteTime": {
     "end_time": "2025-04-03T07:56:42.559614Z",
     "start_time": "2025-04-03T07:56:42.555982Z"
    }
   },
   "cell_type": "code",
   "source": "r.match('abckkk')",
   "id": "3ff32c177ad9cdae",
   "outputs": [
    {
     "data": {
      "text/plain": [
       "<re.Match object; span=(0, 3), match='abc'>"
      ]
     },
     "execution_count": 35,
     "metadata": {},
     "output_type": "execute_result"
    }
   ],
   "execution_count": 35
  },
  {
   "metadata": {
    "ExecuteTime": {
     "end_time": "2025-04-03T07:57:06.430018Z",
     "start_time": "2025-04-03T07:57:06.427239Z"
    }
   },
   "cell_type": "code",
   "source": [
    "text = '사과 딸기 수박 메론 바나나'\n",
    "re.split(' ', text)"
   ],
   "id": "86455ffd8c1a1473",
   "outputs": [
    {
     "data": {
      "text/plain": [
       "['사과', '딸기', '수박', '메론', '바나나']"
      ]
     },
     "execution_count": 36,
     "metadata": {},
     "output_type": "execute_result"
    }
   ],
   "execution_count": 36
  },
  {
   "metadata": {
    "ExecuteTime": {
     "end_time": "2025-04-03T07:57:26.455391Z",
     "start_time": "2025-04-03T07:57:26.451751Z"
    }
   },
   "cell_type": "code",
   "source": "re.split('\\n', text)",
   "id": "6f39b4bdd4aabd54",
   "outputs": [
    {
     "data": {
      "text/plain": [
       "['사과 딸기 수박 메론 바나나']"
      ]
     },
     "execution_count": 37,
     "metadata": {},
     "output_type": "execute_result"
    }
   ],
   "execution_count": 37
  },
  {
   "metadata": {
    "ExecuteTime": {
     "end_time": "2025-04-03T07:57:46.180647Z",
     "start_time": "2025-04-03T07:57:46.176790Z"
    }
   },
   "cell_type": "code",
   "source": [
    "text = '사과+딸기+수박+메론+바나나'\n",
    "re.split('\\+', text)"
   ],
   "id": "4e3cd504635ae9c1",
   "outputs": [
    {
     "data": {
      "text/plain": [
       "['사과', '딸기', '수박', '메론', '바나나']"
      ]
     },
     "execution_count": 38,
     "metadata": {},
     "output_type": "execute_result"
    }
   ],
   "execution_count": 38
  },
  {
   "metadata": {
    "ExecuteTime": {
     "end_time": "2025-04-03T07:58:06.225187Z",
     "start_time": "2025-04-03T07:58:06.221598Z"
    }
   },
   "cell_type": "code",
   "source": [
    "text = \"\"\"이름 : 김철수\n",
    "전화번호 : 010 - 1234 - 1234\n",
    "나이 : 30\n",
    "성별 : 남\"\"\"\n",
    "\n",
    "re.findall(\"\\d+\",text)"
   ],
   "id": "bfdd14c1342113b8",
   "outputs": [
    {
     "data": {
      "text/plain": [
       "['010', '1234', '1234', '30']"
      ]
     },
     "execution_count": 39,
     "metadata": {},
     "output_type": "execute_result"
    }
   ],
   "execution_count": 39
  },
  {
   "metadata": {
    "ExecuteTime": {
     "end_time": "2025-04-03T07:58:13.089782Z",
     "start_time": "2025-04-03T07:58:13.086156Z"
    }
   },
   "cell_type": "code",
   "source": "re.findall(\"\\d+\", \"문자열입니다.\")",
   "id": "7efc61622861d590",
   "outputs": [
    {
     "data": {
      "text/plain": [
       "[]"
      ]
     },
     "execution_count": 40,
     "metadata": {},
     "output_type": "execute_result"
    }
   ],
   "execution_count": 40
  },
  {
   "metadata": {
    "ExecuteTime": {
     "end_time": "2025-04-03T07:58:18.589285Z",
     "start_time": "2025-04-03T07:58:18.587356Z"
    }
   },
   "cell_type": "code",
   "source": [
    "text = \"Regular expression : A regular expression, regex or regexp[1] (sometimes called a rational expression)[2][3] is, in theoretical computer science and formal language theory, a sequence of characters that define a search pattern.\"\n",
    "\n",
    "preprocessed_text = re.sub('[^a-zA-Z]', ' ', text)\n",
    "print(preprocessed_text)"
   ],
   "id": "5143b9ccc45b0c99",
   "outputs": [
    {
     "name": "stdout",
     "output_type": "stream",
     "text": [
      "Regular expression   A regular expression  regex or regexp     sometimes called a rational expression        is  in theoretical computer science and formal language theory  a sequence of characters that define a search pattern \n"
     ]
    }
   ],
   "execution_count": 41
  },
  {
   "metadata": {
    "ExecuteTime": {
     "end_time": "2025-04-03T07:58:55.875642Z",
     "start_time": "2025-04-03T07:58:55.871275Z"
    }
   },
   "cell_type": "code",
   "source": [
    "text = \"\"\"100 John    PROF\n",
    "101 James   STUD\n",
    "102 Mac   STUD\"\"\"\n",
    "\n",
    "re.split('\\s+', text)"
   ],
   "id": "e565f146f8b53987",
   "outputs": [
    {
     "data": {
      "text/plain": [
       "['100', 'John', 'PROF', '101', 'James', 'STUD', '102', 'Mac', 'STUD']"
      ]
     },
     "execution_count": 42,
     "metadata": {},
     "output_type": "execute_result"
    }
   ],
   "execution_count": 42
  },
  {
   "metadata": {
    "ExecuteTime": {
     "end_time": "2025-04-03T07:59:01.287676Z",
     "start_time": "2025-04-03T07:59:01.285317Z"
    }
   },
   "cell_type": "code",
   "source": "re.findall('\\d+',text)\n",
   "id": "925c66df27c56ca6",
   "outputs": [
    {
     "data": {
      "text/plain": [
       "['100', '101', '102']"
      ]
     },
     "execution_count": 43,
     "metadata": {},
     "output_type": "execute_result"
    }
   ],
   "execution_count": 43
  },
  {
   "metadata": {
    "ExecuteTime": {
     "end_time": "2025-04-03T07:59:07.206819Z",
     "start_time": "2025-04-03T07:59:07.204258Z"
    }
   },
   "cell_type": "code",
   "source": "re.findall('[A-Z]',text)\n",
   "id": "d8d3ef1f8ba09739",
   "outputs": [
    {
     "data": {
      "text/plain": [
       "['J', 'P', 'R', 'O', 'F', 'J', 'S', 'T', 'U', 'D', 'M', 'S', 'T', 'U', 'D']"
      ]
     },
     "execution_count": 44,
     "metadata": {},
     "output_type": "execute_result"
    }
   ],
   "execution_count": 44
  },
  {
   "metadata": {
    "ExecuteTime": {
     "end_time": "2025-04-03T07:59:11.765848Z",
     "start_time": "2025-04-03T07:59:11.762991Z"
    }
   },
   "cell_type": "code",
   "source": "re.findall('[A-Z]{4}',text)\n",
   "id": "b704c5538258a37",
   "outputs": [
    {
     "data": {
      "text/plain": [
       "['PROF', 'STUD', 'STUD']"
      ]
     },
     "execution_count": 45,
     "metadata": {},
     "output_type": "execute_result"
    }
   ],
   "execution_count": 45
  },
  {
   "metadata": {
    "ExecuteTime": {
     "end_time": "2025-04-03T07:59:17.402409Z",
     "start_time": "2025-04-03T07:59:17.399426Z"
    }
   },
   "cell_type": "code",
   "source": "re.findall('[A-Z][a-z]+',text)\n",
   "id": "fb65592e01151831",
   "outputs": [
    {
     "data": {
      "text/plain": [
       "['John', 'James', 'Mac']"
      ]
     },
     "execution_count": 46,
     "metadata": {},
     "output_type": "execute_result"
    }
   ],
   "execution_count": 46
  },
  {
   "metadata": {
    "ExecuteTime": {
     "end_time": "2025-04-03T08:00:06.395452Z",
     "start_time": "2025-04-03T08:00:05.610960Z"
    }
   },
   "cell_type": "code",
   "source": [
    "from nltk.tokenize import RegexpTokenizer\n",
    "\n",
    "text = \"Don't be fooled by the dark sounding name, Mr. Jone's Orphanage is as cheery as cheery goes for a pastry shop\"\n",
    "\n",
    "tokenizer1 = RegexpTokenizer(\"[\\w]+\")\n",
    "tokenizer2 = RegexpTokenizer(\"[\\s]+\", gaps=True)\n",
    "\n",
    "print(tokenizer1.tokenize(text))\n",
    "print(tokenizer2.tokenize(text))"
   ],
   "id": "7f5fc1a5d1749109",
   "outputs": [
    {
     "name": "stdout",
     "output_type": "stream",
     "text": [
      "['Don', 't', 'be', 'fooled', 'by', 'the', 'dark', 'sounding', 'name', 'Mr', 'Jone', 's', 'Orphanage', 'is', 'as', 'cheery', 'as', 'cheery', 'goes', 'for', 'a', 'pastry', 'shop']\n",
      "[\"Don't\", 'be', 'fooled', 'by', 'the', 'dark', 'sounding', 'name,', 'Mr.', \"Jone's\", 'Orphanage', 'is', 'as', 'cheery', 'as', 'cheery', 'goes', 'for', 'a', 'pastry', 'shop']\n"
     ]
    }
   ],
   "execution_count": 47
  },
  {
   "metadata": {},
   "cell_type": "code",
   "outputs": [],
   "execution_count": null,
   "source": "",
   "id": "277656e86395b653"
  }
 ],
 "metadata": {
  "kernelspec": {
   "display_name": "Python 3",
   "language": "python",
   "name": "python3"
  },
  "language_info": {
   "codemirror_mode": {
    "name": "ipython",
    "version": 2
   },
   "file_extension": ".py",
   "mimetype": "text/x-python",
   "name": "python",
   "nbconvert_exporter": "python",
   "pygments_lexer": "ipython2",
   "version": "2.7.6"
  }
 },
 "nbformat": 4,
 "nbformat_minor": 5
}
