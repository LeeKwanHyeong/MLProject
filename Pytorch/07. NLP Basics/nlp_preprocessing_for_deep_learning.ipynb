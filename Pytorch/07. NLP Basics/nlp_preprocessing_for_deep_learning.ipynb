{
 "cells": [
  {
   "cell_type": "code",
   "id": "initial_id",
   "metadata": {
    "collapsed": true,
    "ExecuteTime": {
     "end_time": "2025-04-03T08:01:34.068993Z",
     "start_time": "2025-04-03T08:01:34.065463Z"
    }
   },
   "source": "en_text = \"A Dog Run back corner near spare bedrooms\"",
   "outputs": [],
   "execution_count": 1
  },
  {
   "metadata": {
    "ExecuteTime": {
     "end_time": "2025-04-03T08:06:05.128822Z",
     "start_time": "2025-04-03T08:06:04.240821Z"
    }
   },
   "cell_type": "code",
   "source": [
    "import nltk\n",
    "nltk.download('punkt')\n",
    "from nltk.tokenize import word_tokenize\n",
    "print(word_tokenize(en_text))"
   ],
   "id": "128887a446da1667",
   "outputs": [
    {
     "name": "stdout",
     "output_type": "stream",
     "text": [
      "['A', 'Dog', 'Run', 'back', 'corner', 'near', 'spare', 'bedrooms']\n"
     ]
    },
    {
     "name": "stderr",
     "output_type": "stream",
     "text": [
      "[nltk_data] Downloading package punkt to\n",
      "[nltk_data]     /Users/igwanhyeong/nltk_data...\n",
      "[nltk_data]   Package punkt is already up-to-date!\n"
     ]
    }
   ],
   "execution_count": 3
  },
  {
   "metadata": {
    "ExecuteTime": {
     "end_time": "2025-04-03T08:23:35.212656Z",
     "start_time": "2025-04-03T08:23:35.206952Z"
    }
   },
   "cell_type": "code",
   "source": "print(en_text.split())",
   "id": "e9ab220a0593ab8",
   "outputs": [
    {
     "name": "stdout",
     "output_type": "stream",
     "text": [
      "['A', 'Dog', 'Run', 'back', 'corner', 'near', 'spare', 'bedrooms']\n"
     ]
    }
   ],
   "execution_count": 4
  },
  {
   "metadata": {
    "ExecuteTime": {
     "end_time": "2025-04-03T08:23:49.472414Z",
     "start_time": "2025-04-03T08:23:49.468704Z"
    }
   },
   "cell_type": "code",
   "source": [
    "kor_text = \"사과의 놀라운 효능이라는 글을 봤어. 그래서 오늘 사과를 먹으려고 했는데 사과가 썩어서 슈퍼에 가서 사과랑 오렌지 사왔어\"\n",
    "print(kor_text.split())"
   ],
   "id": "446bd00befa6aa82",
   "outputs": [
    {
     "name": "stdout",
     "output_type": "stream",
     "text": [
      "['사과의', '놀라운', '효능이라는', '글을', '봤어.', '그래서', '오늘', '사과를', '먹으려고', '했는데', '사과가', '썩어서', '슈퍼에', '가서', '사과랑', '오렌지', '사왔어']\n"
     ]
    }
   ],
   "execution_count": 5
  },
  {
   "metadata": {
    "ExecuteTime": {
     "end_time": "2025-04-03T08:26:09.575351Z",
     "start_time": "2025-04-03T08:24:13.045089Z"
    }
   },
   "cell_type": "code",
   "source": [
    "!pip install konlpy\n",
    "!pip install mecab-python\n",
    "!bash <(curl -s https://raw.githubusercontent.com/konlpy/konlpy/master/scripts/mecab.sh)"
   ],
   "id": "b379968872372f13",
   "outputs": [
    {
     "name": "stdout",
     "output_type": "stream",
     "text": [
      "Requirement already satisfied: konlpy in /opt/anaconda3/envs/ml_env/lib/python3.9/site-packages (0.6.0)\r\n",
      "Requirement already satisfied: JPype1>=0.7.0 in /opt/anaconda3/envs/ml_env/lib/python3.9/site-packages (from konlpy) (1.5.2)\r\n",
      "Requirement already satisfied: lxml>=4.1.0 in /opt/anaconda3/envs/ml_env/lib/python3.9/site-packages (from konlpy) (5.3.1)\r\n",
      "Requirement already satisfied: numpy>=1.6 in /opt/anaconda3/envs/ml_env/lib/python3.9/site-packages (from konlpy) (1.26.4)\r\n",
      "Requirement already satisfied: packaging in /opt/anaconda3/envs/ml_env/lib/python3.9/site-packages (from JPype1>=0.7.0->konlpy) (24.1)\r\n",
      "Collecting mecab-python\r\n",
      "  Downloading mecab-python-1.0.0.tar.gz (1.3 kB)\r\n",
      "  Preparing metadata (setup.py) ... \u001B[?25ldone\r\n",
      "\u001B[?25hCollecting mecab-python3 (from mecab-python)\r\n",
      "  Downloading mecab_python3-1.0.10-cp39-cp39-macosx_11_0_arm64.whl.metadata (6.2 kB)\r\n",
      "Downloading mecab_python3-1.0.10-cp39-cp39-macosx_11_0_arm64.whl (483 kB)\r\n",
      "Building wheels for collected packages: mecab-python\r\n",
      "  Building wheel for mecab-python (setup.py) ... \u001B[?25ldone\r\n",
      "\u001B[?25h  Created wheel for mecab-python: filename=mecab_python-1.0.0-py3-none-any.whl size=1232 sha256=35bb44b9a8ac5fc9b2b3e90ecc00fc7b1ca34ca830e99862ff4b4da87893e613\r\n",
      "  Stored in directory: /Users/igwanhyeong/Library/Caches/pip/wheels/63/09/15/cc401a7f8d041043978f3f60e64f7d65014522e104b7c9d1f2\r\n",
      "Successfully built mecab-python\r\n",
      "Installing collected packages: mecab-python3, mecab-python\r\n",
      "Successfully installed mecab-python-1.0.0 mecab-python3-1.0.10\r\n",
      "Install mecab-ko\r\n",
      "  % Total    % Received % Xferd  Average Speed   Time    Time     Time  Current\r\n",
      "                                 Dload  Upload   Total   Spent    Left  Speed\r\n",
      "  0     0    0     0    0     0      0      0 --:--:-- --:--:-- --:--:--     0\r\n",
      "100 1381k  100 1381k    0     0   535k      0  0:00:02  0:00:02 --:--:-- 1453k\r\n",
      "x mecab-0.996-ko-0.9.2/\r\n",
      "x mecab-0.996-ko-0.9.2/example/\r\n",
      "x mecab-0.996-ko-0.9.2/example/example.cpp\r\n",
      "x mecab-0.996-ko-0.9.2/example/example_lattice.cpp\r\n",
      "x mecab-0.996-ko-0.9.2/example/example_lattice.c\r\n",
      "x mecab-0.996-ko-0.9.2/example/example.c\r\n",
      "x mecab-0.996-ko-0.9.2/example/thread_test.cpp\r\n",
      "x mecab-0.996-ko-0.9.2/mecab-config.in\r\n",
      "x mecab-0.996-ko-0.9.2/man/\r\n",
      "x mecab-0.996-ko-0.9.2/man/Makefile.am\r\n",
      "x mecab-0.996-ko-0.9.2/man/mecab.1\r\n",
      "x mecab-0.996-ko-0.9.2/man/Makefile.in\r\n",
      "x mecab-0.996-ko-0.9.2/mecab.iss.in\r\n",
      "x mecab-0.996-ko-0.9.2/config.guess\r\n",
      "x mecab-0.996-ko-0.9.2/README\r\n",
      "x mecab-0.996-ko-0.9.2/COPYING\r\n",
      "x mecab-0.996-ko-0.9.2/CHANGES.md\r\n",
      "x mecab-0.996-ko-0.9.2/README.md\r\n",
      "x mecab-0.996-ko-0.9.2/INSTALL\r\n",
      "x mecab-0.996-ko-0.9.2/config.sub\r\n",
      "x mecab-0.996-ko-0.9.2/configure.in\r\n",
      "x mecab-0.996-ko-0.9.2/swig/\r\n",
      "x mecab-0.996-ko-0.9.2/swig/Makefile\r\n",
      "x mecab-0.996-ko-0.9.2/swig/version.h.in\r\n",
      "x mecab-0.996-ko-0.9.2/swig/version.h\r\n",
      "x mecab-0.996-ko-0.9.2/swig/MeCab.i\r\n",
      "x mecab-0.996-ko-0.9.2/aclocal.m4\r\n",
      "x mecab-0.996-ko-0.9.2/LGPL\r\n",
      "x mecab-0.996-ko-0.9.2/Makefile.am\r\n",
      "x mecab-0.996-ko-0.9.2/configure\r\n",
      "x mecab-0.996-ko-0.9.2/tests/\r\n",
      "x mecab-0.996-ko-0.9.2/tests/autolink/\r\n",
      "x mecab-0.996-ko-0.9.2/tests/autolink/unk.def\r\n",
      "x mecab-0.996-ko-0.9.2/tests/autolink/dicrc\r\n",
      "x mecab-0.996-ko-0.9.2/tests/autolink/dic.csv\r\n",
      "x mecab-0.996-ko-0.9.2/tests/autolink/test\r\n",
      "x mecab-0.996-ko-0.9.2/tests/autolink/char.def\r\n",
      "x mecab-0.996-ko-0.9.2/tests/autolink/matrix.def\r\n",
      "x mecab-0.996-ko-0.9.2/tests/autolink/test.gld\r\n",
      "x mecab-0.996-ko-0.9.2/tests/t9/\r\n",
      "x mecab-0.996-ko-0.9.2/tests/t9/unk.def\r\n",
      "x mecab-0.996-ko-0.9.2/tests/t9/ipadic.pl\r\n",
      "x mecab-0.996-ko-0.9.2/tests/t9/dicrc\r\n",
      "x mecab-0.996-ko-0.9.2/tests/t9/dic.csv\r\n",
      "x mecab-0.996-ko-0.9.2/tests/t9/test\r\n",
      "x mecab-0.996-ko-0.9.2/tests/t9/char.def\r\n",
      "x mecab-0.996-ko-0.9.2/tests/t9/matrix.def\r\n",
      "x mecab-0.996-ko-0.9.2/tests/t9/mkdic.pl\r\n",
      "x mecab-0.996-ko-0.9.2/tests/t9/test.gld\r\n",
      "x mecab-0.996-ko-0.9.2/tests/cost-train/\r\n",
      "x mecab-0.996-ko-0.9.2/tests/cost-train/ipa.train\r\n",
      "x mecab-0.996-ko-0.9.2/tests/cost-train/ipa.test\r\n",
      "x mecab-0.996-ko-0.9.2/tests/cost-train/seed/\r\n",
      "x mecab-0.996-ko-0.9.2/tests/cost-train/seed/rewrite.def\r\n",
      "x mecab-0.996-ko-0.9.2/tests/cost-train/seed/feature.def\r\n",
      "x mecab-0.996-ko-0.9.2/tests/cost-train/seed/unk.def\r\n",
      "x mecab-0.996-ko-0.9.2/tests/cost-train/seed/dicrc\r\n",
      "x mecab-0.996-ko-0.9.2/tests/cost-train/seed/dic.csv\r\n",
      "x mecab-0.996-ko-0.9.2/tests/cost-train/seed/char.def\r\n",
      "x mecab-0.996-ko-0.9.2/tests/cost-train/seed/matrix.def\r\n",
      "x mecab-0.996-ko-0.9.2/tests/run-eval.sh\r\n",
      "x mecab-0.996-ko-0.9.2/tests/run-cost-train.sh\r\n",
      "x mecab-0.996-ko-0.9.2/tests/Makefile.am\r\n",
      "x mecab-0.996-ko-0.9.2/tests/katakana/\r\n",
      "x mecab-0.996-ko-0.9.2/tests/katakana/unk.def\r\n",
      "x mecab-0.996-ko-0.9.2/tests/katakana/dicrc\r\n",
      "x mecab-0.996-ko-0.9.2/tests/katakana/dic.csv\r\n",
      "x mecab-0.996-ko-0.9.2/tests/katakana/test\r\n",
      "x mecab-0.996-ko-0.9.2/tests/katakana/char.def\r\n",
      "x mecab-0.996-ko-0.9.2/tests/katakana/matrix.def\r\n",
      "x mecab-0.996-ko-0.9.2/tests/katakana/test.gld\r\n",
      "x mecab-0.996-ko-0.9.2/tests/eval/\r\n",
      "x mecab-0.996-ko-0.9.2/tests/eval/answer\r\n",
      "x mecab-0.996-ko-0.9.2/tests/eval/system\r\n",
      "x mecab-0.996-ko-0.9.2/tests/eval/test.gld\r\n",
      "x mecab-0.996-ko-0.9.2/tests/shiin/\r\n",
      "x mecab-0.996-ko-0.9.2/tests/shiin/unk.def\r\n",
      "x mecab-0.996-ko-0.9.2/tests/shiin/dicrc\r\n",
      "x mecab-0.996-ko-0.9.2/tests/shiin/dic.csv\r\n",
      "x mecab-0.996-ko-0.9.2/tests/shiin/test\r\n",
      "x mecab-0.996-ko-0.9.2/tests/shiin/char.def\r\n",
      "x mecab-0.996-ko-0.9.2/tests/shiin/matrix.def\r\n",
      "x mecab-0.996-ko-0.9.2/tests/shiin/mkdic.pl\r\n",
      "x mecab-0.996-ko-0.9.2/tests/shiin/test.gld\r\n",
      "x mecab-0.996-ko-0.9.2/tests/latin/\r\n",
      "x mecab-0.996-ko-0.9.2/tests/latin/unk.def\r\n",
      "x mecab-0.996-ko-0.9.2/tests/latin/dicrc\r\n",
      "x mecab-0.996-ko-0.9.2/tests/latin/dic.csv\r\n",
      "x mecab-0.996-ko-0.9.2/tests/latin/test\r\n",
      "x mecab-0.996-ko-0.9.2/tests/latin/char.def\r\n",
      "x mecab-0.996-ko-0.9.2/tests/latin/matrix.def\r\n",
      "x mecab-0.996-ko-0.9.2/tests/latin/test.gld\r\n",
      "x mecab-0.996-ko-0.9.2/tests/chartype/\r\n",
      "x mecab-0.996-ko-0.9.2/tests/chartype/unk.def\r\n",
      "x mecab-0.996-ko-0.9.2/tests/chartype/dicrc\r\n",
      "x mecab-0.996-ko-0.9.2/tests/chartype/dic.csv\r\n",
      "x mecab-0.996-ko-0.9.2/tests/chartype/test\r\n",
      "x mecab-0.996-ko-0.9.2/tests/chartype/char.def\r\n",
      "x mecab-0.996-ko-0.9.2/tests/chartype/matrix.def\r\n",
      "x mecab-0.996-ko-0.9.2/tests/chartype/test.gld\r\n",
      "x mecab-0.996-ko-0.9.2/tests/run-dics.sh\r\n",
      "x mecab-0.996-ko-0.9.2/tests/ngram/\r\n",
      "x mecab-0.996-ko-0.9.2/tests/ngram/unk.def\r\n",
      "x mecab-0.996-ko-0.9.2/tests/ngram/dicrc\r\n",
      "x mecab-0.996-ko-0.9.2/tests/ngram/dic.csv\r\n",
      "x mecab-0.996-ko-0.9.2/tests/ngram/test\r\n",
      "x mecab-0.996-ko-0.9.2/tests/ngram/char.def\r\n",
      "x mecab-0.996-ko-0.9.2/tests/ngram/matrix.def\r\n",
      "x mecab-0.996-ko-0.9.2/tests/ngram/test.gld\r\n",
      "x mecab-0.996-ko-0.9.2/tests/Makefile.in\r\n",
      "x mecab-0.996-ko-0.9.2/ltmain.sh\r\n",
      "x mecab-0.996-ko-0.9.2/config.rpath\r\n",
      "x mecab-0.996-ko-0.9.2/config.h.in\r\n",
      "x mecab-0.996-ko-0.9.2/mecabrc.in\r\n",
      "x mecab-0.996-ko-0.9.2/GPL\r\n",
      "x mecab-0.996-ko-0.9.2/Makefile.train\r\n",
      "x mecab-0.996-ko-0.9.2/ChangeLog\r\n",
      "x mecab-0.996-ko-0.9.2/install-sh\r\n",
      "x mecab-0.996-ko-0.9.2/AUTHORS\r\n",
      "x mecab-0.996-ko-0.9.2/doc/\r\n",
      "x mecab-0.996-ko-0.9.2/doc/bindings.html\r\n",
      "x mecab-0.996-ko-0.9.2/doc/posid.html\r\n",
      "x mecab-0.996-ko-0.9.2/doc/unk.html\r\n",
      "x mecab-0.996-ko-0.9.2/doc/learn.html\r\n",
      "x mecab-0.996-ko-0.9.2/doc/format.html\r\n",
      "x mecab-0.996-ko-0.9.2/doc/libmecab.html\r\n",
      "x mecab-0.996-ko-0.9.2/doc/mecab.css\r\n",
      "x mecab-0.996-ko-0.9.2/doc/feature.html\r\n",
      "x mecab-0.996-ko-0.9.2/doc/Makefile.am\r\n",
      "x mecab-0.996-ko-0.9.2/doc/soft.html\r\n",
      "x mecab-0.996-ko-0.9.2/doc/en/\r\n",
      "x mecab-0.996-ko-0.9.2/doc/en/bindings.html\r\n",
      "x mecab-0.996-ko-0.9.2/doc/dic-detail.html\r\n",
      "x mecab-0.996-ko-0.9.2/doc/flow.png\r\n",
      "x mecab-0.996-ko-0.9.2/doc/mecab.html\r\n",
      "x mecab-0.996-ko-0.9.2/doc/index.html\r\n",
      "x mecab-0.996-ko-0.9.2/doc/result.png\r\n",
      "x mecab-0.996-ko-0.9.2/doc/doxygen/\r\n",
      "x mecab-0.996-ko-0.9.2/doc/doxygen/tab_a.png\r\n",
      "x mecab-0.996-ko-0.9.2/doc/doxygen/globals_eval.html\r\n",
      "x mecab-0.996-ko-0.9.2/doc/doxygen/classMeCab_1_1Tagger-members.html\r\n",
      "x mecab-0.996-ko-0.9.2/doc/doxygen/functions_vars.html\r\n",
      "x mecab-0.996-ko-0.9.2/doc/doxygen/doxygen.css\r\n",
      "x mecab-0.996-ko-0.9.2/doc/doxygen/tab_r.gif\r\n",
      "x mecab-0.996-ko-0.9.2/doc/doxygen/classMeCab_1_1Lattice.html\r\n",
      "x mecab-0.996-ko-0.9.2/doc/doxygen/functions.html\r\n",
      "x mecab-0.996-ko-0.9.2/doc/doxygen/classMeCab_1_1Tagger.html\r\n",
      "x mecab-0.996-ko-0.9.2/doc/doxygen/mecab_8h_source.html\r\n",
      "x mecab-0.996-ko-0.9.2/doc/doxygen/tabs.css\r\n",
      "x mecab-0.996-ko-0.9.2/doc/doxygen/nav_f.png\r\n",
      "x mecab-0.996-ko-0.9.2/doc/doxygen/tab_b.png\r\n",
      "x mecab-0.996-ko-0.9.2/doc/doxygen/globals.html\r\n",
      "x mecab-0.996-ko-0.9.2/doc/doxygen/nav_h.png\r\n",
      "x mecab-0.996-ko-0.9.2/doc/doxygen/tab_h.png\r\n",
      "x mecab-0.996-ko-0.9.2/doc/doxygen/classMeCab_1_1Model.html\r\n",
      "x mecab-0.996-ko-0.9.2/doc/doxygen/globals_func.html\r\n",
      "x mecab-0.996-ko-0.9.2/doc/doxygen/closed.png\r\n",
      "x mecab-0.996-ko-0.9.2/doc/doxygen/tab_l.gif\r\n",
      "x mecab-0.996-ko-0.9.2/doc/doxygen/structmecab__path__t-members.html\r\n",
      "x mecab-0.996-ko-0.9.2/doc/doxygen/functions_func.html\r\n",
      "x mecab-0.996-ko-0.9.2/doc/doxygen/globals_type.html\r\n",
      "x mecab-0.996-ko-0.9.2/doc/doxygen/classMeCab_1_1Lattice-members.html\r\n",
      "x mecab-0.996-ko-0.9.2/doc/doxygen/structmecab__node__t.html\r\n",
      "x mecab-0.996-ko-0.9.2/doc/doxygen/namespacemembers_func.html\r\n",
      "x mecab-0.996-ko-0.9.2/doc/doxygen/tab_s.png\r\n",
      "x mecab-0.996-ko-0.9.2/doc/doxygen/structmecab__dictionary__info__t-members.html\r\n",
      "x mecab-0.996-ko-0.9.2/doc/doxygen/namespacemembers_type.html\r\n",
      "x mecab-0.996-ko-0.9.2/doc/doxygen/classMeCab_1_1Model-members.html\r\n",
      "x mecab-0.996-ko-0.9.2/doc/doxygen/structmecab__dictionary__info__t.html\r\n",
      "x mecab-0.996-ko-0.9.2/doc/doxygen/namespaces.html\r\n",
      "x mecab-0.996-ko-0.9.2/doc/doxygen/namespacemembers.html\r\n",
      "x mecab-0.996-ko-0.9.2/doc/doxygen/namespaceMeCab.html\r\n",
      "x mecab-0.996-ko-0.9.2/doc/doxygen/structmecab__path__t.html\r\n",
      "x mecab-0.996-ko-0.9.2/doc/doxygen/files.html\r\n",
      "x mecab-0.996-ko-0.9.2/doc/doxygen/structmecab__node__t-members.html\r\n",
      "x mecab-0.996-ko-0.9.2/doc/doxygen/index.html\r\n",
      "x mecab-0.996-ko-0.9.2/doc/doxygen/annotated.html\r\n",
      "x mecab-0.996-ko-0.9.2/doc/doxygen/globals_defs.html\r\n",
      "x mecab-0.996-ko-0.9.2/doc/doxygen/classes.html\r\n",
      "x mecab-0.996-ko-0.9.2/doc/doxygen/mecab_8h-source.html\r\n",
      "x mecab-0.996-ko-0.9.2/doc/doxygen/doxygen.png\r\n",
      "x mecab-0.996-ko-0.9.2/doc/doxygen/tab_b.gif\r\n",
      "x mecab-0.996-ko-0.9.2/doc/doxygen/bc_s.png\r\n",
      "x mecab-0.996-ko-0.9.2/doc/doxygen/open.png\r\n",
      "x mecab-0.996-ko-0.9.2/doc/doxygen/mecab_8h.html\r\n",
      "x mecab-0.996-ko-0.9.2/doc/dic.html\r\n",
      "x mecab-0.996-ko-0.9.2/doc/partial.html\r\n",
      "x mecab-0.996-ko-0.9.2/doc/feature.png\r\n",
      "x mecab-0.996-ko-0.9.2/doc/Makefile.in\r\n",
      "x mecab-0.996-ko-0.9.2/missing\r\n",
      "x mecab-0.996-ko-0.9.2/BSD\r\n",
      "x mecab-0.996-ko-0.9.2/NEWS\r\n",
      "x mecab-0.996-ko-0.9.2/mkinstalldirs\r\n",
      "x mecab-0.996-ko-0.9.2/src/\r\n",
      "x mecab-0.996-ko-0.9.2/src/dictionary.h\r\n",
      "x mecab-0.996-ko-0.9.2/src/writer.h\r\n",
      "x mecab-0.996-ko-0.9.2/src/utils.h\r\n",
      "x mecab-0.996-ko-0.9.2/src/string_buffer.cpp\r\n",
      "x mecab-0.996-ko-0.9.2/src/tokenizer.cpp\r\n",
      "x mecab-0.996-ko-0.9.2/src/make.bat\r\n",
      "x mecab-0.996-ko-0.9.2/src/mecab.h\r\n",
      "x mecab-0.996-ko-0.9.2/src/freelist.h\r\n",
      "x mecab-0.996-ko-0.9.2/src/string_buffer.h\r\n",
      "x mecab-0.996-ko-0.9.2/src/learner_tagger.h\r\n",
      "x mecab-0.996-ko-0.9.2/src/dictionary_compiler.cpp\r\n",
      "x mecab-0.996-ko-0.9.2/src/eval.cpp\r\n",
      "x mecab-0.996-ko-0.9.2/src/mecab-system-eval.cpp\r\n",
      "x mecab-0.996-ko-0.9.2/src/darts.h\r\n",
      "x mecab-0.996-ko-0.9.2/src/param.h\r\n",
      "x mecab-0.996-ko-0.9.2/src/char_property.h\r\n",
      "x mecab-0.996-ko-0.9.2/src/learner_node.h\r\n",
      "x mecab-0.996-ko-0.9.2/src/mecab-dict-gen.cpp\r\n",
      "x mecab-0.996-ko-0.9.2/src/mecab-dict-index.cpp\r\n",
      "x mecab-0.996-ko-0.9.2/src/winmain.h\r\n",
      "x mecab-0.996-ko-0.9.2/src/thread.h\r\n",
      "x mecab-0.996-ko-0.9.2/src/context_id.cpp\r\n",
      "x mecab-0.996-ko-0.9.2/src/Makefile.am\r\n",
      "x mecab-0.996-ko-0.9.2/src/connector.h\r\n",
      "x mecab-0.996-ko-0.9.2/src/common.h\r\n",
      "x mecab-0.996-ko-0.9.2/src/dictionary_rewriter.cpp\r\n",
      "x mecab-0.996-ko-0.9.2/src/Makefile.msvc.in\r\n",
      "x mecab-0.996-ko-0.9.2/src/dictionary_rewriter.h\r\n",
      "x mecab-0.996-ko-0.9.2/src/feature_index.h\r\n",
      "x mecab-0.996-ko-0.9.2/src/iconv_utils.cpp\r\n",
      "x mecab-0.996-ko-0.9.2/src/char_property.cpp\r\n",
      "x mecab-0.996-ko-0.9.2/src/mecab-test-gen.cpp\r\n",
      "x mecab-0.996-ko-0.9.2/src/tagger.cpp\r\n",
      "x mecab-0.996-ko-0.9.2/src/mecab-cost-train.cpp\r\n",
      "x mecab-0.996-ko-0.9.2/src/learner.cpp\r\n",
      "x mecab-0.996-ko-0.9.2/src/dictionary.cpp\r\n",
      "x mecab-0.996-ko-0.9.2/src/lbfgs.cpp\r\n",
      "x mecab-0.996-ko-0.9.2/src/ucs.h\r\n",
      "x mecab-0.996-ko-0.9.2/src/writer.cpp\r\n",
      "x mecab-0.996-ko-0.9.2/src/learner_tagger.cpp\r\n",
      "x mecab-0.996-ko-0.9.2/src/lbfgs.h\r\n",
      "x mecab-0.996-ko-0.9.2/src/libmecab.cpp\r\n",
      "x mecab-0.996-ko-0.9.2/src/tokenizer.h\r\n",
      "x mecab-0.996-ko-0.9.2/src/mecab.cpp\r\n",
      "x mecab-0.996-ko-0.9.2/src/utils.cpp\r\n",
      "x mecab-0.996-ko-0.9.2/src/dictionary_generator.cpp\r\n",
      "x mecab-0.996-ko-0.9.2/src/param.cpp\r\n",
      "x mecab-0.996-ko-0.9.2/src/context_id.h\r\n",
      "x mecab-0.996-ko-0.9.2/src/mmap.h\r\n",
      "x mecab-0.996-ko-0.9.2/src/viterbi.h\r\n",
      "x mecab-0.996-ko-0.9.2/src/viterbi.cpp\r\n",
      "x mecab-0.996-ko-0.9.2/src/stream_wrapper.h\r\n",
      "x mecab-0.996-ko-0.9.2/src/feature_index.cpp\r\n",
      "x mecab-0.996-ko-0.9.2/src/nbest_generator.h\r\n",
      "x mecab-0.996-ko-0.9.2/src/ucstable.h\r\n",
      "x mecab-0.996-ko-0.9.2/src/nbest_generator.cpp\r\n",
      "x mecab-0.996-ko-0.9.2/src/iconv_utils.h\r\n",
      "x mecab-0.996-ko-0.9.2/src/connector.cpp\r\n",
      "x mecab-0.996-ko-0.9.2/src/Makefile.in\r\n",
      "x mecab-0.996-ko-0.9.2/src/scoped_ptr.h\r\n",
      "x mecab-0.996-ko-0.9.2/Makefile.in\r\n",
      "checking for a BSD-compatible install... /usr/bin/install -c\r\n",
      "checking whether build environment is sane... yes\r\n",
      "checking for a thread-safe mkdir -p... ./install-sh -c -d\r\n",
      "checking for gawk... no\r\n",
      "checking for mawk... no\r\n",
      "checking for nawk... no\r\n",
      "checking for awk... awk\r\n",
      "checking whether make sets $(MAKE)... yes\r\n",
      "checking for gcc... gcc\r\n",
      "checking whether the C compiler works... yes\r\n",
      "checking for C compiler default output file name... a.out\r\n",
      "checking for suffix of executables... \r\n",
      "checking whether we are cross compiling... no\r\n",
      "checking for suffix of object files... o\r\n",
      "checking whether we are using the GNU C compiler... yes\r\n",
      "checking whether gcc accepts -g... yes\r\n",
      "checking for gcc option to accept ISO C89... none needed\r\n",
      "checking for style of include used by make... GNU\r\n",
      "checking dependency style of gcc... none\r\n",
      "checking for g++... g++\r\n",
      "checking whether we are using the GNU C++ compiler... yes\r\n",
      "checking whether g++ accepts -g... yes\r\n",
      "checking dependency style of g++... none\r\n",
      "checking how to run the C preprocessor... gcc -E\r\n",
      "checking for grep that handles long lines and -e... /usr/bin/grep\r\n",
      "checking for egrep... /usr/bin/grep -E\r\n",
      "checking whether gcc needs -traditional... no\r\n",
      "checking whether make sets $(MAKE)... (cached) yes\r\n",
      "checking build system type... arm-apple-darwin24.3.0\r\n",
      "checking host system type... arm-apple-darwin24.3.0\r\n",
      "checking how to print strings... printf\r\n",
      "checking for a sed that does not truncate output... /usr/bin/sed\r\n",
      "checking for fgrep... /usr/bin/grep -F\r\n",
      "checking for ld used by gcc... /Applications/Xcode.app/Contents/Developer/Toolchains/XcodeDefault.xctoolchain/usr/bin/ld\r\n",
      "checking if the linker (/Applications/Xcode.app/Contents/Developer/Toolchains/XcodeDefault.xctoolchain/usr/bin/ld) is GNU ld... no\r\n",
      "checking for BSD- or MS-compatible name lister (nm)... /usr/bin/nm -B\r\n",
      "checking the name lister (/usr/bin/nm -B) interface... BSD nm\r\n",
      "checking whether ln -s works... yes\r\n",
      "checking the maximum length of command line arguments... 786432\r\n",
      "checking whether the shell understands some XSI constructs... yes\r\n",
      "checking whether the shell understands \"+=\"... yes\r\n",
      "checking how to convert arm-apple-darwin24.3.0 file names to arm-apple-darwin24.3.0 format... func_convert_file_noop\r\n",
      "checking how to convert arm-apple-darwin24.3.0 file names to toolchain format... func_convert_file_noop\r\n",
      "checking for /Applications/Xcode.app/Contents/Developer/Toolchains/XcodeDefault.xctoolchain/usr/bin/ld option to reload object files... -r\r\n",
      "checking for objdump... objdump\r\n",
      "checking how to recognize dependent libraries... pass_all\r\n",
      "checking for dlltool... dlltool\r\n",
      "checking how to associate runtime and link libraries... printf %s\\n\r\n",
      "checking for ar... ar\r\n",
      "checking for archiver @FILE support... no\r\n",
      "checking for strip... strip\r\n",
      "checking for ranlib... ranlib\r\n",
      "checking command to parse /usr/bin/nm -B output from gcc object... ok\r\n",
      "checking for sysroot... no\r\n",
      "checking for mt... no\r\n",
      "checking if : is a manifest tool... no\r\n",
      "checking for dsymutil... dsymutil\r\n",
      "checking for nmedit... nmedit\r\n",
      "checking for lipo... lipo\r\n",
      "checking for otool... otool\r\n",
      "checking for otool64... no\r\n",
      "checking for -single_module linker flag... ld: warning: -single_module is obsolete\r\n",
      "no\r\n",
      "checking for -exported_symbols_list linker flag... yes\r\n",
      "checking for -force_load linker flag... yes\r\n",
      "checking for ANSI C header files... yes\r\n",
      "checking for sys/types.h... yes\r\n",
      "checking for sys/stat.h... yes\r\n",
      "checking for stdlib.h... yes\r\n",
      "checking for string.h... yes\r\n",
      "checking for memory.h... yes\r\n",
      "checking for strings.h... yes\r\n",
      "checking for inttypes.h... yes\r\n",
      "checking for stdint.h... yes\r\n",
      "checking for unistd.h... yes\r\n",
      "checking for dlfcn.h... yes\r\n",
      "checking for objdir... .libs\r\n",
      "checking if gcc supports -fno-rtti -fno-exceptions... yes\r\n",
      "checking for gcc option to produce PIC... -fno-common -DPIC\r\n",
      "checking if gcc PIC flag -fno-common -DPIC works... yes\r\n",
      "checking if gcc static flag -static works... no\r\n",
      "checking if gcc supports -c -o file.o... yes\r\n",
      "checking if gcc supports -c -o file.o... (cached) yes\r\n",
      "checking whether the gcc linker (/Applications/Xcode.app/Contents/Developer/Toolchains/XcodeDefault.xctoolchain/usr/bin/ld) supports shared libraries... yes\r\n",
      "checking dynamic linker characteristics... darwin24.3.0 dyld\r\n",
      "checking how to hardcode library paths into programs... immediate\r\n",
      "checking whether stripping libraries is possible... yes\r\n",
      "checking if libtool supports shared libraries... yes\r\n",
      "checking whether to build shared libraries... yes\r\n",
      "checking whether to build static libraries... yes\r\n",
      "checking how to run the C++ preprocessor... g++ -E\r\n",
      "checking for ld used by g++... /Applications/Xcode.app/Contents/Developer/Toolchains/XcodeDefault.xctoolchain/usr/bin/ld\r\n",
      "checking if the linker (/Applications/Xcode.app/Contents/Developer/Toolchains/XcodeDefault.xctoolchain/usr/bin/ld) is GNU ld... no\r\n",
      "checking whether the g++ linker (/Applications/Xcode.app/Contents/Developer/Toolchains/XcodeDefault.xctoolchain/usr/bin/ld) supports shared libraries... yes\r\n",
      "checking for g++ option to produce PIC... -fno-common -DPIC\r\n",
      "checking if g++ PIC flag -fno-common -DPIC works... yes\r\n",
      "checking if g++ static flag -static works... no\r\n",
      "checking if g++ supports -c -o file.o... yes\r\n",
      "checking if g++ supports -c -o file.o... (cached) yes\r\n",
      "checking whether the g++ linker (/Applications/Xcode.app/Contents/Developer/Toolchains/XcodeDefault.xctoolchain/usr/bin/ld) supports shared libraries... yes\r\n",
      "checking dynamic linker characteristics... darwin24.3.0 dyld\r\n",
      "checking how to hardcode library paths into programs... immediate\r\n",
      "checking for library containing strerror... none required\r\n",
      "checking whether byte ordering is bigendian... no\r\n",
      "checking for ld used by GCC... /Applications/Xcode.app/Contents/Developer/Toolchains/XcodeDefault.xctoolchain/usr/bin/ld\r\n",
      "checking if the linker (/Applications/Xcode.app/Contents/Developer/Toolchains/XcodeDefault.xctoolchain/usr/bin/ld) is GNU ld... no\r\n",
      "checking for shared library run path origin... done\r\n",
      "checking for iconv... yes\r\n",
      "checking for working iconv... yes\r\n",
      "checking how to link with libiconv... -liconv\r\n",
      "checking for iconv declaration... \r\n",
      "         extern size_t iconv (iconv_t cd, char * *inbuf, size_t *inbytesleft, char * *outbuf, size_t *outbytesleft);\r\n",
      "checking for ANSI C header files... (cached) yes\r\n",
      "checking for an ANSI C-conforming const... yes\r\n",
      "checking whether byte ordering is bigendian... (cached) no\r\n",
      "checking for string.h... (cached) yes\r\n",
      "checking for stdlib.h... (cached) yes\r\n",
      "checking for unistd.h... (cached) yes\r\n",
      "checking fcntl.h usability... yes\r\n",
      "checking fcntl.h presence... yes\r\n",
      "checking for fcntl.h... yes\r\n",
      "checking for stdint.h... (cached) yes\r\n",
      "checking for sys/stat.h... (cached) yes\r\n",
      "checking sys/mman.h usability... yes\r\n",
      "checking sys/mman.h presence... yes\r\n",
      "checking for sys/mman.h... yes\r\n",
      "checking sys/times.h usability... yes\r\n",
      "checking sys/times.h presence... yes\r\n",
      "checking for sys/times.h... yes\r\n",
      "checking for sys/types.h... (cached) yes\r\n",
      "checking dirent.h usability... yes\r\n",
      "checking dirent.h presence... yes\r\n",
      "checking for dirent.h... yes\r\n",
      "checking ctype.h usability... yes\r\n",
      "checking ctype.h presence... yes\r\n",
      "checking for ctype.h... yes\r\n",
      "checking for sys/types.h... (cached) yes\r\n",
      "checking io.h usability... no\r\n",
      "checking io.h presence... no\r\n",
      "checking for io.h... no\r\n",
      "checking windows.h usability... no\r\n",
      "checking windows.h presence... no\r\n",
      "checking for windows.h... no\r\n",
      "checking pthread.h usability... yes\r\n",
      "checking pthread.h presence... yes\r\n",
      "checking for pthread.h... yes\r\n",
      "checking for off_t... yes\r\n",
      "checking for size_t... yes\r\n",
      "checking size of char... 1\r\n",
      "checking size of short... 2\r\n",
      "checking size of int... 4\r\n",
      "checking size of long... 8\r\n",
      "checking size of long long... 8\r\n",
      "checking size of size_t... 8\r\n",
      "checking for size_t... (cached) yes\r\n",
      "checking for unsigned long long int... yes\r\n",
      "checking for stdlib.h... (cached) yes\r\n",
      "checking for unistd.h... (cached) yes\r\n",
      "checking for sys/param.h... yes\r\n",
      "checking for getpagesize... yes\r\n",
      "checking for working mmap... yes\r\n",
      "checking for main in -lstdc++... yes\r\n",
      "checking for pthread_create in -lpthread... yes\r\n",
      "checking for pthread_join in -lpthread... yes\r\n",
      "checking for getenv... yes\r\n",
      "checking for opendir... yes\r\n",
      "checking whether make is GNU Make... yes\r\n",
      "checking if g++ supports stl <vector> (required)... yes\r\n",
      "checking if g++ supports stl <list> (required)... yes\r\n",
      "checking if g++ supports stl <map> (required)... yes\r\n",
      "checking if g++ supports stl <set> (required)... yes\r\n",
      "checking if g++ supports stl <queue> (required)... yes\r\n",
      "checking if g++ supports stl <functional> (required)... yes\r\n",
      "checking if g++ supports stl <algorithm> (required)... yes\r\n",
      "checking if g++ supports stl <string> (required)... yes\r\n",
      "checking if g++ supports stl <iostream> (required)... yes\r\n",
      "checking if g++ supports stl <sstream> (required)... yes\r\n",
      "checking if g++ supports stl <fstream> (required)... yes\r\n",
      "checking if g++ supports template <class T> (required)... yes\r\n",
      "checking if g++ supports const_cast<> (required)... yes\r\n",
      "checking if g++ supports static_cast<> (required)... yes\r\n",
      "checking if g++ supports reinterpret_cast<> (required)... yes\r\n",
      "checking if g++ supports namespaces (required) ... yes\r\n",
      "checking if g++ supports __thread (optional)... yes\r\n",
      "checking if g++ supports template <class T> (required)... yes\r\n",
      "checking if g++ supports GCC native atomic operations (optional)... yes\r\n",
      "checking if g++ supports OSX native atomic operations (optional)... yes\r\n",
      "checking if g++ environment provides all required features... yes\r\n",
      "./configure: line 18774: sort: No such file or directory\r\n",
      "./configure: line 18771: sed: No such file or directory\r\n",
      "configure: creating ./config.status\r\n",
      "config.status: creating Makefile\r\n",
      "config.status: creating src/Makefile\r\n",
      "config.status: creating src/Makefile.msvc\r\n",
      "config.status: creating man/Makefile\r\n",
      "config.status: creating doc/Makefile\r\n",
      "config.status: creating tests/Makefile\r\n",
      "config.status: creating swig/version.h\r\n",
      "config.status: creating mecab.iss\r\n",
      "config.status: creating mecab-config\r\n",
      "config.status: creating mecabrc\r\n",
      "config.status: creating config.h\r\n",
      "config.status: config.h is unchanged\r\n",
      "config.status: executing depfiles commands\r\n",
      "config.status: executing libtool commands\r\n",
      "config.status: executing default commands\r\n",
      "./configure: line 21416: sort: No such file or directory\r\n",
      "./configure: line 21413: sed: No such file or directory\r\n",
      "/Applications/Xcode.app/Contents/Developer/usr/bin/make  all-recursive\r\n",
      "Making all in src\r\n",
      "make[2]: Nothing to be done for `all'.\r\n",
      "Making all in man\r\n",
      "make[2]: Nothing to be done for `all'.\r\n",
      "Making all in doc\r\n",
      "make[2]: Nothing to be done for `all'.\r\n",
      "Making all in tests\r\n",
      "make[2]: Nothing to be done for `all'.\r\n",
      "Making check in src\r\n",
      "make[1]: Nothing to be done for `check'.\r\n",
      "Making check in man\r\n",
      "make[1]: Nothing to be done for `check'.\r\n",
      "Making check in doc\r\n",
      "make[1]: Nothing to be done for `check'.\r\n",
      "Making check in tests\r\n",
      "/Applications/Xcode.app/Contents/Developer/usr/bin/make  check-TESTS\r\n",
      "./pos-id.def is not found. minimum setting is used\r\n",
      "reading ./unk.def ... 2\r\n",
      "emitting double-array: 100% |###########################################| \r\n",
      "./model.def is not found. skipped.\r\n",
      "./pos-id.def is not found. minimum setting is used\r\n",
      "reading ./dic.csv ... 177\r\n",
      "emitting double-array: 100% |###########################################| \r\n",
      "reading ./matrix.def ... 178x178\r\n",
      "emitting matrix      : 100% |###########################################| \r\n",
      "\r\n",
      "done!\r\n",
      "./pos-id.def is not found. minimum setting is used\r\n",
      "reading ./unk.def ... 2\r\n",
      "emitting double-array: 100% |###########################################| \r\n",
      "./model.def is not found. skipped.\r\n",
      "./pos-id.def is not found. minimum setting is used\r\n",
      "reading ./dic.csv ... 83\r\n",
      "emitting double-array: 100% |###########################################| \r\n",
      "reading ./matrix.def ... 84x84\r\n",
      "emitting matrix      : 100% |###########################################| \r\n",
      "\r\n",
      "done!\r\n",
      "./pos-id.def is not found. minimum setting is used\r\n",
      "reading ./unk.def ... 2\r\n",
      "emitting double-array: 100% |###########################################| \r\n",
      "./model.def is not found. skipped.\r\n",
      "./pos-id.def is not found. minimum setting is used\r\n",
      "reading ./dic.csv ... 450\r\n",
      "emitting double-array: 100% |###########################################| \r\n",
      "reading ./matrix.def ... 1x1\r\n",
      "\r\n",
      "done!\r\n",
      "./pos-id.def is not found. minimum setting is used\r\n",
      "reading ./unk.def ... 2\r\n",
      "emitting double-array: 100% |###########################################| \r\n",
      "./model.def is not found. skipped.\r\n",
      "./pos-id.def is not found. minimum setting is used\r\n",
      "reading ./dic.csv ... 162\r\n",
      "emitting double-array: 100% |###########################################| \r\n",
      "reading ./matrix.def ... 3x3\r\n",
      "emitting matrix      : 100% |###########################################| \r\n",
      "\r\n",
      "done!\r\n",
      "./pos-id.def is not found. minimum setting is used\r\n",
      "reading ./unk.def ... 2\r\n",
      "emitting double-array: 100% |###########################################| \r\n",
      "./model.def is not found. skipped.\r\n",
      "./pos-id.def is not found. minimum setting is used\r\n",
      "reading ./dic.csv ... 4\r\n",
      "emitting double-array: 100% |###########################################| \r\n",
      "reading ./matrix.def ... 1x1\r\n",
      "\r\n",
      "done!\r\n",
      "./pos-id.def is not found. minimum setting is used\r\n",
      "reading ./unk.def ... 11\r\n",
      "emitting double-array: 100% |###########################################| \r\n",
      "./model.def is not found. skipped.\r\n",
      "./pos-id.def is not found. minimum setting is used\r\n",
      "reading ./dic.csv ... 1\r\n",
      "reading ./matrix.def ... 1x1\r\n",
      "\r\n",
      "done!\r\n",
      "./pos-id.def is not found. minimum setting is used\r\n",
      "reading ./unk.def ... 2\r\n",
      "emitting double-array: 100% |###########################################| \r\n",
      "./model.def is not found. skipped.\r\n",
      "./pos-id.def is not found. minimum setting is used\r\n",
      "reading ./dic.csv ... 1\r\n",
      "reading ./matrix.def ... 1x1\r\n",
      "\r\n",
      "done!\r\n",
      "PASS: run-dics.sh\r\n",
      "PASS: run-eval.sh\r\n",
      "seed/pos-id.def is not found. minimum setting is used\r\n",
      "reading seed/unk.def ... 40\r\n",
      "emitting double-array: 100% |###########################################| \r\n",
      "seed/model.def is not found. skipped.\r\n",
      "seed/pos-id.def is not found. minimum setting is used\r\n",
      "reading seed/dic.csv ... 4335\r\n",
      "emitting double-array: 100% |###########################################| \r\n",
      "reading seed/matrix.def ... 1x1\r\n",
      "\r\n",
      "done!\r\n",
      "reading corpus ...\r\n",
      "Number of sentences: 34\r\n",
      "Number of features:  64108\r\n",
      "eta:                 0.00005\r\n",
      "freq:                1\r\n",
      "eval-size:           6\r\n",
      "unk-eval-size:       4\r\n",
      "threads:             1\r\n",
      "charset:             EUC-JP\r\n",
      "C(sigma^2):          1.00000\r\n",
      "\r\n",
      "iter=0 err=1.00000 F=0.35771 target=2406.28355 diff=1.00000\r\n",
      "iter=1 err=0.97059 F=0.65652 target=1484.25231 diff=0.38318\r\n",
      "iter=2 err=0.91176 F=0.79331 target=863.32765 diff=0.41834\r\n",
      "iter=3 err=0.85294 F=0.89213 target=596.72480 diff=0.30881\r\n",
      "iter=4 err=0.61765 F=0.95467 target=336.30744 diff=0.43641\r\n",
      "iter=5 err=0.50000 F=0.96702 target=246.53039 diff=0.26695\r\n",
      "iter=6 err=0.35294 F=0.95472 target=188.93963 diff=0.23361\r\n",
      "iter=7 err=0.20588 F=0.99106 target=168.62665 diff=0.10751\r\n",
      "iter=8 err=0.05882 F=0.99777 target=158.64865 diff=0.05917\r\n",
      "iter=9 err=0.08824 F=0.99665 target=154.14530 diff=0.02839\r\n",
      "iter=10 err=0.08824 F=0.99665 target=151.94257 diff=0.01429\r\n",
      "iter=11 err=0.02941 F=0.99888 target=147.20825 diff=0.03116\r\n",
      "iter=12 err=0.00000 F=1.00000 target=147.34956 diff=0.00096\r\n",
      "iter=13 err=0.02941 F=0.99888 target=146.32592 diff=0.00695\r\n",
      "iter=14 err=0.00000 F=1.00000 target=145.77299 diff=0.00378\r\n",
      "iter=15 err=0.02941 F=0.99888 target=145.24641 diff=0.00361\r\n",
      "iter=16 err=0.00000 F=1.00000 target=144.96490 diff=0.00194\r\n",
      "iter=17 err=0.02941 F=0.99888 target=144.90246 diff=0.00043\r\n",
      "iter=18 err=0.00000 F=1.00000 target=144.75959 diff=0.00099\r\n",
      "iter=19 err=0.00000 F=1.00000 target=144.71727 diff=0.00029\r\n",
      "iter=20 err=0.00000 F=1.00000 target=144.66337 diff=0.00037\r\n",
      "iter=21 err=0.00000 F=1.00000 target=144.61349 diff=0.00034\r\n",
      "iter=22 err=0.00000 F=1.00000 target=144.62987 diff=0.00011\r\n",
      "iter=23 err=0.00000 F=1.00000 target=144.60060 diff=0.00020\r\n",
      "iter=24 err=0.00000 F=1.00000 target=144.59125 diff=0.00006\r\n",
      "iter=25 err=0.00000 F=1.00000 target=144.58619 diff=0.00004\r\n",
      "iter=26 err=0.00000 F=1.00000 target=144.58219 diff=0.00003\r\n",
      "iter=27 err=0.00000 F=1.00000 target=144.58059 diff=0.00001\r\n",
      "\r\n",
      "Done! writing model file ... \r\n",
      "model-ipadic.c1.0.f1.model is not a binary model. reopen it as text mode...\r\n",
      "reading seed/unk.def ... 40\r\n",
      "reading seed/dic.csv ... 4335\r\n",
      "emitting model-ipadic.c1.0.f1.dic/left-id.def/ model-ipadic.c1.0.f1.dic/right-id.def\r\n",
      "emitting model-ipadic.c1.0.f1.dic/unk.def ... 40\r\n",
      "emitting model-ipadic.c1.0.f1.dic/dic.csv ... 4335\r\n",
      "emitting matrix      : 100% |###########################################| \r\n",
      "copying seed/char.def to model-ipadic.c1.0.f1.dic/char.def\r\n",
      "copying seed/rewrite.def to model-ipadic.c1.0.f1.dic/rewrite.def\r\n",
      "copying seed/dicrc to model-ipadic.c1.0.f1.dic/dicrc\r\n",
      "copying seed/feature.def to model-ipadic.c1.0.f1.dic/feature.def\r\n",
      "copying model-ipadic.c1.0.f1.model to model-ipadic.c1.0.f1.dic/model.def\r\n",
      "\r\n",
      "done!\r\n",
      "model-ipadic.c1.0.f1.dic/pos-id.def is not found. minimum setting is used\r\n",
      "reading model-ipadic.c1.0.f1.dic/unk.def ... 40\r\n",
      "emitting double-array: 100% |###########################################| \r\n",
      "model-ipadic.c1.0.f1.dic/pos-id.def is not found. minimum setting is used\r\n",
      "reading model-ipadic.c1.0.f1.dic/dic.csv ... 4335\r\n",
      "emitting double-array: 100% |###########################################| \r\n",
      "reading model-ipadic.c1.0.f1.dic/matrix.def ... 346x346\r\n",
      "emitting matrix      : 100% |###########################################| \r\n",
      "\r\n",
      "done!\r\n",
      "              precision          recall         F\r\n",
      "LEVEL 0:    12.8959(57/442) 11.8998(57/479) 12.3779\r\n",
      "LEVEL 1:    12.2172(54/442) 11.2735(54/479) 11.7264\r\n",
      "LEVEL 2:    11.7647(52/442) 10.8559(52/479) 11.2921\r\n",
      "LEVEL 4:    11.7647(52/442) 10.8559(52/479) 11.2921\r\n",
      "PASS: run-cost-train.sh\r\n",
      "==================\r\n",
      "All 3 tests passed\r\n",
      "==================\r\n",
      "Password:\r\n",
      "sudo: a password is required\r\n"
     ]
    }
   ],
   "execution_count": 6
  },
  {
   "metadata": {
    "ExecuteTime": {
     "end_time": "2025-04-03T08:30:31.854846Z",
     "start_time": "2025-04-03T08:30:31.795592Z"
    }
   },
   "cell_type": "code",
   "source": [
    "from konlpy.tag import Mecab\n",
    "tokenizer = Mecab()\n",
    "print(tokenizer.morphs(kor_text))"
   ],
   "id": "db7d1255ccb4c38c",
   "outputs": [
    {
     "name": "stdout",
     "output_type": "stream",
     "text": [
      "['사과', '의', '놀라운', '효능', '이', '라는', '글', '을', '봤', '어', '.', '그래서', '오늘', '사과', '를', '먹', '으려고', '했', '는데', '사과', '가', '썩', '어서', '슈퍼', '에', '가', '서', '사과', '랑', '오렌지', '사', '왔', '어']\n"
     ]
    }
   ],
   "execution_count": 7
  },
  {
   "metadata": {
    "ExecuteTime": {
     "end_time": "2025-04-03T08:38:15.253729Z",
     "start_time": "2025-04-03T08:38:15.248749Z"
    }
   },
   "cell_type": "code",
   "source": "print(list(en_text))",
   "id": "47b420ea261fb293",
   "outputs": [
    {
     "name": "stdout",
     "output_type": "stream",
     "text": [
      "['A', ' ', 'D', 'o', 'g', ' ', 'R', 'u', 'n', ' ', 'b', 'a', 'c', 'k', ' ', 'c', 'o', 'r', 'n', 'e', 'r', ' ', 'n', 'e', 'a', 'r', ' ', 's', 'p', 'a', 'r', 'e', ' ', 'b', 'e', 'd', 'r', 'o', 'o', 'm', 's']\n"
     ]
    }
   ],
   "execution_count": 8
  },
  {
   "metadata": {
    "ExecuteTime": {
     "end_time": "2025-04-03T08:39:04.388765Z",
     "start_time": "2025-04-03T08:39:04.123481Z"
    }
   },
   "cell_type": "code",
   "source": [
    "import urllib.request\n",
    "import pandas as pd\n",
    "from konlpy.tag import Mecab\n",
    "from nltk import FreqDist\n",
    "import numpy as np\n",
    "import matplotlib.pyplot as plt"
   ],
   "id": "366cb015a9d10a91",
   "outputs": [],
   "execution_count": 9
  },
  {
   "metadata": {
    "ExecuteTime": {
     "end_time": "2025-04-03T08:39:49.583339Z",
     "start_time": "2025-04-03T08:39:48.586827Z"
    }
   },
   "cell_type": "code",
   "source": [
    "urllib.request.urlretrieve('https://raw.githubusercontent.com/e9t/nsmc/master/ratings.txt', filename = 'ratings.txt')\n",
    "data = pd.read_table('ratings.txt')\n",
    "data[:10]"
   ],
   "id": "83d314f892cb1a4e",
   "outputs": [
    {
     "data": {
      "text/plain": [
       "         id                                           document  label\n",
       "0   8112052                                어릴때보고 지금다시봐도 재밌어요ㅋㅋ      1\n",
       "1   8132799  디자인을 배우는 학생으로, 외국디자이너와 그들이 일군 전통을 통해 발전해가는 문화산...      1\n",
       "2   4655635               폴리스스토리 시리즈는 1부터 뉴까지 버릴께 하나도 없음.. 최고.      1\n",
       "3   9251303  와.. 연기가 진짜 개쩔구나.. 지루할거라고 생각했는데 몰입해서 봤다.. 그래 이런...      1\n",
       "4  10067386                        안개 자욱한 밤하늘에 떠 있는 초승달 같은 영화.      1\n",
       "5   2190435                      사랑을 해본사람이라면 처음부터 끝까지 웃을수 있는영화      1\n",
       "6   9279041                                   완전 감동입니다 다시봐도 감동      1\n",
       "7   7865729                        개들의 전쟁2 나오나요? 나오면 1빠로 보고 싶음      1\n",
       "8   7477618                                                  굿      1\n",
       "9   9250537                                     바보가 아니라 병 쉰 인듯      1"
      ],
      "text/html": [
       "<div>\n",
       "<style scoped>\n",
       "    .dataframe tbody tr th:only-of-type {\n",
       "        vertical-align: middle;\n",
       "    }\n",
       "\n",
       "    .dataframe tbody tr th {\n",
       "        vertical-align: top;\n",
       "    }\n",
       "\n",
       "    .dataframe thead th {\n",
       "        text-align: right;\n",
       "    }\n",
       "</style>\n",
       "<table border=\"1\" class=\"dataframe\">\n",
       "  <thead>\n",
       "    <tr style=\"text-align: right;\">\n",
       "      <th></th>\n",
       "      <th>id</th>\n",
       "      <th>document</th>\n",
       "      <th>label</th>\n",
       "    </tr>\n",
       "  </thead>\n",
       "  <tbody>\n",
       "    <tr>\n",
       "      <th>0</th>\n",
       "      <td>8112052</td>\n",
       "      <td>어릴때보고 지금다시봐도 재밌어요ㅋㅋ</td>\n",
       "      <td>1</td>\n",
       "    </tr>\n",
       "    <tr>\n",
       "      <th>1</th>\n",
       "      <td>8132799</td>\n",
       "      <td>디자인을 배우는 학생으로, 외국디자이너와 그들이 일군 전통을 통해 발전해가는 문화산...</td>\n",
       "      <td>1</td>\n",
       "    </tr>\n",
       "    <tr>\n",
       "      <th>2</th>\n",
       "      <td>4655635</td>\n",
       "      <td>폴리스스토리 시리즈는 1부터 뉴까지 버릴께 하나도 없음.. 최고.</td>\n",
       "      <td>1</td>\n",
       "    </tr>\n",
       "    <tr>\n",
       "      <th>3</th>\n",
       "      <td>9251303</td>\n",
       "      <td>와.. 연기가 진짜 개쩔구나.. 지루할거라고 생각했는데 몰입해서 봤다.. 그래 이런...</td>\n",
       "      <td>1</td>\n",
       "    </tr>\n",
       "    <tr>\n",
       "      <th>4</th>\n",
       "      <td>10067386</td>\n",
       "      <td>안개 자욱한 밤하늘에 떠 있는 초승달 같은 영화.</td>\n",
       "      <td>1</td>\n",
       "    </tr>\n",
       "    <tr>\n",
       "      <th>5</th>\n",
       "      <td>2190435</td>\n",
       "      <td>사랑을 해본사람이라면 처음부터 끝까지 웃을수 있는영화</td>\n",
       "      <td>1</td>\n",
       "    </tr>\n",
       "    <tr>\n",
       "      <th>6</th>\n",
       "      <td>9279041</td>\n",
       "      <td>완전 감동입니다 다시봐도 감동</td>\n",
       "      <td>1</td>\n",
       "    </tr>\n",
       "    <tr>\n",
       "      <th>7</th>\n",
       "      <td>7865729</td>\n",
       "      <td>개들의 전쟁2 나오나요? 나오면 1빠로 보고 싶음</td>\n",
       "      <td>1</td>\n",
       "    </tr>\n",
       "    <tr>\n",
       "      <th>8</th>\n",
       "      <td>7477618</td>\n",
       "      <td>굿</td>\n",
       "      <td>1</td>\n",
       "    </tr>\n",
       "    <tr>\n",
       "      <th>9</th>\n",
       "      <td>9250537</td>\n",
       "      <td>바보가 아니라 병 쉰 인듯</td>\n",
       "      <td>1</td>\n",
       "    </tr>\n",
       "  </tbody>\n",
       "</table>\n",
       "</div>"
      ]
     },
     "execution_count": 10,
     "metadata": {},
     "output_type": "execute_result"
    }
   ],
   "execution_count": 10
  },
  {
   "metadata": {
    "ExecuteTime": {
     "end_time": "2025-04-03T08:46:37.860682Z",
     "start_time": "2025-04-03T08:46:37.855160Z"
    }
   },
   "cell_type": "code",
   "source": "print('전체 샘플의 수: {}'.format(len(data)))",
   "id": "b6b7357b6bfd9153",
   "outputs": [
    {
     "name": "stdout",
     "output_type": "stream",
     "text": [
      "전체 샘플의 수: 200000\n"
     ]
    }
   ],
   "execution_count": 11
  },
  {
   "metadata": {
    "ExecuteTime": {
     "end_time": "2025-04-03T08:46:47.506916Z",
     "start_time": "2025-04-03T08:46:47.503601Z"
    }
   },
   "cell_type": "code",
   "source": "sample_data = data[:100]",
   "id": "8b7639999a00eca2",
   "outputs": [],
   "execution_count": 12
  },
  {
   "metadata": {
    "ExecuteTime": {
     "end_time": "2025-04-03T08:47:35.799305Z",
     "start_time": "2025-04-03T08:47:35.792542Z"
    }
   },
   "cell_type": "code",
   "source": [
    "sample_data['document'] = sample_data['document'].str.replace('[^ㄱ-ㅎㅏ-ㅣ가-힣]', '', regex=True)\n",
    "sample_data[:10]"
   ],
   "id": "29aaa98ffbf5e22f",
   "outputs": [
    {
     "name": "stderr",
     "output_type": "stream",
     "text": [
      "/var/folders/py/xgf_87rd5nz9rsbc143wp9qc0000gn/T/ipykernel_61392/999551560.py:1: SettingWithCopyWarning: \n",
      "A value is trying to be set on a copy of a slice from a DataFrame.\n",
      "Try using .loc[row_indexer,col_indexer] = value instead\n",
      "\n",
      "See the caveats in the documentation: https://pandas.pydata.org/pandas-docs/stable/user_guide/indexing.html#returning-a-view-versus-a-copy\n",
      "  sample_data['document'] = sample_data['document'].str.replace('[^ㄱ-ㅎㅏ-ㅣ가-힣]', '', regex=True)\n"
     ]
    },
    {
     "data": {
      "text/plain": [
       "         id                                           document  label\n",
       "0   8112052                                  어릴때보고지금다시봐도재밌어요ㅋㅋ      1\n",
       "1   8132799  디자인을배우는학생으로외국디자이너와그들이일군전통을통해발전해가는문화산업이부러웠는데사실우...      1\n",
       "2   4655635                          폴리스스토리시리즈는부터뉴까지버릴께하나도없음최고      1\n",
       "3   9251303              와연기가진짜개쩔구나지루할거라고생각했는데몰입해서봤다그래이런게진짜영화지      1\n",
       "4  10067386                                안개자욱한밤하늘에떠있는초승달같은영화      1\n",
       "5   2190435                           사랑을해본사람이라면처음부터끝까지웃을수있는영화      1\n",
       "6   9279041                                      완전감동입니다다시봐도감동      1\n",
       "7   7865729                                 개들의전쟁나오나요나오면빠로보고싶음      1\n",
       "8   7477618                                                  굿      1\n",
       "9   9250537                                         바보가아니라병쉰인듯      1"
      ],
      "text/html": [
       "<div>\n",
       "<style scoped>\n",
       "    .dataframe tbody tr th:only-of-type {\n",
       "        vertical-align: middle;\n",
       "    }\n",
       "\n",
       "    .dataframe tbody tr th {\n",
       "        vertical-align: top;\n",
       "    }\n",
       "\n",
       "    .dataframe thead th {\n",
       "        text-align: right;\n",
       "    }\n",
       "</style>\n",
       "<table border=\"1\" class=\"dataframe\">\n",
       "  <thead>\n",
       "    <tr style=\"text-align: right;\">\n",
       "      <th></th>\n",
       "      <th>id</th>\n",
       "      <th>document</th>\n",
       "      <th>label</th>\n",
       "    </tr>\n",
       "  </thead>\n",
       "  <tbody>\n",
       "    <tr>\n",
       "      <th>0</th>\n",
       "      <td>8112052</td>\n",
       "      <td>어릴때보고지금다시봐도재밌어요ㅋㅋ</td>\n",
       "      <td>1</td>\n",
       "    </tr>\n",
       "    <tr>\n",
       "      <th>1</th>\n",
       "      <td>8132799</td>\n",
       "      <td>디자인을배우는학생으로외국디자이너와그들이일군전통을통해발전해가는문화산업이부러웠는데사실우...</td>\n",
       "      <td>1</td>\n",
       "    </tr>\n",
       "    <tr>\n",
       "      <th>2</th>\n",
       "      <td>4655635</td>\n",
       "      <td>폴리스스토리시리즈는부터뉴까지버릴께하나도없음최고</td>\n",
       "      <td>1</td>\n",
       "    </tr>\n",
       "    <tr>\n",
       "      <th>3</th>\n",
       "      <td>9251303</td>\n",
       "      <td>와연기가진짜개쩔구나지루할거라고생각했는데몰입해서봤다그래이런게진짜영화지</td>\n",
       "      <td>1</td>\n",
       "    </tr>\n",
       "    <tr>\n",
       "      <th>4</th>\n",
       "      <td>10067386</td>\n",
       "      <td>안개자욱한밤하늘에떠있는초승달같은영화</td>\n",
       "      <td>1</td>\n",
       "    </tr>\n",
       "    <tr>\n",
       "      <th>5</th>\n",
       "      <td>2190435</td>\n",
       "      <td>사랑을해본사람이라면처음부터끝까지웃을수있는영화</td>\n",
       "      <td>1</td>\n",
       "    </tr>\n",
       "    <tr>\n",
       "      <th>6</th>\n",
       "      <td>9279041</td>\n",
       "      <td>완전감동입니다다시봐도감동</td>\n",
       "      <td>1</td>\n",
       "    </tr>\n",
       "    <tr>\n",
       "      <th>7</th>\n",
       "      <td>7865729</td>\n",
       "      <td>개들의전쟁나오나요나오면빠로보고싶음</td>\n",
       "      <td>1</td>\n",
       "    </tr>\n",
       "    <tr>\n",
       "      <th>8</th>\n",
       "      <td>7477618</td>\n",
       "      <td>굿</td>\n",
       "      <td>1</td>\n",
       "    </tr>\n",
       "    <tr>\n",
       "      <th>9</th>\n",
       "      <td>9250537</td>\n",
       "      <td>바보가아니라병쉰인듯</td>\n",
       "      <td>1</td>\n",
       "    </tr>\n",
       "  </tbody>\n",
       "</table>\n",
       "</div>"
      ]
     },
     "execution_count": 13,
     "metadata": {},
     "output_type": "execute_result"
    }
   ],
   "execution_count": 13
  },
  {
   "metadata": {
    "ExecuteTime": {
     "end_time": "2025-04-03T08:47:49.768228Z",
     "start_time": "2025-04-03T08:47:49.765064Z"
    }
   },
   "cell_type": "code",
   "source": "stopwords=['의','가','이','은','들','는','좀','잘','걍','과','도','를','으로','자','에','와','한','하다']",
   "id": "e1fe20caa08383ef",
   "outputs": [],
   "execution_count": 14
  },
  {
   "metadata": {
    "ExecuteTime": {
     "end_time": "2025-04-03T08:48:36.533513Z",
     "start_time": "2025-04-03T08:48:36.403421Z"
    }
   },
   "cell_type": "code",
   "source": [
    "tokenizer = Mecab()\n",
    "tokenized = []\n",
    "for sentence in sample_data['document']:\n",
    "    temp = tokenizer.morphs(sentence)\n",
    "    temp = [word for word in temp if not word in stopwords]\n",
    "    tokenized.append(temp)\n",
    "\n",
    "print(tokenized[:10])"
   ],
   "id": "9436b671a1abaa84",
   "outputs": [
    {
     "name": "stdout",
     "output_type": "stream",
     "text": [
      "[['어릴', '때', '보', '고', '지금', '다시', '봐도', '재밌', '어요', 'ㅋㅋ'], ['디자인', '을', '배우', '학생', '외국', '디자이너', '그', '일군', '전통', '을', '통해', '발전', '해', '문화', '산업', '부러웠', '는데', '사실', '우리', '나라', '에서', '그', '어려운', '시절', '끝', '까지', '열정', '을', '지킨', '노라노', '같', '전통', '있', '어', '저', '같', '사람', '꿈', '을', '꾸', '고', '이뤄나갈', '수', '있', '다는', '것', '감사', '합니다'], ['폴리스', '스토리', '시리즈', '부터', '뉴', '까지', '버릴', '께', '하나', '없', '음', '최고'], ['연기', '진짜', '개', '쩔', '구나', '지루', '할거', '라고', '생각', '했', '는데', '몰입', '해서', '봤', '다', '그래', '이런', '게', '진짜', '영화', '지'], ['안개', '자욱', '밤하늘', '떠', '있', '초승달', '같', '영화'], ['사랑', '을', '해', '본', '사람', '라면', '처음', '부터', '끝', '까지', '웃', '을', '수', '있', '영화'], ['완전', '감동', '입니다', '다시', '봐도', '감동'], ['개', '전쟁', '나오', '나요', '나오', '면', '빠', '로', '보', '고', '싶', '음'], ['굿'], ['바보', '아니', '라', '병', '쉰', '인', '듯']]\n"
     ]
    }
   ],
   "execution_count": 15
  },
  {
   "metadata": {
    "ExecuteTime": {
     "end_time": "2025-04-03T08:49:01.668739Z",
     "start_time": "2025-04-03T08:49:01.663505Z"
    }
   },
   "cell_type": "code",
   "source": [
    "vocab = FreqDist(np.hstack(tokenized))\n",
    "print('단어 집합의 크기: {}'.format(len(vocab)))"
   ],
   "id": "a8a8e1dd7485fc1d",
   "outputs": [
    {
     "name": "stdout",
     "output_type": "stream",
     "text": [
      "단어 집합의 크기: 656\n"
     ]
    }
   ],
   "execution_count": 16
  },
  {
   "metadata": {
    "ExecuteTime": {
     "end_time": "2025-04-03T08:49:06.495308Z",
     "start_time": "2025-04-03T08:49:06.490866Z"
    }
   },
   "cell_type": "code",
   "source": "vocab['재밌']",
   "id": "5f76528490fe8ab7",
   "outputs": [
    {
     "data": {
      "text/plain": [
       "8"
      ]
     },
     "execution_count": 17,
     "metadata": {},
     "output_type": "execute_result"
    }
   ],
   "execution_count": 17
  },
  {
   "metadata": {
    "ExecuteTime": {
     "end_time": "2025-04-03T08:49:41.705846Z",
     "start_time": "2025-04-03T08:49:41.702131Z"
    }
   },
   "cell_type": "code",
   "source": [
    "vocab_size = 500\n",
    "vocab = vocab.most_common(vocab_size)\n",
    "print('단어 집합의 크기: {}'.format(len(vocab)))"
   ],
   "id": "6c3d03716f21a475",
   "outputs": [
    {
     "name": "stdout",
     "output_type": "stream",
     "text": [
      "단어 집합의 크기: 500\n"
     ]
    }
   ],
   "execution_count": 18
  },
  {
   "metadata": {
    "ExecuteTime": {
     "end_time": "2025-04-03T08:50:57.696165Z",
     "start_time": "2025-04-03T08:50:57.692733Z"
    }
   },
   "cell_type": "code",
   "source": [
    "word_to_index = {word[0] : index + 2 for index, word in enumerate(vocab)}\n",
    "word_to_index['pad'] = 1\n",
    "word_to_index['unk'] = 0"
   ],
   "id": "521fb86716e03744",
   "outputs": [],
   "execution_count": 19
  },
  {
   "metadata": {
    "ExecuteTime": {
     "end_time": "2025-04-03T08:51:48.054929Z",
     "start_time": "2025-04-03T08:51:48.051393Z"
    }
   },
   "cell_type": "code",
   "source": [
    "encoded = []\n",
    "for line in tokenized:\n",
    "    temp = []\n",
    "    for w in line:\n",
    "        try:\n",
    "            temp.append(word_to_index[w])\n",
    "        except KeyError:\n",
    "            temp.append(word_to_index['unk'])\n",
    "    encoded.append(temp)"
   ],
   "id": "5b20bf063896dba1",
   "outputs": [],
   "execution_count": 20
  },
  {
   "metadata": {
    "ExecuteTime": {
     "end_time": "2025-04-03T08:51:52.689904Z",
     "start_time": "2025-04-03T08:51:52.687468Z"
    }
   },
   "cell_type": "code",
   "source": "print(encoded[:10])",
   "id": "16768eec3a3237fb",
   "outputs": [
    {
     "name": "stdout",
     "output_type": "stream",
     "text": [
      "[[78, 25, 9, 4, 47, 38, 79, 22, 26, 80], [185, 5, 81, 186, 187, 188, 48, 189, 113, 5, 190, 191, 23, 114, 192, 193, 12, 49, 82, 115, 27, 48, 194, 116, 117, 28, 195, 5, 196, 197, 14, 113, 7, 63, 50, 14, 39, 198, 5, 199, 4, 200, 15, 7, 83, 40, 201, 84], [202, 118, 203, 51, 204, 28, 205, 206, 52, 13, 29, 10], [53, 30, 119, 207, 208, 209, 210, 64, 41, 31, 12, 211, 120, 16, 2, 212, 65, 8, 30, 3, 32], [213, 214, 215, 216, 7, 217, 14, 3], [121, 5, 23, 33, 39, 122, 123, 51, 117, 28, 85, 5, 15, 7, 3], [124, 34, 218, 38, 79, 34], [119, 219, 54, 220, 54, 86, 221, 35, 9, 4, 42, 29], [55], [222, 87, 88, 223, 224, 56, 89]]\n"
     ]
    }
   ],
   "execution_count": 21
  },
  {
   "metadata": {
    "ExecuteTime": {
     "end_time": "2025-04-03T08:59:03.901720Z",
     "start_time": "2025-04-03T08:59:03.777934Z"
    }
   },
   "cell_type": "code",
   "source": [
    "max_len = max(len(l) for l in encoded)\n",
    "print('리뷰의 최대 길이 : %d' % max_len)\n",
    "print('리뷰의 최소 길이 : %d' % min(len(l) for l in encoded))\n",
    "print('리뷰의 평균 길이 : %f' % (sum(map(len, encoded)) / len(encoded)))\n",
    "plt.hist([len(s) for s in encoded], bins = 50)\n",
    "plt.xlabel('length of sample')\n",
    "plt.ylabel('frequency')\n",
    "plt.show()"
   ],
   "id": "c9e5effe16f09e02",
   "outputs": [
    {
     "name": "stdout",
     "output_type": "stream",
     "text": [
      "리뷰의 최대 길이 : 62\n",
      "리뷰의 최소 길이 : 1\n",
      "리뷰의 평균 길이 : 13.510000\n"
     ]
    },
    {
     "data": {
      "text/plain": [
       "<Figure size 640x480 with 1 Axes>"
      ],
      "image/png": "[encoded data removed]"
     },
     "metadata": {},
     "output_type": "display_data"
    }
   ],
   "execution_count": 22
  },
  {
   "metadata": {
    "ExecuteTime": {
     "end_time": "2025-04-03T08:59:42.446075Z",
     "start_time": "2025-04-03T08:59:42.443473Z"
    }
   },
   "cell_type": "code",
   "source": [
    "for line in encoded:\n",
    "    if len(line) < max_len:\n",
    "        line += [word_to_index['pad']] * (max_len - len(line))"
   ],
   "id": "8c7a91789d47cf22",
   "outputs": [],
   "execution_count": 23
  },
  {
   "metadata": {
    "ExecuteTime": {
     "end_time": "2025-04-03T09:00:34.540493Z",
     "start_time": "2025-04-03T09:00:34.534827Z"
    }
   },
   "cell_type": "code",
   "source": [
    "print('리뷰의 최대 길이 : %d' % max(len(l) for l in encoded))\n",
    "print('리뷰의 최소 길이 : %d' % min(len(l) for l in encoded))\n",
    "print('리뷰의 평균 길이 : %f' % (sum(map(len, encoded)) / len(encoded)))"
   ],
   "id": "67c9314bd7d8926",
   "outputs": [
    {
     "name": "stdout",
     "output_type": "stream",
     "text": [
      "리뷰의 최대 길이 : 62\n",
      "리뷰의 최소 길이 : 62\n",
      "리뷰의 평균 길이 : 62.000000\n"
     ]
    }
   ],
   "execution_count": 24
  },
  {
   "metadata": {
    "ExecuteTime": {
     "end_time": "2025-04-03T09:00:40.971844Z",
     "start_time": "2025-04-03T09:00:40.969794Z"
    }
   },
   "cell_type": "code",
   "source": "print(encoded[:3])",
   "id": "a4aaed118a2780ad",
   "outputs": [
    {
     "name": "stdout",
     "output_type": "stream",
     "text": [
      "[[78, 25, 9, 4, 47, 38, 79, 22, 26, 80, 1, 1, 1, 1, 1, 1, 1, 1, 1, 1, 1, 1, 1, 1, 1, 1, 1, 1, 1, 1, 1, 1, 1, 1, 1, 1, 1, 1, 1, 1, 1, 1, 1, 1, 1, 1, 1, 1, 1, 1, 1, 1, 1, 1, 1, 1, 1, 1, 1, 1, 1, 1], [185, 5, 81, 186, 187, 188, 48, 189, 113, 5, 190, 191, 23, 114, 192, 193, 12, 49, 82, 115, 27, 48, 194, 116, 117, 28, 195, 5, 196, 197, 14, 113, 7, 63, 50, 14, 39, 198, 5, 199, 4, 200, 15, 7, 83, 40, 201, 84, 1, 1, 1, 1, 1, 1, 1, 1, 1, 1, 1, 1, 1, 1], [202, 118, 203, 51, 204, 28, 205, 206, 52, 13, 29, 10, 1, 1, 1, 1, 1, 1, 1, 1, 1, 1, 1, 1, 1, 1, 1, 1, 1, 1, 1, 1, 1, 1, 1, 1, 1, 1, 1, 1, 1, 1, 1, 1, 1, 1, 1, 1, 1, 1, 1, 1, 1, 1, 1, 1, 1, 1, 1, 1, 1, 1]]\n"
     ]
    }
   ],
   "execution_count": 25
  },
  {
   "metadata": {},
   "cell_type": "code",
   "outputs": [],
   "execution_count": null,
   "source": "",
   "id": "4c864b75e6cac8a8"
  }
 ],
 "metadata": {
  "kernelspec": {
   "display_name": "Python 3",
   "language": "python",
   "name": "python3"
  },
  "language_info": {
   "codemirror_mode": {
    "name": "ipython",
    "version": 2
   },
   "file_extension": ".py",
   "mimetype": "text/x-python",
   "name": "python",
   "nbconvert_exporter": "python",
   "pygments_lexer": "ipython2",
   "version": "2.7.6"
  }
 },
 "nbformat": 4,
 "nbformat_minor": 5
}
