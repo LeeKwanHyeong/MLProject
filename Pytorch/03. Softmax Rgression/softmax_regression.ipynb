{
 "cells": [
  {
   "cell_type": "code",
   "id": "initial_id",
   "metadata": {
    "collapsed": true,
    "ExecuteTime": {
     "end_time": "2025-04-02T06:09:54.882669Z",
     "start_time": "2025-04-02T06:09:54.015519Z"
    }
   },
   "source": [
    "import torch\n",
    "import torch.nn.functional as F\n",
    "torch.manual_seed(1)"
   ],
   "outputs": [
    {
     "data": {
      "text/plain": [
       "<torch._C.Generator at 0x108d9c6f0>"
      ]
     },
     "execution_count": 1,
     "metadata": {},
     "output_type": "execute_result"
    }
   ],
   "execution_count": 1
  },
  {
   "metadata": {
    "ExecuteTime": {
     "end_time": "2025-04-02T06:10:27.760383Z",
     "start_time": "2025-04-02T06:10:27.731561Z"
    }
   },
   "cell_type": "code",
   "source": [
    "z = torch.FloatTensor([1, 2, 3])\n",
    "hypothesis = F.softmax(z, dim = 0)\n",
    "print(hypothesis)"
   ],
   "id": "6951a055b0f6b11c",
   "outputs": [
    {
     "name": "stdout",
     "output_type": "stream",
     "text": [
      "tensor([0.0900, 0.2447, 0.6652])\n"
     ]
    }
   ],
   "execution_count": 2
  },
  {
   "metadata": {
    "ExecuteTime": {
     "end_time": "2025-04-02T06:10:53.289931Z",
     "start_time": "2025-04-02T06:10:53.285427Z"
    }
   },
   "cell_type": "code",
   "source": "print(hypothesis.sum())",
   "id": "e482563590797d3a",
   "outputs": [
    {
     "name": "stdout",
     "output_type": "stream",
     "text": [
      "tensor(1.)\n"
     ]
    }
   ],
   "execution_count": 4
  },
  {
   "metadata": {
    "ExecuteTime": {
     "end_time": "2025-04-02T06:16:10.538887Z",
     "start_time": "2025-04-02T06:16:10.528554Z"
    }
   },
   "cell_type": "code",
   "source": [
    "z = torch.rand(3, 5, requires_grad = True)\n",
    "print(z)"
   ],
   "id": "66ee0863a3219ada",
   "outputs": [
    {
     "name": "stdout",
     "output_type": "stream",
     "text": [
      "tensor([[0.7576, 0.2793, 0.4031, 0.7347, 0.0293],\n",
      "        [0.7999, 0.3971, 0.7544, 0.5695, 0.4388],\n",
      "        [0.6387, 0.5247, 0.6826, 0.3051, 0.4635]], requires_grad=True)\n"
     ]
    }
   ],
   "execution_count": 5
  },
  {
   "metadata": {
    "ExecuteTime": {
     "end_time": "2025-04-02T06:16:30.575156Z",
     "start_time": "2025-04-02T06:16:30.568724Z"
    }
   },
   "cell_type": "code",
   "source": [
    "hypothesis = F.softmax(z, dim = 1)\n",
    "print(hypothesis)"
   ],
   "id": "a5d89ea149636b07",
   "outputs": [
    {
     "name": "stdout",
     "output_type": "stream",
     "text": [
      "tensor([[0.2645, 0.1639, 0.1855, 0.2585, 0.1277],\n",
      "        [0.2430, 0.1624, 0.2322, 0.1930, 0.1694],\n",
      "        [0.2226, 0.1986, 0.2326, 0.1594, 0.1868]], grad_fn=<SoftmaxBackward0>)\n"
     ]
    }
   ],
   "execution_count": 6
  },
  {
   "metadata": {
    "ExecuteTime": {
     "end_time": "2025-04-02T06:17:08.816438Z",
     "start_time": "2025-04-02T06:17:08.812360Z"
    }
   },
   "cell_type": "code",
   "source": "print(hypothesis.sum())",
   "id": "dd8fbe5657652d0c",
   "outputs": [
    {
     "name": "stdout",
     "output_type": "stream",
     "text": [
      "tensor(3.0000, grad_fn=<SumBackward0>)\n"
     ]
    }
   ],
   "execution_count": 7
  },
  {
   "metadata": {
    "ExecuteTime": {
     "end_time": "2025-04-02T06:17:49.329870Z",
     "start_time": "2025-04-02T06:17:49.323243Z"
    }
   },
   "cell_type": "code",
   "source": [
    "y = torch.randint(5, (3,)).long()\n",
    "print(y)"
   ],
   "id": "1a478a4265512798",
   "outputs": [
    {
     "name": "stdout",
     "output_type": "stream",
     "text": [
      "tensor([0, 2, 1])\n"
     ]
    }
   ],
   "execution_count": 8
  },
  {
   "metadata": {
    "ExecuteTime": {
     "end_time": "2025-04-02T06:18:14.730818Z",
     "start_time": "2025-04-02T06:18:14.721715Z"
    }
   },
   "cell_type": "code",
   "source": [
    "y_one_hot = torch.zeros_like(hypothesis)\n",
    "y_one_hot.scatter_(1, y.unsqueeze(1), 1)"
   ],
   "id": "7f15beec129811e2",
   "outputs": [
    {
     "data": {
      "text/plain": [
       "tensor([[1., 0., 0., 0., 0.],\n",
       "        [0., 0., 1., 0., 0.],\n",
       "        [0., 1., 0., 0., 0.]])"
      ]
     },
     "execution_count": 9,
     "metadata": {},
     "output_type": "execute_result"
    }
   ],
   "execution_count": 9
  },
  {
   "metadata": {
    "ExecuteTime": {
     "end_time": "2025-04-02T06:22:01.625427Z",
     "start_time": "2025-04-02T06:22:01.613093Z"
    }
   },
   "cell_type": "code",
   "source": [
    "cost = (y_one_hot * -torch.log(hypothesis)).sum(dim = 1).mean()\n",
    "print(cost)"
   ],
   "id": "f2c1b7e382842f93",
   "outputs": [
    {
     "name": "stdout",
     "output_type": "stream",
     "text": [
      "tensor(1.4689, grad_fn=<MeanBackward0>)\n"
     ]
    }
   ],
   "execution_count": 10
  },
  {
   "metadata": {
    "ExecuteTime": {
     "end_time": "2025-04-02T06:22:40.234564Z",
     "start_time": "2025-04-02T06:22:40.229345Z"
    }
   },
   "cell_type": "code",
   "source": "print(torch.log(F.softmax(z, dim = 1)))",
   "id": "7d832712e7406b30",
   "outputs": [
    {
     "name": "stdout",
     "output_type": "stream",
     "text": [
      "tensor([[-1.3301, -1.8084, -1.6846, -1.3530, -2.0584],\n",
      "        [-1.4147, -1.8174, -1.4602, -1.6450, -1.7758],\n",
      "        [-1.5025, -1.6165, -1.4586, -1.8360, -1.6776]], grad_fn=<LogBackward0>)\n"
     ]
    }
   ],
   "execution_count": 12
  },
  {
   "metadata": {
    "ExecuteTime": {
     "end_time": "2025-04-02T06:22:59.560027Z",
     "start_time": "2025-04-02T06:22:59.554506Z"
    }
   },
   "cell_type": "code",
   "source": "print(F.log_softmax(z, dim = 1))",
   "id": "f42dd4268d932cdb",
   "outputs": [
    {
     "name": "stdout",
     "output_type": "stream",
     "text": [
      "tensor([[-1.3301, -1.8084, -1.6846, -1.3530, -2.0584],\n",
      "        [-1.4147, -1.8174, -1.4602, -1.6450, -1.7758],\n",
      "        [-1.5025, -1.6165, -1.4586, -1.8360, -1.6776]],\n",
      "       grad_fn=<LogSoftmaxBackward0>)\n"
     ]
    }
   ],
   "execution_count": 13
  },
  {
   "metadata": {
    "ExecuteTime": {
     "end_time": "2025-04-02T06:23:39.028611Z",
     "start_time": "2025-04-02T06:23:39.019889Z"
    }
   },
   "cell_type": "code",
   "source": "F.nll_loss(F.log_softmax(z, dim = 1), y) # nll: Negative Log Likelihood",
   "id": "46c978e04c26e37a",
   "outputs": [
    {
     "data": {
      "text/plain": [
       "tensor(1.4689, grad_fn=<NllLossBackward0>)"
      ]
     },
     "execution_count": 14,
     "metadata": {},
     "output_type": "execute_result"
    }
   ],
   "execution_count": 14
  },
  {
   "metadata": {
    "ExecuteTime": {
     "end_time": "2025-04-02T06:24:26.161294Z",
     "start_time": "2025-04-02T06:24:26.154221Z"
    }
   },
   "cell_type": "code",
   "source": "F.cross_entropy(z, y)",
   "id": "409aa5863bdd9c18",
   "outputs": [
    {
     "data": {
      "text/plain": [
       "tensor(1.4689, grad_fn=<NllLossBackward0>)"
      ]
     },
     "execution_count": 15,
     "metadata": {},
     "output_type": "execute_result"
    }
   ],
   "execution_count": 15
  },
  {
   "metadata": {
    "ExecuteTime": {
     "end_time": "2025-04-02T06:32:59.432958Z",
     "start_time": "2025-04-02T06:32:59.422412Z"
    }
   },
   "cell_type": "code",
   "source": [
    "import torch\n",
    "import torch.nn as nn\n",
    "import torch.nn.functional as F\n",
    "import torch.optim as optim\n",
    "torch.manual_seed(1)"
   ],
   "id": "869373700e5cd0db",
   "outputs": [
    {
     "data": {
      "text/plain": [
       "<torch._C.Generator at 0x108d9c6f0>"
      ]
     },
     "execution_count": 27,
     "metadata": {},
     "output_type": "execute_result"
    }
   ],
   "execution_count": 27
  },
  {
   "metadata": {
    "ExecuteTime": {
     "end_time": "2025-04-02T06:25:25.634159Z",
     "start_time": "2025-04-02T06:25:25.629528Z"
    }
   },
   "cell_type": "code",
   "source": [
    "x_train = [[1, 2, 1, 1],\n",
    "           [2, 1, 3, 2],\n",
    "           [3, 1, 3, 4],\n",
    "           [4, 1, 5, 5],\n",
    "           [1, 7, 5, 5],\n",
    "           [1, 2, 5, 6],\n",
    "           [1, 6, 6, 6],\n",
    "           [1, 7, 7, 7]]\n",
    "y_train = [2, 2, 2, 1, 1, 1, 0, 0]\n",
    "x_train = torch.FloatTensor(x_train)\n",
    "y_train = torch.LongTensor(y_train)"
   ],
   "id": "b990a57b1c961da4",
   "outputs": [],
   "execution_count": 17
  },
  {
   "metadata": {
    "ExecuteTime": {
     "end_time": "2025-04-02T06:25:39.280750Z",
     "start_time": "2025-04-02T06:25:39.277515Z"
    }
   },
   "cell_type": "code",
   "source": [
    "print(x_train.shape)\n",
    "print(y_train.shape)"
   ],
   "id": "1cefdca32e42b122",
   "outputs": [
    {
     "name": "stdout",
     "output_type": "stream",
     "text": [
      "torch.Size([8, 4])\n",
      "torch.Size([8])\n"
     ]
    }
   ],
   "execution_count": 18
  },
  {
   "metadata": {
    "ExecuteTime": {
     "end_time": "2025-04-02T06:26:23.327294Z",
     "start_time": "2025-04-02T06:26:23.321572Z"
    }
   },
   "cell_type": "code",
   "source": [
    "y_one_hot = torch.zeros(8, 3)\n",
    "y_one_hot.scatter_(1, y_train.unsqueeze(1), 1)\n",
    "print(y_one_hot)"
   ],
   "id": "2cf68b4aeda9d0fb",
   "outputs": [
    {
     "name": "stdout",
     "output_type": "stream",
     "text": [
      "tensor([[0., 0., 1.],\n",
      "        [0., 0., 1.],\n",
      "        [0., 0., 1.],\n",
      "        [0., 1., 0.],\n",
      "        [0., 1., 0.],\n",
      "        [0., 1., 0.],\n",
      "        [1., 0., 0.],\n",
      "        [1., 0., 0.]])\n"
     ]
    }
   ],
   "execution_count": 19
  },
  {
   "metadata": {
    "ExecuteTime": {
     "end_time": "2025-04-02T06:29:12.469160Z",
     "start_time": "2025-04-02T06:29:12.465765Z"
    }
   },
   "cell_type": "code",
   "source": [
    "W = torch.zeros((4, 3), requires_grad = True)\n",
    "b = torch.zeros((1, 3), requires_grad = True)\n",
    "optimizer = optim.SGD([W, b], lr=0.01)"
   ],
   "id": "f49f0ebff40e30c5",
   "outputs": [
    {
     "name": "stdout",
     "output_type": "stream",
     "text": [
      "torch.Size([3, 5])\n",
      "torch.Size([3, 5])\n"
     ]
    }
   ],
   "execution_count": 22
  },
  {
   "metadata": {
    "ExecuteTime": {
     "end_time": "2025-04-02T06:30:12.216601Z",
     "start_time": "2025-04-02T06:30:12.095223Z"
    }
   },
   "cell_type": "code",
   "source": [
    "epochs = 1000\n",
    "for epoch in range(epochs):\n",
    "    hypothesis = F.softmax(x_train.matmul(W) + b, dim = 1)\n",
    "    cost = (y_one_hot * -torch.log(hypothesis)).sum(dim = 1).mean()\n",
    "\n",
    "    optimizer.zero_grad()\n",
    "    cost.backward()\n",
    "    optimizer.step()\n",
    "\n",
    "    # 100번마다 로그 출력\n",
    "    if epoch % 100 == 0:\n",
    "        print('Epoch {:4d}/{} Cost: {:.6f}'.format(\n",
    "            epoch, epochs, cost.item()\n",
    "        ))"
   ],
   "id": "803f9951dcc1db9d",
   "outputs": [
    {
     "name": "stdout",
     "output_type": "stream",
     "text": [
      "Epoch    0/1000 Cost: 0.540759\n",
      "Epoch  100/1000 Cost: 0.529122\n",
      "Epoch  200/1000 Cost: 0.518616\n",
      "Epoch  300/1000 Cost: 0.509045\n",
      "Epoch  400/1000 Cost: 0.500253\n",
      "Epoch  500/1000 Cost: 0.492121\n",
      "Epoch  600/1000 Cost: 0.484553\n",
      "Epoch  700/1000 Cost: 0.477470\n",
      "Epoch  800/1000 Cost: 0.470809\n",
      "Epoch  900/1000 Cost: 0.464518\n"
     ]
    }
   ],
   "execution_count": 24
  },
  {
   "metadata": {
    "ExecuteTime": {
     "end_time": "2025-04-02T06:32:24.291536Z",
     "start_time": "2025-04-02T06:32:24.166240Z"
    }
   },
   "cell_type": "code",
   "source": [
    "W = torch.zeros((4, 3), requires_grad = True)\n",
    "b = torch.zeros((1, 3), requires_grad = True)\n",
    "optimizer = optim.SGD([W, b], lr=0.01)\n",
    "\n",
    "epochs = 1000\n",
    "for epoch in range(epochs + 1):\n",
    "    z = x_train.matmul(W) + b\n",
    "    cost = F.cross_entropy(z, y_train)\n",
    "\n",
    "    optimizer.zero_grad()\n",
    "    cost.backward()\n",
    "    optimizer.step()\n",
    "    if epoch % 100 == 0:\n",
    "        print('Epoch {:4d}/{} Cost: {:.6f}'.format(\n",
    "            epoch, epochs, cost.item()\n",
    "        ))\n"
   ],
   "id": "9ff71961cfd2394e",
   "outputs": [
    {
     "name": "stdout",
     "output_type": "stream",
     "text": [
      "Epoch    0/1000 Cost: 1.098612\n",
      "Epoch  100/1000 Cost: 0.825978\n",
      "Epoch  200/1000 Cost: 0.745367\n",
      "Epoch  300/1000 Cost: 0.695094\n",
      "Epoch  400/1000 Cost: 0.658135\n",
      "Epoch  500/1000 Cost: 0.629088\n",
      "Epoch  600/1000 Cost: 0.605386\n",
      "Epoch  700/1000 Cost: 0.585531\n",
      "Epoch  800/1000 Cost: 0.568553\n",
      "Epoch  900/1000 Cost: 0.553787\n",
      "Epoch 1000/1000 Cost: 0.540759\n"
     ]
    }
   ],
   "execution_count": 26
  },
  {
   "metadata": {
    "ExecuteTime": {
     "end_time": "2025-04-02T06:35:26.208530Z",
     "start_time": "2025-04-02T06:35:26.075179Z"
    }
   },
   "cell_type": "code",
   "source": [
    "model = nn.Linear(4, 3)\n",
    "optimizer = optim.SGD(model.parameters(), lr=0.1)\n",
    "epochs = 1000\n",
    "for epoch in range(epochs + 1):\n",
    "    prediction = model(x_train)\n",
    "    cost = F.cross_entropy(prediction, y_train)\n",
    "\n",
    "    optimizer.zero_grad()\n",
    "    cost.backward()\n",
    "    optimizer.step()\n",
    "    if epoch % 100 == 0:\n",
    "        print('Epoch {:4d}/{} Cost: {:.6f}'.format(\n",
    "            epoch, epochs, cost.item()\n",
    "        ))\n"
   ],
   "id": "f8159af82e9bddf1",
   "outputs": [
    {
     "name": "stdout",
     "output_type": "stream",
     "text": [
      "Epoch    0/1000 Cost: 1.616785\n",
      "Epoch  100/1000 Cost: 0.658891\n",
      "Epoch  200/1000 Cost: 0.573443\n",
      "Epoch  300/1000 Cost: 0.518151\n",
      "Epoch  400/1000 Cost: 0.473265\n",
      "Epoch  500/1000 Cost: 0.433516\n",
      "Epoch  600/1000 Cost: 0.396563\n",
      "Epoch  700/1000 Cost: 0.360914\n",
      "Epoch  800/1000 Cost: 0.325392\n",
      "Epoch  900/1000 Cost: 0.289178\n",
      "Epoch 1000/1000 Cost: 0.254148\n"
     ]
    }
   ],
   "execution_count": 28
  },
  {
   "metadata": {
    "ExecuteTime": {
     "end_time": "2025-04-02T06:37:52.806340Z",
     "start_time": "2025-04-02T06:37:52.802534Z"
    }
   },
   "cell_type": "code",
   "source": [
    "class SoftMaxClassifierModel(nn.Module):\n",
    "    def __init__(self):\n",
    "        super().__init__()\n",
    "        self.linear = nn.Linear(4, 3)\n",
    "    def forward(self, x):\n",
    "        return self.linear(x)"
   ],
   "id": "304e579fbedfce91",
   "outputs": [],
   "execution_count": 33
  },
  {
   "metadata": {
    "ExecuteTime": {
     "end_time": "2025-04-02T06:37:53.364920Z",
     "start_time": "2025-04-02T06:37:53.362062Z"
    }
   },
   "cell_type": "code",
   "source": [
    "model = SoftMaxClassifierModel()\n",
    "optimizer = optim.SGD(model.parameters(), lr=0.1)"
   ],
   "id": "c59b67c81e3f745f",
   "outputs": [],
   "execution_count": 34
  },
  {
   "metadata": {
    "ExecuteTime": {
     "end_time": "2025-04-02T06:38:39.676413Z",
     "start_time": "2025-04-02T06:38:39.540653Z"
    }
   },
   "cell_type": "code",
   "source": [
    "epochs = 1000\n",
    "for epoch in range(epochs + 1):\n",
    "    prediction = model(x_train)\n",
    "    cost = F.cross_entropy(prediction, y_train)\n",
    "    optimizer.zero_grad()\n",
    "    cost.backward()\n",
    "    optimizer.step()\n",
    "    if epoch % 100 == 0:\n",
    "        print('Epoch {:4d}/{} Cost: {:.6f}'.format(\n",
    "            epoch, epochs, cost.item()\n",
    "        ))\n"
   ],
   "id": "e1a9ea46018cf9f7",
   "outputs": [
    {
     "name": "stdout",
     "output_type": "stream",
     "text": [
      "Epoch    0/1000 Cost: 2.637636\n",
      "Epoch  100/1000 Cost: 0.647903\n",
      "Epoch  200/1000 Cost: 0.564643\n",
      "Epoch  300/1000 Cost: 0.511043\n",
      "Epoch  400/1000 Cost: 0.467249\n",
      "Epoch  500/1000 Cost: 0.428281\n",
      "Epoch  600/1000 Cost: 0.391924\n",
      "Epoch  700/1000 Cost: 0.356742\n",
      "Epoch  800/1000 Cost: 0.321577\n",
      "Epoch  900/1000 Cost: 0.285617\n",
      "Epoch 1000/1000 Cost: 0.250818\n"
     ]
    }
   ],
   "execution_count": 35
  },
  {
   "metadata": {},
   "cell_type": "code",
   "outputs": [],
   "execution_count": null,
   "source": "",
   "id": "298cb63b3f745105"
  }
 ],
 "metadata": {
  "kernelspec": {
   "display_name": "Python 3",
   "language": "python",
   "name": "python3"
  },
  "language_info": {
   "codemirror_mode": {
    "name": "ipython",
    "version": 2
   },
   "file_extension": ".py",
   "mimetype": "text/x-python",
   "name": "python",
   "nbconvert_exporter": "python",
   "pygments_lexer": "ipython2",
   "version": "2.7.6"
  }
 },
 "nbformat": 4,
 "nbformat_minor": 5
}
