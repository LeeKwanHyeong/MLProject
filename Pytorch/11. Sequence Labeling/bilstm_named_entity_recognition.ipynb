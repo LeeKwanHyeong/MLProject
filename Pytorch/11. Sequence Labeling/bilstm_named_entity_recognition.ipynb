{
 "cells": [
  {
   "cell_type": "code",
   "id": "initial_id",
   "metadata": {
    "collapsed": true,
    "ExecuteTime": {
     "end_time": "2025-04-10T04:39:42.254386Z",
     "start_time": "2025-04-10T04:39:40.214637Z"
    }
   },
   "source": [
    "import urllib.request\n",
    "import numpy as np\n",
    "from matplotlib.rcsetup import validate_any\n",
    "from tqdm import tqdm\n",
    "import re\n",
    "from collections import Counter\n",
    "import matplotlib.pyplot as plt\n",
    "from sklearn.model_selection import train_test_split"
   ],
   "outputs": [],
   "execution_count": 1
  },
  {
   "metadata": {
    "ExecuteTime": {
     "end_time": "2025-04-10T04:39:42.409408Z",
     "start_time": "2025-04-10T04:39:42.259579Z"
    }
   },
   "cell_type": "code",
   "source": "urllib.request.urlretrieve(\"https://raw.githubusercontent.com/ukairia777/tensorflow-nlp-tutorial/main/12.%20RNN%20Sequence%20Labeling/dataset/train.txt\", filename=\"train.txt\")\n",
   "id": "ed5f2e7d60f918ea",
   "outputs": [
    {
     "data": {
      "text/plain": [
       "('train.txt', <http.client.HTTPMessage at 0x14dcbc2b0>)"
      ]
     },
     "execution_count": 2,
     "metadata": {},
     "output_type": "execute_result"
    }
   ],
   "execution_count": 2
  },
  {
   "metadata": {
    "ExecuteTime": {
     "end_time": "2025-04-10T04:39:42.681058Z",
     "start_time": "2025-04-10T04:39:42.440816Z"
    }
   },
   "cell_type": "code",
   "source": [
    "f = open('train.txt', 'r')\n",
    "tagged_sentences = []\n",
    "sentence = []\n",
    "\n",
    "for line in f:\n",
    "    if len(line) == 0 or line.startswith('-DOCSTART') or line[0] == '\\n':\n",
    "        if len(sentence) > 0:\n",
    "            tagged_sentences.append(sentence)\n",
    "            sentence = []\n",
    "        continue\n",
    "\n",
    "    splits = line.split(' ')\n",
    "    splits[-1] = re.sub('\\r', '', splits[-1])\n",
    "    word = splits[0].lower()\n",
    "    sentence.append([word, splits[-1]])"
   ],
   "id": "58b629ef2b5465a3",
   "outputs": [],
   "execution_count": 3
  },
  {
   "metadata": {
    "ExecuteTime": {
     "end_time": "2025-04-10T04:39:42.691379Z",
     "start_time": "2025-04-10T04:39:42.689471Z"
    }
   },
   "cell_type": "code",
   "source": "print('전체 샘플 개수: ', len(tagged_sentences))",
   "id": "4f07e2dd78ab6630",
   "outputs": [
    {
     "name": "stdout",
     "output_type": "stream",
     "text": [
      "전체 샘플 개수:  14041\n"
     ]
    }
   ],
   "execution_count": 4
  },
  {
   "metadata": {
    "ExecuteTime": {
     "end_time": "2025-04-10T04:39:42.715208Z",
     "start_time": "2025-04-10T04:39:42.697733Z"
    }
   },
   "cell_type": "code",
   "source": [
    "sentences, ner_tags = [], []\n",
    "for tagged_sentences in tagged_sentences: # 14,041 개의 문장 샘플을 1개씩 불러온다.\n",
    "    sentence, tag_info = zip(*tagged_sentences) # 각 샘흘에서 단어들은 sentene에 개체명 태깅 정보들은 tag_info에 저장.\n",
    "    sentences.append(list(sentence)) # 각 샘플에서 단어 정보만 저장\n",
    "    ner_tags.append(list(tag_info)) # 각 샘플에서 개체명 태깅 정보만 저장"
   ],
   "id": "d2596ca538c9f9a9",
   "outputs": [],
   "execution_count": 5
  },
  {
   "metadata": {
    "ExecuteTime": {
     "end_time": "2025-04-10T04:39:42.731411Z",
     "start_time": "2025-04-10T04:39:42.729710Z"
    }
   },
   "cell_type": "code",
   "source": [
    "print(sentences[0])\n",
    "print(ner_tags[0])"
   ],
   "id": "702a95b5e0e08a96",
   "outputs": [
    {
     "name": "stdout",
     "output_type": "stream",
     "text": [
      "['eu', 'rejects', 'german', 'call', 'to', 'boycott', 'british', 'lamb', '.']\n",
      "['B-ORG\\n', 'O\\n', 'B-MISC\\n', 'O\\n', 'O\\n', 'O\\n', 'B-MISC\\n', 'O\\n', 'O\\n']\n"
     ]
    }
   ],
   "execution_count": 6
  },
  {
   "metadata": {
    "ExecuteTime": {
     "end_time": "2025-04-10T04:39:42.744197Z",
     "start_time": "2025-04-10T04:39:42.742433Z"
    }
   },
   "cell_type": "code",
   "source": [
    "print(sentences[12])\n",
    "print(ner_tags[12])"
   ],
   "id": "e0658e627bd78704",
   "outputs": [
    {
     "name": "stdout",
     "output_type": "stream",
     "text": [
      "['only', 'france', 'and', 'britain', 'backed', 'fischler', \"'s\", 'proposal', '.']\n",
      "['O\\n', 'B-LOC\\n', 'O\\n', 'B-LOC\\n', 'O\\n', 'B-PER\\n', 'O\\n', 'O\\n', 'O\\n']\n"
     ]
    }
   ],
   "execution_count": 7
  },
  {
   "metadata": {
    "ExecuteTime": {
     "end_time": "2025-04-10T04:39:42.759575Z",
     "start_time": "2025-04-10T04:39:42.754954Z"
    }
   },
   "cell_type": "code",
   "source": "X_train, X_test, y_train, y_test = train_test_split(sentences, ner_tags, test_size = .2, random_state = 777)",
   "id": "b8aa0775dd2889e0",
   "outputs": [],
   "execution_count": 8
  },
  {
   "metadata": {
    "ExecuteTime": {
     "end_time": "2025-04-10T04:39:42.769238Z",
     "start_time": "2025-04-10T04:39:42.765147Z"
    }
   },
   "cell_type": "code",
   "source": "X_train, X_valid, y_train, y_valid = train_test_split(X_train, y_train, test_size = .2, random_state = 777)",
   "id": "2b9857b20eb7dd6f",
   "outputs": [],
   "execution_count": 9
  },
  {
   "metadata": {
    "ExecuteTime": {
     "end_time": "2025-04-10T04:39:42.777257Z",
     "start_time": "2025-04-10T04:39:42.774937Z"
    }
   },
   "cell_type": "code",
   "source": [
    "print('훈련 데이터의 개수 :', len(X_train))\n",
    "print('검증 데이터의 개수 :', len(X_valid))\n",
    "print('테스트 데이터의 개수 :', len(X_test))\n",
    "print('훈련 데이터 레이블의 개수 :', len(X_train))\n",
    "print('검증 데이터 레이블의 개수 :', len(X_valid))\n",
    "print('테스트 데이터 레이블의 개수 :', len(X_test))"
   ],
   "id": "4de01fe7df6411d2",
   "outputs": [
    {
     "name": "stdout",
     "output_type": "stream",
     "text": [
      "훈련 데이터의 개수 : 8985\n",
      "검증 데이터의 개수 : 2247\n",
      "테스트 데이터의 개수 : 2809\n",
      "훈련 데이터 레이블의 개수 : 8985\n",
      "검증 데이터 레이블의 개수 : 2247\n",
      "테스트 데이터 레이블의 개수 : 2809\n"
     ]
    }
   ],
   "execution_count": 10
  },
  {
   "metadata": {
    "ExecuteTime": {
     "end_time": "2025-04-10T04:39:42.789400Z",
     "start_time": "2025-04-10T04:39:42.787572Z"
    }
   },
   "cell_type": "code",
   "source": [
    "for sent in X_train[:2]:\n",
    "    print(sent)"
   ],
   "id": "987290eeb4267da5",
   "outputs": [
    {
     "name": "stdout",
     "output_type": "stream",
     "text": [
      "['young', 'boys', '9', '1', '0', '8', '6', '19', '3']\n",
      "['hentgen', '(', '17-7', ')', 'surrendered', 'just', 'three', 'doubles', 'and', 'a', 'pair', 'of', 'singles', 'in', 'tossing', 'his', 'major-league', 'leading', 'ninth', 'complete', 'game', '.']\n"
     ]
    }
   ],
   "execution_count": 11
  },
  {
   "metadata": {
    "ExecuteTime": {
     "end_time": "2025-04-10T04:39:42.815450Z",
     "start_time": "2025-04-10T04:39:42.796513Z"
    }
   },
   "cell_type": "code",
   "source": [
    "word_list = []\n",
    "for sent in X_train:\n",
    "    for word in sent:\n",
    "        word_list.append(word)\n",
    "\n",
    "word_counts = Counter(word_list)\n",
    "print('총 단어 수 :', len(word_counts))"
   ],
   "id": "3eead6d4c2ce9af1",
   "outputs": [
    {
     "name": "stdout",
     "output_type": "stream",
     "text": [
      "총 단어 수 : 16742\n"
     ]
    }
   ],
   "execution_count": 12
  },
  {
   "metadata": {
    "ExecuteTime": {
     "end_time": "2025-04-10T04:39:42.832058Z",
     "start_time": "2025-04-10T04:39:42.830265Z"
    }
   },
   "cell_type": "code",
   "source": [
    "print('훈련 데이터에서의 단어 the의 등장 횟수 :', word_counts['the'])\n",
    "print('훈련 데이터에서의 단어 love의 등장 횟수 : ', word_counts['love'])"
   ],
   "id": "7645a7d1a8a48c3f",
   "outputs": [
    {
     "name": "stdout",
     "output_type": "stream",
     "text": [
      "훈련 데이터에서의 단어 the의 등장 횟수 : 5410\n",
      "훈련 데이터에서의 단어 love의 등장 횟수 :  7\n"
     ]
    }
   ],
   "execution_count": 13
  },
  {
   "metadata": {
    "ExecuteTime": {
     "end_time": "2025-04-10T04:39:42.846527Z",
     "start_time": "2025-04-10T04:39:42.843116Z"
    }
   },
   "cell_type": "code",
   "source": [
    "vocab = sorted(word_counts, key = word_counts.get, reverse = True)\n",
    "print('등장 빈도수 상위 10개 단어')\n",
    "print(vocab[:10])"
   ],
   "id": "252eb99098b9b043",
   "outputs": [
    {
     "name": "stdout",
     "output_type": "stream",
     "text": [
      "등장 빈도수 상위 10개 단어\n",
      "['the', ',', '.', 'of', 'in', 'to', 'a', ')', '(', 'and']\n"
     ]
    }
   ],
   "execution_count": 14
  },
  {
   "metadata": {
    "ExecuteTime": {
     "end_time": "2025-04-10T04:39:42.861285Z",
     "start_time": "2025-04-10T04:39:42.857334Z"
    }
   },
   "cell_type": "code",
   "source": [
    "word_to_index = {}\n",
    "word_to_index['<PAD>'] = 0\n",
    "word_to_index['<UNK>'] = 1\n",
    "\n",
    "for index, word in enumerate(vocab):\n",
    "    word_to_index[word] = index + 2\n",
    "\n",
    "vocab_size = len(word_to_index)\n",
    "print('패딩 토큰과 UNK 토큰을 고려한 단어 집합의 크기 :', vocab_size)"
   ],
   "id": "58e70c7bc50f8eb2",
   "outputs": [
    {
     "name": "stdout",
     "output_type": "stream",
     "text": [
      "패딩 토큰과 UNK 토큰을 고려한 단어 집합의 크기 : 16744\n"
     ]
    }
   ],
   "execution_count": 15
  },
  {
   "metadata": {
    "ExecuteTime": {
     "end_time": "2025-04-10T04:39:42.877560Z",
     "start_time": "2025-04-10T04:39:42.875456Z"
    }
   },
   "cell_type": "code",
   "source": [
    "def texts_to_sequences(tokenized_X_data, word_to_index):\n",
    "  encoded_X_data = []\n",
    "  for sent in tokenized_X_data:\n",
    "    index_sequences = []\n",
    "    for word in sent:\n",
    "      try:\n",
    "          index_sequences.append(word_to_index[word])\n",
    "      except KeyError:\n",
    "          index_sequences.append(word_to_index['<UNK>'])\n",
    "    encoded_X_data.append(index_sequences)\n",
    "  return encoded_X_data"
   ],
   "id": "84a9eb69c8c8e729",
   "outputs": [],
   "execution_count": 16
  },
  {
   "metadata": {
    "ExecuteTime": {
     "end_time": "2025-04-10T04:39:42.913248Z",
     "start_time": "2025-04-10T04:39:42.890586Z"
    }
   },
   "cell_type": "code",
   "source": [
    "encoded_X_train = texts_to_sequences(X_train, word_to_index)\n",
    "encoded_X_valid = texts_to_sequences(X_valid, word_to_index)\n",
    "encoded_X_test = texts_to_sequences(X_test, word_to_index)"
   ],
   "id": "23ff0e8d4b08a14c",
   "outputs": [],
   "execution_count": 17
  },
  {
   "metadata": {
    "ExecuteTime": {
     "end_time": "2025-04-10T04:39:42.929998Z",
     "start_time": "2025-04-10T04:39:42.928255Z"
    }
   },
   "cell_type": "code",
   "source": [
    "for sent in encoded_X_train[:2]:\n",
    "  print(sent)"
   ],
   "id": "e7708f436f8b1d76",
   "outputs": [
    {
     "name": "stdout",
     "output_type": "stream",
     "text": [
      "[1260, 3215, 117, 17, 21, 123, 56, 539, 23]\n",
      "[5456, 10, 8229, 9, 8230, 186, 84, 1815, 11, 8, 1073, 5, 421, 6, 8231, 35, 2043, 291, 790, 957, 267, 4]\n"
     ]
    }
   ],
   "execution_count": 18
  },
  {
   "metadata": {
    "ExecuteTime": {
     "end_time": "2025-04-10T04:39:42.948046Z",
     "start_time": "2025-04-10T04:39:42.944944Z"
    }
   },
   "cell_type": "code",
   "source": [
    "index_to_word = {}\n",
    "for key, value in word_to_index.items():\n",
    "    index_to_word[value] = key"
   ],
   "id": "f2424c3455332fa2",
   "outputs": [],
   "execution_count": 19
  },
  {
   "metadata": {
    "ExecuteTime": {
     "end_time": "2025-04-10T04:39:42.964718Z",
     "start_time": "2025-04-10T04:39:42.962753Z"
    }
   },
   "cell_type": "code",
   "source": [
    "decoded_sample = [index_to_word[word] for word in encoded_X_train[0]]\n",
    "print('기존의 첫번째 샘플 :', X_train[0])\n",
    "print('복원된 첫번째 샘플 :', decoded_sample)"
   ],
   "id": "e67fd16d33fd7492",
   "outputs": [
    {
     "name": "stdout",
     "output_type": "stream",
     "text": [
      "기존의 첫번째 샘플 : ['young', 'boys', '9', '1', '0', '8', '6', '19', '3']\n",
      "복원된 첫번째 샘플 : ['young', 'boys', '9', '1', '0', '8', '6', '19', '3']\n"
     ]
    }
   ],
   "execution_count": 20
  },
  {
   "metadata": {
    "ExecuteTime": {
     "end_time": "2025-04-10T04:39:42.992455Z",
     "start_time": "2025-04-10T04:39:42.980357Z"
    }
   },
   "cell_type": "code",
   "source": [
    "# y_train으로부터 존재하는 모든 태그들의 집합 구하기\n",
    "flatten_tags = [tag for sent in y_train for tag in sent]\n",
    "tag_vocab = list(set(flatten_tags))\n",
    "print('태그 집합 :', tag_vocab)\n",
    "print('태그 집합의 크기 :', len(tag_vocab))"
   ],
   "id": "479720197eb27cbb",
   "outputs": [
    {
     "name": "stdout",
     "output_type": "stream",
     "text": [
      "태그 집합 : ['I-ORG\\n', 'B-PER\\n', 'B-LOC\\n', 'I-PER\\n', 'B-MISC\\n', 'O\\n', 'I-LOC\\n', 'B-ORG\\n', 'I-MISC\\n']\n",
      "태그 집합의 크기 : 9\n"
     ]
    }
   ],
   "execution_count": 21
  },
  {
   "metadata": {
    "ExecuteTime": {
     "end_time": "2025-04-10T04:39:43.013936Z",
     "start_time": "2025-04-10T04:39:43.011785Z"
    }
   },
   "cell_type": "code",
   "source": [
    "tag_to_index = {}\n",
    "tag_to_index[''] = 0\n",
    "\n",
    "for index, word in enumerate(tag_vocab) :\n",
    "  tag_to_index[word] = index + 1\n",
    "\n",
    "tag_vocab_size = len(tag_to_index)\n",
    "# print('패딩 토큰까지 포함된 태그 집합의 크기 :', tag_vocab_size)\n",
    "print('태그 집합 :', tag_to_index)\n"
   ],
   "id": "1e6e0a8baa58a9a3",
   "outputs": [
    {
     "name": "stdout",
     "output_type": "stream",
     "text": [
      "태그 집합 : {'': 0, 'I-ORG\\n': 1, 'B-PER\\n': 2, 'B-LOC\\n': 3, 'I-PER\\n': 4, 'B-MISC\\n': 5, 'O\\n': 6, 'I-LOC\\n': 7, 'B-ORG\\n': 8, 'I-MISC\\n': 9}\n"
     ]
    }
   ],
   "execution_count": 22
  },
  {
   "metadata": {
    "ExecuteTime": {
     "end_time": "2025-04-10T04:39:43.030340Z",
     "start_time": "2025-04-10T04:39:43.028579Z"
    }
   },
   "cell_type": "code",
   "source": [
    "def encoding_label(sequence, tag_to_index):\n",
    "  label_sequence = []\n",
    "  for seq in sequence:\n",
    "    label_sequence.append([tag_to_index[tag] for tag in seq])\n",
    "  return label_sequence"
   ],
   "id": "21442e38e3838f53",
   "outputs": [],
   "execution_count": 23
  },
  {
   "metadata": {
    "ExecuteTime": {
     "end_time": "2025-04-10T04:39:43.092531Z",
     "start_time": "2025-04-10T04:39:43.044025Z"
    }
   },
   "cell_type": "code",
   "source": [
    "encoded_y_train = encoding_label(y_train, tag_to_index)\n",
    "encoded_y_valid = encoding_label(y_valid, tag_to_index)\n",
    "encoded_y_test = encoding_label(y_test, tag_to_index)"
   ],
   "id": "d9d8ba2d052030e6",
   "outputs": [],
   "execution_count": 24
  },
  {
   "metadata": {
    "ExecuteTime": {
     "end_time": "2025-04-10T04:39:43.110219Z",
     "start_time": "2025-04-10T04:39:43.108006Z"
    }
   },
   "cell_type": "code",
   "source": [
    "print('X 데이터 상위 2개')\n",
    "print(encoded_X_train[:2])\n",
    "print('-' * 50)\n",
    "print('y 데이터 상위 2개')\n",
    "print(encoded_y_train[:2])\n",
    "print('-' * 50)\n",
    "print('첫번째 샘플과 레이블의 길이')\n",
    "print(len(encoded_X_train[0]))\n",
    "print(len(encoded_y_train[0]))"
   ],
   "id": "b0c08ff0495a636d",
   "outputs": [
    {
     "name": "stdout",
     "output_type": "stream",
     "text": [
      "X 데이터 상위 2개\n",
      "[[1260, 3215, 117, 17, 21, 123, 56, 539, 23], [5456, 10, 8229, 9, 8230, 186, 84, 1815, 11, 8, 1073, 5, 421, 6, 8231, 35, 2043, 291, 790, 957, 267, 4]]\n",
      "--------------------------------------------------\n",
      "y 데이터 상위 2개\n",
      "[[8, 1, 6, 6, 6, 6, 6, 6, 6], [2, 6, 6, 6, 6, 6, 6, 6, 6, 6, 6, 6, 6, 6, 6, 6, 6, 6, 6, 6, 6, 6]]\n",
      "--------------------------------------------------\n",
      "첫번째 샘플과 레이블의 길이\n",
      "9\n",
      "9\n"
     ]
    }
   ],
   "execution_count": 25
  },
  {
   "metadata": {
    "ExecuteTime": {
     "end_time": "2025-04-10T04:39:43.127367Z",
     "start_time": "2025-04-10T04:39:43.125277Z"
    }
   },
   "cell_type": "code",
   "source": [
    "idx = 7\n",
    "print('원문:', X_train[idx])\n",
    "print('기존 레이블:', y_train[idx])\n",
    "print('-' * 10)\n",
    "print('정수 인코딩 후:', encoded_X_train[idx])\n",
    "print('레이블 정수 인코딩 후:', encoded_y_train[idx])"
   ],
   "id": "23a2f98c4567d2d7",
   "outputs": [
    {
     "name": "stdout",
     "output_type": "stream",
     "text": [
      "원문: ['new', 'york', '5,710.53', '-', '22.94', '5,778.00', '5,032.94']\n",
      "기존 레이블: ['B-LOC\\n', 'I-LOC\\n', 'O\\n', 'O\\n', 'O\\n', 'O\\n', 'O\\n']\n",
      "----------\n",
      "정수 인코딩 후: [45, 107, 8235, 18, 8236, 5459, 8237]\n",
      "레이블 정수 인코딩 후: [3, 7, 6, 6, 6, 6, 6]\n"
     ]
    }
   ],
   "execution_count": 26
  },
  {
   "metadata": {
    "ExecuteTime": {
     "end_time": "2025-04-10T04:39:43.191683Z",
     "start_time": "2025-04-10T04:39:43.189335Z"
    }
   },
   "cell_type": "code",
   "source": "lengths = [len(s) for s in encoded_X_train if hasattr(s, '__len__')]",
   "id": "8644d2b79988c0f9",
   "outputs": [],
   "execution_count": 27
  },
  {
   "metadata": {
    "ExecuteTime": {
     "end_time": "2025-04-10T04:39:43.517089Z",
     "start_time": "2025-04-10T04:39:43.208093Z"
    }
   },
   "cell_type": "code",
   "source": [
    "print('샘플의 최대 길이 : %d' % max(len(l) for l in encoded_X_train))\n",
    "print('샘플의 평균 길이 : %f' % (sum(map(len, encoded_X_train))/len(encoded_X_train)))\n",
    "plt.hist([len(s) for s in encoded_X_train], bins=50)\n",
    "plt.xlabel('length of samples')\n",
    "plt.ylabel('number of samples')\n",
    "plt.show()"
   ],
   "id": "762ba904a64ab90e",
   "outputs": [
    {
     "name": "stdout",
     "output_type": "stream",
     "text": [
      "샘플의 최대 길이 : 78\n",
      "샘플의 평균 길이 : 14.518420\n"
     ]
    },
    {
     "data": {
      "text/plain": [
       "<Figure size 640x480 with 1 Axes>"
      ],
      "image/png": "[encoded data removed]"
     },
     "metadata": {},
     "output_type": "display_data"
    }
   ],
   "execution_count": 28
  },
  {
   "metadata": {
    "ExecuteTime": {
     "end_time": "2025-04-10T04:44:31.252493Z",
     "start_time": "2025-04-10T04:44:31.249548Z"
    }
   },
   "cell_type": "code",
   "source": [
    "def below_threshold_len(max_len, nested_list):\n",
    "    count = 0\n",
    "    for sentence in nested_list:\n",
    "        if len(sentence) > max_len:\n",
    "            count += 1\n",
    "    print('전체 샘플 중 길이가 %s 이하인 샘플의 비율: %s' %(max_len, (count / len(nested_list)) * 100))"
   ],
   "id": "75d0b85a5e760c10",
   "outputs": [],
   "execution_count": 29
  },
  {
   "metadata": {
    "ExecuteTime": {
     "end_time": "2025-04-10T04:44:58.829720Z",
     "start_time": "2025-04-10T04:44:58.827473Z"
    }
   },
   "cell_type": "code",
   "source": [
    "max_len = 80\n",
    "below_threshold_len(max_len, encoded_X_train)"
   ],
   "id": "8e0206f23db058e2",
   "outputs": [
    {
     "name": "stdout",
     "output_type": "stream",
     "text": [
      "전체 샘플 중 길이가 80 이하인 샘플의 비율: 0.0\n"
     ]
    }
   ],
   "execution_count": 33
  },
  {
   "metadata": {
    "ExecuteTime": {
     "end_time": "2025-04-10T04:47:46.648269Z",
     "start_time": "2025-04-10T04:47:46.644880Z"
    }
   },
   "cell_type": "code",
   "source": [
    "def pad_sequences(sentences, max_len):\n",
    "    features = np.zeros((len(sentences), max_len), dtype = int)\n",
    "    for index, sentence in enumerate(sentences):\n",
    "        if len(sentence) != 0:\n",
    "            features[index, :len(sentence)] = np.array(sentence)[:max_len]\n",
    "    return features"
   ],
   "id": "e900f6bc285d8bb5",
   "outputs": [],
   "execution_count": 34
  },
  {
   "metadata": {
    "ExecuteTime": {
     "end_time": "2025-04-10T04:47:59.815029Z",
     "start_time": "2025-04-10T04:47:59.775455Z"
    }
   },
   "cell_type": "code",
   "source": [
    "padded_X_train = pad_sequences(encoded_X_train, max_len=max_len)\n",
    "padded_X_valid = pad_sequences(encoded_X_valid, max_len=max_len)\n",
    "padded_X_test = pad_sequences(encoded_X_test, max_len=max_len)\n",
    "\n",
    "padded_y_train = pad_sequences(encoded_y_train, max_len=max_len)\n",
    "padded_y_valid = pad_sequences(encoded_y_valid, max_len=max_len)\n",
    "padded_y_test = pad_sequences(encoded_y_test, max_len=max_len)"
   ],
   "id": "cdc174f3a2832683",
   "outputs": [],
   "execution_count": 35
  },
  {
   "metadata": {
    "ExecuteTime": {
     "end_time": "2025-04-10T04:48:05.324837Z",
     "start_time": "2025-04-10T04:48:05.322650Z"
    }
   },
   "cell_type": "code",
   "source": [
    "print('훈련 데이터의 크기 :', padded_X_train.shape)\n",
    "print('검증 데이터의 크기 :', padded_X_valid.shape)\n",
    "print('테스트 데이터의 크기 :', padded_X_test.shape)\n",
    "print('-' * 30)\n",
    "print('훈련 데이터의 레이블 :', padded_y_train.shape)\n",
    "print('검증 데이터의 레이블 :', padded_y_valid.shape)\n",
    "print('테스트 데이터의 레이블 :', padded_y_test.shape)"
   ],
   "id": "dd10f03ead86d7f1",
   "outputs": [
    {
     "name": "stdout",
     "output_type": "stream",
     "text": [
      "훈련 데이터의 크기 : (8985, 80)\n",
      "검증 데이터의 크기 : (2247, 80)\n",
      "테스트 데이터의 크기 : (2809, 80)\n",
      "------------------------------\n",
      "훈련 데이터의 레이블 : (8985, 80)\n",
      "검증 데이터의 레이블 : (2247, 80)\n",
      "테스트 데이터의 레이블 : (2809, 80)\n"
     ]
    }
   ],
   "execution_count": 36
  },
  {
   "metadata": {
    "ExecuteTime": {
     "end_time": "2025-04-10T04:49:59.798175Z",
     "start_time": "2025-04-10T04:49:59.794296Z"
    }
   },
   "cell_type": "code",
   "source": [
    "print('훈련 데이터의 상위 샘플 2개')\n",
    "print(padded_X_train[:2])\n",
    "print('-' * 5 + '레이블' + '-' * 5)\n",
    "print(padded_y_train[:2])"
   ],
   "id": "191a575dfa051de",
   "outputs": [
    {
     "name": "stdout",
     "output_type": "stream",
     "text": [
      "훈련 데이터의 상위 샘플 2개\n",
      "[[1260 3215  117   17   21  123   56  539   23    0    0    0    0    0\n",
      "     0    0    0    0    0    0    0    0    0    0    0    0    0    0\n",
      "     0    0    0    0    0    0    0    0    0    0    0    0    0    0\n",
      "     0    0    0    0    0    0    0    0    0    0    0    0    0    0\n",
      "     0    0    0    0    0    0    0    0    0    0    0    0    0    0\n",
      "     0    0    0    0    0    0    0    0    0    0]\n",
      " [5456   10 8229    9 8230  186   84 1815   11    8 1073    5  421    6\n",
      "  8231   35 2043  291  790  957  267    4    0    0    0    0    0    0\n",
      "     0    0    0    0    0    0    0    0    0    0    0    0    0    0\n",
      "     0    0    0    0    0    0    0    0    0    0    0    0    0    0\n",
      "     0    0    0    0    0    0    0    0    0    0    0    0    0    0\n",
      "     0    0    0    0    0    0    0    0    0    0]]\n",
      "-----레이블-----\n",
      "[[8 1 6 6 6 6 6 6 6 0 0 0 0 0 0 0 0 0 0 0 0 0 0 0 0 0 0 0 0 0 0 0 0 0 0 0\n",
      "  0 0 0 0 0 0 0 0 0 0 0 0 0 0 0 0 0 0 0 0 0 0 0 0 0 0 0 0 0 0 0 0 0 0 0 0\n",
      "  0 0 0 0 0 0 0 0]\n",
      " [2 6 6 6 6 6 6 6 6 6 6 6 6 6 6 6 6 6 6 6 6 6 0 0 0 0 0 0 0 0 0 0 0 0 0 0\n",
      "  0 0 0 0 0 0 0 0 0 0 0 0 0 0 0 0 0 0 0 0 0 0 0 0 0 0 0 0 0 0 0 0 0 0 0 0\n",
      "  0 0 0 0 0 0 0 0]]\n"
     ]
    }
   ],
   "execution_count": 37
  },
  {
   "metadata": {
    "ExecuteTime": {
     "end_time": "2025-04-10T04:50:38.266838Z",
     "start_time": "2025-04-10T04:50:37.430447Z"
    }
   },
   "cell_type": "code",
   "source": [
    "import torch\n",
    "import torch.nn as nn\n",
    "import torch.optim as optim\n",
    "import torch.nn.functional as F"
   ],
   "id": "1fcbb9bc224b657c",
   "outputs": [],
   "execution_count": 38
  },
  {
   "metadata": {
    "ExecuteTime": {
     "end_time": "2025-04-10T04:51:04.649885Z",
     "start_time": "2025-04-10T04:51:04.628833Z"
    }
   },
   "cell_type": "code",
   "source": [
    "USE_MPS = torch.backends.mps.is_available()\n",
    "device = torch.device('mps' if USE_MPS else 'cpu')"
   ],
   "id": "3317c67bca148c50",
   "outputs": [],
   "execution_count": 39
  },
  {
   "metadata": {
    "ExecuteTime": {
     "end_time": "2025-04-10T04:52:42.049388Z",
     "start_time": "2025-04-10T04:52:42.045179Z"
    }
   },
   "cell_type": "code",
   "source": [
    "class NETTagger(nn.Module):\n",
    "    def __init__(self, vocab_size, embedding_dim, hidden_dim, output_dim):\n",
    "        super(NETTagger, self).__init__()\n",
    "        self.embedding = nn.Embedding(vocab_size, embedding_dim)\n",
    "        self.gru = nn.GRU(embedding_dim, hidden_dim, batch_first=True)\n",
    "        self.fc = nn.Linear(hidden_dim, output_dim)\n",
    "\n",
    "    def forward(self, x):\n",
    "        embedded = self.embedding(x)\n",
    "        gru_out, _ = self.gru(embedded)\n",
    "        logits = self.fc(gru_out)\n",
    "        return logits\n"
   ],
   "id": "8a895bff930c2332",
   "outputs": [],
   "execution_count": 40
  },
  {
   "metadata": {
    "ExecuteTime": {
     "end_time": "2025-04-10T04:57:32.757389Z",
     "start_time": "2025-04-10T04:57:32.752520Z"
    }
   },
   "cell_type": "code",
   "source": [
    "class NETTaggerBidirectional(nn.Module):\n",
    "    def __init__(self, vocab_size, embedding_dim, hidden_dim, output_dim, num_layers=2):\n",
    "        super(NETTaggerBidirectional, self).__init__()\n",
    "        self.embedding = nn.Embedding(vocab_size, embedding_dim)\n",
    "        self.lstm = nn.LSTM(embedding_dim, hidden_dim, num_layers=num_layers, batch_first=True, bidirectional=True)\n",
    "        self.fc = nn.Linear(hidden_dim*2, output_dim)\n",
    "\n",
    "    def forward(self, x):\n",
    "        # x: (batch_size, seq_length)\n",
    "        embedded = self.embedding(x)  # (batch_size, seq_length, embedding_dim)\n",
    "        lstm_out, _ = self.lstm(embedded)  # (batch_size, seq_length, hidden_dim*2)\n",
    "        logits = self.fc(lstm_out)  # (batch_size, seq_length, output_dim)\n",
    "        return logits"
   ],
   "id": "16d489b8dce2bbb9",
   "outputs": [],
   "execution_count": 46
  },
  {
   "metadata": {
    "ExecuteTime": {
     "end_time": "2025-04-10T04:57:33.261264Z",
     "start_time": "2025-04-10T04:57:33.254356Z"
    }
   },
   "cell_type": "code",
   "source": [
    "X_train_tensor = torch.tensor(padded_X_train, dtype=torch.long)\n",
    "y_train_tensor = torch.tensor(padded_y_train, dtype=torch.long)\n",
    "X_valid_tensor = torch.tensor(padded_X_valid, dtype=torch.long)\n",
    "y_valid_tensor = torch.tensor(padded_y_valid, dtype=torch.long)\n",
    "X_test_tensor = torch.tensor(padded_X_test, dtype=torch.long)\n",
    "y_test_tensor = torch.tensor(padded_y_test, dtype=torch.long)\n",
    "\n",
    "train_dataset = torch.utils.data.TensorDataset(X_train_tensor, y_train_tensor)\n",
    "train_dataloader = torch.utils.data.DataLoader(train_dataset, shuffle=True, batch_size=32)\n",
    "valid_dataset = torch.utils.data.TensorDataset(X_valid_tensor, y_valid_tensor)\n",
    "valid_dataloader = torch.utils.data.DataLoader(valid_dataset, shuffle=False, batch_size=32)\n",
    "test_dataset = torch.utils.data.TensorDataset(X_test_tensor, y_test_tensor)\n",
    "test_dataloader = torch.utils.data.DataLoader(test_dataset, shuffle=False, batch_size=32)"
   ],
   "id": "99e3d42c330225a0",
   "outputs": [],
   "execution_count": 47
  },
  {
   "metadata": {
    "ExecuteTime": {
     "end_time": "2025-04-10T04:57:33.853081Z",
     "start_time": "2025-04-10T04:57:33.850362Z"
    }
   },
   "cell_type": "code",
   "source": "print(vocab_size)",
   "id": "2aa6eaad8af11aae",
   "outputs": [
    {
     "name": "stdout",
     "output_type": "stream",
     "text": [
      "16744\n"
     ]
    }
   ],
   "execution_count": 48
  },
  {
   "metadata": {
    "ExecuteTime": {
     "end_time": "2025-04-10T04:57:34.390933Z",
     "start_time": "2025-04-10T04:57:34.388030Z"
    }
   },
   "cell_type": "code",
   "source": [
    "embedding_dim = 100\n",
    "hidden_dim = 256\n",
    "output_dim = tag_vocab_size\n",
    "learning_rate = 0.01\n",
    "num_epochs = 10\n",
    "num_layers = 2"
   ],
   "id": "314d2bdfda555ab0",
   "outputs": [],
   "execution_count": 49
  },
  {
   "metadata": {
    "ExecuteTime": {
     "end_time": "2025-04-10T04:57:35.460586Z",
     "start_time": "2025-04-10T04:57:35.367818Z"
    }
   },
   "cell_type": "code",
   "source": [
    "model = NETTaggerBidirectional(vocab_size, embedding_dim, hidden_dim, output_dim, num_layers)\n",
    "model.to(device)"
   ],
   "id": "e886cca3e99d1ff6",
   "outputs": [
    {
     "data": {
      "text/plain": [
       "NETTaggerBidirectional(\n",
       "  (embedding): Embedding(16744, 100)\n",
       "  (lstm): LSTM(100, 256, num_layers=2, batch_first=True, bidirectional=True)\n",
       "  (fc): Linear(in_features=512, out_features=10, bias=True)\n",
       ")"
      ]
     },
     "execution_count": 50,
     "metadata": {},
     "output_type": "execute_result"
    }
   ],
   "execution_count": 50
  },
  {
   "metadata": {
    "ExecuteTime": {
     "end_time": "2025-04-10T04:58:13.376726Z",
     "start_time": "2025-04-10T04:58:12.660601Z"
    }
   },
   "cell_type": "code",
   "source": [
    "criterion = nn.CrossEntropyLoss(ignore_index = 0)\n",
    "optimizer = optim.Adam(model.parameters(), lr = learning_rate)"
   ],
   "id": "cfb32003d70ade10",
   "outputs": [],
   "execution_count": 51
  },
  {
   "metadata": {
    "ExecuteTime": {
     "end_time": "2025-04-10T05:00:52.555757Z",
     "start_time": "2025-04-10T05:00:52.552658Z"
    }
   },
   "cell_type": "code",
   "source": [
    "def calculate_accuracy(logits, labels, ignore_index = 0):\n",
    "    # 예측 레이블 구하기\n",
    "    predicted = torch.argmax(logits, dim = 1)\n",
    "\n",
    "    # 패딩 토큰 무시\n",
    "    mask = (labels != ignore_index)\n",
    "\n",
    "    # 정답을 맞춘 경우를 집계\n",
    "    correct = (predicted == labels).masked_select(mask).sum().item()\n",
    "    total = mask.sum().item()\n",
    "\n",
    "    accuracy = correct / total\n",
    "    return accuracy\n"
   ],
   "id": "6ae537f89c013f75",
   "outputs": [],
   "execution_count": 52
  },
  {
   "metadata": {
    "ExecuteTime": {
     "end_time": "2025-04-10T05:04:00.866908Z",
     "start_time": "2025-04-10T05:04:00.862797Z"
    }
   },
   "cell_type": "code",
   "source": [
    "def evaluate(model, valid_dataloader, criterion, device):\n",
    "    val_loss = 0\n",
    "    val_correct = 0\n",
    "    val_total = 0\n",
    "\n",
    "    model.eval()\n",
    "    with torch.no_grad():\n",
    "        for batch_X, batch_y in valid_dataloader:\n",
    "            batch_X, batch_y = batch_X.to(device), batch_y.to(device)\n",
    "\n",
    "            # Forward pass\n",
    "            logits = model(batch_X)\n",
    "\n",
    "            # Compute loss\n",
    "            loss = criterion(logits.view(-1, output_dim), batch_y.view(-1))\n",
    "\n",
    "            # Calculate validation accuracy and loss\n",
    "            val_loss += loss.item()\n",
    "            val_correct += calculate_accuracy(logits.view(-1, output_dim), batch_y.view(-1)) * batch_y.size(0)\n",
    "            val_total += batch_y.size(0)\n",
    "    val_accuracy = val_correct / val_total\n",
    "    val_loss /= len(valid_dataloader)\n",
    "\n",
    "    return val_loss, val_accuracy"
   ],
   "id": "547dd708da5535a9",
   "outputs": [],
   "execution_count": 53
  },
  {
   "metadata": {
    "ExecuteTime": {
     "end_time": "2025-04-10T05:09:32.212463Z",
     "start_time": "2025-04-10T05:07:55.816837Z"
    }
   },
   "cell_type": "code",
   "source": [
    "best_val_loss = float('inf')\n",
    "\n",
    "for epoch in range(num_epochs):\n",
    "    train_loss, train_correct, train_total = 0, 0, 0\n",
    "    model.train()\n",
    "\n",
    "    for batch_X, batch_y in train_dataloader:\n",
    "        batch_X, batch_y = batch_X.to(device), batch_y.to(device)\n",
    "        logits = model(batch_X)\n",
    "\n",
    "        loss = criterion(logits.view(-1, output_dim), batch_y.view(-1))\n",
    "\n",
    "        optimizer.zero_grad()\n",
    "        loss.backward()\n",
    "        optimizer.step()\n",
    "\n",
    "        train_loss += loss.item()\n",
    "        train_correct += calculate_accuracy(logits.view(-1, output_dim), batch_y.view(-1)) * batch_y.size(0)\n",
    "        train_total += batch_y.size(0)\n",
    "\n",
    "    train_accuracy = train_correct / train_total\n",
    "    train_loss /= len(train_dataloader)\n",
    "\n",
    "    val_loss, val_accuracy = evaluate(model, valid_dataloader, criterion, device)\n",
    "\n",
    "    print(f'Epoch {epoch + 1}/{num_epochs}:')\n",
    "    print(f'Train loss: {train_loss:.4f}, Train Accuracy: {train_accuracy:.4f}')\n",
    "    print(f'Validation Loss: {val_loss:.4f}, Validation Accuracy: {val_accuracy:.4f}')\n",
    "\n",
    "    if val_loss < best_val_loss:\n",
    "        print(f'Validation loss improved from {best_val_loss:.4f} to {val_loss:.4f}. Saving model...')\n",
    "        best_val_loss = val_loss\n",
    "        torch.save(model.state_dict(), 'best_model_bilstm.pth')"
   ],
   "id": "f515e45173068c09",
   "outputs": [
    {
     "name": "stdout",
     "output_type": "stream",
     "text": [
      "Epoch 1/10:\n",
      "Train loss: 0.4123, Train Accuracy: 0.8863\n",
      "Validation Loss: 0.2101, Validation Accuracy: 0.9402\n",
      "Validation loss improved from inf to 0.2101. Saving model...\n",
      "Epoch 2/10:\n",
      "Train loss: 0.1268, Train Accuracy: 0.9629\n",
      "Validation Loss: 0.1680, Validation Accuracy: 0.9565\n",
      "Validation loss improved from 0.2101 to 0.1680. Saving model...\n",
      "Epoch 3/10:\n",
      "Train loss: 0.0541, Train Accuracy: 0.9838\n",
      "Validation Loss: 0.1689, Validation Accuracy: 0.9592\n",
      "Epoch 4/10:\n",
      "Train loss: 0.0323, Train Accuracy: 0.9899\n",
      "Validation Loss: 0.1856, Validation Accuracy: 0.9588\n",
      "Epoch 5/10:\n",
      "Train loss: 0.0206, Train Accuracy: 0.9937\n",
      "Validation Loss: 0.1955, Validation Accuracy: 0.9584\n",
      "Epoch 6/10:\n",
      "Train loss: 0.0178, Train Accuracy: 0.9942\n",
      "Validation Loss: 0.2351, Validation Accuracy: 0.9589\n",
      "Epoch 7/10:\n",
      "Train loss: 0.0214, Train Accuracy: 0.9931\n",
      "Validation Loss: 0.2035, Validation Accuracy: 0.9556\n",
      "Epoch 8/10:\n",
      "Train loss: 0.0210, Train Accuracy: 0.9935\n",
      "Validation Loss: 0.1929, Validation Accuracy: 0.9577\n",
      "Epoch 9/10:\n",
      "Train loss: 0.0215, Train Accuracy: 0.9932\n",
      "Validation Loss: 0.2105, Validation Accuracy: 0.9567\n",
      "Epoch 10/10:\n",
      "Train loss: 0.0185, Train Accuracy: 0.9942\n",
      "Validation Loss: 0.2175, Validation Accuracy: 0.9541\n"
     ]
    }
   ],
   "execution_count": 54
  },
  {
   "metadata": {
    "ExecuteTime": {
     "end_time": "2025-04-10T05:27:34.311497Z",
     "start_time": "2025-04-10T05:27:33.026430Z"
    }
   },
   "cell_type": "code",
   "source": [
    "model.load_state_dict(torch.load('best_model_bilstm.pth'))\n",
    "\n",
    "model.to(device)\n",
    "\n",
    "val_loss, val_accuracy = evaluate(model, valid_dataloader, criterion, device)\n",
    "\n",
    "print(f'Best model validation loss: {val_loss:.4f}')\n",
    "print(f'Best model validation accuracy: {val_accuracy:.4f}')"
   ],
   "id": "4563fe16de21efae",
   "outputs": [
    {
     "name": "stderr",
     "output_type": "stream",
     "text": [
      "/var/folders/py/xgf_87rd5nz9rsbc143wp9qc0000gn/T/ipykernel_5372/2780873639.py:1: FutureWarning: You are using `torch.load` with `weights_only=False` (the current default value), which uses the default pickle module implicitly. It is possible to construct malicious pickle data which will execute arbitrary code during unpickling (See https://github.com/pytorch/pytorch/blob/main/SECURITY.md#untrusted-models for more details). In a future release, the default value for `weights_only` will be flipped to `True`. This limits the functions that could be executed during unpickling. Arbitrary objects will no longer be allowed to be loaded via this mode unless they are explicitly allowlisted by the user via `torch.serialization.add_safe_globals`. We recommend you start setting `weights_only=True` for any use case where you don't have full control of the loaded file. Please open an issue on GitHub for any issues related to this experimental feature.\n",
      "  model.load_state_dict(torch.load('best_model_bilstm.pth'))\n"
     ]
    },
    {
     "name": "stdout",
     "output_type": "stream",
     "text": [
      "Best model validation loss: 0.1680\n",
      "Best model validation accuracy: 0.9565\n"
     ]
    }
   ],
   "execution_count": 55
  },
  {
   "metadata": {
    "ExecuteTime": {
     "end_time": "2025-04-10T05:28:01.498044Z",
     "start_time": "2025-04-10T05:27:59.767159Z"
    }
   },
   "cell_type": "code",
   "source": [
    "test_loss, test_accuracy = evaluate(model, test_dataloader, criterion, device)\n",
    "print(f'Best model test loss: {test_loss:.4f}')\n",
    "print(f'Best model test accuracy: {test_accuracy:.4f}')"
   ],
   "id": "bc1cb8db8de6daf3",
   "outputs": [
    {
     "name": "stdout",
     "output_type": "stream",
     "text": [
      "Best model test loss: 0.1605\n",
      "Best model test accuracy: 0.9577\n"
     ]
    }
   ],
   "execution_count": 56
  },
  {
   "metadata": {
    "ExecuteTime": {
     "end_time": "2025-04-10T05:28:09.336620Z",
     "start_time": "2025-04-10T05:28:09.334578Z"
    }
   },
   "cell_type": "code",
   "source": [
    "index_to_tag = {}\n",
    "for key, value in tag_to_index.items():\n",
    "    index_to_tag[value] = key"
   ],
   "id": "fe62a2fc9f1e05db",
   "outputs": [],
   "execution_count": 57
  },
  {
   "metadata": {
    "ExecuteTime": {
     "end_time": "2025-04-10T05:28:55.469682Z",
     "start_time": "2025-04-10T05:28:55.465031Z"
    }
   },
   "cell_type": "code",
   "source": [
    "def predict_labels(text, model, word_to_ix, index_to_tag, max_len=150):\n",
    "    # 단어 토큰화\n",
    "    tokens = text.split()\n",
    "\n",
    "    # 정수 인코딩\n",
    "    token_indices = [word_to_ix.get(token, 1) for token in tokens]\n",
    "\n",
    "    # 패딩\n",
    "    token_indices_padded = np.zeros(max_len, dtype=int)\n",
    "    token_indices_padded[:len(token_indices)] = token_indices[:max_len]\n",
    "\n",
    "    # 텐서로 변환\n",
    "    input_tensor = torch.tensor(token_indices_padded, dtype=torch.long).unsqueeze(0).to(device)\n",
    "\n",
    "    # 모델의 입력으로 사용하고 예측값 리턴\n",
    "    model.eval()\n",
    "    with torch.no_grad():\n",
    "        logits = model(input_tensor)\n",
    "\n",
    "    # 가장 값이 높은 인덱스를 예측값으로 선택\n",
    "    predicted_indices = torch.argmax(logits, dim=-1).squeeze(0).tolist()\n",
    "\n",
    "    # 패딩 토큰 제거\n",
    "    predicted_indices_no_pad = predicted_indices[:len(tokens)]\n",
    "\n",
    "    # 패딩 토큰을 제외하고 정수 시퀀스를 예측 시퀀스로 변환\n",
    "    predicted_tags = [index_to_tag[index] for index in predicted_indices_no_pad]\n",
    "\n",
    "    return predicted_tags"
   ],
   "id": "97827a2dbcfa71a0",
   "outputs": [],
   "execution_count": 58
  },
  {
   "metadata": {
    "ExecuteTime": {
     "end_time": "2025-04-10T05:29:03.481970Z",
     "start_time": "2025-04-10T05:29:03.479483Z"
    }
   },
   "cell_type": "code",
   "source": "print(X_test[0])",
   "id": "3411367d21aa6f71",
   "outputs": [
    {
     "name": "stdout",
     "output_type": "stream",
     "text": [
      "['feyenoord', 'rotterdam', 'suffered', 'an', 'early', 'shock', 'when', 'they', 'went', '1-0', 'down', 'after', 'four', 'minutes', 'against', 'de', 'graafschap', 'doetinchem', '.']\n"
     ]
    }
   ],
   "execution_count": 59
  },
  {
   "metadata": {
    "ExecuteTime": {
     "end_time": "2025-04-10T05:29:08.701487Z",
     "start_time": "2025-04-10T05:29:08.698916Z"
    }
   },
   "cell_type": "code",
   "source": [
    "sample = ' '.join(X_test[0])\n",
    "print(sample)"
   ],
   "id": "badd1e855aa5419d",
   "outputs": [
    {
     "name": "stdout",
     "output_type": "stream",
     "text": [
      "feyenoord rotterdam suffered an early shock when they went 1-0 down after four minutes against de graafschap doetinchem .\n"
     ]
    }
   ],
   "execution_count": 60
  },
  {
   "metadata": {
    "ExecuteTime": {
     "end_time": "2025-04-10T05:29:16.684875Z",
     "start_time": "2025-04-10T05:29:16.073081Z"
    }
   },
   "cell_type": "code",
   "source": [
    "predicted_tags = predict_labels(sample, model, word_to_index, index_to_tag)\n",
    "print('예측 :', predicted_tags)\n",
    "print('실제값 :', y_test[0])"
   ],
   "id": "6bd5a7e7d50044f",
   "outputs": [
    {
     "name": "stdout",
     "output_type": "stream",
     "text": [
      "예측 : ['B-ORG\\n', 'I-ORG\\n', 'O\\n', 'O\\n', 'O\\n', 'O\\n', 'O\\n', 'O\\n', 'O\\n', 'O\\n', 'O\\n', 'O\\n', 'O\\n', 'O\\n', 'O\\n', 'O\\n', 'I-ORG\\n', 'I-PER\\n', 'O\\n']\n",
      "실제값 : ['B-ORG\\n', 'I-ORG\\n', 'O\\n', 'O\\n', 'O\\n', 'O\\n', 'O\\n', 'O\\n', 'O\\n', 'O\\n', 'O\\n', 'O\\n', 'O\\n', 'O\\n', 'O\\n', 'O\\n', 'B-ORG\\n', 'I-ORG\\n', 'O\\n']\n"
     ]
    }
   ],
   "execution_count": 61
  },
  {
   "metadata": {},
   "cell_type": "code",
   "outputs": [],
   "execution_count": null,
   "source": "",
   "id": "c20dc9ae80d56f75"
  }
 ],
 "metadata": {
  "kernelspec": {
   "display_name": "Python 3",
   "language": "python",
   "name": "python3"
  },
  "language_info": {
   "codemirror_mode": {
    "name": "ipython",
    "version": 2
   },
   "file_extension": ".py",
   "mimetype": "text/x-python",
   "name": "python",
   "nbconvert_exporter": "python",
   "pygments_lexer": "ipython2",
   "version": "2.7.6"
  }
 },
 "nbformat": 4,
 "nbformat_minor": 5
}
