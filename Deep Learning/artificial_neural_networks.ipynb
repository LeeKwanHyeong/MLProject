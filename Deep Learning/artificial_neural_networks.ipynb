{
 "cells": [
  {
   "cell_type": "code",
   "id": "initial_id",
   "metadata": {
    "collapsed": true,
    "ExecuteTime": {
     "end_time": "2025-03-25T11:13:44.948712Z",
     "start_time": "2025-03-25T11:13:44.944411Z"
    }
   },
   "source": [
    "import pandas as pd\n",
    "import numpy as np\n",
    "import matplotlib.pyplot as plt\n",
    "import tensorflow as tf\n",
    "\n",
    "tf.__version__"
   ],
   "outputs": [
    {
     "data": {
      "text/plain": [
       "'2.16.2'"
      ]
     },
     "execution_count": 60,
     "metadata": {},
     "output_type": "execute_result"
    }
   ],
   "execution_count": 60
  },
  {
   "metadata": {
    "ExecuteTime": {
     "end_time": "2025-03-25T11:13:44.974095Z",
     "start_time": "2025-03-25T11:13:44.958671Z"
    }
   },
   "cell_type": "code",
   "source": [
    "dataset = pd.read_csv('../../../Data/DL_Tutorial/Churn_Modelling.csv')\n",
    "dataset.head()"
   ],
   "id": "9a102cd6423d3576",
   "outputs": [
    {
     "data": {
      "text/plain": [
       "   RowNumber  CustomerId   Surname  CreditScore Geography  Gender  Age  \\\n",
       "0          1    15634602  Hargrave          619    France  Female   42   \n",
       "1          2    15647311      Hill          608     Spain  Female   41   \n",
       "2          3    15619304      Onio          502    France  Female   42   \n",
       "3          4    15701354      Boni          699    France  Female   39   \n",
       "4          5    15737888  Mitchell          850     Spain  Female   43   \n",
       "\n",
       "   Tenure    Balance  NumOfProducts  HasCrCard  IsActiveMember  \\\n",
       "0       2       0.00              1          1               1   \n",
       "1       1   83807.86              1          0               1   \n",
       "2       8  159660.80              3          1               0   \n",
       "3       1       0.00              2          0               0   \n",
       "4       2  125510.82              1          1               1   \n",
       "\n",
       "   EstimatedSalary  Exited  \n",
       "0        101348.88       1  \n",
       "1        112542.58       0  \n",
       "2        113931.57       1  \n",
       "3         93826.63       0  \n",
       "4         79084.10       0  "
      ],
      "text/html": [
       "<div>\n",
       "<style scoped>\n",
       "    .dataframe tbody tr th:only-of-type {\n",
       "        vertical-align: middle;\n",
       "    }\n",
       "\n",
       "    .dataframe tbody tr th {\n",
       "        vertical-align: top;\n",
       "    }\n",
       "\n",
       "    .dataframe thead th {\n",
       "        text-align: right;\n",
       "    }\n",
       "</style>\n",
       "<table border=\"1\" class=\"dataframe\">\n",
       "  <thead>\n",
       "    <tr style=\"text-align: right;\">\n",
       "      <th></th>\n",
       "      <th>RowNumber</th>\n",
       "      <th>CustomerId</th>\n",
       "      <th>Surname</th>\n",
       "      <th>CreditScore</th>\n",
       "      <th>Geography</th>\n",
       "      <th>Gender</th>\n",
       "      <th>Age</th>\n",
       "      <th>Tenure</th>\n",
       "      <th>Balance</th>\n",
       "      <th>NumOfProducts</th>\n",
       "      <th>HasCrCard</th>\n",
       "      <th>IsActiveMember</th>\n",
       "      <th>EstimatedSalary</th>\n",
       "      <th>Exited</th>\n",
       "    </tr>\n",
       "  </thead>\n",
       "  <tbody>\n",
       "    <tr>\n",
       "      <th>0</th>\n",
       "      <td>1</td>\n",
       "      <td>15634602</td>\n",
       "      <td>Hargrave</td>\n",
       "      <td>619</td>\n",
       "      <td>France</td>\n",
       "      <td>Female</td>\n",
       "      <td>42</td>\n",
       "      <td>2</td>\n",
       "      <td>0.00</td>\n",
       "      <td>1</td>\n",
       "      <td>1</td>\n",
       "      <td>1</td>\n",
       "      <td>101348.88</td>\n",
       "      <td>1</td>\n",
       "    </tr>\n",
       "    <tr>\n",
       "      <th>1</th>\n",
       "      <td>2</td>\n",
       "      <td>15647311</td>\n",
       "      <td>Hill</td>\n",
       "      <td>608</td>\n",
       "      <td>Spain</td>\n",
       "      <td>Female</td>\n",
       "      <td>41</td>\n",
       "      <td>1</td>\n",
       "      <td>83807.86</td>\n",
       "      <td>1</td>\n",
       "      <td>0</td>\n",
       "      <td>1</td>\n",
       "      <td>112542.58</td>\n",
       "      <td>0</td>\n",
       "    </tr>\n",
       "    <tr>\n",
       "      <th>2</th>\n",
       "      <td>3</td>\n",
       "      <td>15619304</td>\n",
       "      <td>Onio</td>\n",
       "      <td>502</td>\n",
       "      <td>France</td>\n",
       "      <td>Female</td>\n",
       "      <td>42</td>\n",
       "      <td>8</td>\n",
       "      <td>159660.80</td>\n",
       "      <td>3</td>\n",
       "      <td>1</td>\n",
       "      <td>0</td>\n",
       "      <td>113931.57</td>\n",
       "      <td>1</td>\n",
       "    </tr>\n",
       "    <tr>\n",
       "      <th>3</th>\n",
       "      <td>4</td>\n",
       "      <td>15701354</td>\n",
       "      <td>Boni</td>\n",
       "      <td>699</td>\n",
       "      <td>France</td>\n",
       "      <td>Female</td>\n",
       "      <td>39</td>\n",
       "      <td>1</td>\n",
       "      <td>0.00</td>\n",
       "      <td>2</td>\n",
       "      <td>0</td>\n",
       "      <td>0</td>\n",
       "      <td>93826.63</td>\n",
       "      <td>0</td>\n",
       "    </tr>\n",
       "    <tr>\n",
       "      <th>4</th>\n",
       "      <td>5</td>\n",
       "      <td>15737888</td>\n",
       "      <td>Mitchell</td>\n",
       "      <td>850</td>\n",
       "      <td>Spain</td>\n",
       "      <td>Female</td>\n",
       "      <td>43</td>\n",
       "      <td>2</td>\n",
       "      <td>125510.82</td>\n",
       "      <td>1</td>\n",
       "      <td>1</td>\n",
       "      <td>1</td>\n",
       "      <td>79084.10</td>\n",
       "      <td>0</td>\n",
       "    </tr>\n",
       "  </tbody>\n",
       "</table>\n",
       "</div>"
      ]
     },
     "execution_count": 61,
     "metadata": {},
     "output_type": "execute_result"
    }
   ],
   "execution_count": 61
  },
  {
   "metadata": {
    "ExecuteTime": {
     "end_time": "2025-03-25T11:13:45.010556Z",
     "start_time": "2025-03-25T11:13:45.005889Z"
    }
   },
   "cell_type": "code",
   "source": [
    "X = dataset.iloc[:, 3:-1].values\n",
    "y = dataset.iloc[:, -1].values"
   ],
   "id": "9f13fd2904bba256",
   "outputs": [],
   "execution_count": 62
  },
  {
   "metadata": {
    "ExecuteTime": {
     "end_time": "2025-03-25T11:13:45.037153Z",
     "start_time": "2025-03-25T11:13:45.034789Z"
    }
   },
   "cell_type": "code",
   "source": [
    "print(X)\n",
    "print(y)"
   ],
   "id": "be1a6e0d46daf686",
   "outputs": [
    {
     "name": "stdout",
     "output_type": "stream",
     "text": [
      "[[619 'France' 'Female' ... 1 1 101348.88]\n",
      " [608 'Spain' 'Female' ... 0 1 112542.58]\n",
      " [502 'France' 'Female' ... 1 0 113931.57]\n",
      " ...\n",
      " [709 'France' 'Female' ... 0 1 42085.58]\n",
      " [772 'Germany' 'Male' ... 1 0 92888.52]\n",
      " [792 'France' 'Female' ... 1 0 38190.78]]\n",
      "[1 0 1 ... 1 1 0]\n"
     ]
    }
   ],
   "execution_count": 63
  },
  {
   "metadata": {
    "ExecuteTime": {
     "end_time": "2025-03-25T11:13:45.057295Z",
     "start_time": "2025-03-25T11:13:45.054450Z"
    }
   },
   "cell_type": "code",
   "source": [
    "from sklearn.preprocessing import LabelEncoder\n",
    "le = LabelEncoder()\n",
    "X[:, 2] = le.fit_transform(X[:, 2])\n",
    "print(X[:, 2])"
   ],
   "id": "c4f1e37965918405",
   "outputs": [
    {
     "name": "stdout",
     "output_type": "stream",
     "text": [
      "[0 0 0 ... 0 1 0]\n"
     ]
    }
   ],
   "execution_count": 64
  },
  {
   "metadata": {
    "ExecuteTime": {
     "end_time": "2025-03-25T11:13:45.082133Z",
     "start_time": "2025-03-25T11:13:45.075635Z"
    }
   },
   "cell_type": "code",
   "source": [
    "from sklearn.compose import ColumnTransformer\n",
    "from sklearn.preprocessing import OneHotEncoder\n",
    "ct = ColumnTransformer(transformers = [('encoder', OneHotEncoder(), [1])], remainder = 'passthrough')\n",
    "X = np.array(ct.fit_transform(X))\n",
    "print(X)"
   ],
   "id": "56f52b65df2be296",
   "outputs": [
    {
     "name": "stdout",
     "output_type": "stream",
     "text": [
      "[[1.0 0.0 0.0 ... 1 1 101348.88]\n",
      " [0.0 0.0 1.0 ... 0 1 112542.58]\n",
      " [1.0 0.0 0.0 ... 1 0 113931.57]\n",
      " ...\n",
      " [1.0 0.0 0.0 ... 0 1 42085.58]\n",
      " [0.0 1.0 0.0 ... 1 0 92888.52]\n",
      " [1.0 0.0 0.0 ... 1 0 38190.78]]\n"
     ]
    }
   ],
   "execution_count": 65
  },
  {
   "metadata": {
    "ExecuteTime": {
     "end_time": "2025-03-25T11:13:45.097865Z",
     "start_time": "2025-03-25T11:13:45.091325Z"
    }
   },
   "cell_type": "code",
   "source": [
    "from sklearn.model_selection import train_test_split\n",
    "X_train, X_test, y_train, y_test = train_test_split(X, y, test_size = 0.2, random_state = 0)"
   ],
   "id": "3367eb9f14f82d1",
   "outputs": [],
   "execution_count": 66
  },
  {
   "metadata": {
    "ExecuteTime": {
     "end_time": "2025-03-25T11:13:45.112837Z",
     "start_time": "2025-03-25T11:13:45.105557Z"
    }
   },
   "cell_type": "code",
   "source": [
    "from sklearn.preprocessing import StandardScaler\n",
    "sc = StandardScaler()\n",
    "X_train = sc.fit_transform(X_train)\n",
    "X_test = sc.transform(X_test)\n"
   ],
   "id": "fc0e75acee992f36",
   "outputs": [],
   "execution_count": 67
  },
  {
   "metadata": {},
   "cell_type": "markdown",
   "source": "# Building the ANN",
   "id": "9982b7a370e1a244"
  },
  {
   "metadata": {
    "ExecuteTime": {
     "end_time": "2025-03-25T11:14:04.370013Z",
     "start_time": "2025-03-25T11:13:45.121089Z"
    }
   },
   "cell_type": "code",
   "source": [
    "# ann = tf.keras.models.Sequential([\n",
    "#     tf.keras.layers.Dense(units=6, activation='relu'),\n",
    "#     tf.keras.layers.Dense(units=6, activation='relu'),\n",
    "#     tf.keras.layers.Dense(units=1, activation='sigmoid')\n",
    "# ])\n",
    "ann = tf.keras.models.Sequential()\n",
    "ann.add(tf.keras.layers.Dense(units = 6, activation = 'relu'))\n",
    "ann.add(tf.keras.layers.Dense(units = 6, activation = 'relu'))\n",
    "ann.add(tf.keras.layers.Dense(units = 1, activation = 'sigmoid'))\n",
    "\n",
    "\n",
    "ann.compile(optimizer='adam', loss='binary_crossentropy', metrics=['accuracy'])\n",
    "ann.fit(X_train, y_train, batch_size=256, epochs=100, verbose=2)"
   ],
   "id": "16203b943660beca",
   "outputs": [
    {
     "name": "stdout",
     "output_type": "stream",
     "text": [
      "Epoch 1/100\n",
      "32/32 - 1s - 22ms/step - accuracy: 0.5599 - loss: 0.7196\n",
      "Epoch 2/100\n",
      "32/32 - 0s - 6ms/step - accuracy: 0.6156 - loss: 0.6608\n",
      "Epoch 3/100\n",
      "32/32 - 0s - 6ms/step - accuracy: 0.6769 - loss: 0.6188\n",
      "Epoch 4/100\n",
      "32/32 - 0s - 6ms/step - accuracy: 0.7291 - loss: 0.5768\n",
      "Epoch 5/100\n",
      "32/32 - 0s - 6ms/step - accuracy: 0.7719 - loss: 0.5370\n",
      "Epoch 6/100\n",
      "32/32 - 0s - 6ms/step - accuracy: 0.7912 - loss: 0.5030\n",
      "Epoch 7/100\n",
      "32/32 - 0s - 6ms/step - accuracy: 0.8000 - loss: 0.4776\n",
      "Epoch 8/100\n",
      "32/32 - 0s - 6ms/step - accuracy: 0.8018 - loss: 0.4599\n",
      "Epoch 9/100\n",
      "32/32 - 0s - 6ms/step - accuracy: 0.8037 - loss: 0.4481\n",
      "Epoch 10/100\n",
      "32/32 - 0s - 6ms/step - accuracy: 0.8039 - loss: 0.4409\n",
      "Epoch 11/100\n",
      "32/32 - 0s - 6ms/step - accuracy: 0.8054 - loss: 0.4366\n",
      "Epoch 12/100\n",
      "32/32 - 0s - 6ms/step - accuracy: 0.8062 - loss: 0.4339\n",
      "Epoch 13/100\n",
      "32/32 - 0s - 6ms/step - accuracy: 0.8080 - loss: 0.4325\n",
      "Epoch 14/100\n",
      "32/32 - 0s - 6ms/step - accuracy: 0.8090 - loss: 0.4314\n",
      "Epoch 15/100\n",
      "32/32 - 0s - 6ms/step - accuracy: 0.8089 - loss: 0.4309\n",
      "Epoch 16/100\n",
      "32/32 - 0s - 6ms/step - accuracy: 0.8095 - loss: 0.4306\n",
      "Epoch 17/100\n",
      "32/32 - 0s - 6ms/step - accuracy: 0.8091 - loss: 0.4305\n",
      "Epoch 18/100\n",
      "32/32 - 0s - 6ms/step - accuracy: 0.8085 - loss: 0.4305\n",
      "Epoch 19/100\n",
      "32/32 - 0s - 6ms/step - accuracy: 0.8092 - loss: 0.4301\n",
      "Epoch 20/100\n",
      "32/32 - 0s - 6ms/step - accuracy: 0.8079 - loss: 0.4304\n",
      "Epoch 21/100\n",
      "32/32 - 0s - 6ms/step - accuracy: 0.8096 - loss: 0.4301\n",
      "Epoch 22/100\n",
      "32/32 - 0s - 6ms/step - accuracy: 0.8104 - loss: 0.4298\n",
      "Epoch 23/100\n",
      "32/32 - 0s - 6ms/step - accuracy: 0.8095 - loss: 0.4300\n",
      "Epoch 24/100\n",
      "32/32 - 0s - 6ms/step - accuracy: 0.8100 - loss: 0.4301\n",
      "Epoch 25/100\n",
      "32/32 - 0s - 6ms/step - accuracy: 0.8096 - loss: 0.4299\n",
      "Epoch 26/100\n",
      "32/32 - 0s - 6ms/step - accuracy: 0.8096 - loss: 0.4300\n",
      "Epoch 27/100\n",
      "32/32 - 0s - 6ms/step - accuracy: 0.8106 - loss: 0.4297\n",
      "Epoch 28/100\n",
      "32/32 - 0s - 6ms/step - accuracy: 0.8096 - loss: 0.4298\n",
      "Epoch 29/100\n",
      "32/32 - 0s - 6ms/step - accuracy: 0.8099 - loss: 0.4298\n",
      "Epoch 30/100\n",
      "32/32 - 0s - 6ms/step - accuracy: 0.8105 - loss: 0.4299\n",
      "Epoch 31/100\n",
      "32/32 - 0s - 6ms/step - accuracy: 0.8109 - loss: 0.4298\n",
      "Epoch 32/100\n",
      "32/32 - 0s - 6ms/step - accuracy: 0.8111 - loss: 0.4297\n",
      "Epoch 33/100\n",
      "32/32 - 0s - 6ms/step - accuracy: 0.8109 - loss: 0.4299\n",
      "Epoch 34/100\n",
      "32/32 - 0s - 6ms/step - accuracy: 0.8121 - loss: 0.4299\n",
      "Epoch 35/100\n",
      "32/32 - 0s - 6ms/step - accuracy: 0.8124 - loss: 0.4301\n",
      "Epoch 36/100\n",
      "32/32 - 0s - 6ms/step - accuracy: 0.8111 - loss: 0.4300\n",
      "Epoch 37/100\n",
      "32/32 - 0s - 6ms/step - accuracy: 0.8105 - loss: 0.4302\n",
      "Epoch 38/100\n",
      "32/32 - 0s - 6ms/step - accuracy: 0.8104 - loss: 0.4302\n",
      "Epoch 39/100\n",
      "32/32 - 0s - 6ms/step - accuracy: 0.8123 - loss: 0.4301\n",
      "Epoch 40/100\n",
      "32/32 - 0s - 6ms/step - accuracy: 0.8115 - loss: 0.4300\n",
      "Epoch 41/100\n",
      "32/32 - 0s - 6ms/step - accuracy: 0.8117 - loss: 0.4303\n",
      "Epoch 42/100\n",
      "32/32 - 0s - 6ms/step - accuracy: 0.8111 - loss: 0.4305\n",
      "Epoch 43/100\n",
      "32/32 - 0s - 6ms/step - accuracy: 0.8116 - loss: 0.4302\n",
      "Epoch 44/100\n",
      "32/32 - 0s - 6ms/step - accuracy: 0.8117 - loss: 0.4303\n",
      "Epoch 45/100\n",
      "32/32 - 0s - 6ms/step - accuracy: 0.8123 - loss: 0.4304\n",
      "Epoch 46/100\n",
      "32/32 - 0s - 6ms/step - accuracy: 0.8117 - loss: 0.4304\n",
      "Epoch 47/100\n",
      "32/32 - 0s - 6ms/step - accuracy: 0.8112 - loss: 0.4309\n",
      "Epoch 48/100\n",
      "32/32 - 0s - 6ms/step - accuracy: 0.8112 - loss: 0.4309\n",
      "Epoch 49/100\n",
      "32/32 - 0s - 6ms/step - accuracy: 0.8140 - loss: 0.4314\n",
      "Epoch 50/100\n",
      "32/32 - 0s - 6ms/step - accuracy: 0.8104 - loss: 0.4310\n",
      "Epoch 51/100\n",
      "32/32 - 0s - 6ms/step - accuracy: 0.8120 - loss: 0.4310\n",
      "Epoch 52/100\n",
      "32/32 - 0s - 6ms/step - accuracy: 0.8119 - loss: 0.4310\n",
      "Epoch 53/100\n",
      "32/32 - 0s - 6ms/step - accuracy: 0.8115 - loss: 0.4316\n",
      "Epoch 54/100\n",
      "32/32 - 0s - 6ms/step - accuracy: 0.8115 - loss: 0.4319\n",
      "Epoch 55/100\n",
      "32/32 - 0s - 6ms/step - accuracy: 0.8124 - loss: 0.4313\n",
      "Epoch 56/100\n",
      "32/32 - 0s - 6ms/step - accuracy: 0.8129 - loss: 0.4315\n",
      "Epoch 57/100\n",
      "32/32 - 0s - 6ms/step - accuracy: 0.8119 - loss: 0.4315\n",
      "Epoch 58/100\n",
      "32/32 - 0s - 6ms/step - accuracy: 0.8127 - loss: 0.4316\n",
      "Epoch 59/100\n",
      "32/32 - 0s - 6ms/step - accuracy: 0.8101 - loss: 0.4313\n",
      "Epoch 60/100\n",
      "32/32 - 0s - 6ms/step - accuracy: 0.8110 - loss: 0.4313\n",
      "Epoch 61/100\n",
      "32/32 - 0s - 6ms/step - accuracy: 0.8126 - loss: 0.4315\n",
      "Epoch 62/100\n",
      "32/32 - 0s - 6ms/step - accuracy: 0.8114 - loss: 0.4313\n",
      "Epoch 63/100\n",
      "32/32 - 0s - 6ms/step - accuracy: 0.8110 - loss: 0.4314\n",
      "Epoch 64/100\n",
      "32/32 - 0s - 6ms/step - accuracy: 0.8112 - loss: 0.4314\n",
      "Epoch 65/100\n",
      "32/32 - 0s - 6ms/step - accuracy: 0.8101 - loss: 0.4309\n",
      "Epoch 66/100\n",
      "32/32 - 0s - 6ms/step - accuracy: 0.8115 - loss: 0.4311\n",
      "Epoch 67/100\n",
      "32/32 - 0s - 6ms/step - accuracy: 0.8125 - loss: 0.4321\n",
      "Epoch 68/100\n",
      "32/32 - 0s - 6ms/step - accuracy: 0.8115 - loss: 0.4314\n",
      "Epoch 69/100\n",
      "32/32 - 0s - 6ms/step - accuracy: 0.8123 - loss: 0.4306\n",
      "Epoch 70/100\n",
      "32/32 - 0s - 6ms/step - accuracy: 0.8108 - loss: 0.4311\n",
      "Epoch 71/100\n",
      "32/32 - 0s - 6ms/step - accuracy: 0.8112 - loss: 0.4309\n",
      "Epoch 72/100\n",
      "32/32 - 0s - 6ms/step - accuracy: 0.8116 - loss: 0.4311\n",
      "Epoch 73/100\n",
      "32/32 - 0s - 6ms/step - accuracy: 0.8112 - loss: 0.4304\n",
      "Epoch 74/100\n",
      "32/32 - 0s - 6ms/step - accuracy: 0.8111 - loss: 0.4306\n",
      "Epoch 75/100\n",
      "32/32 - 0s - 6ms/step - accuracy: 0.8110 - loss: 0.4306\n",
      "Epoch 76/100\n",
      "32/32 - 0s - 6ms/step - accuracy: 0.8094 - loss: 0.4304\n",
      "Epoch 77/100\n",
      "32/32 - 0s - 6ms/step - accuracy: 0.8101 - loss: 0.4311\n",
      "Epoch 78/100\n",
      "32/32 - 0s - 6ms/step - accuracy: 0.8101 - loss: 0.4305\n",
      "Epoch 79/100\n",
      "32/32 - 0s - 6ms/step - accuracy: 0.8092 - loss: 0.4305\n",
      "Epoch 80/100\n",
      "32/32 - 0s - 6ms/step - accuracy: 0.8110 - loss: 0.4311\n",
      "Epoch 81/100\n",
      "32/32 - 0s - 6ms/step - accuracy: 0.8095 - loss: 0.4302\n",
      "Epoch 82/100\n",
      "32/32 - 0s - 6ms/step - accuracy: 0.8098 - loss: 0.4307\n",
      "Epoch 83/100\n",
      "32/32 - 0s - 6ms/step - accuracy: 0.8119 - loss: 0.4310\n",
      "Epoch 84/100\n",
      "32/32 - 0s - 6ms/step - accuracy: 0.8098 - loss: 0.4307\n",
      "Epoch 85/100\n",
      "32/32 - 0s - 6ms/step - accuracy: 0.8100 - loss: 0.4305\n",
      "Epoch 86/100\n",
      "32/32 - 0s - 6ms/step - accuracy: 0.8114 - loss: 0.4300\n",
      "Epoch 87/100\n",
      "32/32 - 0s - 6ms/step - accuracy: 0.8116 - loss: 0.4305\n",
      "Epoch 88/100\n",
      "32/32 - 0s - 6ms/step - accuracy: 0.8106 - loss: 0.4302\n",
      "Epoch 89/100\n",
      "32/32 - 0s - 6ms/step - accuracy: 0.8112 - loss: 0.4305\n",
      "Epoch 90/100\n",
      "32/32 - 0s - 6ms/step - accuracy: 0.8108 - loss: 0.4309\n",
      "Epoch 91/100\n",
      "32/32 - 0s - 6ms/step - accuracy: 0.8101 - loss: 0.4318\n",
      "Epoch 92/100\n",
      "32/32 - 0s - 6ms/step - accuracy: 0.8104 - loss: 0.4308\n",
      "Epoch 93/100\n",
      "32/32 - 0s - 6ms/step - accuracy: 0.8101 - loss: 0.4329\n",
      "Epoch 94/100\n",
      "32/32 - 0s - 6ms/step - accuracy: 0.8100 - loss: 0.4312\n",
      "Epoch 95/100\n",
      "32/32 - 0s - 6ms/step - accuracy: 0.8101 - loss: 0.4309\n",
      "Epoch 96/100\n",
      "32/32 - 0s - 6ms/step - accuracy: 0.8094 - loss: 0.4310\n",
      "Epoch 97/100\n",
      "32/32 - 0s - 6ms/step - accuracy: 0.8090 - loss: 0.4310\n",
      "Epoch 98/100\n",
      "32/32 - 0s - 6ms/step - accuracy: 0.8095 - loss: 0.4311\n",
      "Epoch 99/100\n",
      "32/32 - 0s - 6ms/step - accuracy: 0.8106 - loss: 0.4303\n",
      "Epoch 100/100\n",
      "32/32 - 0s - 6ms/step - accuracy: 0.8073 - loss: 0.4310\n"
     ]
    },
    {
     "data": {
      "text/plain": [
       "<keras.src.callbacks.history.History at 0x387803ac0>"
      ]
     },
     "execution_count": 68,
     "metadata": {},
     "output_type": "execute_result"
    }
   ],
   "execution_count": 68
  },
  {
   "metadata": {
    "ExecuteTime": {
     "end_time": "2025-03-25T11:14:04.422208Z",
     "start_time": "2025-03-25T11:14:04.378303Z"
    }
   },
   "cell_type": "code",
   "source": "print(ann.predict(sc.fit_transform([[1, 0, 0, 600, 1, 40, 3, 60000, 2, 1, 1, 50000]]) > 0.5))",
   "id": "38554ba7d1d32a8f",
   "outputs": [
    {
     "name": "stdout",
     "output_type": "stream",
     "text": [
      "\u001B[1m1/1\u001B[0m \u001B[32m━━━━━━━━━━━━━━━━━━━━\u001B[0m\u001B[37m\u001B[0m \u001B[1m0s\u001B[0m 26ms/step\n",
      "[[0.15938172]]\n"
     ]
    }
   ],
   "execution_count": 69
  },
  {
   "metadata": {
    "ExecuteTime": {
     "end_time": "2025-03-25T11:14:04.611514Z",
     "start_time": "2025-03-25T11:14:04.477859Z"
    }
   },
   "cell_type": "code",
   "source": [
    "y_pred = ann.predict(X_test)\n",
    "y_pred = (y_pred > 0.5)\n",
    "print(y_pred)\n",
    "print(np.concatenate((y_pred.reshape(len(y_pred), 1), y_test.reshape(len(y_test), 1)), axis = 1))"
   ],
   "id": "c9f60b1dbf7ef62a",
   "outputs": [
    {
     "name": "stdout",
     "output_type": "stream",
     "text": [
      "\u001B[1m63/63\u001B[0m \u001B[32m━━━━━━━━━━━━━━━━━━━━\u001B[0m\u001B[37m\u001B[0m \u001B[1m0s\u001B[0m 1ms/step  \n",
      "[[False]\n",
      " [False]\n",
      " [False]\n",
      " ...\n",
      " [False]\n",
      " [False]\n",
      " [False]]\n",
      "[[0 0]\n",
      " [0 1]\n",
      " [0 0]\n",
      " ...\n",
      " [0 0]\n",
      " [0 0]\n",
      " [0 0]]\n"
     ]
    }
   ],
   "execution_count": 70
  },
  {
   "metadata": {
    "ExecuteTime": {
     "end_time": "2025-03-25T11:14:47.009882Z",
     "start_time": "2025-03-25T11:14:47.004687Z"
    }
   },
   "cell_type": "code",
   "source": [
    "from sklearn.metrics import confusion_matrix, accuracy_score\n",
    "cm = confusion_matrix(y_test, y_pred)\n",
    "print(cm)\n",
    "accuracy_score(y_test, y_pred)"
   ],
   "id": "cd16f16bd436d019",
   "outputs": [
    {
     "name": "stdout",
     "output_type": "stream",
     "text": [
      "[[1531   64]\n",
      " [ 306   99]]\n"
     ]
    },
    {
     "data": {
      "text/plain": [
       "0.815"
      ]
     },
     "execution_count": 71,
     "metadata": {},
     "output_type": "execute_result"
    }
   ],
   "execution_count": 71
  },
  {
   "metadata": {
    "ExecuteTime": {
     "end_time": "2025-03-25T11:14:04.632910Z",
     "start_time": "2025-03-25T11:14:04.631686Z"
    }
   },
   "cell_type": "code",
   "source": "",
   "id": "549319d881f5aa90",
   "outputs": [],
   "execution_count": null
  }
 ],
 "metadata": {
  "kernelspec": {
   "display_name": "Python 3",
   "language": "python",
   "name": "python3"
  },
  "language_info": {
   "codemirror_mode": {
    "name": "ipython",
    "version": 2
   },
   "file_extension": ".py",
   "mimetype": "text/x-python",
   "name": "python",
   "nbconvert_exporter": "python",
   "pygments_lexer": "ipython2",
   "version": "2.7.6"
  }
 },
 "nbformat": 4,
 "nbformat_minor": 5
}
