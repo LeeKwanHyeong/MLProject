{
 "cells": [
  {
   "cell_type": "code",
   "id": "initial_id",
   "metadata": {
    "collapsed": true,
    "ExecuteTime": {
     "end_time": "2025-03-26T06:15:02.838650Z",
     "start_time": "2025-03-26T06:15:02.314763Z"
    }
   },
   "source": [
    "import numpy as np\n",
    "import matplotlib.pyplot as plt\n",
    "import pandas as pd\n",
    "\n",
    "dataset_train = pd.read_csv('../../../Data/DL_Tutorial/RNN/Google_Stock_Price_Train.csv')\n",
    "training_set = dataset_train.iloc[:, 1:2].values\n",
    "print(dataset_train.head())\n",
    "print(training_set.shape)"
   ],
   "outputs": [
    {
     "name": "stdout",
     "output_type": "stream",
     "text": [
      "       Date    Open    High     Low   Close      Volume\n",
      "0  1/3/2012  325.25  332.83  324.97  663.59   7,380,500\n",
      "1  1/4/2012  331.27  333.87  329.08  666.45   5,749,400\n",
      "2  1/5/2012  329.83  330.75  326.89  657.21   6,590,300\n",
      "3  1/6/2012  328.34  328.77  323.68  648.24   5,405,900\n",
      "4  1/9/2012  322.04  322.29  309.46  620.76  11,688,800\n",
      "(1258, 1)\n"
     ]
    }
   ],
   "execution_count": 1
  },
  {
   "metadata": {},
   "cell_type": "markdown",
   "source": "## Feature Scaling",
   "id": "d0c67ade1cedb2e9"
  },
  {
   "metadata": {
    "ExecuteTime": {
     "end_time": "2025-03-26T06:19:41.997603Z",
     "start_time": "2025-03-26T06:19:41.994670Z"
    }
   },
   "cell_type": "code",
   "source": [
    "from sklearn.preprocessing import MinMaxScaler\n",
    "scaler = MinMaxScaler(feature_range = (0, 1)) # 척도는 0 ~ 1사이로\n",
    "training_set_scaled = scaler.fit_transform(training_set)\n",
    "print(training_set_scaled.shape)\n",
    "print(training_set_scaled)"
   ],
   "id": "bd0add9a856c71de",
   "outputs": [
    {
     "name": "stdout",
     "output_type": "stream",
     "text": [
      "(1258, 1)\n",
      "[[0.08581368]\n",
      " [0.09701243]\n",
      " [0.09433366]\n",
      " ...\n",
      " [0.95725128]\n",
      " [0.93796041]\n",
      " [0.93688146]]\n"
     ]
    }
   ],
   "execution_count": 4
  },
  {
   "metadata": {},
   "cell_type": "markdown",
   "source": "## Creating a data structure with 60 timestep and 1 output",
   "id": "9c1a0539a2d299d8"
  },
  {
   "metadata": {
    "ExecuteTime": {
     "end_time": "2025-03-26T06:31:12.996972Z",
     "start_time": "2025-03-26T06:31:12.990805Z"
    }
   },
   "cell_type": "code",
   "source": [
    "X_train = []\n",
    "y_train = []\n",
    "for i in range(60, 1258):\n",
    "    X_train.append(training_set_scaled[i-60:i, 0])\n",
    "    y_train.append(training_set_scaled[i, 0])\n",
    "\n",
    "X_train = np.array(X_train)\n",
    "y_train = np.array(y_train)"
   ],
   "id": "56c880f1c975b7b4",
   "outputs": [
    {
     "data": {
      "text/plain": [
       "array([[0.08581368, 0.09701243, 0.09433366, ..., 0.07846566, 0.08034452,\n",
       "        0.08497656],\n",
       "       [0.09701243, 0.09433366, 0.09156187, ..., 0.08034452, 0.08497656,\n",
       "        0.08627874],\n",
       "       [0.09433366, 0.09156187, 0.07984225, ..., 0.08497656, 0.08627874,\n",
       "        0.08471612],\n",
       "       ...,\n",
       "       [0.92106928, 0.92438053, 0.93048218, ..., 0.95475854, 0.95204256,\n",
       "        0.95163331],\n",
       "       [0.92438053, 0.93048218, 0.9299055 , ..., 0.95204256, 0.95163331,\n",
       "        0.95725128],\n",
       "       [0.93048218, 0.9299055 , 0.93113327, ..., 0.95163331, 0.95725128,\n",
       "        0.93796041]])"
      ]
     },
     "execution_count": 6,
     "metadata": {},
     "output_type": "execute_result"
    }
   ],
   "execution_count": 6
  },
  {
   "metadata": {},
   "cell_type": "markdown",
   "source": "## Reshaping",
   "id": "2a9f0a1ca2c2cde"
  },
  {
   "metadata": {
    "ExecuteTime": {
     "end_time": "2025-03-26T06:37:54.887555Z",
     "start_time": "2025-03-26T06:37:54.882804Z"
    }
   },
   "cell_type": "code",
   "source": "print(X_train.shape)",
   "id": "e7aaa271e25e2b1b",
   "outputs": [
    {
     "name": "stdout",
     "output_type": "stream",
     "text": [
      "(1198, 60)\n"
     ]
    }
   ],
   "execution_count": 7
  },
  {
   "metadata": {
    "ExecuteTime": {
     "end_time": "2025-03-26T06:42:44.152776Z",
     "start_time": "2025-03-26T06:42:44.150247Z"
    }
   },
   "cell_type": "code",
   "source": "X_train = np.reshape(X_train, (X_train.shape[0], X_train.shape[1], 1))",
   "id": "adb33aadc815fc3",
   "outputs": [],
   "execution_count": 8
  },
  {
   "metadata": {
    "ExecuteTime": {
     "end_time": "2025-03-26T06:42:55.628905Z",
     "start_time": "2025-03-26T06:42:55.625602Z"
    }
   },
   "cell_type": "code",
   "source": "print(X_train.shape)",
   "id": "fd9568ea22b92486",
   "outputs": [
    {
     "name": "stdout",
     "output_type": "stream",
     "text": [
      "(1198, 60, 1)\n"
     ]
    }
   ],
   "execution_count": 9
  },
  {
   "metadata": {},
   "cell_type": "markdown",
   "source": "## Building the RNN",
   "id": "3058370257d4be47"
  },
  {
   "metadata": {
    "ExecuteTime": {
     "end_time": "2025-03-26T06:45:15.908507Z",
     "start_time": "2025-03-26T06:45:15.905054Z"
    }
   },
   "cell_type": "code",
   "source": [
    "from keras.models import Sequential\n",
    "from keras.layers import Dense\n",
    "from keras.layers import LSTM\n",
    "from keras.layers import Dropout"
   ],
   "id": "7a8d86b76c411b1c",
   "outputs": [],
   "execution_count": 11
  },
  {
   "metadata": {
    "ExecuteTime": {
     "end_time": "2025-03-26T07:11:26.889756Z",
     "start_time": "2025-03-26T07:11:26.483518Z"
    }
   },
   "cell_type": "code",
   "source": [
    "regressor = Sequential([\n",
    "    # Adding the first LSTM layer and some Dropout regularization\n",
    "    LSTM(units = 50, return_sequences = True, input_shape = (X_train.shape[1], 1)),\n",
    "    Dropout(rate = 0.2),\n",
    "    # Adding a second LSTM layer and some Dropout regularization\n",
    "    LSTM(units = 50, return_sequences = True),\n",
    "    Dropout(rate = 0.2),\n",
    "    # Adding a third LSTM layer and some Dropout regularization\n",
    "    LSTM(units = 50, return_sequences = True),\n",
    "    Dropout(rate = 0.2),\n",
    "    # Adding a fourth LSTM layer and some Dropout regularization\n",
    "    LSTM(units = 50, return_sequences = False),\n",
    "    Dropout(rate = 0.2),\n",
    "    # Adding the output layer\n",
    "    Dense(1)\n",
    "])"
   ],
   "id": "a151949e8ef7f981",
   "outputs": [
    {
     "name": "stderr",
     "output_type": "stream",
     "text": [
      "2025-03-26 16:11:26.512395: I metal_plugin/src/device/metal_device.cc:1154] Metal device set to: Apple M3 Pro\n",
      "2025-03-26 16:11:26.513240: I metal_plugin/src/device/metal_device.cc:296] systemMemory: 18.00 GB\n",
      "2025-03-26 16:11:26.513303: I metal_plugin/src/device/metal_device.cc:313] maxCacheSize: 6.00 GB\n",
      "2025-03-26 16:11:26.513841: I tensorflow/core/common_runtime/pluggable_device/pluggable_device_factory.cc:305] Could not identify NUMA node of platform GPU ID 0, defaulting to 0. Your kernel may not have been built with NUMA support.\n",
      "2025-03-26 16:11:26.514133: I tensorflow/core/common_runtime/pluggable_device/pluggable_device_factory.cc:271] Created TensorFlow device (/job:localhost/replica:0/task:0/device:GPU:0 with 0 MB memory) -> physical PluggableDevice (device: 0, name: METAL, pci bus id: <undefined>)\n",
      "/opt/anaconda3/envs/ml_env/lib/python3.9/site-packages/keras/src/layers/rnn/rnn.py:200: UserWarning: Do not pass an `input_shape`/`input_dim` argument to a layer. When using Sequential models, prefer using an `Input(shape)` object as the first layer in the model instead.\n",
      "  super().__init__(**kwargs)\n"
     ]
    }
   ],
   "execution_count": 12
  },
  {
   "metadata": {},
   "cell_type": "markdown",
   "source": "## Making the predictions and visualizing the results",
   "id": "9406027e4039880e"
  },
  {
   "metadata": {
    "ExecuteTime": {
     "end_time": "2025-03-26T07:26:43.436284Z",
     "start_time": "2025-03-26T07:25:00.395962Z"
    }
   },
   "cell_type": "code",
   "source": [
    "# Compiling the RNN\n",
    "regressor.compile(optimizer = 'adam', loss = 'mean_squared_error')\n",
    "\n",
    "# Fitting the RNN to the Training set\n",
    "regressor.fit(X_train, y_train, epochs = 100, batch_size = 32,  verbose = 2)"
   ],
   "id": "d7c0993f2d1c979",
   "outputs": [
    {
     "name": "stdout",
     "output_type": "stream",
     "text": [
      "Epoch 1/100\n"
     ]
    },
    {
     "name": "stderr",
     "output_type": "stream",
     "text": [
      "2025-03-26 16:25:00.938955: I tensorflow/core/grappler/optimizers/custom_graph_optimizer_registry.cc:117] Plugin optimizer for device_type GPU is enabled.\n"
     ]
    },
    {
     "name": "stdout",
     "output_type": "stream",
     "text": [
      "38/38 - 4s - 114ms/step - loss: 0.0455\n",
      "Epoch 2/100\n",
      "38/38 - 1s - 24ms/step - loss: 0.0072\n",
      "Epoch 3/100\n",
      "38/38 - 1s - 27ms/step - loss: 0.0058\n",
      "Epoch 4/100\n",
      "38/38 - 1s - 23ms/step - loss: 0.0050\n",
      "Epoch 5/100\n",
      "38/38 - 1s - 23ms/step - loss: 0.0053\n",
      "Epoch 6/100\n",
      "38/38 - 1s - 26ms/step - loss: 0.0049\n",
      "Epoch 7/100\n",
      "38/38 - 1s - 25ms/step - loss: 0.0057\n",
      "Epoch 8/100\n",
      "38/38 - 1s - 25ms/step - loss: 0.0045\n",
      "Epoch 9/100\n",
      "38/38 - 1s - 23ms/step - loss: 0.0041\n",
      "Epoch 10/100\n",
      "38/38 - 1s - 26ms/step - loss: 0.0042\n",
      "Epoch 11/100\n",
      "38/38 - 1s - 28ms/step - loss: 0.0045\n",
      "Epoch 12/100\n",
      "38/38 - 1s - 25ms/step - loss: 0.0041\n",
      "Epoch 13/100\n",
      "38/38 - 1s - 25ms/step - loss: 0.0039\n",
      "Epoch 14/100\n",
      "38/38 - 1s - 28ms/step - loss: 0.0043\n",
      "Epoch 15/100\n",
      "38/38 - 1s - 28ms/step - loss: 0.0038\n",
      "Epoch 16/100\n",
      "38/38 - 1s - 25ms/step - loss: 0.0044\n",
      "Epoch 17/100\n",
      "38/38 - 1s - 24ms/step - loss: 0.0038\n",
      "Epoch 18/100\n",
      "38/38 - 1s - 25ms/step - loss: 0.0039\n",
      "Epoch 19/100\n",
      "38/38 - 1s - 26ms/step - loss: 0.0034\n",
      "Epoch 20/100\n",
      "38/38 - 1s - 26ms/step - loss: 0.0038\n",
      "Epoch 21/100\n",
      "38/38 - 1s - 25ms/step - loss: 0.0035\n",
      "Epoch 22/100\n",
      "38/38 - 1s - 28ms/step - loss: 0.0044\n",
      "Epoch 23/100\n",
      "38/38 - 1s - 29ms/step - loss: 0.0033\n",
      "Epoch 24/100\n",
      "38/38 - 1s - 25ms/step - loss: 0.0031\n",
      "Epoch 25/100\n",
      "38/38 - 1s - 24ms/step - loss: 0.0032\n",
      "Epoch 26/100\n",
      "38/38 - 1s - 26ms/step - loss: 0.0031\n",
      "Epoch 27/100\n",
      "38/38 - 1s - 28ms/step - loss: 0.0029\n",
      "Epoch 28/100\n",
      "38/38 - 1s - 25ms/step - loss: 0.0032\n",
      "Epoch 29/100\n",
      "38/38 - 1s - 28ms/step - loss: 0.0028\n",
      "Epoch 30/100\n",
      "38/38 - 1s - 29ms/step - loss: 0.0028\n",
      "Epoch 31/100\n",
      "38/38 - 1s - 29ms/step - loss: 0.0031\n",
      "Epoch 32/100\n",
      "38/38 - 1s - 24ms/step - loss: 0.0027\n",
      "Epoch 33/100\n",
      "38/38 - 1s - 24ms/step - loss: 0.0032\n",
      "Epoch 34/100\n",
      "38/38 - 1s - 24ms/step - loss: 0.0027\n",
      "Epoch 35/100\n",
      "38/38 - 1s - 26ms/step - loss: 0.0028\n",
      "Epoch 36/100\n",
      "38/38 - 1s - 29ms/step - loss: 0.0028\n",
      "Epoch 37/100\n",
      "38/38 - 1s - 25ms/step - loss: 0.0025\n",
      "Epoch 38/100\n",
      "38/38 - 1s - 28ms/step - loss: 0.0026\n",
      "Epoch 39/100\n",
      "38/38 - 1s - 28ms/step - loss: 0.0027\n",
      "Epoch 40/100\n",
      "38/38 - 1s - 25ms/step - loss: 0.0027\n",
      "Epoch 41/100\n",
      "38/38 - 1s - 25ms/step - loss: 0.0029\n",
      "Epoch 42/100\n",
      "38/38 - 1s - 26ms/step - loss: 0.0027\n",
      "Epoch 43/100\n",
      "38/38 - 1s - 24ms/step - loss: 0.0024\n",
      "Epoch 44/100\n",
      "38/38 - 1s - 24ms/step - loss: 0.0024\n",
      "Epoch 45/100\n",
      "38/38 - 1s - 26ms/step - loss: 0.0025\n",
      "Epoch 46/100\n",
      "38/38 - 1s - 24ms/step - loss: 0.0026\n",
      "Epoch 47/100\n",
      "38/38 - 1s - 29ms/step - loss: 0.0027\n",
      "Epoch 48/100\n",
      "38/38 - 1s - 26ms/step - loss: 0.0024\n",
      "Epoch 49/100\n",
      "38/38 - 1s - 27ms/step - loss: 0.0024\n",
      "Epoch 50/100\n",
      "38/38 - 1s - 26ms/step - loss: 0.0026\n",
      "Epoch 51/100\n",
      "38/38 - 1s - 26ms/step - loss: 0.0024\n",
      "Epoch 52/100\n",
      "38/38 - 1s - 25ms/step - loss: 0.0023\n",
      "Epoch 53/100\n",
      "38/38 - 1s - 28ms/step - loss: 0.0024\n",
      "Epoch 54/100\n",
      "38/38 - 1s - 28ms/step - loss: 0.0027\n",
      "Epoch 55/100\n",
      "38/38 - 1s - 27ms/step - loss: 0.0024\n",
      "Epoch 56/100\n",
      "38/38 - 1s - 28ms/step - loss: 0.0023\n",
      "Epoch 57/100\n",
      "38/38 - 1s - 29ms/step - loss: 0.0021\n",
      "Epoch 58/100\n",
      "38/38 - 1s - 28ms/step - loss: 0.0019\n",
      "Epoch 59/100\n",
      "38/38 - 1s - 28ms/step - loss: 0.0021\n",
      "Epoch 60/100\n",
      "38/38 - 1s - 23ms/step - loss: 0.0023\n",
      "Epoch 61/100\n",
      "38/38 - 1s - 26ms/step - loss: 0.0020\n",
      "Epoch 62/100\n",
      "38/38 - 1s - 29ms/step - loss: 0.0021\n",
      "Epoch 63/100\n",
      "38/38 - 1s - 29ms/step - loss: 0.0017\n",
      "Epoch 64/100\n",
      "38/38 - 1s - 28ms/step - loss: 0.0020\n",
      "Epoch 65/100\n",
      "38/38 - 1s - 26ms/step - loss: 0.0019\n",
      "Epoch 66/100\n",
      "38/38 - 1s - 24ms/step - loss: 0.0020\n",
      "Epoch 67/100\n",
      "38/38 - 1s - 28ms/step - loss: 0.0020\n",
      "Epoch 68/100\n",
      "38/38 - 1s - 27ms/step - loss: 0.0019\n",
      "Epoch 69/100\n",
      "38/38 - 1s - 24ms/step - loss: 0.0018\n",
      "Epoch 70/100\n",
      "38/38 - 1s - 24ms/step - loss: 0.0019\n",
      "Epoch 71/100\n",
      "38/38 - 1s - 26ms/step - loss: 0.0020\n",
      "Epoch 72/100\n",
      "38/38 - 1s - 27ms/step - loss: 0.0018\n",
      "Epoch 73/100\n",
      "38/38 - 1s - 24ms/step - loss: 0.0018\n",
      "Epoch 74/100\n",
      "38/38 - 1s - 27ms/step - loss: 0.0017\n",
      "Epoch 75/100\n",
      "38/38 - 1s - 29ms/step - loss: 0.0018\n",
      "Epoch 76/100\n",
      "38/38 - 1s - 27ms/step - loss: 0.0018\n",
      "Epoch 77/100\n",
      "38/38 - 1s - 26ms/step - loss: 0.0019\n",
      "Epoch 78/100\n",
      "38/38 - 1s - 28ms/step - loss: 0.0018\n",
      "Epoch 79/100\n",
      "38/38 - 1s - 26ms/step - loss: 0.0017\n",
      "Epoch 80/100\n",
      "38/38 - 1s - 27ms/step - loss: 0.0018\n",
      "Epoch 81/100\n",
      "38/38 - 1s - 25ms/step - loss: 0.0017\n",
      "Epoch 82/100\n",
      "38/38 - 1s - 26ms/step - loss: 0.0016\n",
      "Epoch 83/100\n",
      "38/38 - 1s - 28ms/step - loss: 0.0017\n",
      "Epoch 84/100\n",
      "38/38 - 1s - 28ms/step - loss: 0.0016\n",
      "Epoch 85/100\n",
      "38/38 - 1s - 27ms/step - loss: 0.0016\n",
      "Epoch 86/100\n",
      "38/38 - 1s - 27ms/step - loss: 0.0016\n",
      "Epoch 87/100\n",
      "38/38 - 1s - 28ms/step - loss: 0.0016\n",
      "Epoch 88/100\n",
      "38/38 - 1s - 25ms/step - loss: 0.0016\n",
      "Epoch 89/100\n",
      "38/38 - 1s - 29ms/step - loss: 0.0015\n",
      "Epoch 90/100\n",
      "38/38 - 1s - 28ms/step - loss: 0.0015\n",
      "Epoch 91/100\n",
      "38/38 - 1s - 28ms/step - loss: 0.0015\n",
      "Epoch 92/100\n",
      "38/38 - 1s - 24ms/step - loss: 0.0017\n",
      "Epoch 93/100\n",
      "38/38 - 1s - 24ms/step - loss: 0.0018\n",
      "Epoch 94/100\n",
      "38/38 - 1s - 28ms/step - loss: 0.0014\n",
      "Epoch 95/100\n",
      "38/38 - 1s - 27ms/step - loss: 0.0016\n",
      "Epoch 96/100\n",
      "38/38 - 1s - 23ms/step - loss: 0.0016\n",
      "Epoch 97/100\n",
      "38/38 - 1s - 26ms/step - loss: 0.0017\n",
      "Epoch 98/100\n",
      "38/38 - 1s - 24ms/step - loss: 0.0013\n",
      "Epoch 99/100\n",
      "38/38 - 1s - 25ms/step - loss: 0.0015\n",
      "Epoch 100/100\n",
      "38/38 - 1s - 25ms/step - loss: 0.0013\n"
     ]
    },
    {
     "data": {
      "text/plain": [
       "<keras.src.callbacks.history.History at 0x331ff0c10>"
      ]
     },
     "execution_count": 13,
     "metadata": {},
     "output_type": "execute_result"
    }
   ],
   "execution_count": 13
  },
  {
   "metadata": {},
   "cell_type": "markdown",
   "source": "## Making the predictions and visualizing the results",
   "id": "b0e1c6fb1ace440a"
  },
  {
   "metadata": {
    "ExecuteTime": {
     "end_time": "2025-03-26T07:30:48.100520Z",
     "start_time": "2025-03-26T07:30:48.094841Z"
    }
   },
   "cell_type": "code",
   "source": [
    "# Getting the real stock price of 2017\n",
    "dataset_test = pd.read_csv('../../../Data/DL_Tutorial/RNN/Google_Stock_Price_Test.csv')\n",
    "real_stock_price = dataset_test.iloc[:, 1:2].values\n",
    "real_stock_price.shape"
   ],
   "id": "32ea510e70332be3",
   "outputs": [
    {
     "data": {
      "text/plain": [
       "(20, 1)"
      ]
     },
     "execution_count": 16,
     "metadata": {},
     "output_type": "execute_result"
    }
   ],
   "execution_count": 16
  },
  {
   "metadata": {
    "ExecuteTime": {
     "end_time": "2025-03-26T07:41:04.252269Z",
     "start_time": "2025-03-26T07:41:04.245014Z"
    }
   },
   "cell_type": "code",
   "source": [
    "# Getting the predicted stock price of 2017\n",
    "dataset_total = pd.concat((dataset_train['Open'], dataset_test['Open']), axis = 0)\n",
    "inputs = dataset_total[len(dataset_total) - len(dataset_test) - 60:].values\n",
    "inputs"
   ],
   "id": "c071a08c0c5a03eb",
   "outputs": [
    {
     "data": {
      "text/plain": [
       "array([779.  , 779.66, 777.71, 786.66, 783.76, 781.22, 781.65, 779.8 ,\n",
       "       787.85, 798.24, 803.3 , 795.  , 804.9 , 816.68, 806.34, 801.  ,\n",
       "       808.35, 795.47, 782.89, 778.2 , 767.25, 750.66, 774.5 , 783.4 ,\n",
       "       779.94, 791.17, 756.54, 755.6 , 746.97, 755.2 , 766.92, 771.37,\n",
       "       762.61, 772.63, 767.73, 764.26, 760.  , 771.53, 770.07, 757.44,\n",
       "       744.59, 757.71, 764.73, 761.  , 772.48, 780.  , 785.04, 793.9 ,\n",
       "       797.4 , 797.34, 800.4 , 790.22, 796.76, 795.84, 792.36, 790.9 ,\n",
       "       790.68, 793.7 , 783.33, 782.75, 778.81, 788.36, 786.08, 795.26,\n",
       "       806.4 , 807.86, 805.  , 807.14, 807.48, 807.08, 805.81, 805.12,\n",
       "       806.91, 807.25, 822.3 , 829.62, 837.81, 834.71, 814.66, 796.86])"
      ]
     },
     "execution_count": 19,
     "metadata": {},
     "output_type": "execute_result"
    }
   ],
   "execution_count": 19
  },
  {
   "metadata": {
    "ExecuteTime": {
     "end_time": "2025-03-26T07:41:25.770671Z",
     "start_time": "2025-03-26T07:41:25.767173Z"
    }
   },
   "cell_type": "code",
   "source": [
    "inputs = inputs.reshape(-1, 1)\n",
    "inputs"
   ],
   "id": "5e6657f6aecd6bfd",
   "outputs": [
    {
     "data": {
      "text/plain": [
       "array([[779.  ],\n",
       "       [779.66],\n",
       "       [777.71],\n",
       "       [786.66],\n",
       "       [783.76],\n",
       "       [781.22],\n",
       "       [781.65],\n",
       "       [779.8 ],\n",
       "       [787.85],\n",
       "       [798.24],\n",
       "       [803.3 ],\n",
       "       [795.  ],\n",
       "       [804.9 ],\n",
       "       [816.68],\n",
       "       [806.34],\n",
       "       [801.  ],\n",
       "       [808.35],\n",
       "       [795.47],\n",
       "       [782.89],\n",
       "       [778.2 ],\n",
       "       [767.25],\n",
       "       [750.66],\n",
       "       [774.5 ],\n",
       "       [783.4 ],\n",
       "       [779.94],\n",
       "       [791.17],\n",
       "       [756.54],\n",
       "       [755.6 ],\n",
       "       [746.97],\n",
       "       [755.2 ],\n",
       "       [766.92],\n",
       "       [771.37],\n",
       "       [762.61],\n",
       "       [772.63],\n",
       "       [767.73],\n",
       "       [764.26],\n",
       "       [760.  ],\n",
       "       [771.53],\n",
       "       [770.07],\n",
       "       [757.44],\n",
       "       [744.59],\n",
       "       [757.71],\n",
       "       [764.73],\n",
       "       [761.  ],\n",
       "       [772.48],\n",
       "       [780.  ],\n",
       "       [785.04],\n",
       "       [793.9 ],\n",
       "       [797.4 ],\n",
       "       [797.34],\n",
       "       [800.4 ],\n",
       "       [790.22],\n",
       "       [796.76],\n",
       "       [795.84],\n",
       "       [792.36],\n",
       "       [790.9 ],\n",
       "       [790.68],\n",
       "       [793.7 ],\n",
       "       [783.33],\n",
       "       [782.75],\n",
       "       [778.81],\n",
       "       [788.36],\n",
       "       [786.08],\n",
       "       [795.26],\n",
       "       [806.4 ],\n",
       "       [807.86],\n",
       "       [805.  ],\n",
       "       [807.14],\n",
       "       [807.48],\n",
       "       [807.08],\n",
       "       [805.81],\n",
       "       [805.12],\n",
       "       [806.91],\n",
       "       [807.25],\n",
       "       [822.3 ],\n",
       "       [829.62],\n",
       "       [837.81],\n",
       "       [834.71],\n",
       "       [814.66],\n",
       "       [796.86]])"
      ]
     },
     "execution_count": 20,
     "metadata": {},
     "output_type": "execute_result"
    }
   ],
   "execution_count": 20
  },
  {
   "metadata": {
    "ExecuteTime": {
     "end_time": "2025-03-26T07:45:31.920826Z",
     "start_time": "2025-03-26T07:45:31.501614Z"
    }
   },
   "cell_type": "code",
   "source": [
    "inputs = scaler.fit_transform(inputs)\n",
    "X_test = []\n",
    "y_test = []\n",
    "for i in range(60, 80):\n",
    "    X_test.append(inputs[i-60:i, 0])\n",
    "    y_test.append(inputs[i, 0])\n",
    "X_test = np.array(X_test)\n",
    "y_test = np.array(y_test)\n",
    "X_test = np.reshape(X_test, (X_test.shape[0], X_test.shape[1], 1))\n",
    "\n",
    "predicted_stock_price = regressor.predict(X_test)\n",
    "print(predicted_stock_price)\n",
    "predicted_stock_price = scaler.inverse_transform(predicted_stock_price)\n",
    "print(predicted_stock_price)"
   ],
   "id": "b62c88e86d1ed3c9",
   "outputs": [
    {
     "name": "stdout",
     "output_type": "stream",
     "text": [
      "\u001B[1m1/1\u001B[0m \u001B[32m━━━━━━━━━━━━━━━━━━━━\u001B[0m\u001B[37m\u001B[0m \u001B[1m0s\u001B[0m 355ms/step\n",
      "[[0.46008343]\n",
      " [0.42958468]\n",
      " [0.4160983 ]\n",
      " [0.42067453]\n",
      " [0.45129013]\n",
      " [0.5182197 ]\n",
      " [0.5940612 ]\n",
      " [0.6367014 ]\n",
      " [0.64881945]\n",
      " [0.645796  ]\n",
      " [0.6386301 ]\n",
      " [0.6311162 ]\n",
      " [0.62553036]\n",
      " [0.62814724]\n",
      " [0.6378057 ]\n",
      " [0.6867229 ]\n",
      " [0.7704912 ]\n",
      " [0.86318314]\n",
      " [0.90870357]\n",
      " [0.8595619 ]]\n",
      "[[787.479  ]\n",
      " [784.6359 ]\n",
      " [783.37866]\n",
      " [783.8053 ]\n",
      " [786.65924]\n",
      " [792.89844]\n",
      " [799.9684 ]\n",
      " [803.9433 ]\n",
      " [805.07294]\n",
      " [804.79114]\n",
      " [804.1231 ]\n",
      " [803.42267]\n",
      " [802.9019 ]\n",
      " [803.1458 ]\n",
      " [804.04626]\n",
      " [808.60626]\n",
      " [816.4152 ]\n",
      " [825.0559 ]\n",
      " [829.2993 ]\n",
      " [824.7183 ]]\n"
     ]
    }
   ],
   "execution_count": 21
  },
  {
   "metadata": {
    "ExecuteTime": {
     "end_time": "2025-03-26T07:46:41.121043Z",
     "start_time": "2025-03-26T07:46:40.992336Z"
    }
   },
   "cell_type": "code",
   "source": [
    "plt.plot(real_stock_price, label = 'Real Stock Price', color = 'red')\n",
    "plt.plot(predicted_stock_price, label = 'Predicted Stock Price', color = 'blue')\n",
    "plt.title('Stock Price Prediction')\n",
    "plt.xlabel('Time')\n",
    "plt.ylabel('Stock Price')\n",
    "plt.legend()\n",
    "plt.show()\n"
   ],
   "id": "b064985eaaf5203e",
   "outputs": [
    {
     "data": {
      "text/plain": [
       "<Figure size 640x480 with 1 Axes>"
      ],
      "image/png": "[encoded data removed]"
     },
     "metadata": {},
     "output_type": "display_data"
    }
   ],
   "execution_count": 22
  },
  {
   "metadata": {},
   "cell_type": "code",
   "outputs": [],
   "execution_count": null,
   "source": "",
   "id": "11691fb3c01a84f"
  }
 ],
 "metadata": {
  "kernelspec": {
   "display_name": "Python 3",
   "language": "python",
   "name": "python3"
  },
  "language_info": {
   "codemirror_mode": {
    "name": "ipython",
    "version": 2
   },
   "file_extension": ".py",
   "mimetype": "text/x-python",
   "name": "python",
   "nbconvert_exporter": "python",
   "pygments_lexer": "ipython2",
   "version": "2.7.6"
  }
 },
 "nbformat": 4,
 "nbformat_minor": 5
}
