{
 "cells": [
  {
   "cell_type": "code",
   "id": "initial_id",
   "metadata": {
    "collapsed": true,
    "ExecuteTime": {
     "end_time": "2025-03-30T08:24:48.793755Z",
     "start_time": "2025-03-30T08:24:48.788963Z"
    }
   },
   "source": [
    "# https://grouplens.org/datasets/movielens/\n",
    "import numpy as np\n",
    "import pandas as pd\n",
    "import torch\n",
    "import torch.nn as nn\n",
    "import torch.nn.parallel\n",
    "import torch.optim as optim\n",
    "import torch.utils.data\n",
    "from torch.autograd import Variable"
   ],
   "outputs": [],
   "execution_count": 21
  },
  {
   "metadata": {},
   "cell_type": "markdown",
   "source": "#### Importing the dataset",
   "id": "41329ce951b1ec27"
  },
  {
   "metadata": {
    "ExecuteTime": {
     "end_time": "2025-03-30T08:24:48.823143Z",
     "start_time": "2025-03-30T08:24:48.804891Z"
    }
   },
   "cell_type": "code",
   "source": [
    "movies = pd.read_csv('../../../Data/DL_Tutorial/Boltzmann Machines/ml-1m/movies.dat', sep = '::', header = None, engine = 'python', encoding = 'latin-1')\n",
    "print(movies.head())\n",
    "print()\n",
    "print(movies.info())\n",
    "print()\n",
    "print(movies.describe())"
   ],
   "id": "b1c946dfa2c525b",
   "outputs": [
    {
     "name": "stdout",
     "output_type": "stream",
     "text": [
      "   0                                   1                             2\n",
      "0  1                    Toy Story (1995)   Animation|Children's|Comedy\n",
      "1  2                      Jumanji (1995)  Adventure|Children's|Fantasy\n",
      "2  3             Grumpier Old Men (1995)                Comedy|Romance\n",
      "3  4            Waiting to Exhale (1995)                  Comedy|Drama\n",
      "4  5  Father of the Bride Part II (1995)                        Comedy\n",
      "\n",
      "<class 'pandas.core.frame.DataFrame'>\n",
      "RangeIndex: 3883 entries, 0 to 3882\n",
      "Data columns (total 3 columns):\n",
      " #   Column  Non-Null Count  Dtype \n",
      "---  ------  --------------  ----- \n",
      " 0   0       3883 non-null   int64 \n",
      " 1   1       3883 non-null   object\n",
      " 2   2       3883 non-null   object\n",
      "dtypes: int64(1), object(2)\n",
      "memory usage: 91.1+ KB\n",
      "None\n",
      "\n",
      "               0\n",
      "count 3883.00000\n",
      "mean  1986.04945\n",
      "std   1146.77835\n",
      "min      1.00000\n",
      "25%    982.50000\n",
      "50%   2010.00000\n",
      "75%   2980.50000\n",
      "max   3952.00000\n"
     ]
    }
   ],
   "execution_count": 22
  },
  {
   "metadata": {
    "ExecuteTime": {
     "end_time": "2025-03-30T08:24:48.853810Z",
     "start_time": "2025-03-30T08:24:48.833991Z"
    }
   },
   "cell_type": "code",
   "source": [
    "users = pd.read_csv('../../../Data/DL_Tutorial/Boltzmann Machines/ml-1m/users.dat', sep = '::', header = None, engine = 'python', encoding = 'latin-1')\n",
    "print(users.head())\n",
    "print()\n",
    "print(users.info())\n",
    "print()\n",
    "print(users.describe())"
   ],
   "id": "de546b7cfcd3af77",
   "outputs": [
    {
     "name": "stdout",
     "output_type": "stream",
     "text": [
      "   0  1   2   3      4\n",
      "0  1  F   1  10  48067\n",
      "1  2  M  56  16  70072\n",
      "2  3  M  25  15  55117\n",
      "3  4  M  45   7  02460\n",
      "4  5  M  25  20  55455\n",
      "\n",
      "<class 'pandas.core.frame.DataFrame'>\n",
      "RangeIndex: 6040 entries, 0 to 6039\n",
      "Data columns (total 5 columns):\n",
      " #   Column  Non-Null Count  Dtype \n",
      "---  ------  --------------  ----- \n",
      " 0   0       6040 non-null   int64 \n",
      " 1   1       6040 non-null   object\n",
      " 2   2       6040 non-null   int64 \n",
      " 3   3       6040 non-null   int64 \n",
      " 4   4       6040 non-null   object\n",
      "dtypes: int64(3), object(2)\n",
      "memory usage: 236.1+ KB\n",
      "None\n",
      "\n",
      "               0          2          3\n",
      "count 6040.00000 6040.00000 6040.00000\n",
      "mean  3020.50000   30.63924    8.14685\n",
      "std   1743.74214   12.89596    6.32951\n",
      "min      1.00000    1.00000    0.00000\n",
      "25%   1510.75000   25.00000    3.00000\n",
      "50%   3020.50000   25.00000    7.00000\n",
      "75%   4530.25000   35.00000   14.00000\n",
      "max   6040.00000   56.00000   20.00000\n"
     ]
    }
   ],
   "execution_count": 23
  },
  {
   "metadata": {
    "ExecuteTime": {
     "end_time": "2025-03-30T08:24:50.812157Z",
     "start_time": "2025-03-30T08:24:48.861988Z"
    }
   },
   "cell_type": "code",
   "source": [
    "ratings = pd.read_csv('../../../Data/DL_Tutorial/Boltzmann Machines/ml-1m/ratings.dat', sep = '::', header = None, engine = 'python', encoding = 'latin-1')\n",
    "print(ratings.head())\n",
    "print()\n",
    "print(ratings.info())\n",
    "print()\n",
    "print(users.describe())"
   ],
   "id": "d789a5535195c926",
   "outputs": [
    {
     "name": "stdout",
     "output_type": "stream",
     "text": [
      "   0     1  2          3\n",
      "0  1  1193  5  978300760\n",
      "1  1   661  3  978302109\n",
      "2  1   914  3  978301968\n",
      "3  1  3408  4  978300275\n",
      "4  1  2355  5  978824291\n",
      "\n",
      "<class 'pandas.core.frame.DataFrame'>\n",
      "RangeIndex: 1000209 entries, 0 to 1000208\n",
      "Data columns (total 4 columns):\n",
      " #   Column  Non-Null Count    Dtype\n",
      "---  ------  --------------    -----\n",
      " 0   0       1000209 non-null  int64\n",
      " 1   1       1000209 non-null  int64\n",
      " 2   2       1000209 non-null  int64\n",
      " 3   3       1000209 non-null  int64\n",
      "dtypes: int64(4)\n",
      "memory usage: 30.5 MB\n",
      "None\n",
      "\n",
      "               0          2          3\n",
      "count 6040.00000 6040.00000 6040.00000\n",
      "mean  3020.50000   30.63924    8.14685\n",
      "std   1743.74214   12.89596    6.32951\n",
      "min      1.00000    1.00000    0.00000\n",
      "25%   1510.75000   25.00000    3.00000\n",
      "50%   3020.50000   25.00000    7.00000\n",
      "75%   4530.25000   35.00000   14.00000\n",
      "max   6040.00000   56.00000   20.00000\n"
     ]
    }
   ],
   "execution_count": 24
  },
  {
   "metadata": {
    "ExecuteTime": {
     "end_time": "2025-03-30T08:24:50.836360Z",
     "start_time": "2025-03-30T08:24:50.820404Z"
    }
   },
   "cell_type": "code",
   "source": [
    "training_set = pd.read_csv('../../../Data/DL_Tutorial/Boltzmann Machines/ml-100k/u1.base', delimiter = '\\t')\n",
    "training_set = np.array(training_set, dtype = 'int')\n",
    "test_set = pd.read_csv('../../../Data/DL_Tutorial/Boltzmann Machines/ml-100k/u1.test', delimiter = '\\t')\n",
    "test_set = np.array(test_set, dtype = 'int')\n",
    "print(training_set.shape)\n",
    "print(test_set.shape)"
   ],
   "id": "a9a5b45bf819085c",
   "outputs": [
    {
     "name": "stdout",
     "output_type": "stream",
     "text": [
      "(79999, 4)\n",
      "(19999, 4)\n"
     ]
    }
   ],
   "execution_count": 25
  },
  {
   "metadata": {},
   "cell_type": "markdown",
   "source": "#### Getting the number of users and movies",
   "id": "1a0d2a759df77d39"
  },
  {
   "metadata": {
    "ExecuteTime": {
     "end_time": "2025-03-30T08:24:50.851568Z",
     "start_time": "2025-03-30T08:24:50.844235Z"
    }
   },
   "cell_type": "code",
   "source": [
    "nb_users = int(max(max(training_set[:, 0]), max(test_set[:, 0])))\n",
    "nb_movies = int(max(max(training_set[:, 1]), max(test_set[:, 1])))\n",
    "print(nb_users, nb_movies)"
   ],
   "id": "42e8adc0f966b27c",
   "outputs": [
    {
     "name": "stdout",
     "output_type": "stream",
     "text": [
      "943 1682\n"
     ]
    }
   ],
   "execution_count": 26
  },
  {
   "metadata": {},
   "cell_type": "markdown",
   "source": "#### Converting the data into an array with users in lines and movies in columns",
   "id": "25f33cae8608daf1"
  },
  {
   "metadata": {
    "ExecuteTime": {
     "end_time": "2025-03-30T08:24:50.971666Z",
     "start_time": "2025-03-30T08:24:50.868708Z"
    }
   },
   "cell_type": "code",
   "source": [
    "def convert(data):\n",
    "    new_data = []\n",
    "    for id_users in range(1, nb_users+1):\n",
    "        id_movies = data[:, 1][data[:, 0] == id_users]\n",
    "        id_ratings = data[:, 2][data[:, 0] == id_users]\n",
    "        ratings = np.zeros(nb_movies)\n",
    "        ratings[id_movies - 1] = id_ratings\n",
    "        new_data.append(list(ratings))\n",
    "    return new_data\n",
    "\n",
    "training_set = convert(training_set)\n",
    "test_set = convert(test_set)\n"
   ],
   "id": "30472f1897b07de0",
   "outputs": [],
   "execution_count": 27
  },
  {
   "metadata": {},
   "cell_type": "markdown",
   "source": "#### Converting the data into Torch tensors",
   "id": "170debb15026cc41"
  },
  {
   "metadata": {
    "ExecuteTime": {
     "end_time": "2025-03-30T08:24:51.122946Z",
     "start_time": "2025-03-30T08:24:50.980052Z"
    }
   },
   "cell_type": "code",
   "source": [
    "training_set = torch.FloatTensor(training_set)\n",
    "test_set = torch.FloatTensor(test_set)\n"
   ],
   "id": "6a137c7802c1b57a",
   "outputs": [],
   "execution_count": 28
  },
  {
   "metadata": {},
   "cell_type": "markdown",
   "source": "#### Converting the ratings into binary ratings 1 (Liked) or 0 (Not Liked)",
   "id": "84ba5f95c1e3fabb"
  },
  {
   "metadata": {
    "ExecuteTime": {
     "end_time": "2025-03-30T08:24:51.136105Z",
     "start_time": "2025-03-30T08:24:51.130596Z"
    }
   },
   "cell_type": "code",
   "source": [
    "training_set[training_set == 0] = -1\n",
    "training_set[training_set == 1] = 0\n",
    "training_set[training_set == 2] = 0\n",
    "training_set[training_set >= 3] = 1\n",
    "test_set[test_set == 0] = -1\n",
    "test_set[test_set == 1] = 0\n",
    "test_set[test_set == 2] = 0\n",
    "test_set[test_set >= 3] = 1"
   ],
   "id": "812f88e1473fb707",
   "outputs": [],
   "execution_count": 29
  },
  {
   "metadata": {},
   "cell_type": "markdown",
   "source": "#### Creating the architecture of the Neural Network RBM",
   "id": "83b469377443c05"
  },
  {
   "metadata": {
    "ExecuteTime": {
     "end_time": "2025-03-30T08:31:34.561224Z",
     "start_time": "2025-03-30T08:31:34.554936Z"
    }
   },
   "cell_type": "code",
   "source": [
    "class RBM():\n",
    "    def __init__(self, nv, nh): # nv: visible node, nh: hidden node\n",
    "        self.W = torch.randn(nh, nv)\n",
    "        self.a = torch.randn(1, nh)\n",
    "        self.b = torch.randn(1, nv)\n",
    "\n",
    "    def sample_h(self, x):\n",
    "        wx = torch.mm(x, self.W.t())\n",
    "        activation = wx + self.a.expand_as(wx)\n",
    "        p_h_given_v = torch.sigmoid(activation)\n",
    "        return p_h_given_v, torch.bernoulli(p_h_given_v)\n",
    "\n",
    "    def sample_v(self, y):\n",
    "        wy = torch.mm(y, self.W)\n",
    "        activation = wy + self.b.expand_as(wy)\n",
    "        p_v_given_h = torch.sigmoid(activation)\n",
    "        return p_v_given_h, torch.bernoulli(p_v_given_h)\n",
    "\n",
    "    def train(self, v0, vk, ph0, phk):\n",
    "        self.W += torch.mm(ph0.t(), v0) - torch.mm(phk.t(), vk)\n",
    "        self.b += torch.sum((v0 - vk), dim=0)\n",
    "        self.a += torch.sum((ph0 - phk), dim=0)\n",
    "\n"
   ],
   "id": "d722bbee3dc60f26",
   "outputs": [],
   "execution_count": 36
  },
  {
   "metadata": {
    "ExecuteTime": {
     "end_time": "2025-03-30T08:31:35.333159Z",
     "start_time": "2025-03-30T08:31:35.327604Z"
    }
   },
   "cell_type": "code",
   "source": [
    "nv = len(training_set[0])\n",
    "nh = 100\n",
    "batch_size = 100\n",
    "rbm = RBM(nv, nh)"
   ],
   "id": "e58487fb636577c9",
   "outputs": [],
   "execution_count": 37
  },
  {
   "metadata": {},
   "cell_type": "markdown",
   "source": "#### Training the RBM with Mean Distance",
   "id": "4c402173e88e7920"
  },
  {
   "metadata": {
    "ExecuteTime": {
     "end_time": "2025-03-30T08:31:38.117069Z",
     "start_time": "2025-03-30T08:31:37.040589Z"
    }
   },
   "cell_type": "code",
   "source": [
    "nb_epochs = 10\n",
    "for epoch in range(1, nb_epochs+1):\n",
    "    train_loss = 0\n",
    "    s = 0.\n",
    "    for id_users in range(0, nb_users - batch_size, batch_size):\n",
    "        vk = training_set[id_users:id_users + batch_size]\n",
    "        v0 = training_set[id_users:id_users + batch_size]\n",
    "        ph0, _ = rbm.sample_h(v0)\n",
    "        for k in range(10):\n",
    "            _, hk = rbm.sample_h(vk)\n",
    "            _, vk = rbm.sample_v(hk)\n",
    "            vk[v0 < 0] = v0[v0 < 0]\n",
    "        phk, _ = rbm.sample_h(vk)\n",
    "        rbm.train(v0, vk, ph0, phk)\n",
    "        train_loss += torch.mean(torch.abs(v0[v0>=0] - vk[v0>=0]))\n",
    "        s += 1.\n",
    "    print('epoch: ' + str(epoch) + ' loss: ' + str(train_loss/s))"
   ],
   "id": "9a73093d18498ad0",
   "outputs": [
    {
     "name": "stdout",
     "output_type": "stream",
     "text": [
      "epoch: 1 loss: tensor(0.3362)\n",
      "epoch: 2 loss: tensor(0.2515)\n",
      "epoch: 3 loss: tensor(0.2449)\n",
      "epoch: 4 loss: tensor(0.2478)\n",
      "epoch: 5 loss: tensor(0.2458)\n",
      "epoch: 6 loss: tensor(0.2497)\n",
      "epoch: 7 loss: tensor(0.2458)\n",
      "epoch: 8 loss: tensor(0.2496)\n",
      "epoch: 9 loss: tensor(0.2451)\n",
      "epoch: 10 loss: tensor(0.2480)\n"
     ]
    }
   ],
   "execution_count": 38
  },
  {
   "metadata": {},
   "cell_type": "markdown",
   "source": "#### Testing the RBM",
   "id": "1c3b7106d38ef4da"
  },
  {
   "metadata": {
    "ExecuteTime": {
     "end_time": "2025-03-30T08:43:00.648182Z",
     "start_time": "2025-03-30T08:43:00.598078Z"
    }
   },
   "cell_type": "code",
   "source": [
    "test_loss = 0\n",
    "s = 0.\n",
    "for id_user in range(0, nb_users):\n",
    "    v = training_set[id_user:id_user + 1]\n",
    "    vt = test_set[id_user:id_user + 1]\n",
    "    if len(vt[vt>=0]) > 0:\n",
    "        _, h = rbm.sample_h(v)\n",
    "        _, v = rbm.sample_v(h)\n",
    "        test_loss += torch.mean(torch.abs(vt[vt >= 0] - v[vt >= 0]))\n",
    "        s += 1.\n",
    "print('test loss: ' + str(test_loss/s))"
   ],
   "id": "16d2702cdca35e5a",
   "outputs": [
    {
     "name": "stdout",
     "output_type": "stream",
     "text": [
      "test loss: tensor(0.2376)\n"
     ]
    }
   ],
   "execution_count": 39
  },
  {
   "metadata": {},
   "cell_type": "markdown",
   "source": "#### Training the RBM with RMSE",
   "id": "89d626c3e027f9d0"
  },
  {
   "metadata": {
    "ExecuteTime": {
     "end_time": "2025-03-30T08:45:29.668825Z",
     "start_time": "2025-03-30T08:45:28.544350Z"
    }
   },
   "cell_type": "code",
   "source": [
    "nb_epoch = 10\n",
    "for epoch in range(1, nb_epoch + 1):\n",
    "    train_loss = 0\n",
    "    s = 0.\n",
    "    for id_user in range(0, nb_users - batch_size, batch_size):\n",
    "        vk = training_set[id_user:id_user+batch_size]\n",
    "        v0 = training_set[id_user:id_user+batch_size]\n",
    "        ph0,_ = rbm.sample_h(v0)\n",
    "        for k in range(10):\n",
    "            _,hk = rbm.sample_h(vk)\n",
    "            _,vk = rbm.sample_v(hk)\n",
    "            vk[v0<0] = v0[v0<0]\n",
    "        phk,_ = rbm.sample_h(vk)\n",
    "        rbm.train(v0, vk, ph0, phk)\n",
    "        train_loss += np.sqrt(torch.mean((v0[v0>=0] - vk[v0>=0])**2)) # RMSE here\n",
    "        s += 1.\n",
    "    print('epoch: '+str(epoch)+' loss: '+str(train_loss/s))"
   ],
   "id": "5c3e2bdbfe4ca1cf",
   "outputs": [
    {
     "name": "stdout",
     "output_type": "stream",
     "text": [
      "epoch: 1 loss: tensor(0.4943)\n",
      "epoch: 2 loss: tensor(0.4980)\n",
      "epoch: 3 loss: tensor(0.4974)\n",
      "epoch: 4 loss: tensor(0.4963)\n",
      "epoch: 5 loss: tensor(0.4955)\n",
      "epoch: 6 loss: tensor(0.4944)\n",
      "epoch: 7 loss: tensor(0.4940)\n",
      "epoch: 8 loss: tensor(0.4961)\n",
      "epoch: 9 loss: tensor(0.4958)\n",
      "epoch: 10 loss: tensor(0.4952)\n"
     ]
    }
   ],
   "execution_count": 40
  },
  {
   "metadata": {
    "ExecuteTime": {
     "end_time": "2025-03-30T08:45:38.417081Z",
     "start_time": "2025-03-30T08:45:38.364031Z"
    }
   },
   "cell_type": "code",
   "source": [
    "test_loss = 0\n",
    "s = 0.\n",
    "for id_user in range(nb_users):\n",
    "    v = training_set[id_user:id_user+1]\n",
    "    vt = test_set[id_user:id_user+1]\n",
    "    if len(vt[vt>=0]) > 0:\n",
    "        _,h = rbm.sample_h(v)\n",
    "        _,v = rbm.sample_v(h)\n",
    "        test_loss += np.sqrt(torch.mean((vt[vt>=0] - v[vt>=0])**2)) # RMSE here\n",
    "        s += 1.\n",
    "print('test loss: '+str(test_loss/s))"
   ],
   "id": "9f0fcc53cd7bc063",
   "outputs": [
    {
     "name": "stdout",
     "output_type": "stream",
     "text": [
      "test loss: tensor(0.4833)\n"
     ]
    }
   ],
   "execution_count": 41
  },
  {
   "metadata": {},
   "cell_type": "code",
   "outputs": [],
   "execution_count": null,
   "source": "",
   "id": "cf724553d7462009"
  }
 ],
 "metadata": {
  "kernelspec": {
   "display_name": "Python 3",
   "language": "python",
   "name": "python3"
  },
  "language_info": {
   "codemirror_mode": {
    "name": "ipython",
    "version": 2
   },
   "file_extension": ".py",
   "mimetype": "text/x-python",
   "name": "python",
   "nbconvert_exporter": "python",
   "pygments_lexer": "ipython2",
   "version": "2.7.6"
  }
 },
 "nbformat": 4,
 "nbformat_minor": 5
}
