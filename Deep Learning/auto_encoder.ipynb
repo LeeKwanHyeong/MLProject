{
 "cells": [
  {
   "cell_type": "code",
   "id": "initial_id",
   "metadata": {
    "collapsed": true,
    "ExecuteTime": {
     "end_time": "2025-03-31T02:48:55.118126Z",
     "start_time": "2025-03-31T02:48:54.023312Z"
    }
   },
   "source": [
    "import numpy as np\n",
    "import pandas as pd\n",
    "import torch\n",
    "import torch.nn as nn\n",
    "import torch.nn.parallel\n",
    "import torch.optim as optim\n",
    "import torch.utils.data\n",
    "from torch.autograd import Variable"
   ],
   "outputs": [],
   "execution_count": 1
  },
  {
   "metadata": {
    "ExecuteTime": {
     "end_time": "2025-03-31T02:48:58.351970Z",
     "start_time": "2025-03-31T02:48:58.327050Z"
    }
   },
   "cell_type": "code",
   "source": [
    "movies = pd.read_csv('../../../Data/DL_Tutorial/Boltzmann Machines/ml-1m/movies.dat', sep = '::', header = None, engine = 'python', encoding = 'latin-1')\n",
    "print(movies.head())\n",
    "print()\n",
    "print(movies.info())\n",
    "print()\n",
    "print(movies.describe())"
   ],
   "id": "228898f76a60b1ae",
   "outputs": [
    {
     "name": "stdout",
     "output_type": "stream",
     "text": [
      "   0                                   1                             2\n",
      "0  1                    Toy Story (1995)   Animation|Children's|Comedy\n",
      "1  2                      Jumanji (1995)  Adventure|Children's|Fantasy\n",
      "2  3             Grumpier Old Men (1995)                Comedy|Romance\n",
      "3  4            Waiting to Exhale (1995)                  Comedy|Drama\n",
      "4  5  Father of the Bride Part II (1995)                        Comedy\n",
      "\n",
      "<class 'pandas.core.frame.DataFrame'>\n",
      "RangeIndex: 3883 entries, 0 to 3882\n",
      "Data columns (total 3 columns):\n",
      " #   Column  Non-Null Count  Dtype \n",
      "---  ------  --------------  ----- \n",
      " 0   0       3883 non-null   int64 \n",
      " 1   1       3883 non-null   object\n",
      " 2   2       3883 non-null   object\n",
      "dtypes: int64(1), object(2)\n",
      "memory usage: 91.1+ KB\n",
      "None\n",
      "\n",
      "                 0\n",
      "count  3883.000000\n",
      "mean   1986.049446\n",
      "std    1146.778349\n",
      "min       1.000000\n",
      "25%     982.500000\n",
      "50%    2010.000000\n",
      "75%    2980.500000\n",
      "max    3952.000000\n"
     ]
    }
   ],
   "execution_count": 2
  },
  {
   "metadata": {
    "ExecuteTime": {
     "end_time": "2025-03-31T02:49:02.136065Z",
     "start_time": "2025-03-31T02:49:02.119079Z"
    }
   },
   "cell_type": "code",
   "source": [
    "users = pd.read_csv('../../../Data/DL_Tutorial/Boltzmann Machines/ml-1m/users.dat', sep = '::', header = None, engine = 'python', encoding = 'latin-1')\n",
    "print(users.head())\n",
    "print()\n",
    "print(users.info())\n",
    "print()\n",
    "print(users.describe())"
   ],
   "id": "fdae27b2b9d0ce7d",
   "outputs": [
    {
     "name": "stdout",
     "output_type": "stream",
     "text": [
      "   0  1   2   3      4\n",
      "0  1  F   1  10  48067\n",
      "1  2  M  56  16  70072\n",
      "2  3  M  25  15  55117\n",
      "3  4  M  45   7  02460\n",
      "4  5  M  25  20  55455\n",
      "\n",
      "<class 'pandas.core.frame.DataFrame'>\n",
      "RangeIndex: 6040 entries, 0 to 6039\n",
      "Data columns (total 5 columns):\n",
      " #   Column  Non-Null Count  Dtype \n",
      "---  ------  --------------  ----- \n",
      " 0   0       6040 non-null   int64 \n",
      " 1   1       6040 non-null   object\n",
      " 2   2       6040 non-null   int64 \n",
      " 3   3       6040 non-null   int64 \n",
      " 4   4       6040 non-null   object\n",
      "dtypes: int64(3), object(2)\n",
      "memory usage: 236.1+ KB\n",
      "None\n",
      "\n",
      "                 0            2            3\n",
      "count  6040.000000  6040.000000  6040.000000\n",
      "mean   3020.500000    30.639238     8.146854\n",
      "std    1743.742145    12.895962     6.329511\n",
      "min       1.000000     1.000000     0.000000\n",
      "25%    1510.750000    25.000000     3.000000\n",
      "50%    3020.500000    25.000000     7.000000\n",
      "75%    4530.250000    35.000000    14.000000\n",
      "max    6040.000000    56.000000    20.000000\n"
     ]
    }
   ],
   "execution_count": 3
  },
  {
   "metadata": {
    "ExecuteTime": {
     "end_time": "2025-03-31T02:49:08.351953Z",
     "start_time": "2025-03-31T02:49:06.378190Z"
    }
   },
   "cell_type": "code",
   "source": [
    "ratings = pd.read_csv('../../../Data/DL_Tutorial/Boltzmann Machines/ml-1m/ratings.dat', sep = '::', header = None, engine = 'python', encoding = 'latin-1')\n",
    "print(ratings.head())\n",
    "print()\n",
    "print(ratings.info())\n",
    "print()\n",
    "print(users.describe())"
   ],
   "id": "1aed447a15b07214",
   "outputs": [
    {
     "name": "stdout",
     "output_type": "stream",
     "text": [
      "   0     1  2          3\n",
      "0  1  1193  5  978300760\n",
      "1  1   661  3  978302109\n",
      "2  1   914  3  978301968\n",
      "3  1  3408  4  978300275\n",
      "4  1  2355  5  978824291\n",
      "\n",
      "<class 'pandas.core.frame.DataFrame'>\n",
      "RangeIndex: 1000209 entries, 0 to 1000208\n",
      "Data columns (total 4 columns):\n",
      " #   Column  Non-Null Count    Dtype\n",
      "---  ------  --------------    -----\n",
      " 0   0       1000209 non-null  int64\n",
      " 1   1       1000209 non-null  int64\n",
      " 2   2       1000209 non-null  int64\n",
      " 3   3       1000209 non-null  int64\n",
      "dtypes: int64(4)\n",
      "memory usage: 30.5 MB\n",
      "None\n",
      "\n",
      "                 0            2            3\n",
      "count  6040.000000  6040.000000  6040.000000\n",
      "mean   3020.500000    30.639238     8.146854\n",
      "std    1743.742145    12.895962     6.329511\n",
      "min       1.000000     1.000000     0.000000\n",
      "25%    1510.750000    25.000000     3.000000\n",
      "50%    3020.500000    25.000000     7.000000\n",
      "75%    4530.250000    35.000000    14.000000\n",
      "max    6040.000000    56.000000    20.000000\n"
     ]
    }
   ],
   "execution_count": 4
  },
  {
   "metadata": {
    "ExecuteTime": {
     "end_time": "2025-03-31T02:49:35.034080Z",
     "start_time": "2025-03-31T02:49:35.013232Z"
    }
   },
   "cell_type": "code",
   "source": [
    "training_set = pd.read_csv('../../../Data/DL_Tutorial/Boltzmann Machines/ml-100k/u1.base', delimiter = '\\t')\n",
    "training_set = np.array(training_set, dtype = 'int')\n",
    "test_set = pd.read_csv('../../../Data/DL_Tutorial/Boltzmann Machines/ml-100k/u1.test', delimiter = '\\t')\n",
    "test_set = np.array(test_set, dtype = 'int')\n",
    "print(training_set.shape)\n",
    "print(test_set.shape)"
   ],
   "id": "da83503e2446ed61",
   "outputs": [
    {
     "name": "stdout",
     "output_type": "stream",
     "text": [
      "(79999, 4)\n",
      "(19999, 4)\n"
     ]
    }
   ],
   "execution_count": 5
  },
  {
   "metadata": {
    "ExecuteTime": {
     "end_time": "2025-03-31T02:49:38.130065Z",
     "start_time": "2025-03-31T02:49:38.122111Z"
    }
   },
   "cell_type": "code",
   "source": [
    "nb_users = int(max(max(training_set[:, 0]), max(test_set[:, 0])))\n",
    "nb_movies = int(max(max(training_set[:, 1]), max(test_set[:, 1])))\n",
    "print(nb_users, nb_movies)"
   ],
   "id": "d575b448ee736e4c",
   "outputs": [
    {
     "name": "stdout",
     "output_type": "stream",
     "text": [
      "943 1682\n"
     ]
    }
   ],
   "execution_count": 6
  },
  {
   "metadata": {
    "ExecuteTime": {
     "end_time": "2025-03-31T02:49:46.954901Z",
     "start_time": "2025-03-31T02:49:46.831394Z"
    }
   },
   "cell_type": "code",
   "source": [
    "def convert(data):\n",
    "    new_data = []\n",
    "    for id_users in range(1, nb_users+1):\n",
    "        id_movies = data[:, 1][data[:, 0] == id_users]\n",
    "        id_ratings = data[:, 2][data[:, 0] == id_users]\n",
    "        ratings = np.zeros(nb_movies)\n",
    "        ratings[id_movies - 1] = id_ratings\n",
    "        new_data.append(list(ratings))\n",
    "    return new_data\n",
    "\n",
    "training_set = convert(training_set)\n",
    "test_set = convert(test_set)\n"
   ],
   "id": "b9fe8586aa3526e8",
   "outputs": [],
   "execution_count": 7
  },
  {
   "metadata": {
    "ExecuteTime": {
     "end_time": "2025-03-31T02:49:49.760143Z",
     "start_time": "2025-03-31T02:49:49.599376Z"
    }
   },
   "cell_type": "code",
   "source": [
    "training_set = torch.FloatTensor(training_set)\n",
    "test_set = torch.FloatTensor(test_set)\n"
   ],
   "id": "6debd52611d6c382",
   "outputs": [],
   "execution_count": 8
  },
  {
   "metadata": {
    "ExecuteTime": {
     "end_time": "2025-03-31T04:03:47.332629Z",
     "start_time": "2025-03-31T04:03:46.614743Z"
    }
   },
   "cell_type": "code",
   "source": [
    "class SAE(nn.Module): # Stacked Auto Encoder\n",
    "    def __init__(self):\n",
    "        super(SAE, self).__init__()\n",
    "        self.fc1 = nn.Linear(nb_movies, 20) # First Fully connection Encoding\n",
    "        self.fc2 = nn.Linear(20, 10) # Second Fully Connection Encoding\n",
    "        self.fc3 = nn.Linear(10, 20) # Third Fully Connection Encoding to Decoding\n",
    "        self.fc4 = nn.Linear(20, nb_movies) # Decoding Output Vector 과 Input Vector가 같아야 함\n",
    "        self.activation = nn.Sigmoid()\n",
    "\n",
    "    def forward(self, x):\n",
    "        x = self.activation(self.fc1(x))\n",
    "        x = self.activation(self.fc2(x))\n",
    "        x = self.activation(self.fc3(x))\n",
    "        x = self.fc4(x)\n",
    "        return x\n",
    "\n",
    "sae = SAE()\n",
    "criterion = nn.MSELoss()\n",
    "optimizer = optim.RMSprop(sae.parameters(), lr=0.01, weight_decay=5e-4)"
   ],
   "id": "20295a77b2c63942",
   "outputs": [],
   "execution_count": 9
  },
  {
   "metadata": {},
   "cell_type": "markdown",
   "source": "#### Training the SAE (Stacked Auto Encoder)",
   "id": "92aaa7b8094e86ed"
  },
  {
   "metadata": {
    "ExecuteTime": {
     "end_time": "2025-03-31T04:37:49.355814Z",
     "start_time": "2025-03-31T04:36:16.147040Z"
    }
   },
   "cell_type": "code",
   "source": [
    "nb_epochs = 200\n",
    "for epoch in range(1, nb_epochs+1):\n",
    "    train_loss = 0\n",
    "    s = 0.\n",
    "    for id_user in range(nb_users):\n",
    "        input = Variable(training_set[id_user]).unsqueeze(0)\n",
    "        target = input.clone()\n",
    "        if torch.sum(target.data > 0) > 0:\n",
    "            output = sae(input)\n",
    "            target.requires_grad = False\n",
    "            output[target == 0] = 0\n",
    "            loss = criterion(output, target)\n",
    "            mean_corrector = nb_movies/float(torch.sum(target.data > 0) + 1e-10)\n",
    "            loss.backward() # optimizer 방향 결정\n",
    "            train_loss += np.sqrt(loss.item() * mean_corrector)\n",
    "            s += 1.\n",
    "            optimizer.step() # optimizer 강도 결정\n",
    "    print('epoch: ' + str(epoch) + ' loss: ' + str(train_loss/s))\n"
   ],
   "id": "b1b2109bff38490a",
   "outputs": [
    {
     "name": "stdout",
     "output_type": "stream",
     "text": [
      "epoch: 1 loss: 1.5653344900061672\n",
      "epoch: 2 loss: 1.7417073709741806\n",
      "epoch: 3 loss: 1.8239275623839761\n",
      "epoch: 4 loss: 1.8521137599537636\n",
      "epoch: 5 loss: 1.83865061617627\n",
      "epoch: 6 loss: 1.8941801593309386\n",
      "epoch: 7 loss: 1.8789009274975723\n",
      "epoch: 8 loss: 1.891277780650693\n",
      "epoch: 9 loss: 1.9024912970170822\n",
      "epoch: 10 loss: 1.9297562536685988\n",
      "epoch: 11 loss: 1.9357161110383507\n",
      "epoch: 12 loss: 1.9400203983879363\n",
      "epoch: 13 loss: 1.9341524128253693\n",
      "epoch: 14 loss: 1.9582714053386572\n",
      "epoch: 15 loss: 1.9300445979649967\n",
      "epoch: 16 loss: 1.956123640506276\n",
      "epoch: 17 loss: 1.9614115933487406\n",
      "epoch: 18 loss: 1.9758442479333755\n",
      "epoch: 19 loss: 1.9726604123908764\n",
      "epoch: 20 loss: 1.9831210093912317\n",
      "epoch: 21 loss: 1.9678687428928607\n",
      "epoch: 22 loss: 1.9649484131873978\n",
      "epoch: 23 loss: 1.967426922758792\n",
      "epoch: 24 loss: 1.9974370728498485\n",
      "epoch: 25 loss: 1.9801552196876653\n",
      "epoch: 26 loss: 1.9891319974741477\n",
      "epoch: 27 loss: 1.9830760209900424\n",
      "epoch: 28 loss: 2.0045335218144538\n",
      "epoch: 29 loss: 1.9770231563810108\n",
      "epoch: 30 loss: 1.9974642826583924\n",
      "epoch: 31 loss: 2.0052383288427404\n",
      "epoch: 32 loss: 2.0115613969336708\n",
      "epoch: 33 loss: 1.994291629322809\n",
      "epoch: 34 loss: 2.0063832791807585\n",
      "epoch: 35 loss: 1.9868535350027299\n",
      "epoch: 36 loss: 2.020078218202487\n",
      "epoch: 37 loss: 1.9940099385035357\n",
      "epoch: 38 loss: 2.0181622476088967\n",
      "epoch: 39 loss: 2.0014759715219346\n",
      "epoch: 40 loss: 2.023159474800941\n",
      "epoch: 41 loss: 1.9922404329651136\n",
      "epoch: 42 loss: 2.0235077647480524\n",
      "epoch: 43 loss: 1.988006545216667\n",
      "epoch: 44 loss: 2.0315722747164466\n",
      "epoch: 45 loss: 2.001816783412737\n",
      "epoch: 46 loss: 2.026898102027195\n",
      "epoch: 47 loss: 1.9963703661756063\n",
      "epoch: 48 loss: 2.0294409909180238\n",
      "epoch: 49 loss: 2.008823123407732\n",
      "epoch: 50 loss: 2.027348134791824\n",
      "epoch: 51 loss: 1.9967989174937824\n",
      "epoch: 52 loss: 2.021868912774726\n",
      "epoch: 53 loss: 1.996737448982446\n",
      "epoch: 54 loss: 2.0390150444109656\n",
      "epoch: 55 loss: 2.0076121804782234\n",
      "epoch: 56 loss: 2.0303629034909068\n",
      "epoch: 57 loss: 1.9976197902396726\n",
      "epoch: 58 loss: 2.026555706357532\n",
      "epoch: 59 loss: 2.0098219784991738\n",
      "epoch: 60 loss: 2.0237688429126135\n",
      "epoch: 61 loss: 2.0022671519492348\n",
      "epoch: 62 loss: 2.028728221871454\n",
      "epoch: 63 loss: 2.0034603571652245\n",
      "epoch: 64 loss: 2.019329715807021\n",
      "epoch: 65 loss: 1.9940332701753511\n",
      "epoch: 66 loss: 2.0253905222302055\n",
      "epoch: 67 loss: 2.0153910265844117\n",
      "epoch: 68 loss: 2.018399143475438\n",
      "epoch: 69 loss: 2.0094115214739983\n",
      "epoch: 70 loss: 2.0472136962114185\n",
      "epoch: 71 loss: 2.0225481265253538\n",
      "epoch: 72 loss: 2.0257935656024317\n",
      "epoch: 73 loss: 2.0018131455740367\n",
      "epoch: 74 loss: 2.0401493596395968\n",
      "epoch: 75 loss: 2.0103301247148586\n",
      "epoch: 76 loss: 2.0317622734834164\n",
      "epoch: 77 loss: 2.0067058482448723\n",
      "epoch: 78 loss: 2.036678705177717\n",
      "epoch: 79 loss: 2.0167934242616017\n",
      "epoch: 80 loss: 2.033812726537156\n",
      "epoch: 81 loss: 2.008847002902558\n",
      "epoch: 82 loss: 2.032838442180813\n",
      "epoch: 83 loss: 2.0107797526344755\n",
      "epoch: 84 loss: 2.0439284447683463\n",
      "epoch: 85 loss: 2.0142655025143044\n",
      "epoch: 86 loss: 2.0369833985501913\n",
      "epoch: 87 loss: 2.020616528649586\n",
      "epoch: 88 loss: 2.0400803756257724\n",
      "epoch: 89 loss: 2.0115861715103645\n",
      "epoch: 90 loss: 2.034867333605906\n",
      "epoch: 91 loss: 2.012181567404219\n",
      "epoch: 92 loss: 2.0304200787087057\n",
      "epoch: 93 loss: 1.997348288194568\n",
      "epoch: 94 loss: 2.0510964271186363\n",
      "epoch: 95 loss: 2.0078672234117287\n",
      "epoch: 96 loss: 2.0264335430961617\n",
      "epoch: 97 loss: 2.0094872487404003\n",
      "epoch: 98 loss: 2.0366919454083776\n",
      "epoch: 99 loss: 2.0119775589046847\n",
      "epoch: 100 loss: 2.034542895594349\n",
      "epoch: 101 loss: 2.0175375375718683\n",
      "epoch: 102 loss: 2.060536710931347\n",
      "epoch: 103 loss: 2.0170530724099462\n",
      "epoch: 104 loss: 2.027494993938004\n",
      "epoch: 105 loss: 2.0184582505024333\n",
      "epoch: 106 loss: 2.0390388609781733\n",
      "epoch: 107 loss: 2.0072259106918904\n",
      "epoch: 108 loss: 2.0418763766553263\n",
      "epoch: 109 loss: 2.015295502527854\n",
      "epoch: 110 loss: 2.0356708657330302\n",
      "epoch: 111 loss: 2.0124578679806433\n",
      "epoch: 112 loss: 2.0399547344208573\n",
      "epoch: 113 loss: 2.0178441845488613\n",
      "epoch: 114 loss: 2.046544727256909\n",
      "epoch: 115 loss: 2.013800754046599\n",
      "epoch: 116 loss: 2.040690821025993\n",
      "epoch: 117 loss: 2.0078281786495027\n",
      "epoch: 118 loss: 2.048894637378345\n",
      "epoch: 119 loss: 2.015580856205453\n",
      "epoch: 120 loss: 2.0382554994134963\n",
      "epoch: 121 loss: 2.0175333843023466\n",
      "epoch: 122 loss: 2.0399558287096333\n",
      "epoch: 123 loss: 2.0073787629421567\n",
      "epoch: 124 loss: 2.042963234859411\n",
      "epoch: 125 loss: 2.013244016589459\n",
      "epoch: 126 loss: 2.043331359705342\n",
      "epoch: 127 loss: 2.013117582707017\n",
      "epoch: 128 loss: 2.030451798669484\n",
      "epoch: 129 loss: 2.0139076140952317\n",
      "epoch: 130 loss: 2.0355210948720464\n",
      "epoch: 131 loss: 2.0073470128435744\n",
      "epoch: 132 loss: 2.0282163571561442\n",
      "epoch: 133 loss: 2.0052638305482655\n",
      "epoch: 134 loss: 2.0415607041139125\n",
      "epoch: 135 loss: 2.0213186427066563\n",
      "epoch: 136 loss: 2.040672083481314\n",
      "epoch: 137 loss: 2.016410785402036\n",
      "epoch: 138 loss: 2.0388338417337857\n",
      "epoch: 139 loss: 2.023640753702624\n",
      "epoch: 140 loss: 2.0416144997379955\n",
      "epoch: 141 loss: 2.019285815352781\n",
      "epoch: 142 loss: 2.0490101100678433\n",
      "epoch: 143 loss: 2.0134997267387726\n",
      "epoch: 144 loss: 2.0411164488776765\n",
      "epoch: 145 loss: 2.0248513980090173\n",
      "epoch: 146 loss: 2.0446222642366525\n",
      "epoch: 147 loss: 2.0177017154071804\n",
      "epoch: 148 loss: 2.038206068657281\n",
      "epoch: 149 loss: 2.0197780688713336\n",
      "epoch: 150 loss: 2.0456774411170713\n",
      "epoch: 151 loss: 2.01822689836988\n",
      "epoch: 152 loss: 2.0449615341635052\n",
      "epoch: 153 loss: 2.013736234485506\n",
      "epoch: 154 loss: 2.0453457001645092\n",
      "epoch: 155 loss: 2.019611851566585\n",
      "epoch: 156 loss: 2.052283182064584\n",
      "epoch: 157 loss: 2.0298585102912994\n",
      "epoch: 158 loss: 2.0425294718990727\n",
      "epoch: 159 loss: 2.0193173466368806\n",
      "epoch: 160 loss: 2.0452558414960786\n",
      "epoch: 161 loss: 2.0078463877783514\n",
      "epoch: 162 loss: 2.031268374832855\n",
      "epoch: 163 loss: 2.019558276161252\n",
      "epoch: 164 loss: 2.0511369719832717\n",
      "epoch: 165 loss: 2.012890411655981\n",
      "epoch: 166 loss: 2.0307046512426874\n",
      "epoch: 167 loss: 2.0102954825352013\n",
      "epoch: 168 loss: 2.0381623106756237\n",
      "epoch: 169 loss: 2.028880885901798\n",
      "epoch: 170 loss: 2.0536378874764507\n",
      "epoch: 171 loss: 2.0244997145798647\n",
      "epoch: 172 loss: 2.0369769685463255\n",
      "epoch: 173 loss: 2.0249508221934107\n",
      "epoch: 174 loss: 2.046312400613116\n",
      "epoch: 175 loss: 2.021777948959414\n",
      "epoch: 176 loss: 2.038917733036376\n",
      "epoch: 177 loss: 2.0192137948029423\n",
      "epoch: 178 loss: 2.055552440822267\n",
      "epoch: 179 loss: 2.0205119159042426\n",
      "epoch: 180 loss: 2.0374242450319358\n",
      "epoch: 181 loss: 2.0122645561485517\n",
      "epoch: 182 loss: 2.0287204839380326\n",
      "epoch: 183 loss: 2.0141595144678535\n",
      "epoch: 184 loss: 2.04524268103989\n",
      "epoch: 185 loss: 2.0159257347981687\n",
      "epoch: 186 loss: 2.035365691014717\n",
      "epoch: 187 loss: 2.0217398098457475\n",
      "epoch: 188 loss: 2.050005094684793\n",
      "epoch: 189 loss: 2.01293821336602\n",
      "epoch: 190 loss: 2.0591597515520617\n",
      "epoch: 191 loss: 2.021473723485998\n",
      "epoch: 192 loss: 2.031839786408593\n",
      "epoch: 193 loss: 2.027684474466909\n",
      "epoch: 194 loss: 2.06440738134436\n",
      "epoch: 195 loss: 2.03179859883328\n",
      "epoch: 196 loss: 2.054568212737769\n",
      "epoch: 197 loss: 2.0230775082374475\n",
      "epoch: 198 loss: 2.0495778260277255\n",
      "epoch: 199 loss: 2.0348739699019895\n",
      "epoch: 200 loss: 2.0404324201295854\n"
     ]
    }
   ],
   "execution_count": 11
  },
  {
   "metadata": {
    "ExecuteTime": {
     "end_time": "2025-03-31T04:45:36.201718Z",
     "start_time": "2025-03-31T04:45:36.148302Z"
    }
   },
   "cell_type": "code",
   "source": [
    "test_loss = 0\n",
    "s = 0.\n",
    "for id_user in range(nb_users):\n",
    "    input = Variable(training_set[id_user]).unsqueeze(0)\n",
    "    target = Variable(test_set[id_user]).unsqueeze(0)\n",
    "    if torch.sum(target.data > 0) > 0:\n",
    "        output = sae(input)\n",
    "        target.requires_grad = False\n",
    "        output[target == 0] = 0\n",
    "        loss = criterion(output, target)\n",
    "        mean_corrector = nb_movies/float(torch.sum(target.data > 0) + 1e-10)\n",
    "        test_loss += np.sqrt(loss.item() * mean_corrector)\n",
    "        s += 1.\n",
    "print('test loss: ' + str(test_loss/s))"
   ],
   "id": "871b5202c5f4928f",
   "outputs": [
    {
     "name": "stdout",
     "output_type": "stream",
     "text": [
      "test loss: 1.803284737428979\n"
     ]
    }
   ],
   "execution_count": 13
  },
  {
   "metadata": {},
   "cell_type": "code",
   "outputs": [],
   "execution_count": null,
   "source": "",
   "id": "f9b4a73ca45aeb8f"
  }
 ],
 "metadata": {
  "kernelspec": {
   "display_name": "Python 3",
   "language": "python",
   "name": "python3"
  },
  "language_info": {
   "codemirror_mode": {
    "name": "ipython",
    "version": 2
   },
   "file_extension": ".py",
   "mimetype": "text/x-python",
   "name": "python",
   "nbconvert_exporter": "python",
   "pygments_lexer": "ipython2",
   "version": "2.7.6"
  }
 },
 "nbformat": 4,
 "nbformat_minor": 5
}
