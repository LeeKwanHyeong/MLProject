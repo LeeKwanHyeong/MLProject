{
 "cells": [
  {
   "cell_type": "code",
   "id": "initial_id",
   "metadata": {
    "collapsed": true,
    "ExecuteTime": {
     "end_time": "2025-03-18T22:26:35.163686Z",
     "start_time": "2025-03-18T22:26:35.158136Z"
    }
   },
   "source": [
    "import pandas as pd\n",
    "import numpy as np\n",
    "import matplotlib.pyplot as plt\n",
    "dataset = pd.read_csv('../Data/Data.csv')"
   ],
   "outputs": [],
   "execution_count": 75
  },
  {
   "metadata": {
    "ExecuteTime": {
     "end_time": "2025-03-18T22:26:35.491711Z",
     "start_time": "2025-03-18T22:26:35.489510Z"
    }
   },
   "cell_type": "code",
   "source": [
    "x = dataset.iloc[:, :-1].values\n",
    "y = dataset.iloc[:, -1].values"
   ],
   "id": "145f3ae23b1c56ac",
   "outputs": [],
   "execution_count": 76
  },
  {
   "metadata": {
    "ExecuteTime": {
     "end_time": "2025-03-18T22:26:35.808435Z",
     "start_time": "2025-03-18T22:26:35.802405Z"
    }
   },
   "cell_type": "code",
   "source": [
    "from sklearn.impute import SimpleImputer\n",
    "imputer = SimpleImputer(missing_values = np.nan, strategy = 'mean')\n",
    "imputer.fit(x[:, 1:3])\n",
    "x[:, 1:3] = imputer.transform(x[:, 1:3])"
   ],
   "id": "48e3149d3509637e",
   "outputs": [],
   "execution_count": 77
  },
  {
   "metadata": {
    "ExecuteTime": {
     "end_time": "2025-03-18T22:26:36.162700Z",
     "start_time": "2025-03-18T22:26:36.158415Z"
    }
   },
   "cell_type": "code",
   "source": [
    "from sklearn.compose import ColumnTransformer\n",
    "from sklearn.preprocessing import LabelEncoder, OneHotEncoder\n",
    "ct = ColumnTransformer(transformers = [('encoder', OneHotEncoder(), [0])], remainder = 'passthrough')\n",
    "x = np.array(ct.fit_transform(x))\n",
    "x"
   ],
   "id": "f8ca87e9499b807d",
   "outputs": [
    {
     "data": {
      "text/plain": [
       "array([[1.0, 0.0, 0.0, 44.0, 72000.0],\n",
       "       [0.0, 0.0, 1.0, 27.0, 48000.0],\n",
       "       [0.0, 1.0, 0.0, 30.0, 54000.0],\n",
       "       [0.0, 0.0, 1.0, 38.0, 61000.0],\n",
       "       [0.0, 1.0, 0.0, 40.0, 63777.77777777778],\n",
       "       [1.0, 0.0, 0.0, 35.0, 58000.0],\n",
       "       [0.0, 0.0, 1.0, 38.77777777777778, 52000.0],\n",
       "       [1.0, 0.0, 0.0, 48.0, 79000.0],\n",
       "       [0.0, 1.0, 0.0, 50.0, 83000.0],\n",
       "       [1.0, 0.0, 0.0, 37.0, 67000.0]], dtype=object)"
      ]
     },
     "execution_count": 78,
     "metadata": {},
     "output_type": "execute_result"
    }
   ],
   "execution_count": 78
  },
  {
   "metadata": {
    "ExecuteTime": {
     "end_time": "2025-03-18T22:26:36.930949Z",
     "start_time": "2025-03-18T22:26:36.926509Z"
    }
   },
   "cell_type": "code",
   "source": [
    "le = LabelEncoder()\n",
    "y = le.fit_transform(y)\n",
    "y"
   ],
   "id": "2b36e5e2b9150c94",
   "outputs": [
    {
     "data": {
      "text/plain": [
       "array([0, 1, 0, 0, 1, 1, 0, 1, 0, 1])"
      ]
     },
     "execution_count": 79,
     "metadata": {},
     "output_type": "execute_result"
    }
   ],
   "execution_count": 79
  },
  {
   "metadata": {
    "ExecuteTime": {
     "end_time": "2025-03-18T22:26:38.285286Z",
     "start_time": "2025-03-18T22:26:38.280771Z"
    }
   },
   "cell_type": "code",
   "source": [
    "from sklearn.model_selection import train_test_split\n",
    "x_train, x_test, y_train, y_test = train_test_split(x, y, test_size = 0.2, random_state = 1)"
   ],
   "id": "a3e69ae7026ce6d5",
   "outputs": [],
   "execution_count": 80
  },
  {
   "metadata": {
    "ExecuteTime": {
     "end_time": "2025-03-18T22:26:39.066169Z",
     "start_time": "2025-03-18T22:26:39.061684Z"
    }
   },
   "cell_type": "code",
   "source": [
    "x_train = np.delete(x_train, 0, axis =1)\n",
    "x_train"
   ],
   "id": "fd6bda2a50cd2dd6",
   "outputs": [
    {
     "data": {
      "text/plain": [
       "array([[0.0, 1.0, 38.77777777777778, 52000.0],\n",
       "       [1.0, 0.0, 40.0, 63777.77777777778],\n",
       "       [0.0, 0.0, 44.0, 72000.0],\n",
       "       [0.0, 1.0, 38.0, 61000.0],\n",
       "       [0.0, 1.0, 27.0, 48000.0],\n",
       "       [0.0, 0.0, 48.0, 79000.0],\n",
       "       [1.0, 0.0, 50.0, 83000.0],\n",
       "       [0.0, 0.0, 35.0, 58000.0]], dtype=object)"
      ]
     },
     "execution_count": 81,
     "metadata": {},
     "output_type": "execute_result"
    }
   ],
   "execution_count": 81
  },
  {
   "metadata": {
    "ExecuteTime": {
     "end_time": "2025-03-18T22:26:39.805598Z",
     "start_time": "2025-03-18T22:26:39.801779Z"
    }
   },
   "cell_type": "code",
   "source": [
    "x_test = np.delete(x_test, 0, axis =1)\n",
    "x_test"
   ],
   "id": "a495c105f618bc78",
   "outputs": [
    {
     "data": {
      "text/plain": [
       "array([[1.0, 0.0, 30.0, 54000.0],\n",
       "       [0.0, 0.0, 37.0, 67000.0]], dtype=object)"
      ]
     },
     "execution_count": 82,
     "metadata": {},
     "output_type": "execute_result"
    }
   ],
   "execution_count": 82
  },
  {
   "metadata": {
    "ExecuteTime": {
     "end_time": "2025-03-18T22:26:40.480901Z",
     "start_time": "2025-03-18T22:26:40.478563Z"
    }
   },
   "cell_type": "code",
   "source": "y_train",
   "id": "99a4dd49d00d0e7a",
   "outputs": [
    {
     "data": {
      "text/plain": [
       "array([0, 1, 0, 0, 1, 1, 0, 1])"
      ]
     },
     "execution_count": 83,
     "metadata": {},
     "output_type": "execute_result"
    }
   ],
   "execution_count": 83
  },
  {
   "metadata": {
    "ExecuteTime": {
     "end_time": "2025-03-18T22:26:41.212042Z",
     "start_time": "2025-03-18T22:26:41.209914Z"
    }
   },
   "cell_type": "code",
   "source": "y_test",
   "id": "a99136ab36438abc",
   "outputs": [
    {
     "data": {
      "text/plain": [
       "array([0, 1])"
      ]
     },
     "execution_count": 84,
     "metadata": {},
     "output_type": "execute_result"
    }
   ],
   "execution_count": 84
  },
  {
   "metadata": {
    "ExecuteTime": {
     "end_time": "2025-03-18T22:26:41.977339Z",
     "start_time": "2025-03-18T22:26:41.974511Z"
    }
   },
   "cell_type": "code",
   "source": [
    "from sklearn.preprocessing import StandardScaler\n",
    "sc = StandardScaler()\n",
    "x_train[:, 3:] = sc.fit_transform(x_train[:, 3:])\n",
    "x_test[:, 3:] = sc.fit_transform(x_test[:, 3:])"
   ],
   "id": "76ab5c87623ddf7c",
   "outputs": [],
   "execution_count": 85
  },
  {
   "metadata": {
    "ExecuteTime": {
     "end_time": "2025-03-18T22:26:43.699321Z",
     "start_time": "2025-03-18T22:26:43.697012Z"
    }
   },
   "cell_type": "code",
   "source": "x_train",
   "id": "ad0f26fd2112c807",
   "outputs": [
    {
     "data": {
      "text/plain": [
       "array([[0.0, 1.0, 38.77777777777778, -1.0781259408412422],\n",
       "       [1.0, 0.0, 40.0, -0.0701316764163537],\n",
       "       [0.0, 0.0, 44.0, 0.6335624327104549],\n",
       "       [0.0, 1.0, 38.0, -0.3078661727429786],\n",
       "       [0.0, 1.0, 27.0, -1.4204636155515817],\n",
       "       [0.0, 0.0, 48.0, 1.2326533634535488],\n",
       "       [1.0, 0.0, 50.0, 1.5749910381638883],\n",
       "       [0.0, 0.0, 35.0, -0.5646194287757332]], dtype=object)"
      ]
     },
     "execution_count": 86,
     "metadata": {},
     "output_type": "execute_result"
    }
   ],
   "execution_count": 86
  },
  {
   "metadata": {
    "ExecuteTime": {
     "end_time": "2025-03-18T22:26:44.214883Z",
     "start_time": "2025-03-18T22:26:44.212430Z"
    }
   },
   "cell_type": "code",
   "source": "x_test",
   "id": "601015a4f200628d",
   "outputs": [
    {
     "data": {
      "text/plain": [
       "array([[1.0, 0.0, 30.0, -1.0],\n",
       "       [0.0, 0.0, 37.0, 1.0]], dtype=object)"
      ]
     },
     "execution_count": 87,
     "metadata": {},
     "output_type": "execute_result"
    }
   ],
   "execution_count": 87
  },
  {
   "metadata": {},
   "cell_type": "code",
   "outputs": [],
   "execution_count": null,
   "source": "",
   "id": "380878eba8d967ac"
  }
 ],
 "metadata": {
  "kernelspec": {
   "display_name": "Python 3",
   "language": "python",
   "name": "python3"
  },
  "language_info": {
   "codemirror_mode": {
    "name": "ipython",
    "version": 2
   },
   "file_extension": ".py",
   "mimetype": "text/x-python",
   "name": "python",
   "nbconvert_exporter": "python",
   "pygments_lexer": "ipython2",
   "version": "2.7.6"
  }
 },
 "nbformat": 4,
 "nbformat_minor": 5
}
